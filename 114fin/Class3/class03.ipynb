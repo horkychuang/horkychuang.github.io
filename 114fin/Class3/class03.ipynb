{
 "cells": [
  {
   "cell_type": "markdown",
   "metadata": {
    "id": "XdfRBwmNg3nc"
   },
   "source": [
    "### Functions\n",
    "In financial analysis, functions are commonly used to encapsulate investment strategies, calculate risk and return, process historical stock prices, simulate investment scenarios, and more."
   ]
  },
  {
   "cell_type": "markdown",
   "metadata": {
    "id": "tfK4Q__7g3nd"
   },
   "source": [
    "##### Function Definition"
   ]
  },
  {
   "cell_type": "code",
   "execution_count": 3,
   "metadata": {
    "id": "KJNqUsMsg3nd"
   },
   "outputs": [],
   "source": [
    "# Basic function: no parameters, no return value\n",
    "def welcome_message():\n",
    "    print(\"Welcome to the Financial Analysis System!\")"
   ]
  },
  {
   "cell_type": "code",
   "execution_count": 4,
   "metadata": {
    "id": "HCOtxa-kg3ne"
   },
   "outputs": [
    {
     "name": "stdout",
     "output_type": "stream",
     "text": [
      "Welcome to the Financial Analysis System!\n"
     ]
    }
   ],
   "source": [
    "welcome_message()"
   ]
  },
  {
   "cell_type": "markdown",
   "metadata": {},
   "source": [
    "#### with parameter(s)"
   ]
  },
  {
   "cell_type": "code",
   "execution_count": 1,
   "metadata": {
    "id": "5nTH8qqVg3ne"
   },
   "outputs": [],
   "source": [
    "# Function with parameters: greet an investor by name\n",
    "def greet_investor(name):\n",
    "    print(f\"Hello, investor {name.title()}!\")"
   ]
  },
  {
   "cell_type": "code",
   "execution_count": 2,
   "metadata": {
    "id": "uvFulL0kg3ne"
   },
   "outputs": [
    {
     "name": "stdout",
     "output_type": "stream",
     "text": [
      "Hello, investor Porter!\n"
     ]
    }
   ],
   "source": [
    "greet_investor('Porter')"
   ]
  },
  {
   "cell_type": "markdown",
   "metadata": {},
   "source": [
    "#### with parameter(s) and return(s)"
   ]
  },
  {
   "cell_type": "code",
   "execution_count": 5,
   "metadata": {
    "id": "ZliLqF7_g3ne"
   },
   "outputs": [],
   "source": [
    "# Function with parameters and return value: calculate total investment return\n",
    "def calculate_total_return(capital, return_rate):\n",
    "    return capital * (1 + return_rate)"
   ]
  },
  {
   "cell_type": "code",
   "execution_count": 6,
   "metadata": {
    "id": "hEZezc65g3nf"
   },
   "outputs": [
    {
     "data": {
      "text/plain": [
       "105000.0"
      ]
     },
     "execution_count": 6,
     "metadata": {},
     "output_type": "execute_result"
    }
   ],
   "source": [
    "calculate_total_return(100000, 0.05) # Initial capital 100,000, return rate 5%"
   ]
  },
  {
   "cell_type": "code",
   "execution_count": 7,
   "metadata": {
    "id": "8nStIKLog3nf"
   },
   "outputs": [],
   "source": [
    "# Function without return value: performs an action only\n",
    "def log_investor_action():\n",
    "    action = \"Investor has logged in\"\n",
    "    print(action)"
   ]
  },
  {
   "cell_type": "code",
   "execution_count": 8,
   "metadata": {
    "id": "Uwuo1v4Mg3nf"
   },
   "outputs": [
    {
     "name": "stdout",
     "output_type": "stream",
     "text": [
      "Investor has logged in\n",
      "Investor has logged in\n"
     ]
    },
    {
     "data": {
      "text/plain": [
       "NoneType"
      ]
     },
     "execution_count": 8,
     "metadata": {},
     "output_type": "execute_result"
    }
   ],
   "source": [
    "log_investor_action()\n",
    "type(log_investor_action()) # NoneType: no return value"
   ]
  },
  {
   "cell_type": "code",
   "execution_count": 10,
   "metadata": {
    "id": "1XRHqC-Wg3nf"
   },
   "outputs": [],
   "source": [
    "# Return statement without a value\n",
    "def check_investment_eligibility(age):\n",
    "    if age < 18:\n",
    "        return # Not eligible for investment, return nothing\n"
   ]
  },
  {
   "cell_type": "code",
   "execution_count": 11,
   "metadata": {
    "id": "ZZQ_1lUEg3nf"
   },
   "outputs": [],
   "source": [
    "check_investment_eligibility(16) # No return value"
   ]
  },
  {
   "cell_type": "code",
   "execution_count": 12,
   "metadata": {
    "id": "7rbMCWTGg3nf"
   },
   "outputs": [],
   "source": [
    "# Return statement with a value\n",
    "def get_default_risk_level():\n",
    "    return 5 # Default risk level is 5"
   ]
  },
  {
   "cell_type": "code",
   "execution_count": 13,
   "metadata": {
    "id": "HklJddeRg3ng"
   },
   "outputs": [
    {
     "data": {
      "text/plain": [
       "5"
      ]
     },
     "execution_count": 13,
     "metadata": {},
     "output_type": "execute_result"
    }
   ],
   "source": [
    "risk_level = get_default_risk_level()\n",
    "risk_level # 5"
   ]
  },
  {
   "cell_type": "code",
   "execution_count": 15,
   "metadata": {
    "id": "uVWsF00fg3ng"
   },
   "outputs": [],
   "source": [
    "# Returning multiple values: calculate sum and difference of return and risk\n",
    "def analyze_return_and_risk(return_rate, risk_level):\n",
    "    return return_rate + risk_level, return_rate - risk_level"
   ]
  },
  {
   "cell_type": "code",
   "execution_count": 16,
   "metadata": {
    "id": "WS8ksunbg3ng"
   },
   "outputs": [
    {
     "name": "stdout",
     "output_type": "stream",
     "text": [
      "Annualized return: 412.00%, Risk difference: -3.88\n"
     ]
    }
   ],
   "source": [
    "annual_return, risk_diff = analyze_return_and_risk(0.12, 4)\n",
    "print(f\"Annualized return: {annual_return:.2%}, Risk difference: {risk_diff}\")"
   ]
  },
  {
   "cell_type": "markdown",
   "metadata": {
    "id": "3lf-0_Ysg3ng"
   },
   "source": [
    "##### Calling Functions"
   ]
  },
  {
   "cell_type": "code",
   "execution_count": 17,
   "metadata": {
    "id": "QpG27pQYg3ng"
   },
   "outputs": [
    {
     "name": "stdout",
     "output_type": "stream",
     "text": [
      "Welcome to the Financial Analysis System!\n"
     ]
    }
   ],
   "source": [
    "# 1. Function without parameters\n",
    "def welcome_message():\n",
    "    print(\"Welcome to the Financial Analysis System!\")\n",
    "\n",
    "welcome_message()"
   ]
  },
  {
   "cell_type": "code",
   "execution_count": 18,
   "metadata": {
    "id": "Zm4x3F_1g3ng"
   },
   "outputs": [
    {
     "data": {
      "text/plain": [
       "54000.0"
      ]
     },
     "execution_count": 18,
     "metadata": {},
     "output_type": "execute_result"
    }
   ],
   "source": [
    "# 2. Function with parameters\n",
    "def calculate_total_return(capital, return_rate):\n",
    "    return capital * (1 + return_rate)\n",
    "\n",
    "calculate_total_return(50000, 0.08)"
   ]
  },
  {
   "cell_type": "code",
   "execution_count": 19,
   "metadata": {
    "id": "hEpUU7SNg3ng"
   },
   "outputs": [
    {
     "data": {
      "text/plain": [
       "106000.0"
      ]
     },
     "execution_count": 19,
     "metadata": {},
     "output_type": "execute_result"
    }
   ],
   "source": [
    "# 3. Storing return value for further calculations\n",
    "def calculate_total_return(capital, return_rate):\n",
    "    return capital * (1 + return_rate)\n",
    "\n",
    "portfolio_value = calculate_total_return(100000, 0.06)\n",
    "portfolio_value"
   ]
  },
  {
   "cell_type": "markdown",
   "metadata": {
    "id": "EPrFNNWxg3ng"
   },
   "source": [
    "##### Arguments"
   ]
  },
  {
   "cell_type": "code",
   "execution_count": 20,
   "metadata": {
    "id": "1hlX2Htdg3ng"
   },
   "outputs": [
    {
     "name": "stdout",
     "output_type": "stream",
     "text": [
      "Investor Alice's initial capital is 500000 TWD\n"
     ]
    }
   ],
   "source": [
    "# Positional Arguments\n",
    "def investment_summary(name, capital):\n",
    "    print(f\"Investor {name}'s initial capital is {capital} TWD\")\n",
    "\n",
    "investment_summary(\"Alice\", 500000)"
   ]
  },
  {
   "cell_type": "code",
   "execution_count": 21,
   "metadata": {
    "id": "HKoVOqtOg3ng"
   },
   "outputs": [
    {
     "name": "stdout",
     "output_type": "stream",
     "text": [
      "Investor Bob's initial capital is 300000 TWD\n"
     ]
    }
   ],
   "source": [
    "# Parameter without default value\n",
    "investment_summary(\"Bob\", 300000)"
   ]
  },
  {
   "cell_type": "code",
   "execution_count": 22,
   "metadata": {
    "id": "hs1N4DKQg3nh"
   },
   "outputs": [
    {
     "name": "stdout",
     "output_type": "stream",
     "text": [
      "Risk level: 3, Recommended strategy: Conservative\n"
     ]
    }
   ],
   "source": [
    "# Parameter with default value (Default Arguments)\n",
    "def investment_recommendation(risk_level, strategy=\"Conservative\"):\n",
    "    print(f\"Risk level: {risk_level}, Recommended strategy: {strategy}\")\n",
    "\n",
    "investment_recommendation(3)    "
   ]
  },
  {
   "cell_type": "code",
   "execution_count": 23,
   "metadata": {
    "id": "--RdO_Oqg3nh"
   },
   "outputs": [
    {
     "name": "stdout",
     "output_type": "stream",
     "text": [
      "Risk level: 7, Recommended strategy: Aggressive\n"
     ]
    }
   ],
   "source": [
    "investment_recommendation(7, \"Aggressive\")"
   ]
  },
  {
   "cell_type": "code",
   "execution_count": 24,
   "metadata": {
    "id": "dH7zwkDqg3nh"
   },
   "outputs": [
    {
     "name": "stdout",
     "output_type": "stream",
     "text": [
      "Investor Charlie's initial capital is 800000 TWD\n"
     ]
    }
   ],
   "source": [
    "# Keyword Arguments\n",
    "investment_summary(capital=800000, name=\"Charlie\")"
   ]
  },
  {
   "cell_type": "code",
   "execution_count": 25,
   "metadata": {
    "id": "7icFmzJ6g3nh"
   },
   "outputs": [
    {
     "data": {
      "text/plain": [
       "15000"
      ]
     },
     "execution_count": 25,
     "metadata": {},
     "output_type": "execute_result"
    }
   ],
   "source": [
    "# Lambda function: quickly define small financial functions\n",
    "(lambda price, quantity: price * quantity)(150, 100)"
   ]
  },
  {
   "cell_type": "code",
   "execution_count": 26,
   "metadata": {
    "id": "BqtwMCZhg3nh"
   },
   "outputs": [
    {
     "data": {
      "text/plain": [
       "[105.0, 210.0, 315.0]"
      ]
     },
     "execution_count": 26,
     "metadata": {},
     "output_type": "execute_result"
    }
   ],
   "source": [
    "# `map() function` is executed for all of the elements within the list\n",
    "# map(): apply return calculation across a portfolio\n",
    "prices = [100, 200, 300]\n",
    "returns = list(map(lambda x: x * 1.05, prices)) # Simulate 5% increase\n",
    "returns"
   ]
  },
  {
   "cell_type": "code",
   "execution_count": 27,
   "metadata": {
    "id": "b27RaB9bg3nh"
   },
   "outputs": [
    {
     "data": {
      "text/plain": [
       "[0.12, 0.09]"
      ]
     },
     "execution_count": 27,
     "metadata": {},
     "output_type": "execute_result"
    }
   ],
   "source": [
    "# `filter() method` show those elements that `returned True`\n",
    "# filter(): filter high-return investment targets\n",
    "returns = [0.03, 0.07, 0.12, 0.05, 0.09]\n",
    "high_return = list(filter(lambda x: x >= 0.08, returns))\n",
    "high_return"
   ]
  },
  {
   "cell_type": "code",
   "execution_count": 28,
   "metadata": {
    "id": "4-QXj83yg3nh"
   },
   "outputs": [
    {
     "name": "stdout",
     "output_type": "stream",
     "text": [
      "The square value of all numbers from 0 to 10: 0 The square value of all numbers from 0 to 10: 1 The square value of all numbers from 0 to 10: 4 The square value of all numbers from 0 to 10: 9 The square value of all numbers from 0 to 10: 16 The square value of all numbers from 0 to 10: 25 The square value of all numbers from 0 to 10: 36 The square value of all numbers from 0 to 10: 49 The square value of all numbers from 0 to 10: 64 The square value of all numbers from 0 to 10: 81 The square value of all numbers from 0 to 10: 100 "
     ]
    }
   ],
   "source": [
    "squares = [lambda num = num: num ** 2 for num in range(0, 11)]\n",
    "for square in squares:\n",
    "    print('The square value of all numbers from 0 to 10:',\n",
    "    square(), end = \" \")"
   ]
  },
  {
   "cell_type": "code",
   "execution_count": 29,
   "metadata": {},
   "outputs": [
    {
     "data": {
      "text/plain": [
       "0.12"
      ]
     },
     "execution_count": 29,
     "metadata": {},
     "output_type": "execute_result"
    }
   ],
   "source": [
    "# Find maximum value using Lambda\n",
    "max_return = lambda x, y: x if x > y else y\n",
    "max_return(0.12, 0.09)"
   ]
  },
  {
   "cell_type": "code",
   "execution_count": 30,
   "metadata": {
    "id": "sqtxDW4eg3nh"
   },
   "outputs": [
    {
     "name": "stdout",
     "output_type": "stream",
     "text": [
      "The greater number is: 35\n"
     ]
    }
   ],
   "source": [
    "Minimum = lambda x, y : x if (x < y) else y\n",
    "print('The greater number is:', Minimum( 35, 74 ))"
   ]
  },
  {
   "cell_type": "code",
   "execution_count": 32,
   "metadata": {
    "id": "KDEgaorlg3nh"
   },
   "outputs": [
    {
     "name": "stdout",
     "output_type": "stream",
     "text": [
      "Randomly generated return rate: 2.96%\n"
     ]
    }
   ],
   "source": [
    "# Generate random investment returns\n",
    "import random\n",
    "random_return = random.uniform(0.01, 0.20) # Random return rate between 1% and 20%\n",
    "print(f\"Randomly generated return rate: {random_return:.2%}\")"
   ]
  },
  {
   "cell_type": "markdown",
   "metadata": {
    "id": "Wm-XVh9ag3nh"
   },
   "source": [
    "## Additional Information"
   ]
  },
  {
   "cell_type": "markdown",
   "metadata": {
    "id": "AAkGd7sAg3ni"
   },
   "source": [
    "#### Portfolio return and risk"
   ]
  },
  {
   "cell_type": "code",
   "execution_count": 33,
   "metadata": {
    "id": "zczDIz8Pg3ni"
   },
   "outputs": [],
   "source": [
    "import pandas as pd\n",
    "import numpy as np\n",
    "import yfinance as yf"
   ]
  },
  {
   "cell_type": "code",
   "execution_count": 34,
   "metadata": {
    "id": "FqaZFmC_g3ni"
   },
   "outputs": [
    {
     "name": "stderr",
     "output_type": "stream",
     "text": [
      "C:\\Users\\user\\AppData\\Local\\Temp\\ipykernel_13536\\503713829.py:2: FutureWarning: YF.download() has changed argument auto_adjust default to True\n",
      "  df = yf.download(stocks, # ^TWII, 2330 TSMC, 2317 Foxcom, 2353 宏碁, 2454 聯發科\n"
     ]
    },
    {
     "data": {
      "text/html": [
       "<div>\n",
       "<style scoped>\n",
       "    .dataframe tbody tr th:only-of-type {\n",
       "        vertical-align: middle;\n",
       "    }\n",
       "\n",
       "    .dataframe tbody tr th {\n",
       "        vertical-align: top;\n",
       "    }\n",
       "\n",
       "    .dataframe thead tr th {\n",
       "        text-align: left;\n",
       "    }\n",
       "\n",
       "    .dataframe thead tr:last-of-type th {\n",
       "        text-align: right;\n",
       "    }\n",
       "</style>\n",
       "<table border=\"1\" class=\"dataframe\">\n",
       "  <thead>\n",
       "    <tr>\n",
       "      <th>Price</th>\n",
       "      <th colspan=\"4\" halign=\"left\">Close</th>\n",
       "      <th colspan=\"4\" halign=\"left\">High</th>\n",
       "      <th colspan=\"4\" halign=\"left\">Low</th>\n",
       "      <th colspan=\"4\" halign=\"left\">Open</th>\n",
       "      <th colspan=\"4\" halign=\"left\">Volume</th>\n",
       "    </tr>\n",
       "    <tr>\n",
       "      <th>Ticker</th>\n",
       "      <th>2317.TW</th>\n",
       "      <th>2330.TW</th>\n",
       "      <th>2353.TW</th>\n",
       "      <th>2454.TW</th>\n",
       "      <th>2317.TW</th>\n",
       "      <th>2330.TW</th>\n",
       "      <th>2353.TW</th>\n",
       "      <th>2454.TW</th>\n",
       "      <th>2317.TW</th>\n",
       "      <th>2330.TW</th>\n",
       "      <th>2353.TW</th>\n",
       "      <th>2454.TW</th>\n",
       "      <th>2317.TW</th>\n",
       "      <th>2330.TW</th>\n",
       "      <th>2353.TW</th>\n",
       "      <th>2454.TW</th>\n",
       "      <th>2317.TW</th>\n",
       "      <th>2330.TW</th>\n",
       "      <th>2353.TW</th>\n",
       "      <th>2454.TW</th>\n",
       "    </tr>\n",
       "    <tr>\n",
       "      <th>Date</th>\n",
       "      <th></th>\n",
       "      <th></th>\n",
       "      <th></th>\n",
       "      <th></th>\n",
       "      <th></th>\n",
       "      <th></th>\n",
       "      <th></th>\n",
       "      <th></th>\n",
       "      <th></th>\n",
       "      <th></th>\n",
       "      <th></th>\n",
       "      <th></th>\n",
       "      <th></th>\n",
       "      <th></th>\n",
       "      <th></th>\n",
       "      <th></th>\n",
       "      <th></th>\n",
       "      <th></th>\n",
       "      <th></th>\n",
       "      <th></th>\n",
       "    </tr>\n",
       "  </thead>\n",
       "  <tbody>\n",
       "    <tr>\n",
       "      <th>2024-01-02</th>\n",
       "      <td>98.787247</td>\n",
       "      <td>577.962830</td>\n",
       "      <td>48.165287</td>\n",
       "      <td>898.153076</td>\n",
       "      <td>98.787247</td>\n",
       "      <td>577.962830</td>\n",
       "      <td>50.099268</td>\n",
       "      <td>929.281725</td>\n",
       "      <td>97.846416</td>\n",
       "      <td>574.064261</td>\n",
       "      <td>47.152252</td>\n",
       "      <td>897.237528</td>\n",
       "      <td>98.316831</td>\n",
       "      <td>575.038903</td>\n",
       "      <td>49.915079</td>\n",
       "      <td>924.703983</td>\n",
       "      <td>19921105</td>\n",
       "      <td>26059058</td>\n",
       "      <td>116392805</td>\n",
       "      <td>10009034</td>\n",
       "    </tr>\n",
       "    <tr>\n",
       "      <th>2024-01-03</th>\n",
       "      <td>98.316833</td>\n",
       "      <td>563.343262</td>\n",
       "      <td>46.415497</td>\n",
       "      <td>872.517700</td>\n",
       "      <td>98.787249</td>\n",
       "      <td>570.165758</td>\n",
       "      <td>48.441567</td>\n",
       "      <td>894.490864</td>\n",
       "      <td>97.846418</td>\n",
       "      <td>561.393977</td>\n",
       "      <td>46.415497</td>\n",
       "      <td>872.517700</td>\n",
       "      <td>98.316833</td>\n",
       "      <td>569.191116</td>\n",
       "      <td>47.796910</td>\n",
       "      <td>893.575315</td>\n",
       "      <td>18957682</td>\n",
       "      <td>37106763</td>\n",
       "      <td>101860320</td>\n",
       "      <td>12547023</td>\n",
       "    </tr>\n",
       "    <tr>\n",
       "      <th>2024-01-04</th>\n",
       "      <td>97.846420</td>\n",
       "      <td>565.292358</td>\n",
       "      <td>45.126175</td>\n",
       "      <td>872.141724</td>\n",
       "      <td>98.787251</td>\n",
       "      <td>566.267000</td>\n",
       "      <td>46.599681</td>\n",
       "      <td>889.998074</td>\n",
       "      <td>97.846420</td>\n",
       "      <td>562.368432</td>\n",
       "      <td>44.895939</td>\n",
       "      <td>866.502876</td>\n",
       "      <td>98.316836</td>\n",
       "      <td>565.292358</td>\n",
       "      <td>46.231306</td>\n",
       "      <td>883.419418</td>\n",
       "      <td>15488559</td>\n",
       "      <td>15309129</td>\n",
       "      <td>97176046</td>\n",
       "      <td>8449251</td>\n",
       "    </tr>\n",
       "    <tr>\n",
       "      <th>2024-01-05</th>\n",
       "      <td>97.846420</td>\n",
       "      <td>561.393921</td>\n",
       "      <td>44.435471</td>\n",
       "      <td>865.563110</td>\n",
       "      <td>98.316836</td>\n",
       "      <td>565.292490</td>\n",
       "      <td>46.047120</td>\n",
       "      <td>878.720421</td>\n",
       "      <td>97.846420</td>\n",
       "      <td>559.444636</td>\n",
       "      <td>44.389424</td>\n",
       "      <td>865.563110</td>\n",
       "      <td>97.846420</td>\n",
       "      <td>563.343205</td>\n",
       "      <td>45.126177</td>\n",
       "      <td>873.081574</td>\n",
       "      <td>13349572</td>\n",
       "      <td>18158971</td>\n",
       "      <td>90253993</td>\n",
       "      <td>5524580</td>\n",
       "    </tr>\n",
       "    <tr>\n",
       "      <th>2024-01-08</th>\n",
       "      <td>95.494339</td>\n",
       "      <td>568.216431</td>\n",
       "      <td>44.619656</td>\n",
       "      <td>864.623291</td>\n",
       "      <td>97.846416</td>\n",
       "      <td>570.165715</td>\n",
       "      <td>46.875965</td>\n",
       "      <td>879.660218</td>\n",
       "      <td>95.494339</td>\n",
       "      <td>564.317862</td>\n",
       "      <td>44.481513</td>\n",
       "      <td>862.743675</td>\n",
       "      <td>97.376001</td>\n",
       "      <td>567.241788</td>\n",
       "      <td>45.218266</td>\n",
       "      <td>874.021370</td>\n",
       "      <td>34642006</td>\n",
       "      <td>17761275</td>\n",
       "      <td>139364341</td>\n",
       "      <td>5553064</td>\n",
       "    </tr>\n",
       "    <tr>\n",
       "      <th>...</th>\n",
       "      <td>...</td>\n",
       "      <td>...</td>\n",
       "      <td>...</td>\n",
       "      <td>...</td>\n",
       "      <td>...</td>\n",
       "      <td>...</td>\n",
       "      <td>...</td>\n",
       "      <td>...</td>\n",
       "      <td>...</td>\n",
       "      <td>...</td>\n",
       "      <td>...</td>\n",
       "      <td>...</td>\n",
       "      <td>...</td>\n",
       "      <td>...</td>\n",
       "      <td>...</td>\n",
       "      <td>...</td>\n",
       "      <td>...</td>\n",
       "      <td>...</td>\n",
       "      <td>...</td>\n",
       "      <td>...</td>\n",
       "    </tr>\n",
       "    <tr>\n",
       "      <th>2025-08-21</th>\n",
       "      <td>206.000000</td>\n",
       "      <td>1150.000000</td>\n",
       "      <td>29.750000</td>\n",
       "      <td>1365.000000</td>\n",
       "      <td>206.000000</td>\n",
       "      <td>1155.000000</td>\n",
       "      <td>29.900000</td>\n",
       "      <td>1375.000000</td>\n",
       "      <td>201.000000</td>\n",
       "      <td>1140.000000</td>\n",
       "      <td>29.350000</td>\n",
       "      <td>1345.000000</td>\n",
       "      <td>201.000000</td>\n",
       "      <td>1140.000000</td>\n",
       "      <td>29.500000</td>\n",
       "      <td>1350.000000</td>\n",
       "      <td>66575736</td>\n",
       "      <td>23424804</td>\n",
       "      <td>6936468</td>\n",
       "      <td>4264972</td>\n",
       "    </tr>\n",
       "    <tr>\n",
       "      <th>2025-08-22</th>\n",
       "      <td>202.500000</td>\n",
       "      <td>1135.000000</td>\n",
       "      <td>29.750000</td>\n",
       "      <td>1365.000000</td>\n",
       "      <td>208.000000</td>\n",
       "      <td>1155.000000</td>\n",
       "      <td>30.100000</td>\n",
       "      <td>1375.000000</td>\n",
       "      <td>202.000000</td>\n",
       "      <td>1135.000000</td>\n",
       "      <td>29.549999</td>\n",
       "      <td>1355.000000</td>\n",
       "      <td>208.000000</td>\n",
       "      <td>1155.000000</td>\n",
       "      <td>29.850000</td>\n",
       "      <td>1365.000000</td>\n",
       "      <td>52817040</td>\n",
       "      <td>19205763</td>\n",
       "      <td>9208447</td>\n",
       "      <td>2686120</td>\n",
       "    </tr>\n",
       "    <tr>\n",
       "      <th>2025-08-25</th>\n",
       "      <td>207.500000</td>\n",
       "      <td>1170.000000</td>\n",
       "      <td>29.950001</td>\n",
       "      <td>1410.000000</td>\n",
       "      <td>208.000000</td>\n",
       "      <td>1180.000000</td>\n",
       "      <td>30.299999</td>\n",
       "      <td>1410.000000</td>\n",
       "      <td>206.000000</td>\n",
       "      <td>1160.000000</td>\n",
       "      <td>29.900000</td>\n",
       "      <td>1380.000000</td>\n",
       "      <td>207.000000</td>\n",
       "      <td>1165.000000</td>\n",
       "      <td>30.100000</td>\n",
       "      <td>1385.000000</td>\n",
       "      <td>51151687</td>\n",
       "      <td>25103514</td>\n",
       "      <td>8624964</td>\n",
       "      <td>4859204</td>\n",
       "    </tr>\n",
       "    <tr>\n",
       "      <th>2025-08-26</th>\n",
       "      <td>209.000000</td>\n",
       "      <td>1175.000000</td>\n",
       "      <td>31.049999</td>\n",
       "      <td>1400.000000</td>\n",
       "      <td>209.000000</td>\n",
       "      <td>1185.000000</td>\n",
       "      <td>31.049999</td>\n",
       "      <td>1410.000000</td>\n",
       "      <td>206.000000</td>\n",
       "      <td>1160.000000</td>\n",
       "      <td>29.950001</td>\n",
       "      <td>1380.000000</td>\n",
       "      <td>207.000000</td>\n",
       "      <td>1165.000000</td>\n",
       "      <td>30.100000</td>\n",
       "      <td>1405.000000</td>\n",
       "      <td>40946610</td>\n",
       "      <td>35508897</td>\n",
       "      <td>36838551</td>\n",
       "      <td>5024316</td>\n",
       "    </tr>\n",
       "    <tr>\n",
       "      <th>2025-08-27</th>\n",
       "      <td>208.000000</td>\n",
       "      <td>1190.000000</td>\n",
       "      <td>30.600000</td>\n",
       "      <td>1400.000000</td>\n",
       "      <td>210.000000</td>\n",
       "      <td>1190.000000</td>\n",
       "      <td>31.049999</td>\n",
       "      <td>1410.000000</td>\n",
       "      <td>207.500000</td>\n",
       "      <td>1180.000000</td>\n",
       "      <td>30.400000</td>\n",
       "      <td>1395.000000</td>\n",
       "      <td>210.000000</td>\n",
       "      <td>1190.000000</td>\n",
       "      <td>31.000000</td>\n",
       "      <td>1405.000000</td>\n",
       "      <td>39678884</td>\n",
       "      <td>22777131</td>\n",
       "      <td>14741531</td>\n",
       "      <td>3486429</td>\n",
       "    </tr>\n",
       "  </tbody>\n",
       "</table>\n",
       "<p>399 rows × 20 columns</p>\n",
       "</div>"
      ],
      "text/plain": [
       "Price            Close                                             High  \\\n",
       "Ticker         2317.TW      2330.TW    2353.TW      2454.TW     2317.TW   \n",
       "Date                                                                      \n",
       "2024-01-02   98.787247   577.962830  48.165287   898.153076   98.787247   \n",
       "2024-01-03   98.316833   563.343262  46.415497   872.517700   98.787249   \n",
       "2024-01-04   97.846420   565.292358  45.126175   872.141724   98.787251   \n",
       "2024-01-05   97.846420   561.393921  44.435471   865.563110   98.316836   \n",
       "2024-01-08   95.494339   568.216431  44.619656   864.623291   97.846416   \n",
       "...                ...          ...        ...          ...         ...   \n",
       "2025-08-21  206.000000  1150.000000  29.750000  1365.000000  206.000000   \n",
       "2025-08-22  202.500000  1135.000000  29.750000  1365.000000  208.000000   \n",
       "2025-08-25  207.500000  1170.000000  29.950001  1410.000000  208.000000   \n",
       "2025-08-26  209.000000  1175.000000  31.049999  1400.000000  209.000000   \n",
       "2025-08-27  208.000000  1190.000000  30.600000  1400.000000  210.000000   \n",
       "\n",
       "Price                                                   Low               \\\n",
       "Ticker          2330.TW    2353.TW      2454.TW     2317.TW      2330.TW   \n",
       "Date                                                                       \n",
       "2024-01-02   577.962830  50.099268   929.281725   97.846416   574.064261   \n",
       "2024-01-03   570.165758  48.441567   894.490864   97.846418   561.393977   \n",
       "2024-01-04   566.267000  46.599681   889.998074   97.846420   562.368432   \n",
       "2024-01-05   565.292490  46.047120   878.720421   97.846420   559.444636   \n",
       "2024-01-08   570.165715  46.875965   879.660218   95.494339   564.317862   \n",
       "...                 ...        ...          ...         ...          ...   \n",
       "2025-08-21  1155.000000  29.900000  1375.000000  201.000000  1140.000000   \n",
       "2025-08-22  1155.000000  30.100000  1375.000000  202.000000  1135.000000   \n",
       "2025-08-25  1180.000000  30.299999  1410.000000  206.000000  1160.000000   \n",
       "2025-08-26  1185.000000  31.049999  1410.000000  206.000000  1160.000000   \n",
       "2025-08-27  1190.000000  31.049999  1410.000000  207.500000  1180.000000   \n",
       "\n",
       "Price                                     Open                          \\\n",
       "Ticker        2353.TW      2454.TW     2317.TW      2330.TW    2353.TW   \n",
       "Date                                                                     \n",
       "2024-01-02  47.152252   897.237528   98.316831   575.038903  49.915079   \n",
       "2024-01-03  46.415497   872.517700   98.316833   569.191116  47.796910   \n",
       "2024-01-04  44.895939   866.502876   98.316836   565.292358  46.231306   \n",
       "2024-01-05  44.389424   865.563110   97.846420   563.343205  45.126177   \n",
       "2024-01-08  44.481513   862.743675   97.376001   567.241788  45.218266   \n",
       "...               ...          ...         ...          ...        ...   \n",
       "2025-08-21  29.350000  1345.000000  201.000000  1140.000000  29.500000   \n",
       "2025-08-22  29.549999  1355.000000  208.000000  1155.000000  29.850000   \n",
       "2025-08-25  29.900000  1380.000000  207.000000  1165.000000  30.100000   \n",
       "2025-08-26  29.950001  1380.000000  207.000000  1165.000000  30.100000   \n",
       "2025-08-27  30.400000  1395.000000  210.000000  1190.000000  31.000000   \n",
       "\n",
       "Price                      Volume                                 \n",
       "Ticker          2454.TW   2317.TW   2330.TW    2353.TW   2454.TW  \n",
       "Date                                                              \n",
       "2024-01-02   924.703983  19921105  26059058  116392805  10009034  \n",
       "2024-01-03   893.575315  18957682  37106763  101860320  12547023  \n",
       "2024-01-04   883.419418  15488559  15309129   97176046   8449251  \n",
       "2024-01-05   873.081574  13349572  18158971   90253993   5524580  \n",
       "2024-01-08   874.021370  34642006  17761275  139364341   5553064  \n",
       "...                 ...       ...       ...        ...       ...  \n",
       "2025-08-21  1350.000000  66575736  23424804    6936468   4264972  \n",
       "2025-08-22  1365.000000  52817040  19205763    9208447   2686120  \n",
       "2025-08-25  1385.000000  51151687  25103514    8624964   4859204  \n",
       "2025-08-26  1405.000000  40946610  35508897   36838551   5024316  \n",
       "2025-08-27  1405.000000  39678884  22777131   14741531   3486429  \n",
       "\n",
       "[399 rows x 20 columns]"
      ]
     },
     "execution_count": 34,
     "metadata": {},
     "output_type": "execute_result"
    }
   ],
   "source": [
    "stocks = ['2330.tw','2317.tw','2353.tw','2454.tw']\n",
    "df = yf.download(stocks, # ^TWII, 2330 TSMC, 2317 Foxcom, 2353 宏碁, 2454 聯發科\n",
    "         start=\"2024-01-01\",\n",
    "         end=\"2030-12-31\",\n",
    "          progress=False)\n",
    "# df = df.loc[:, [\"Adj Close\"]] # only adj close\n",
    "df"
   ]
  },
  {
   "cell_type": "code",
   "execution_count": 35,
   "metadata": {
    "id": "eA-7hOZTg3ni"
   },
   "outputs": [
    {
     "data": {
      "text/html": [
       "<div>\n",
       "<style scoped>\n",
       "    .dataframe tbody tr th:only-of-type {\n",
       "        vertical-align: middle;\n",
       "    }\n",
       "\n",
       "    .dataframe tbody tr th {\n",
       "        vertical-align: top;\n",
       "    }\n",
       "\n",
       "    .dataframe thead th {\n",
       "        text-align: right;\n",
       "    }\n",
       "</style>\n",
       "<table border=\"1\" class=\"dataframe\">\n",
       "  <thead>\n",
       "    <tr style=\"text-align: right;\">\n",
       "      <th>Ticker</th>\n",
       "      <th>2317.TW</th>\n",
       "      <th>2330.TW</th>\n",
       "      <th>2353.TW</th>\n",
       "      <th>2454.TW</th>\n",
       "    </tr>\n",
       "    <tr>\n",
       "      <th>Date</th>\n",
       "      <th></th>\n",
       "      <th></th>\n",
       "      <th></th>\n",
       "      <th></th>\n",
       "    </tr>\n",
       "  </thead>\n",
       "  <tbody>\n",
       "    <tr>\n",
       "      <th>2024-01-02</th>\n",
       "      <td>98.787247</td>\n",
       "      <td>577.962830</td>\n",
       "      <td>48.165287</td>\n",
       "      <td>898.153076</td>\n",
       "    </tr>\n",
       "    <tr>\n",
       "      <th>2024-01-03</th>\n",
       "      <td>98.316833</td>\n",
       "      <td>563.343262</td>\n",
       "      <td>46.415497</td>\n",
       "      <td>872.517700</td>\n",
       "    </tr>\n",
       "    <tr>\n",
       "      <th>2024-01-04</th>\n",
       "      <td>97.846420</td>\n",
       "      <td>565.292358</td>\n",
       "      <td>45.126175</td>\n",
       "      <td>872.141724</td>\n",
       "    </tr>\n",
       "    <tr>\n",
       "      <th>2024-01-05</th>\n",
       "      <td>97.846420</td>\n",
       "      <td>561.393921</td>\n",
       "      <td>44.435471</td>\n",
       "      <td>865.563110</td>\n",
       "    </tr>\n",
       "    <tr>\n",
       "      <th>2024-01-08</th>\n",
       "      <td>95.494339</td>\n",
       "      <td>568.216431</td>\n",
       "      <td>44.619656</td>\n",
       "      <td>864.623291</td>\n",
       "    </tr>\n",
       "  </tbody>\n",
       "</table>\n",
       "</div>"
      ],
      "text/plain": [
       "Ticker        2317.TW     2330.TW    2353.TW     2454.TW\n",
       "Date                                                    \n",
       "2024-01-02  98.787247  577.962830  48.165287  898.153076\n",
       "2024-01-03  98.316833  563.343262  46.415497  872.517700\n",
       "2024-01-04  97.846420  565.292358  45.126175  872.141724\n",
       "2024-01-05  97.846420  561.393921  44.435471  865.563110\n",
       "2024-01-08  95.494339  568.216431  44.619656  864.623291"
      ]
     },
     "execution_count": 35,
     "metadata": {},
     "output_type": "execute_result"
    }
   ],
   "source": [
    "df = df['Close']\n",
    "df.head()"
   ]
  },
  {
   "cell_type": "code",
   "execution_count": 36,
   "metadata": {
    "id": "Xcj7WeQLg3nl"
   },
   "outputs": [
    {
     "data": {
      "application/vnd.plotly.v1+json": {
       "config": {
        "plotlyServerURL": "https://plot.ly"
       },
       "data": [
        {
         "hovertemplate": "Ticker=2317.TW<br>Date=%{x}<br>$ TWN=%{y}<extra></extra>",
         "legendgroup": "2317.TW",
         "line": {
          "color": "#636efa",
          "dash": "solid"
         },
         "marker": {
          "symbol": "circle"
         },
         "mode": "lines",
         "name": "2317.TW",
         "showlegend": true,
         "type": "scattergl",
         "x": [
          "2024-01-02T00:00:00",
          "2024-01-03T00:00:00",
          "2024-01-04T00:00:00",
          "2024-01-05T00:00:00",
          "2024-01-08T00:00:00",
          "2024-01-09T00:00:00",
          "2024-01-10T00:00:00",
          "2024-01-11T00:00:00",
          "2024-01-12T00:00:00",
          "2024-01-15T00:00:00",
          "2024-01-16T00:00:00",
          "2024-01-17T00:00:00",
          "2024-01-18T00:00:00",
          "2024-01-19T00:00:00",
          "2024-01-22T00:00:00",
          "2024-01-23T00:00:00",
          "2024-01-24T00:00:00",
          "2024-01-25T00:00:00",
          "2024-01-26T00:00:00",
          "2024-01-29T00:00:00",
          "2024-01-30T00:00:00",
          "2024-01-31T00:00:00",
          "2024-02-01T00:00:00",
          "2024-02-02T00:00:00",
          "2024-02-05T00:00:00",
          "2024-02-15T00:00:00",
          "2024-02-16T00:00:00",
          "2024-02-19T00:00:00",
          "2024-02-20T00:00:00",
          "2024-02-21T00:00:00",
          "2024-02-22T00:00:00",
          "2024-02-23T00:00:00",
          "2024-02-26T00:00:00",
          "2024-02-27T00:00:00",
          "2024-02-29T00:00:00",
          "2024-03-01T00:00:00",
          "2024-03-04T00:00:00",
          "2024-03-05T00:00:00",
          "2024-03-06T00:00:00",
          "2024-03-07T00:00:00",
          "2024-03-08T00:00:00",
          "2024-03-11T00:00:00",
          "2024-03-12T00:00:00",
          "2024-03-13T00:00:00",
          "2024-03-14T00:00:00",
          "2024-03-15T00:00:00",
          "2024-03-18T00:00:00",
          "2024-03-19T00:00:00",
          "2024-03-20T00:00:00",
          "2024-03-21T00:00:00",
          "2024-03-22T00:00:00",
          "2024-03-25T00:00:00",
          "2024-03-26T00:00:00",
          "2024-03-27T00:00:00",
          "2024-03-28T00:00:00",
          "2024-03-29T00:00:00",
          "2024-04-01T00:00:00",
          "2024-04-02T00:00:00",
          "2024-04-03T00:00:00",
          "2024-04-08T00:00:00",
          "2024-04-09T00:00:00",
          "2024-04-10T00:00:00",
          "2024-04-11T00:00:00",
          "2024-04-12T00:00:00",
          "2024-04-15T00:00:00",
          "2024-04-16T00:00:00",
          "2024-04-17T00:00:00",
          "2024-04-18T00:00:00",
          "2024-04-19T00:00:00",
          "2024-04-22T00:00:00",
          "2024-04-23T00:00:00",
          "2024-04-24T00:00:00",
          "2024-04-25T00:00:00",
          "2024-04-26T00:00:00",
          "2024-04-29T00:00:00",
          "2024-04-30T00:00:00",
          "2024-05-02T00:00:00",
          "2024-05-03T00:00:00",
          "2024-05-06T00:00:00",
          "2024-05-07T00:00:00",
          "2024-05-08T00:00:00",
          "2024-05-09T00:00:00",
          "2024-05-10T00:00:00",
          "2024-05-13T00:00:00",
          "2024-05-14T00:00:00",
          "2024-05-15T00:00:00",
          "2024-05-16T00:00:00",
          "2024-05-17T00:00:00",
          "2024-05-20T00:00:00",
          "2024-05-21T00:00:00",
          "2024-05-22T00:00:00",
          "2024-05-23T00:00:00",
          "2024-05-24T00:00:00",
          "2024-05-27T00:00:00",
          "2024-05-28T00:00:00",
          "2024-05-29T00:00:00",
          "2024-05-30T00:00:00",
          "2024-05-31T00:00:00",
          "2024-06-03T00:00:00",
          "2024-06-04T00:00:00",
          "2024-06-05T00:00:00",
          "2024-06-06T00:00:00",
          "2024-06-07T00:00:00",
          "2024-06-11T00:00:00",
          "2024-06-12T00:00:00",
          "2024-06-13T00:00:00",
          "2024-06-14T00:00:00",
          "2024-06-17T00:00:00",
          "2024-06-18T00:00:00",
          "2024-06-19T00:00:00",
          "2024-06-20T00:00:00",
          "2024-06-21T00:00:00",
          "2024-06-24T00:00:00",
          "2024-06-25T00:00:00",
          "2024-06-26T00:00:00",
          "2024-06-27T00:00:00",
          "2024-06-28T00:00:00",
          "2024-07-01T00:00:00",
          "2024-07-02T00:00:00",
          "2024-07-03T00:00:00",
          "2024-07-04T00:00:00",
          "2024-07-05T00:00:00",
          "2024-07-08T00:00:00",
          "2024-07-09T00:00:00",
          "2024-07-10T00:00:00",
          "2024-07-11T00:00:00",
          "2024-07-12T00:00:00",
          "2024-07-15T00:00:00",
          "2024-07-16T00:00:00",
          "2024-07-17T00:00:00",
          "2024-07-18T00:00:00",
          "2024-07-19T00:00:00",
          "2024-07-22T00:00:00",
          "2024-07-23T00:00:00",
          "2024-07-26T00:00:00",
          "2024-07-29T00:00:00",
          "2024-07-30T00:00:00",
          "2024-07-31T00:00:00",
          "2024-08-01T00:00:00",
          "2024-08-02T00:00:00",
          "2024-08-05T00:00:00",
          "2024-08-06T00:00:00",
          "2024-08-07T00:00:00",
          "2024-08-08T00:00:00",
          "2024-08-09T00:00:00",
          "2024-08-12T00:00:00",
          "2024-08-13T00:00:00",
          "2024-08-14T00:00:00",
          "2024-08-15T00:00:00",
          "2024-08-16T00:00:00",
          "2024-08-19T00:00:00",
          "2024-08-20T00:00:00",
          "2024-08-21T00:00:00",
          "2024-08-22T00:00:00",
          "2024-08-23T00:00:00",
          "2024-08-26T00:00:00",
          "2024-08-27T00:00:00",
          "2024-08-28T00:00:00",
          "2024-08-29T00:00:00",
          "2024-08-30T00:00:00",
          "2024-09-02T00:00:00",
          "2024-09-03T00:00:00",
          "2024-09-04T00:00:00",
          "2024-09-05T00:00:00",
          "2024-09-06T00:00:00",
          "2024-09-09T00:00:00",
          "2024-09-10T00:00:00",
          "2024-09-11T00:00:00",
          "2024-09-12T00:00:00",
          "2024-09-13T00:00:00",
          "2024-09-16T00:00:00",
          "2024-09-18T00:00:00",
          "2024-09-19T00:00:00",
          "2024-09-20T00:00:00",
          "2024-09-23T00:00:00",
          "2024-09-24T00:00:00",
          "2024-09-25T00:00:00",
          "2024-09-26T00:00:00",
          "2024-09-27T00:00:00",
          "2024-09-30T00:00:00",
          "2024-10-01T00:00:00",
          "2024-10-04T00:00:00",
          "2024-10-07T00:00:00",
          "2024-10-08T00:00:00",
          "2024-10-09T00:00:00",
          "2024-10-11T00:00:00",
          "2024-10-14T00:00:00",
          "2024-10-15T00:00:00",
          "2024-10-16T00:00:00",
          "2024-10-17T00:00:00",
          "2024-10-18T00:00:00",
          "2024-10-21T00:00:00",
          "2024-10-22T00:00:00",
          "2024-10-23T00:00:00",
          "2024-10-24T00:00:00",
          "2024-10-25T00:00:00",
          "2024-10-28T00:00:00",
          "2024-10-29T00:00:00",
          "2024-10-30T00:00:00",
          "2024-11-01T00:00:00",
          "2024-11-04T00:00:00",
          "2024-11-05T00:00:00",
          "2024-11-06T00:00:00",
          "2024-11-07T00:00:00",
          "2024-11-08T00:00:00",
          "2024-11-11T00:00:00",
          "2024-11-12T00:00:00",
          "2024-11-13T00:00:00",
          "2024-11-14T00:00:00",
          "2024-11-15T00:00:00",
          "2024-11-18T00:00:00",
          "2024-11-19T00:00:00",
          "2024-11-20T00:00:00",
          "2024-11-21T00:00:00",
          "2024-11-22T00:00:00",
          "2024-11-25T00:00:00",
          "2024-11-26T00:00:00",
          "2024-11-27T00:00:00",
          "2024-11-28T00:00:00",
          "2024-11-29T00:00:00",
          "2024-12-02T00:00:00",
          "2024-12-03T00:00:00",
          "2024-12-04T00:00:00",
          "2024-12-05T00:00:00",
          "2024-12-06T00:00:00",
          "2024-12-09T00:00:00",
          "2024-12-10T00:00:00",
          "2024-12-11T00:00:00",
          "2024-12-12T00:00:00",
          "2024-12-13T00:00:00",
          "2024-12-16T00:00:00",
          "2024-12-17T00:00:00",
          "2024-12-18T00:00:00",
          "2024-12-19T00:00:00",
          "2024-12-20T00:00:00",
          "2024-12-23T00:00:00",
          "2024-12-24T00:00:00",
          "2024-12-25T00:00:00",
          "2024-12-26T00:00:00",
          "2024-12-27T00:00:00",
          "2024-12-30T00:00:00",
          "2024-12-31T00:00:00",
          "2025-01-02T00:00:00",
          "2025-01-03T00:00:00",
          "2025-01-06T00:00:00",
          "2025-01-07T00:00:00",
          "2025-01-08T00:00:00",
          "2025-01-09T00:00:00",
          "2025-01-10T00:00:00",
          "2025-01-13T00:00:00",
          "2025-01-14T00:00:00",
          "2025-01-15T00:00:00",
          "2025-01-16T00:00:00",
          "2025-01-17T00:00:00",
          "2025-01-20T00:00:00",
          "2025-01-21T00:00:00",
          "2025-01-22T00:00:00",
          "2025-02-03T00:00:00",
          "2025-02-04T00:00:00",
          "2025-02-05T00:00:00",
          "2025-02-06T00:00:00",
          "2025-02-07T00:00:00",
          "2025-02-10T00:00:00",
          "2025-02-11T00:00:00",
          "2025-02-12T00:00:00",
          "2025-02-13T00:00:00",
          "2025-02-14T00:00:00",
          "2025-02-17T00:00:00",
          "2025-02-18T00:00:00",
          "2025-02-19T00:00:00",
          "2025-02-20T00:00:00",
          "2025-02-21T00:00:00",
          "2025-02-24T00:00:00",
          "2025-02-25T00:00:00",
          "2025-02-26T00:00:00",
          "2025-02-27T00:00:00",
          "2025-03-03T00:00:00",
          "2025-03-04T00:00:00",
          "2025-03-05T00:00:00",
          "2025-03-06T00:00:00",
          "2025-03-07T00:00:00",
          "2025-03-10T00:00:00",
          "2025-03-11T00:00:00",
          "2025-03-12T00:00:00",
          "2025-03-13T00:00:00",
          "2025-03-14T00:00:00",
          "2025-03-17T00:00:00",
          "2025-03-18T00:00:00",
          "2025-03-19T00:00:00",
          "2025-03-20T00:00:00",
          "2025-03-21T00:00:00",
          "2025-03-24T00:00:00",
          "2025-03-25T00:00:00",
          "2025-03-26T00:00:00",
          "2025-03-27T00:00:00",
          "2025-03-28T00:00:00",
          "2025-03-31T00:00:00",
          "2025-04-01T00:00:00",
          "2025-04-02T00:00:00",
          "2025-04-07T00:00:00",
          "2025-04-08T00:00:00",
          "2025-04-09T00:00:00",
          "2025-04-10T00:00:00",
          "2025-04-11T00:00:00",
          "2025-04-14T00:00:00",
          "2025-04-15T00:00:00",
          "2025-04-16T00:00:00",
          "2025-04-17T00:00:00",
          "2025-04-18T00:00:00",
          "2025-04-21T00:00:00",
          "2025-04-22T00:00:00",
          "2025-04-23T00:00:00",
          "2025-04-24T00:00:00",
          "2025-04-25T00:00:00",
          "2025-04-28T00:00:00",
          "2025-04-29T00:00:00",
          "2025-04-30T00:00:00",
          "2025-05-02T00:00:00",
          "2025-05-05T00:00:00",
          "2025-05-06T00:00:00",
          "2025-05-07T00:00:00",
          "2025-05-08T00:00:00",
          "2025-05-09T00:00:00",
          "2025-05-12T00:00:00",
          "2025-05-13T00:00:00",
          "2025-05-14T00:00:00",
          "2025-05-15T00:00:00",
          "2025-05-16T00:00:00",
          "2025-05-19T00:00:00",
          "2025-05-20T00:00:00",
          "2025-05-21T00:00:00",
          "2025-05-22T00:00:00",
          "2025-05-23T00:00:00",
          "2025-05-26T00:00:00",
          "2025-05-27T00:00:00",
          "2025-05-28T00:00:00",
          "2025-05-29T00:00:00",
          "2025-06-02T00:00:00",
          "2025-06-03T00:00:00",
          "2025-06-04T00:00:00",
          "2025-06-05T00:00:00",
          "2025-06-06T00:00:00",
          "2025-06-09T00:00:00",
          "2025-06-10T00:00:00",
          "2025-06-11T00:00:00",
          "2025-06-12T00:00:00",
          "2025-06-13T00:00:00",
          "2025-06-16T00:00:00",
          "2025-06-17T00:00:00",
          "2025-06-18T00:00:00",
          "2025-06-19T00:00:00",
          "2025-06-20T00:00:00",
          "2025-06-23T00:00:00",
          "2025-06-24T00:00:00",
          "2025-06-25T00:00:00",
          "2025-06-26T00:00:00",
          "2025-06-27T00:00:00",
          "2025-06-30T00:00:00",
          "2025-07-01T00:00:00",
          "2025-07-02T00:00:00",
          "2025-07-03T00:00:00",
          "2025-07-04T00:00:00",
          "2025-07-07T00:00:00",
          "2025-07-08T00:00:00",
          "2025-07-09T00:00:00",
          "2025-07-10T00:00:00",
          "2025-07-11T00:00:00",
          "2025-07-14T00:00:00",
          "2025-07-15T00:00:00",
          "2025-07-16T00:00:00",
          "2025-07-17T00:00:00",
          "2025-07-18T00:00:00",
          "2025-07-21T00:00:00",
          "2025-07-22T00:00:00",
          "2025-07-23T00:00:00",
          "2025-07-24T00:00:00",
          "2025-07-25T00:00:00",
          "2025-07-28T00:00:00",
          "2025-07-29T00:00:00",
          "2025-07-30T00:00:00",
          "2025-07-31T00:00:00",
          "2025-08-04T00:00:00",
          "2025-08-05T00:00:00",
          "2025-08-06T00:00:00",
          "2025-08-07T00:00:00",
          "2025-08-08T00:00:00",
          "2025-08-11T00:00:00",
          "2025-08-12T00:00:00",
          "2025-08-13T00:00:00",
          "2025-08-14T00:00:00",
          "2025-08-15T00:00:00",
          "2025-08-18T00:00:00",
          "2025-08-19T00:00:00",
          "2025-08-20T00:00:00",
          "2025-08-21T00:00:00",
          "2025-08-22T00:00:00",
          "2025-08-25T00:00:00",
          "2025-08-26T00:00:00",
          "2025-08-27T00:00:00"
         ],
         "xaxis": "x",
         "y": [
          98.78724670410156,
          98.31683349609375,
          97.84642028808594,
          97.84642028808594,
          95.49433898925781,
          95.02392578125,
          94.08309173583984,
          94.55351257324219,
          94.55351257324219,
          94.08309173583984,
          94.08309173583984,
          92.76593017578125,
          93.989013671875,
          94.55351257324219,
          93.989013671875,
          95.02392578125,
          94.55351257324219,
          95.96475982666016,
          96.43517303466797,
          96.43517303466797,
          95.96475982666016,
          96.43517303466797,
          96.90558624267578,
          95.96475982666016,
          95.49433898925781,
          95.02392578125,
          95.49433898925781,
          96.90558624267578,
          97.37600708007812,
          96.90558624267578,
          97.37600708007812,
          96.90558624267578,
          97.37600708007812,
          97.37600708007812,
          96.90558624267578,
          95.96475982666016,
          100.19849395751953,
          100.19849395751953,
          100.19849395751953,
          101.13932800292969,
          98.78724670410156,
          103.02098846435547,
          111.9588851928711,
          113.37013244628906,
          113.84054565429688,
          124.18968200683594,
          127.95301055908203,
          127.95301055908203,
          129.8346710205078,
          134.0684051513672,
          136.89089965820312,
          136.89089965820312,
          133.59799194335938,
          139.71339416503906,
          146.29920959472656,
          142.535888671875,
          141.59506225585938,
          149.59213256835938,
          149.59213256835938,
          148.6512908935547,
          148.6512908935547,
          145.35836791992188,
          141.1246337890625,
          141.59506225585938,
          137.361328125,
          132.65716552734375,
          137.8317413330078,
          139.24298095703125,
          134.538818359375,
          134.538818359375,
          135.4796600341797,
          146.76962280273438,
          142.535888671875,
          145.82879638671875,
          149.1217041015625,
          146.76962280273438,
          144.88796997070312,
          146.76962280273438,
          157.58917236328125,
          159.47084045410156,
          159.47084045410156,
          160.41168212890625,
          159.47084045410156,
          159.47084045410156,
          161.8229217529297,
          160.41168212890625,
          161.35250854492188,
          159.94125366210938,
          157.58917236328125,
          156.1779327392578,
          159.0004425048828,
          162.7637481689453,
          165.58624267578125,
          174.05372619628906,
          174.52413940429688,
          169.8199920654297,
          166.05667114257812,
          161.8229217529297,
          166.05667114257812,
          160.88209533691406,
          165.11582946777344,
          166.9974822998047,
          166.9974822998047,
          169.8199920654297,
          176.40579223632812,
          180.63954162597656,
          186.28453063964844,
          188.1661834716797,
          186.75494384765625,
          190.98867797851562,
          204.63072204589844,
          199.45616149902344,
          193.81117248535156,
          198.5153350830078,
          197.57449340820312,
          199.92657470703125,
          201.33782958984375,
          203.219482421875,
          197.333251953125,
          195.8858184814453,
          206.98280334472656,
          206.98280334472656,
          218.562255859375,
          217.59730529785156,
          215.66738891601562,
          217.59730529785156,
          208.43023681640625,
          208.9127197265625,
          205.53536987304688,
          204.57041931152344,
          196.8507843017578,
          196.8507843017578,
          185.75379943847656,
          194.43838500976562,
          185.2713165283203,
          186.2362823486328,
          189.13113403320312,
          191.06105041503906,
          195.40335083007812,
          179.9640655517578,
          162.11241149902344,
          161.6299285888672,
          164.52479553222656,
          157.77011108398438,
          162.59487915039062,
          169.83204650878906,
          174.6568145751953,
          178.99911499023438,
          174.6568145751953,
          177.5516815185547,
          180.44654846191406,
          179.9640655517578,
          177.06919860839844,
          173.20938110351562,
          173.69186401367188,
          175.62176513671875,
          174.17434692382812,
          178.99911499023438,
          178.03416442871094,
          178.03416442871094,
          176.58673095703125,
          178.51663208007812,
          173.20938110351562,
          168.86709594726562,
          170.31451416015625,
          165.97222900390625,
          163.07736206054688,
          163.55984497070312,
          171.27947998046875,
          169.83204650878906,
          174.6568145751953,
          167.90213012695312,
          170.31451416015625,
          170.7969970703125,
          173.69186401367188,
          176.58673095703125,
          181.89398193359375,
          182.8589324951172,
          184.30636596679688,
          180.9290313720703,
          180.44654846191406,
          187.20123291015625,
          190.5785675048828,
          187.20123291015625,
          192.0260009765625,
          192.99095153808594,
          192.0260009765625,
          199.74563598632812,
          197.81573486328125,
          201.1930694580078,
          200.22811889648438,
          202.6405029296875,
          207.94775390625,
          208.43023681640625,
          204.0879364013672,
          208.43023681640625,
          207.4652862548828,
          202.1580352783203,
          204.0879364013672,
          200.71060180664062,
          206.5003204345703,
          206.5003204345703,
          206.01785278320312,
          209.3951873779297,
          210.36013793945312,
          212.29005432128906,
          206.5003204345703,
          206.98280334472656,
          204.0879364013672,
          199.74563598632812,
          195.40335083007812,
          196.36830139160156,
          198.7806854248047,
          195.40335083007812,
          195.8858184814453,
          203.12298583984375,
          195.40335083007812,
          189.61361694335938,
          188.64866638183594,
          188.64866638183594,
          189.13113403320312,
          189.61361694335938,
          193.95591735839844,
          192.0260009765625,
          191.06105041503906,
          188.1661834716797,
          185.2713165283203,
          182.37644958496094,
          181.89398193359375,
          179.9640655517578,
          175.62176513671875,
          176.58673095703125,
          178.03416442871094,
          174.6568145751953,
          174.6568145751953,
          178.99911499023438,
          178.99911499023438,
          179.9640655517578,
          180.9290313720703,
          179.9640655517578,
          178.51663208007812,
          177.5516815185547,
          176.104248046875,
          174.6568145751953,
          178.03416442871094,
          183.34141540527344,
          181.4114990234375,
          176.58673095703125,
          175.13929748535156,
          165.48974609375,
          168.38461303710938,
          165.00726318359375,
          167.41966247558594,
          167.41966247558594,
          171.76194763183594,
          172.2444305419922,
          173.69186401367188,
          159.70001220703125,
          159.21754455566406,
          165.00726318359375,
          166.9371795654297,
          171.76194763183594,
          167.90213012695312,
          172.72691345214844,
          170.7969970703125,
          173.69186401367188,
          171.76194763183594,
          176.104248046875,
          177.06919860839844,
          176.58673095703125,
          175.62176513671875,
          176.58673095703125,
          177.5516815185547,
          171.27947998046875,
          174.17434692382812,
          167.90213012695312,
          164.0423126220703,
          164.52479553222656,
          167.41966247558594,
          167.41966247558594,
          165.97222900390625,
          165.97222900390625,
          162.59487915039062,
          164.52479553222656,
          162.11241149902344,
          164.0423126220703,
          162.11241149902344,
          161.6299285888672,
          158.25257873535156,
          160.1824951171875,
          159.21754455566406,
          157.28762817382812,
          159.21754455566406,
          160.1824951171875,
          154.875244140625,
          148.60304260253906,
          140.88339233398438,
          146.67312622070312,
          148.1205596923828,
          133.646240234375,
          120.61934661865234,
          108.55741119384766,
          119.17192077636719,
          129.7864227294922,
          133.646240234375,
          134.61119079589844,
          131.23385620117188,
          129.7864227294922,
          130.75137329101562,
          131.71632385253906,
          127.37403106689453,
          134.12872314453125,
          131.71632385253906,
          134.12872314453125,
          137.5060577392578,
          137.98854064941406,
          136.54110717773438,
          142.33082580566406,
          137.5060577392578,
          140.88339233398438,
          139.91844177246094,
          140.88339233398438,
          141.84835815429688,
          147.63807678222656,
          152.46286010742188,
          157.28762817382812,
          153.91029357910156,
          152.46286010742188,
          148.60304260253906,
          148.60304260253906,
          149.5679931640625,
          147.63807678222656,
          148.60304260253906,
          147.63807678222656,
          146.67312622070312,
          146.67312622070312,
          150.53294372558594,
          147.15560913085938,
          146.19065856933594,
          150.53294372558594,
          150.05047607421875,
          147.63807678222656,
          149.08551025390625,
          150.05047607421875,
          150.53294372558594,
          151.98037719726562,
          151.0154266357422,
          149.5679931640625,
          149.5679931640625,
          150.53294372558594,
          148.60304260253906,
          150.05047607421875,
          150.53294372558594,
          154.875244140625,
          156.3226776123047,
          157.28762817382812,
          159.21754455566406,
          155.35772705078125,
          159.70001220703125,
          162,
          164,
          161,
          161,
          159,
          161,
          161.5,
          161.5,
          160.5,
          163,
          162.5,
          164,
          165.5,
          165,
          162,
          166,
          174,
          174.5,
          176,
          171.5,
          171.5,
          178,
          180,
          184.5,
          186,
          194.5,
          194.5,
          198,
          197,
          198.5,
          199.5,
          207,
          210,
          208,
          200.5,
          206,
          202.5,
          207.5,
          209,
          208
         ],
         "yaxis": "y"
        },
        {
         "hovertemplate": "Ticker=2330.TW<br>Date=%{x}<br>$ TWN=%{y}<extra></extra>",
         "legendgroup": "2330.TW",
         "line": {
          "color": "#EF553B",
          "dash": "solid"
         },
         "marker": {
          "symbol": "circle"
         },
         "mode": "lines",
         "name": "2330.TW",
         "showlegend": true,
         "type": "scattergl",
         "x": [
          "2024-01-02T00:00:00",
          "2024-01-03T00:00:00",
          "2024-01-04T00:00:00",
          "2024-01-05T00:00:00",
          "2024-01-08T00:00:00",
          "2024-01-09T00:00:00",
          "2024-01-10T00:00:00",
          "2024-01-11T00:00:00",
          "2024-01-12T00:00:00",
          "2024-01-15T00:00:00",
          "2024-01-16T00:00:00",
          "2024-01-17T00:00:00",
          "2024-01-18T00:00:00",
          "2024-01-19T00:00:00",
          "2024-01-22T00:00:00",
          "2024-01-23T00:00:00",
          "2024-01-24T00:00:00",
          "2024-01-25T00:00:00",
          "2024-01-26T00:00:00",
          "2024-01-29T00:00:00",
          "2024-01-30T00:00:00",
          "2024-01-31T00:00:00",
          "2024-02-01T00:00:00",
          "2024-02-02T00:00:00",
          "2024-02-05T00:00:00",
          "2024-02-15T00:00:00",
          "2024-02-16T00:00:00",
          "2024-02-19T00:00:00",
          "2024-02-20T00:00:00",
          "2024-02-21T00:00:00",
          "2024-02-22T00:00:00",
          "2024-02-23T00:00:00",
          "2024-02-26T00:00:00",
          "2024-02-27T00:00:00",
          "2024-02-29T00:00:00",
          "2024-03-01T00:00:00",
          "2024-03-04T00:00:00",
          "2024-03-05T00:00:00",
          "2024-03-06T00:00:00",
          "2024-03-07T00:00:00",
          "2024-03-08T00:00:00",
          "2024-03-11T00:00:00",
          "2024-03-12T00:00:00",
          "2024-03-13T00:00:00",
          "2024-03-14T00:00:00",
          "2024-03-15T00:00:00",
          "2024-03-18T00:00:00",
          "2024-03-19T00:00:00",
          "2024-03-20T00:00:00",
          "2024-03-21T00:00:00",
          "2024-03-22T00:00:00",
          "2024-03-25T00:00:00",
          "2024-03-26T00:00:00",
          "2024-03-27T00:00:00",
          "2024-03-28T00:00:00",
          "2024-03-29T00:00:00",
          "2024-04-01T00:00:00",
          "2024-04-02T00:00:00",
          "2024-04-03T00:00:00",
          "2024-04-08T00:00:00",
          "2024-04-09T00:00:00",
          "2024-04-10T00:00:00",
          "2024-04-11T00:00:00",
          "2024-04-12T00:00:00",
          "2024-04-15T00:00:00",
          "2024-04-16T00:00:00",
          "2024-04-17T00:00:00",
          "2024-04-18T00:00:00",
          "2024-04-19T00:00:00",
          "2024-04-22T00:00:00",
          "2024-04-23T00:00:00",
          "2024-04-24T00:00:00",
          "2024-04-25T00:00:00",
          "2024-04-26T00:00:00",
          "2024-04-29T00:00:00",
          "2024-04-30T00:00:00",
          "2024-05-02T00:00:00",
          "2024-05-03T00:00:00",
          "2024-05-06T00:00:00",
          "2024-05-07T00:00:00",
          "2024-05-08T00:00:00",
          "2024-05-09T00:00:00",
          "2024-05-10T00:00:00",
          "2024-05-13T00:00:00",
          "2024-05-14T00:00:00",
          "2024-05-15T00:00:00",
          "2024-05-16T00:00:00",
          "2024-05-17T00:00:00",
          "2024-05-20T00:00:00",
          "2024-05-21T00:00:00",
          "2024-05-22T00:00:00",
          "2024-05-23T00:00:00",
          "2024-05-24T00:00:00",
          "2024-05-27T00:00:00",
          "2024-05-28T00:00:00",
          "2024-05-29T00:00:00",
          "2024-05-30T00:00:00",
          "2024-05-31T00:00:00",
          "2024-06-03T00:00:00",
          "2024-06-04T00:00:00",
          "2024-06-05T00:00:00",
          "2024-06-06T00:00:00",
          "2024-06-07T00:00:00",
          "2024-06-11T00:00:00",
          "2024-06-12T00:00:00",
          "2024-06-13T00:00:00",
          "2024-06-14T00:00:00",
          "2024-06-17T00:00:00",
          "2024-06-18T00:00:00",
          "2024-06-19T00:00:00",
          "2024-06-20T00:00:00",
          "2024-06-21T00:00:00",
          "2024-06-24T00:00:00",
          "2024-06-25T00:00:00",
          "2024-06-26T00:00:00",
          "2024-06-27T00:00:00",
          "2024-06-28T00:00:00",
          "2024-07-01T00:00:00",
          "2024-07-02T00:00:00",
          "2024-07-03T00:00:00",
          "2024-07-04T00:00:00",
          "2024-07-05T00:00:00",
          "2024-07-08T00:00:00",
          "2024-07-09T00:00:00",
          "2024-07-10T00:00:00",
          "2024-07-11T00:00:00",
          "2024-07-12T00:00:00",
          "2024-07-15T00:00:00",
          "2024-07-16T00:00:00",
          "2024-07-17T00:00:00",
          "2024-07-18T00:00:00",
          "2024-07-19T00:00:00",
          "2024-07-22T00:00:00",
          "2024-07-23T00:00:00",
          "2024-07-26T00:00:00",
          "2024-07-29T00:00:00",
          "2024-07-30T00:00:00",
          "2024-07-31T00:00:00",
          "2024-08-01T00:00:00",
          "2024-08-02T00:00:00",
          "2024-08-05T00:00:00",
          "2024-08-06T00:00:00",
          "2024-08-07T00:00:00",
          "2024-08-08T00:00:00",
          "2024-08-09T00:00:00",
          "2024-08-12T00:00:00",
          "2024-08-13T00:00:00",
          "2024-08-14T00:00:00",
          "2024-08-15T00:00:00",
          "2024-08-16T00:00:00",
          "2024-08-19T00:00:00",
          "2024-08-20T00:00:00",
          "2024-08-21T00:00:00",
          "2024-08-22T00:00:00",
          "2024-08-23T00:00:00",
          "2024-08-26T00:00:00",
          "2024-08-27T00:00:00",
          "2024-08-28T00:00:00",
          "2024-08-29T00:00:00",
          "2024-08-30T00:00:00",
          "2024-09-02T00:00:00",
          "2024-09-03T00:00:00",
          "2024-09-04T00:00:00",
          "2024-09-05T00:00:00",
          "2024-09-06T00:00:00",
          "2024-09-09T00:00:00",
          "2024-09-10T00:00:00",
          "2024-09-11T00:00:00",
          "2024-09-12T00:00:00",
          "2024-09-13T00:00:00",
          "2024-09-16T00:00:00",
          "2024-09-18T00:00:00",
          "2024-09-19T00:00:00",
          "2024-09-20T00:00:00",
          "2024-09-23T00:00:00",
          "2024-09-24T00:00:00",
          "2024-09-25T00:00:00",
          "2024-09-26T00:00:00",
          "2024-09-27T00:00:00",
          "2024-09-30T00:00:00",
          "2024-10-01T00:00:00",
          "2024-10-04T00:00:00",
          "2024-10-07T00:00:00",
          "2024-10-08T00:00:00",
          "2024-10-09T00:00:00",
          "2024-10-11T00:00:00",
          "2024-10-14T00:00:00",
          "2024-10-15T00:00:00",
          "2024-10-16T00:00:00",
          "2024-10-17T00:00:00",
          "2024-10-18T00:00:00",
          "2024-10-21T00:00:00",
          "2024-10-22T00:00:00",
          "2024-10-23T00:00:00",
          "2024-10-24T00:00:00",
          "2024-10-25T00:00:00",
          "2024-10-28T00:00:00",
          "2024-10-29T00:00:00",
          "2024-10-30T00:00:00",
          "2024-11-01T00:00:00",
          "2024-11-04T00:00:00",
          "2024-11-05T00:00:00",
          "2024-11-06T00:00:00",
          "2024-11-07T00:00:00",
          "2024-11-08T00:00:00",
          "2024-11-11T00:00:00",
          "2024-11-12T00:00:00",
          "2024-11-13T00:00:00",
          "2024-11-14T00:00:00",
          "2024-11-15T00:00:00",
          "2024-11-18T00:00:00",
          "2024-11-19T00:00:00",
          "2024-11-20T00:00:00",
          "2024-11-21T00:00:00",
          "2024-11-22T00:00:00",
          "2024-11-25T00:00:00",
          "2024-11-26T00:00:00",
          "2024-11-27T00:00:00",
          "2024-11-28T00:00:00",
          "2024-11-29T00:00:00",
          "2024-12-02T00:00:00",
          "2024-12-03T00:00:00",
          "2024-12-04T00:00:00",
          "2024-12-05T00:00:00",
          "2024-12-06T00:00:00",
          "2024-12-09T00:00:00",
          "2024-12-10T00:00:00",
          "2024-12-11T00:00:00",
          "2024-12-12T00:00:00",
          "2024-12-13T00:00:00",
          "2024-12-16T00:00:00",
          "2024-12-17T00:00:00",
          "2024-12-18T00:00:00",
          "2024-12-19T00:00:00",
          "2024-12-20T00:00:00",
          "2024-12-23T00:00:00",
          "2024-12-24T00:00:00",
          "2024-12-25T00:00:00",
          "2024-12-26T00:00:00",
          "2024-12-27T00:00:00",
          "2024-12-30T00:00:00",
          "2024-12-31T00:00:00",
          "2025-01-02T00:00:00",
          "2025-01-03T00:00:00",
          "2025-01-06T00:00:00",
          "2025-01-07T00:00:00",
          "2025-01-08T00:00:00",
          "2025-01-09T00:00:00",
          "2025-01-10T00:00:00",
          "2025-01-13T00:00:00",
          "2025-01-14T00:00:00",
          "2025-01-15T00:00:00",
          "2025-01-16T00:00:00",
          "2025-01-17T00:00:00",
          "2025-01-20T00:00:00",
          "2025-01-21T00:00:00",
          "2025-01-22T00:00:00",
          "2025-02-03T00:00:00",
          "2025-02-04T00:00:00",
          "2025-02-05T00:00:00",
          "2025-02-06T00:00:00",
          "2025-02-07T00:00:00",
          "2025-02-10T00:00:00",
          "2025-02-11T00:00:00",
          "2025-02-12T00:00:00",
          "2025-02-13T00:00:00",
          "2025-02-14T00:00:00",
          "2025-02-17T00:00:00",
          "2025-02-18T00:00:00",
          "2025-02-19T00:00:00",
          "2025-02-20T00:00:00",
          "2025-02-21T00:00:00",
          "2025-02-24T00:00:00",
          "2025-02-25T00:00:00",
          "2025-02-26T00:00:00",
          "2025-02-27T00:00:00",
          "2025-03-03T00:00:00",
          "2025-03-04T00:00:00",
          "2025-03-05T00:00:00",
          "2025-03-06T00:00:00",
          "2025-03-07T00:00:00",
          "2025-03-10T00:00:00",
          "2025-03-11T00:00:00",
          "2025-03-12T00:00:00",
          "2025-03-13T00:00:00",
          "2025-03-14T00:00:00",
          "2025-03-17T00:00:00",
          "2025-03-18T00:00:00",
          "2025-03-19T00:00:00",
          "2025-03-20T00:00:00",
          "2025-03-21T00:00:00",
          "2025-03-24T00:00:00",
          "2025-03-25T00:00:00",
          "2025-03-26T00:00:00",
          "2025-03-27T00:00:00",
          "2025-03-28T00:00:00",
          "2025-03-31T00:00:00",
          "2025-04-01T00:00:00",
          "2025-04-02T00:00:00",
          "2025-04-07T00:00:00",
          "2025-04-08T00:00:00",
          "2025-04-09T00:00:00",
          "2025-04-10T00:00:00",
          "2025-04-11T00:00:00",
          "2025-04-14T00:00:00",
          "2025-04-15T00:00:00",
          "2025-04-16T00:00:00",
          "2025-04-17T00:00:00",
          "2025-04-18T00:00:00",
          "2025-04-21T00:00:00",
          "2025-04-22T00:00:00",
          "2025-04-23T00:00:00",
          "2025-04-24T00:00:00",
          "2025-04-25T00:00:00",
          "2025-04-28T00:00:00",
          "2025-04-29T00:00:00",
          "2025-04-30T00:00:00",
          "2025-05-02T00:00:00",
          "2025-05-05T00:00:00",
          "2025-05-06T00:00:00",
          "2025-05-07T00:00:00",
          "2025-05-08T00:00:00",
          "2025-05-09T00:00:00",
          "2025-05-12T00:00:00",
          "2025-05-13T00:00:00",
          "2025-05-14T00:00:00",
          "2025-05-15T00:00:00",
          "2025-05-16T00:00:00",
          "2025-05-19T00:00:00",
          "2025-05-20T00:00:00",
          "2025-05-21T00:00:00",
          "2025-05-22T00:00:00",
          "2025-05-23T00:00:00",
          "2025-05-26T00:00:00",
          "2025-05-27T00:00:00",
          "2025-05-28T00:00:00",
          "2025-05-29T00:00:00",
          "2025-06-02T00:00:00",
          "2025-06-03T00:00:00",
          "2025-06-04T00:00:00",
          "2025-06-05T00:00:00",
          "2025-06-06T00:00:00",
          "2025-06-09T00:00:00",
          "2025-06-10T00:00:00",
          "2025-06-11T00:00:00",
          "2025-06-12T00:00:00",
          "2025-06-13T00:00:00",
          "2025-06-16T00:00:00",
          "2025-06-17T00:00:00",
          "2025-06-18T00:00:00",
          "2025-06-19T00:00:00",
          "2025-06-20T00:00:00",
          "2025-06-23T00:00:00",
          "2025-06-24T00:00:00",
          "2025-06-25T00:00:00",
          "2025-06-26T00:00:00",
          "2025-06-27T00:00:00",
          "2025-06-30T00:00:00",
          "2025-07-01T00:00:00",
          "2025-07-02T00:00:00",
          "2025-07-03T00:00:00",
          "2025-07-04T00:00:00",
          "2025-07-07T00:00:00",
          "2025-07-08T00:00:00",
          "2025-07-09T00:00:00",
          "2025-07-10T00:00:00",
          "2025-07-11T00:00:00",
          "2025-07-14T00:00:00",
          "2025-07-15T00:00:00",
          "2025-07-16T00:00:00",
          "2025-07-17T00:00:00",
          "2025-07-18T00:00:00",
          "2025-07-21T00:00:00",
          "2025-07-22T00:00:00",
          "2025-07-23T00:00:00",
          "2025-07-24T00:00:00",
          "2025-07-25T00:00:00",
          "2025-07-28T00:00:00",
          "2025-07-29T00:00:00",
          "2025-07-30T00:00:00",
          "2025-07-31T00:00:00",
          "2025-08-04T00:00:00",
          "2025-08-05T00:00:00",
          "2025-08-06T00:00:00",
          "2025-08-07T00:00:00",
          "2025-08-08T00:00:00",
          "2025-08-11T00:00:00",
          "2025-08-12T00:00:00",
          "2025-08-13T00:00:00",
          "2025-08-14T00:00:00",
          "2025-08-15T00:00:00",
          "2025-08-18T00:00:00",
          "2025-08-19T00:00:00",
          "2025-08-20T00:00:00",
          "2025-08-21T00:00:00",
          "2025-08-22T00:00:00",
          "2025-08-25T00:00:00",
          "2025-08-26T00:00:00",
          "2025-08-27T00:00:00"
         ],
         "xaxis": "x",
         "y": [
          577.9628295898438,
          563.34326171875,
          565.2923583984375,
          561.3939208984375,
          568.2164306640625,
          571.1403198242188,
          569.1911010742188,
          571.1403198242188,
          569.1911010742188,
          571.1403198242188,
          565.2923583984375,
          566.2670288085938,
          573.0897216796875,
          610.1260375976562,
          610.1260375976562,
          612.0753173828125,
          611.1007080078125,
          625.7203369140625,
          627.6695556640625,
          631.568115234375,
          625.7203369140625,
          612.0753173828125,
          612.0753173828125,
          618.8978271484375,
          629.6188354492188,
          679.32568359375,
          665.6806640625,
          660.8074951171875,
          669.5792236328125,
          663.7313842773438,
          674.4524536132812,
          679.32568359375,
          680.30029296875,
          680.30029296875,
          672.503173828125,
          671.5285034179688,
          706.6155395507812,
          711.4888305664062,
          716.3621215820312,
          740.72802734375,
          764.1195068359375,
          746.5759887695312,
          750.4745483398438,
          759.2462158203125,
          764.1195068359375,
          733.9055786132812,
          748.1036987304688,
          746.1453247070312,
          742.2285766601562,
          767.6876220703125,
          768.666748046875,
          763.770751953125,
          765.7291259765625,
          762.7915649414062,
          752.9995727539062,
          759.85400390625,
          753.9788818359375,
          773.5626831054688,
          763.770751953125,
          766.7084350585938,
          801.9593505859375,
          798.0426025390625,
          802.9385375976562,
          800.9801635742188,
          789.2298583984375,
          771.6043090820312,
          787.2714233398438,
          787.2714233398438,
          734.39501953125,
          726.5614624023438,
          738.3118286132812,
          766.7084350585938,
          750.0620727539062,
          765.7291259765625,
          778.4586791992188,
          773.5626831054688,
          755.937255859375,
          763.770751953125,
          769.64599609375,
          783.3546752929688,
          785.3130493164062,
          779.4379272460938,
          785.3130493164062,
          801.9593505859375,
          807.83447265625,
          821.543212890625,
          823.5015869140625,
          817.6264038085938,
          817.6264038085938,
          823.5015869140625,
          846.0230712890625,
          856.7941284179688,
          848.9606323242188,
          850.9190063476562,
          847.002197265625,
          839.168701171875,
          820.5640258789062,
          803.9176025390625,
          828.3975219726562,
          821.543212890625,
          836.2310791015625,
          875.3988647460938,
          860.7109375,
          864.627685546875,
          890.0867309570312,
          903.3567504882812,
          906.3056640625,
          905.32275390625,
          926.9483032226562,
          964.3013305664062,
          964.3013305664062,
          953.4885864257812,
          923.999267578125,
          928.9141235351562,
          943.6588745117188,
          943.6588745117188,
          949.556640625,
          951.5226440429688,
          943.6588745117188,
          962.3353881835938,
          987.892822265625,
          987.892822265625,
          1017.3822021484375,
          1022.2969360351562,
          1027.2119140625,
          1061.6162109375,
          1022.2969360351562,
          1022.2969360351562,
          1037.041748046875,
          1012.4672241210938,
          987.892822265625,
          953.4885864257812,
          923.0162353515625,
          962.3353881835938,
          908.2716064453125,
          927.93115234375,
          923.999267578125,
          918.1013793945312,
          943.6588745117188,
          887.6290893554688,
          801.1270751953125,
          865.0206298828125,
          904.3397216796875,
          880.7482299804688,
          918.1013793945312,
          923.999267578125,
          924.9822387695312,
          931.863037109375,
          926.9483032226562,
          952.5056762695312,
          956.4375610351562,
          956.4375610351562,
          941.6928100585938,
          934.8120727539062,
          932.8460083007812,
          933.8290405273438,
          925.9652099609375,
          947.5907592773438,
          926.9483032226562,
          927.93115234375,
          931.863037109375,
          923.999267578125,
          873.867431640625,
          886.6461791992188,
          902.373779296875,
          883.6972045898438,
          888.6119995117188,
          885.6630859375,
          928.1198120117188,
          935.0313720703125,
          935.0313720703125,
          929.107177734375,
          947.8670654296875,
          960.7027587890625,
          964.6521606445312,
          974.5257568359375,
          992.2982788085938,
          1002.171875,
          987.3614501953125,
          944.9049072265625,
          959.7153930664062,
          964.6521606445312,
          992.2982788085938,
          997.235107421875,
          1007.1087646484375,
          1031.792724609375,
          1031.792724609375,
          1056.476806640625,
          1031.792724609375,
          1021.9191284179688,
          1071.2872314453125,
          1071.2872314453125,
          1061.4136962890625,
          1046.603271484375,
          1046.603271484375,
          1051.5399169921875,
          1036.7294921875,
          1026.8558349609375,
          1016.9822998046875,
          1012.0455322265625,
          1026.8558349609375,
          1036.7294921875,
          1046.603271484375,
          1051.5399169921875,
          1076.223876953125,
          1071.2872314453125,
          1036.7294921875,
          1021.9191284179688,
          1021.9191284179688,
          1021.9191284179688,
          1012.0455322265625,
          1026.8558349609375,
          1012.0455322265625,
          997.235107421875,
          1026.8558349609375,
          1016.9822998046875,
          997.235107421875,
          987.3614501953125,
          992.2982788085938,
          983.4119873046875,
          1021.9191284179688,
          1041.6663818359375,
          1056.476806640625,
          1061.4136962890625,
          1051.5399169921875,
          1061.4136962890625,
          1051.5399169921875,
          1031.792724609375,
          1050.6243896484375,
          1055.580078125,
          1075.4031982421875,
          1065.49169921875,
          1075.4031982421875,
          1060.535888671875,
          1025.845458984375,
          1070.447509765625,
          1070.447509765625,
          1075.4031982421875,
          1075.4031982421875,
          1080.35888671875,
          1080.35888671875,
          1065.49169921875,
          1055.580078125,
          1065.49169921875,
          1115.0494384765625,
          1120.005126953125,
          1095.226318359375,
          1090.2705078125,
          1090.2705078125,
          1065.49169921875,
          1080.35888671875,
          1055.580078125,
          1095.226318359375,
          1110.0936279296875,
          1110.0936279296875,
          1110.0936279296875,
          1124.9609375,
          1060.535888671875,
          1085.314697265625,
          1100.1820068359375,
          1105.1378173828125,
          1115.0494384765625,
          1095.226318359375,
          1100.1820068359375,
          1090.2705078125,
          1080.35888671875,
          1050.6243896484375,
          1075.4031982421875,
          1090.2705078125,
          1080.35888671875,
          1070.447509765625,
          1085.314697265625,
          1065.49169921875,
          1045.6685791015625,
          1050.6243896484375,
          1030.8011474609375,
          1010.9781494140625,
          991.1549682617188,
          1010.9781494140625,
          996.1107788085938,
          996.1107788085938,
          989.1727294921875,
          962.4114990234375,
          979.2611694335938,
          956.4645385742188,
          950.5177001953125,
          961.4203491210938,
          966.8971557617188,
          947.9774169921875,
          980.8380126953125,
          967.8929443359375,
          967.8929443359375,
          985.81689453125,
          975.859130859375,
          953.9520874023438,
          947.9774169921875,
          906.1549072265625,
          940.01123046875,
          938.0197143554688,
          844.4168701171875,
          812.5521240234375,
          781.68310546875,
          859.353515625,
          885.24365234375,
          861.3450317382812,
          873.2943725585938,
          851.3873291015625,
          843.4210815429688,
          846.408447265625,
          831.4718017578125,
          812.5521240234375,
          869.311279296875,
          860.3493041992188,
          884.2478637695312,
          893.2098388671875,
          898.188720703125,
          904.1633911132812,
          945.9859008789062,
          934.03662109375,
          916.1126708984375,
          924.078857421875,
          914.12109375,
          944.9901123046875,
          952.956298828125,
          964.9056396484375,
          994.7788696289062,
          988.80419921875,
          993.7830810546875,
          979.8422241210938,
          973.8676147460938,
          985.81689453125,
          977.8507080078125,
          979.8422241210938,
          971.8760375976562,
          960.9224853515625,
          962.9140625,
          962.9140625,
          942.0028076171875,
          945.9859008789062,
          985.81689453125,
          993.7830810546875,
          990.7957763671875,
          1000.7534790039062,
          1040.58447265625,
          1060.5,
          1045,
          1030,
          1025,
          1045,
          1055,
          1035,
          1055,
          1020,
          1050,
          1070,
          1075,
          1080,
          1060,
          1085,
          1085,
          1090,
          1085,
          1080,
          1080,
          1090,
          1100,
          1100,
          1095,
          1110,
          1130,
          1130,
          1155,
          1150,
          1130,
          1145,
          1145,
          1145,
          1145,
          1135,
          1155,
          1160,
          1135,
          1150,
          1125,
          1180,
          1175,
          1180,
          1180,
          1200,
          1175,
          1180,
          1180,
          1185,
          1135,
          1150,
          1135,
          1170,
          1175,
          1190
         ],
         "yaxis": "y"
        },
        {
         "hovertemplate": "Ticker=2353.TW<br>Date=%{x}<br>$ TWN=%{y}<extra></extra>",
         "legendgroup": "2353.TW",
         "line": {
          "color": "#00cc96",
          "dash": "solid"
         },
         "marker": {
          "symbol": "circle"
         },
         "mode": "lines",
         "name": "2353.TW",
         "showlegend": true,
         "type": "scattergl",
         "x": [
          "2024-01-02T00:00:00",
          "2024-01-03T00:00:00",
          "2024-01-04T00:00:00",
          "2024-01-05T00:00:00",
          "2024-01-08T00:00:00",
          "2024-01-09T00:00:00",
          "2024-01-10T00:00:00",
          "2024-01-11T00:00:00",
          "2024-01-12T00:00:00",
          "2024-01-15T00:00:00",
          "2024-01-16T00:00:00",
          "2024-01-17T00:00:00",
          "2024-01-18T00:00:00",
          "2024-01-19T00:00:00",
          "2024-01-22T00:00:00",
          "2024-01-23T00:00:00",
          "2024-01-24T00:00:00",
          "2024-01-25T00:00:00",
          "2024-01-26T00:00:00",
          "2024-01-29T00:00:00",
          "2024-01-30T00:00:00",
          "2024-01-31T00:00:00",
          "2024-02-01T00:00:00",
          "2024-02-02T00:00:00",
          "2024-02-05T00:00:00",
          "2024-02-15T00:00:00",
          "2024-02-16T00:00:00",
          "2024-02-19T00:00:00",
          "2024-02-20T00:00:00",
          "2024-02-21T00:00:00",
          "2024-02-22T00:00:00",
          "2024-02-23T00:00:00",
          "2024-02-26T00:00:00",
          "2024-02-27T00:00:00",
          "2024-02-29T00:00:00",
          "2024-03-01T00:00:00",
          "2024-03-04T00:00:00",
          "2024-03-05T00:00:00",
          "2024-03-06T00:00:00",
          "2024-03-07T00:00:00",
          "2024-03-08T00:00:00",
          "2024-03-11T00:00:00",
          "2024-03-12T00:00:00",
          "2024-03-13T00:00:00",
          "2024-03-14T00:00:00",
          "2024-03-15T00:00:00",
          "2024-03-18T00:00:00",
          "2024-03-19T00:00:00",
          "2024-03-20T00:00:00",
          "2024-03-21T00:00:00",
          "2024-03-22T00:00:00",
          "2024-03-25T00:00:00",
          "2024-03-26T00:00:00",
          "2024-03-27T00:00:00",
          "2024-03-28T00:00:00",
          "2024-03-29T00:00:00",
          "2024-04-01T00:00:00",
          "2024-04-02T00:00:00",
          "2024-04-03T00:00:00",
          "2024-04-08T00:00:00",
          "2024-04-09T00:00:00",
          "2024-04-10T00:00:00",
          "2024-04-11T00:00:00",
          "2024-04-12T00:00:00",
          "2024-04-15T00:00:00",
          "2024-04-16T00:00:00",
          "2024-04-17T00:00:00",
          "2024-04-18T00:00:00",
          "2024-04-19T00:00:00",
          "2024-04-22T00:00:00",
          "2024-04-23T00:00:00",
          "2024-04-24T00:00:00",
          "2024-04-25T00:00:00",
          "2024-04-26T00:00:00",
          "2024-04-29T00:00:00",
          "2024-04-30T00:00:00",
          "2024-05-02T00:00:00",
          "2024-05-03T00:00:00",
          "2024-05-06T00:00:00",
          "2024-05-07T00:00:00",
          "2024-05-08T00:00:00",
          "2024-05-09T00:00:00",
          "2024-05-10T00:00:00",
          "2024-05-13T00:00:00",
          "2024-05-14T00:00:00",
          "2024-05-15T00:00:00",
          "2024-05-16T00:00:00",
          "2024-05-17T00:00:00",
          "2024-05-20T00:00:00",
          "2024-05-21T00:00:00",
          "2024-05-22T00:00:00",
          "2024-05-23T00:00:00",
          "2024-05-24T00:00:00",
          "2024-05-27T00:00:00",
          "2024-05-28T00:00:00",
          "2024-05-29T00:00:00",
          "2024-05-30T00:00:00",
          "2024-05-31T00:00:00",
          "2024-06-03T00:00:00",
          "2024-06-04T00:00:00",
          "2024-06-05T00:00:00",
          "2024-06-06T00:00:00",
          "2024-06-07T00:00:00",
          "2024-06-11T00:00:00",
          "2024-06-12T00:00:00",
          "2024-06-13T00:00:00",
          "2024-06-14T00:00:00",
          "2024-06-17T00:00:00",
          "2024-06-18T00:00:00",
          "2024-06-19T00:00:00",
          "2024-06-20T00:00:00",
          "2024-06-21T00:00:00",
          "2024-06-24T00:00:00",
          "2024-06-25T00:00:00",
          "2024-06-26T00:00:00",
          "2024-06-27T00:00:00",
          "2024-06-28T00:00:00",
          "2024-07-01T00:00:00",
          "2024-07-02T00:00:00",
          "2024-07-03T00:00:00",
          "2024-07-04T00:00:00",
          "2024-07-05T00:00:00",
          "2024-07-08T00:00:00",
          "2024-07-09T00:00:00",
          "2024-07-10T00:00:00",
          "2024-07-11T00:00:00",
          "2024-07-12T00:00:00",
          "2024-07-15T00:00:00",
          "2024-07-16T00:00:00",
          "2024-07-17T00:00:00",
          "2024-07-18T00:00:00",
          "2024-07-19T00:00:00",
          "2024-07-22T00:00:00",
          "2024-07-23T00:00:00",
          "2024-07-26T00:00:00",
          "2024-07-29T00:00:00",
          "2024-07-30T00:00:00",
          "2024-07-31T00:00:00",
          "2024-08-01T00:00:00",
          "2024-08-02T00:00:00",
          "2024-08-05T00:00:00",
          "2024-08-06T00:00:00",
          "2024-08-07T00:00:00",
          "2024-08-08T00:00:00",
          "2024-08-09T00:00:00",
          "2024-08-12T00:00:00",
          "2024-08-13T00:00:00",
          "2024-08-14T00:00:00",
          "2024-08-15T00:00:00",
          "2024-08-16T00:00:00",
          "2024-08-19T00:00:00",
          "2024-08-20T00:00:00",
          "2024-08-21T00:00:00",
          "2024-08-22T00:00:00",
          "2024-08-23T00:00:00",
          "2024-08-26T00:00:00",
          "2024-08-27T00:00:00",
          "2024-08-28T00:00:00",
          "2024-08-29T00:00:00",
          "2024-08-30T00:00:00",
          "2024-09-02T00:00:00",
          "2024-09-03T00:00:00",
          "2024-09-04T00:00:00",
          "2024-09-05T00:00:00",
          "2024-09-06T00:00:00",
          "2024-09-09T00:00:00",
          "2024-09-10T00:00:00",
          "2024-09-11T00:00:00",
          "2024-09-12T00:00:00",
          "2024-09-13T00:00:00",
          "2024-09-16T00:00:00",
          "2024-09-18T00:00:00",
          "2024-09-19T00:00:00",
          "2024-09-20T00:00:00",
          "2024-09-23T00:00:00",
          "2024-09-24T00:00:00",
          "2024-09-25T00:00:00",
          "2024-09-26T00:00:00",
          "2024-09-27T00:00:00",
          "2024-09-30T00:00:00",
          "2024-10-01T00:00:00",
          "2024-10-04T00:00:00",
          "2024-10-07T00:00:00",
          "2024-10-08T00:00:00",
          "2024-10-09T00:00:00",
          "2024-10-11T00:00:00",
          "2024-10-14T00:00:00",
          "2024-10-15T00:00:00",
          "2024-10-16T00:00:00",
          "2024-10-17T00:00:00",
          "2024-10-18T00:00:00",
          "2024-10-21T00:00:00",
          "2024-10-22T00:00:00",
          "2024-10-23T00:00:00",
          "2024-10-24T00:00:00",
          "2024-10-25T00:00:00",
          "2024-10-28T00:00:00",
          "2024-10-29T00:00:00",
          "2024-10-30T00:00:00",
          "2024-11-01T00:00:00",
          "2024-11-04T00:00:00",
          "2024-11-05T00:00:00",
          "2024-11-06T00:00:00",
          "2024-11-07T00:00:00",
          "2024-11-08T00:00:00",
          "2024-11-11T00:00:00",
          "2024-11-12T00:00:00",
          "2024-11-13T00:00:00",
          "2024-11-14T00:00:00",
          "2024-11-15T00:00:00",
          "2024-11-18T00:00:00",
          "2024-11-19T00:00:00",
          "2024-11-20T00:00:00",
          "2024-11-21T00:00:00",
          "2024-11-22T00:00:00",
          "2024-11-25T00:00:00",
          "2024-11-26T00:00:00",
          "2024-11-27T00:00:00",
          "2024-11-28T00:00:00",
          "2024-11-29T00:00:00",
          "2024-12-02T00:00:00",
          "2024-12-03T00:00:00",
          "2024-12-04T00:00:00",
          "2024-12-05T00:00:00",
          "2024-12-06T00:00:00",
          "2024-12-09T00:00:00",
          "2024-12-10T00:00:00",
          "2024-12-11T00:00:00",
          "2024-12-12T00:00:00",
          "2024-12-13T00:00:00",
          "2024-12-16T00:00:00",
          "2024-12-17T00:00:00",
          "2024-12-18T00:00:00",
          "2024-12-19T00:00:00",
          "2024-12-20T00:00:00",
          "2024-12-23T00:00:00",
          "2024-12-24T00:00:00",
          "2024-12-25T00:00:00",
          "2024-12-26T00:00:00",
          "2024-12-27T00:00:00",
          "2024-12-30T00:00:00",
          "2024-12-31T00:00:00",
          "2025-01-02T00:00:00",
          "2025-01-03T00:00:00",
          "2025-01-06T00:00:00",
          "2025-01-07T00:00:00",
          "2025-01-08T00:00:00",
          "2025-01-09T00:00:00",
          "2025-01-10T00:00:00",
          "2025-01-13T00:00:00",
          "2025-01-14T00:00:00",
          "2025-01-15T00:00:00",
          "2025-01-16T00:00:00",
          "2025-01-17T00:00:00",
          "2025-01-20T00:00:00",
          "2025-01-21T00:00:00",
          "2025-01-22T00:00:00",
          "2025-02-03T00:00:00",
          "2025-02-04T00:00:00",
          "2025-02-05T00:00:00",
          "2025-02-06T00:00:00",
          "2025-02-07T00:00:00",
          "2025-02-10T00:00:00",
          "2025-02-11T00:00:00",
          "2025-02-12T00:00:00",
          "2025-02-13T00:00:00",
          "2025-02-14T00:00:00",
          "2025-02-17T00:00:00",
          "2025-02-18T00:00:00",
          "2025-02-19T00:00:00",
          "2025-02-20T00:00:00",
          "2025-02-21T00:00:00",
          "2025-02-24T00:00:00",
          "2025-02-25T00:00:00",
          "2025-02-26T00:00:00",
          "2025-02-27T00:00:00",
          "2025-03-03T00:00:00",
          "2025-03-04T00:00:00",
          "2025-03-05T00:00:00",
          "2025-03-06T00:00:00",
          "2025-03-07T00:00:00",
          "2025-03-10T00:00:00",
          "2025-03-11T00:00:00",
          "2025-03-12T00:00:00",
          "2025-03-13T00:00:00",
          "2025-03-14T00:00:00",
          "2025-03-17T00:00:00",
          "2025-03-18T00:00:00",
          "2025-03-19T00:00:00",
          "2025-03-20T00:00:00",
          "2025-03-21T00:00:00",
          "2025-03-24T00:00:00",
          "2025-03-25T00:00:00",
          "2025-03-26T00:00:00",
          "2025-03-27T00:00:00",
          "2025-03-28T00:00:00",
          "2025-03-31T00:00:00",
          "2025-04-01T00:00:00",
          "2025-04-02T00:00:00",
          "2025-04-07T00:00:00",
          "2025-04-08T00:00:00",
          "2025-04-09T00:00:00",
          "2025-04-10T00:00:00",
          "2025-04-11T00:00:00",
          "2025-04-14T00:00:00",
          "2025-04-15T00:00:00",
          "2025-04-16T00:00:00",
          "2025-04-17T00:00:00",
          "2025-04-18T00:00:00",
          "2025-04-21T00:00:00",
          "2025-04-22T00:00:00",
          "2025-04-23T00:00:00",
          "2025-04-24T00:00:00",
          "2025-04-25T00:00:00",
          "2025-04-28T00:00:00",
          "2025-04-29T00:00:00",
          "2025-04-30T00:00:00",
          "2025-05-02T00:00:00",
          "2025-05-05T00:00:00",
          "2025-05-06T00:00:00",
          "2025-05-07T00:00:00",
          "2025-05-08T00:00:00",
          "2025-05-09T00:00:00",
          "2025-05-12T00:00:00",
          "2025-05-13T00:00:00",
          "2025-05-14T00:00:00",
          "2025-05-15T00:00:00",
          "2025-05-16T00:00:00",
          "2025-05-19T00:00:00",
          "2025-05-20T00:00:00",
          "2025-05-21T00:00:00",
          "2025-05-22T00:00:00",
          "2025-05-23T00:00:00",
          "2025-05-26T00:00:00",
          "2025-05-27T00:00:00",
          "2025-05-28T00:00:00",
          "2025-05-29T00:00:00",
          "2025-06-02T00:00:00",
          "2025-06-03T00:00:00",
          "2025-06-04T00:00:00",
          "2025-06-05T00:00:00",
          "2025-06-06T00:00:00",
          "2025-06-09T00:00:00",
          "2025-06-10T00:00:00",
          "2025-06-11T00:00:00",
          "2025-06-12T00:00:00",
          "2025-06-13T00:00:00",
          "2025-06-16T00:00:00",
          "2025-06-17T00:00:00",
          "2025-06-18T00:00:00",
          "2025-06-19T00:00:00",
          "2025-06-20T00:00:00",
          "2025-06-23T00:00:00",
          "2025-06-24T00:00:00",
          "2025-06-25T00:00:00",
          "2025-06-26T00:00:00",
          "2025-06-27T00:00:00",
          "2025-06-30T00:00:00",
          "2025-07-01T00:00:00",
          "2025-07-02T00:00:00",
          "2025-07-03T00:00:00",
          "2025-07-04T00:00:00",
          "2025-07-07T00:00:00",
          "2025-07-08T00:00:00",
          "2025-07-09T00:00:00",
          "2025-07-10T00:00:00",
          "2025-07-11T00:00:00",
          "2025-07-14T00:00:00",
          "2025-07-15T00:00:00",
          "2025-07-16T00:00:00",
          "2025-07-17T00:00:00",
          "2025-07-18T00:00:00",
          "2025-07-21T00:00:00",
          "2025-07-22T00:00:00",
          "2025-07-23T00:00:00",
          "2025-07-24T00:00:00",
          "2025-07-25T00:00:00",
          "2025-07-28T00:00:00",
          "2025-07-29T00:00:00",
          "2025-07-30T00:00:00",
          "2025-07-31T00:00:00",
          "2025-08-04T00:00:00",
          "2025-08-05T00:00:00",
          "2025-08-06T00:00:00",
          "2025-08-07T00:00:00",
          "2025-08-08T00:00:00",
          "2025-08-11T00:00:00",
          "2025-08-12T00:00:00",
          "2025-08-13T00:00:00",
          "2025-08-14T00:00:00",
          "2025-08-15T00:00:00",
          "2025-08-18T00:00:00",
          "2025-08-19T00:00:00",
          "2025-08-20T00:00:00",
          "2025-08-21T00:00:00",
          "2025-08-22T00:00:00",
          "2025-08-25T00:00:00",
          "2025-08-26T00:00:00",
          "2025-08-27T00:00:00"
         ],
         "xaxis": "x",
         "y": [
          48.165287017822266,
          46.415496826171875,
          45.12617492675781,
          44.43547058105469,
          44.61965560913086,
          44.02104568481445,
          43.46847915649414,
          44.573612213134766,
          43.28429412841797,
          42.59358596801758,
          42.087066650390625,
          41.21217346191406,
          41.44240951538086,
          42.31730270385742,
          43.054054260253906,
          43.46847915649414,
          43.60662078857422,
          43.836856842041016,
          42.087066650390625,
          43.10010528564453,
          43.42243576049805,
          42.40939712524414,
          42.96196365356445,
          42.31730270385742,
          42.63962936401367,
          42.36334991455078,
          44.80384826660156,
          43.65266799926758,
          43.65266799926758,
          43.514530181884766,
          43.146148681640625,
          42.13311767578125,
          42.179161071777344,
          41.90287780761719,
          41.58055114746094,
          42.36334991455078,
          42.22520446777344,
          42.27125930786133,
          41.76473617553711,
          41.44240951538086,
          40.98193359375,
          41.30426788330078,
          43.33033752441406,
          42.823822021484375,
          42.27125930786133,
          42.22520446777344,
          42.22520446777344,
          41.58055114746094,
          42.27125930786133,
          42.59358596801758,
          42.31730270385742,
          42.823822021484375,
          42.27125930786133,
          42.6856803894043,
          42.96196365356445,
          42.96196365356445,
          42.63962936401367,
          43.00801086425781,
          42.4554443359375,
          42.40939712524414,
          43.10010528564453,
          43.42243576049805,
          46.96805953979492,
          44.665706634521484,
          43.790809631347656,
          41.90287780761719,
          41.48845291137695,
          41.44240951538086,
          40.337276458740234,
          39.9228515625,
          40.060997009277344,
          41.258216857910156,
          40.88984680175781,
          41.027984619140625,
          42.087066650390625,
          41.58055114746094,
          41.120079040527344,
          41.90287780761719,
          43.7447624206543,
          43.42243576049805,
          43.42243576049805,
          43.60662078857422,
          44.02104568481445,
          43.974998474121094,
          45.034080505371094,
          44.25128173828125,
          44.02104568481445,
          44.34337615966797,
          44.43547058105469,
          44.43547058105469,
          48.8099479675293,
          49.08622741699219,
          52.95418930053711,
          53.87512969970703,
          51.9411506652832,
          49.45460510253906,
          48.34947204589844,
          48.71785354614258,
          48.34947204589844,
          47.152252197265625,
          46.507591247558594,
          46.59968566894531,
          45.724788665771484,
          44.94198989868164,
          44.94198989868164,
          46.13920974731445,
          45.8629264831543,
          46.507591247558594,
          45.49455642700195,
          45.586647033691406,
          45.63423538208008,
          45.7769889831543,
          44.7301139831543,
          44.539772033691406,
          44.15909194946289,
          44.68252944946289,
          44.58735656738281,
          45.158382415771484,
          44.539772033691406,
          45.015625,
          44.82528305053711,
          45.015625,
          44.87287139892578,
          43.54048538208008,
          44.539772033691406,
          45.39630889892578,
          45.39630889892578,
          44.968040466308594,
          45.063209533691406,
          44.634944915771484,
          44.82528305053711,
          43.96875,
          43.96875,
          43.77840805053711,
          43.30255889892578,
          42.20809555053711,
          42.06534194946289,
          41.732242584228516,
          43.588069915771484,
          42.58877944946289,
          38.353694915771484,
          38.06818389892578,
          40.49502944946289,
          40.257102966308594,
          39.97159194946289,
          40.257102966308594,
          40.114349365234375,
          40.0667610168457,
          40.49502944946289,
          40.73295593261719,
          41.1136360168457,
          41.0660514831543,
          40.970882415771484,
          41.0660514831543,
          40.970882415771484,
          42.6363639831543,
          42.541194915771484,
          42.1605110168457,
          41.44673156738281,
          41.6370735168457,
          41.399147033691406,
          41.44673156738281,
          39.4957389831543,
          38.82954406738281,
          40.0667610168457,
          39.733665466308594,
          39.0198860168457,
          38.54403305053711,
          39.5433235168457,
          39.828834533691406,
          39.68608093261719,
          39.305397033691406,
          40.114349365234375,
          40.0667610168457,
          39.78125,
          39.97159194946289,
          39.97159194946289,
          39.828834533691406,
          39.63849639892578,
          38.82954406738281,
          40.20951843261719,
          38.686790466308594,
          38.63920211791992,
          38.06818389892578,
          38.06818389892578,
          39.2578125,
          39.06747055053711,
          39.5433235168457,
          39.210227966308594,
          40.3046875,
          39.828834533691406,
          39.63849639892578,
          40.0667610168457,
          39.63849639892578,
          39.210227966308594,
          39.305397033691406,
          38.9723014831543,
          38.781959533691406,
          38.4964485168457,
          38.11576843261719,
          38.163352966308594,
          38.9723014831543,
          39.115055084228516,
          39.87642288208008,
          38.4488639831543,
          37.6875,
          36.54545593261719,
          36.4026985168457,
          35.736507415771484,
          36.164772033691406,
          35.8316764831543,
          36.164772033691406,
          35.974430084228516,
          35.35582733154297,
          35.26065444946289,
          36.25994110107422,
          36.8785514831543,
          36.069602966308594,
          35.92684555053711,
          36.02201461791992,
          36.593040466308594,
          36.4026985168457,
          36.783382415771484,
          36.45028305053711,
          36.688209533691406,
          37.59233093261719,
          37.116477966308594,
          36.783382415771484,
          36.30752944946289,
          35.0703125,
          34.92755889892578,
          34.689632415771484,
          35.78409194946289,
          35.35582733154297,
          35.403411865234375,
          36.164772033691406,
          36.45028305053711,
          37.116477966308594,
          36.73579406738281,
          36.73579406738281,
          37.497161865234375,
          37.87784194946289,
          38.9723014831543,
          37.116477966308594,
          36.97372055053711,
          36.3551139831543,
          36.45028305053711,
          35.593753814697266,
          35.35582733154297,
          34.546875,
          34.92755889892578,
          35.022727966308594,
          35.213069915771484,
          35.736507415771484,
          35.593753814697266,
          35.736507415771484,
          35.403411865234375,
          36.783382415771484,
          36.164772033691406,
          36.3551139831543,
          36.73579406738281,
          36.83096694946289,
          36.30752944946289,
          35.974430084228516,
          36.3551139831543,
          37.211647033691406,
          37.497161865234375,
          37.639915466308594,
          37.54474639892578,
          37.639915466308594,
          37.78267288208008,
          38.54403305053711,
          37.97301483154297,
          37.73508834838867,
          37.9254264831543,
          37.25923538208008,
          36.54545593261719,
          36.3551139831543,
          36.164772033691406,
          36.4026985168457,
          36.3551139831543,
          35.8792610168457,
          36.45028305053711,
          36.164772033691406,
          35.974430084228516,
          36.1171875,
          36.4026985168457,
          37.25923538208008,
          36.54545593261719,
          36.83096694946289,
          36.45028305053711,
          35.92684555053711,
          35.92684555053711,
          36.30752944946289,
          36.1171875,
          35.736507415771484,
          33.7379264831543,
          35.213069915771484,
          35.26065444946289,
          31.73934555053711,
          28.59872055053711,
          25.743608474731445,
          28.31321144104004,
          29.122159957885742,
          29.455257415771484,
          30.073863983154297,
          29.455257415771484,
          29.645597457885742,
          29.931108474731445,
          29.97869300842285,
          29.883522033691406,
          30.454545974731445,
          31.21590805053711,
          31.263492584228516,
          31.501419067382812,
          32.35795593261719,
          33.2144889831543,
          32.405540466308594,
          31.977272033691406,
          32.262786865234375,
          32.405540466308594,
          32.83380889892578,
          32.453125,
          32.928977966308594,
          32.83380889892578,
          33.452415466308594,
          33.59516906738281,
          34.45170593261719,
          34.594459533691406,
          34.3089485168457,
          34.0234375,
          33.7855110168457,
          33.452415466308594,
          33.5,
          33.2144889831543,
          33.452415466308594,
          33.02415084838867,
          32.786224365234375,
          33.30965805053711,
          33.59516906738281,
          34.21377944946289,
          34.45170593261719,
          34.64204788208008,
          34.594459533691406,
          34.546875,
          34.40412139892578,
          34.64204788208008,
          34.45170593261719,
          33.83309555053711,
          33.5,
          32.150001525878906,
          31.600000381469727,
          31.100000381469727,
          31.700000762939453,
          31.399999618530273,
          31.149999618530273,
          30.899999618530273,
          30.299999237060547,
          29.950000762939453,
          30.600000381469727,
          30.799999237060547,
          29.950000762939453,
          30,
          29.299999237060547,
          29.75,
          29.600000381469727,
          30.25,
          30.149999618530273,
          30.799999237060547,
          30.799999237060547,
          30.850000381469727,
          30.950000762939453,
          31.299999237060547,
          30.299999237060547,
          31.200000762939453,
          31.5,
          31.899999618530273,
          32.400001525878906,
          31.850000381469727,
          32.150001525878906,
          32.150001525878906,
          32,
          32.5,
          32.150001525878906,
          31.75,
          30.299999237060547,
          29.950000762939453,
          29.75,
          29.75,
          29.600000381469727,
          29.350000381469727,
          29.25,
          29.350000381469727,
          29.350000381469727,
          29.75,
          29.75,
          29.950000762939453,
          31.049999237060547,
          30.600000381469727
         ],
         "yaxis": "y"
        },
        {
         "hovertemplate": "Ticker=2454.TW<br>Date=%{x}<br>$ TWN=%{y}<extra></extra>",
         "legendgroup": "2454.TW",
         "line": {
          "color": "#ab63fa",
          "dash": "solid"
         },
         "marker": {
          "symbol": "circle"
         },
         "mode": "lines",
         "name": "2454.TW",
         "showlegend": true,
         "type": "scattergl",
         "x": [
          "2024-01-02T00:00:00",
          "2024-01-03T00:00:00",
          "2024-01-04T00:00:00",
          "2024-01-05T00:00:00",
          "2024-01-08T00:00:00",
          "2024-01-09T00:00:00",
          "2024-01-10T00:00:00",
          "2024-01-11T00:00:00",
          "2024-01-12T00:00:00",
          "2024-01-15T00:00:00",
          "2024-01-16T00:00:00",
          "2024-01-17T00:00:00",
          "2024-01-18T00:00:00",
          "2024-01-19T00:00:00",
          "2024-01-22T00:00:00",
          "2024-01-23T00:00:00",
          "2024-01-24T00:00:00",
          "2024-01-25T00:00:00",
          "2024-01-26T00:00:00",
          "2024-01-29T00:00:00",
          "2024-01-30T00:00:00",
          "2024-01-31T00:00:00",
          "2024-02-01T00:00:00",
          "2024-02-02T00:00:00",
          "2024-02-05T00:00:00",
          "2024-02-15T00:00:00",
          "2024-02-16T00:00:00",
          "2024-02-19T00:00:00",
          "2024-02-20T00:00:00",
          "2024-02-21T00:00:00",
          "2024-02-22T00:00:00",
          "2024-02-23T00:00:00",
          "2024-02-26T00:00:00",
          "2024-02-27T00:00:00",
          "2024-02-29T00:00:00",
          "2024-03-01T00:00:00",
          "2024-03-04T00:00:00",
          "2024-03-05T00:00:00",
          "2024-03-06T00:00:00",
          "2024-03-07T00:00:00",
          "2024-03-08T00:00:00",
          "2024-03-11T00:00:00",
          "2024-03-12T00:00:00",
          "2024-03-13T00:00:00",
          "2024-03-14T00:00:00",
          "2024-03-15T00:00:00",
          "2024-03-18T00:00:00",
          "2024-03-19T00:00:00",
          "2024-03-20T00:00:00",
          "2024-03-21T00:00:00",
          "2024-03-22T00:00:00",
          "2024-03-25T00:00:00",
          "2024-03-26T00:00:00",
          "2024-03-27T00:00:00",
          "2024-03-28T00:00:00",
          "2024-03-29T00:00:00",
          "2024-04-01T00:00:00",
          "2024-04-02T00:00:00",
          "2024-04-03T00:00:00",
          "2024-04-08T00:00:00",
          "2024-04-09T00:00:00",
          "2024-04-10T00:00:00",
          "2024-04-11T00:00:00",
          "2024-04-12T00:00:00",
          "2024-04-15T00:00:00",
          "2024-04-16T00:00:00",
          "2024-04-17T00:00:00",
          "2024-04-18T00:00:00",
          "2024-04-19T00:00:00",
          "2024-04-22T00:00:00",
          "2024-04-23T00:00:00",
          "2024-04-24T00:00:00",
          "2024-04-25T00:00:00",
          "2024-04-26T00:00:00",
          "2024-04-29T00:00:00",
          "2024-04-30T00:00:00",
          "2024-05-02T00:00:00",
          "2024-05-03T00:00:00",
          "2024-05-06T00:00:00",
          "2024-05-07T00:00:00",
          "2024-05-08T00:00:00",
          "2024-05-09T00:00:00",
          "2024-05-10T00:00:00",
          "2024-05-13T00:00:00",
          "2024-05-14T00:00:00",
          "2024-05-15T00:00:00",
          "2024-05-16T00:00:00",
          "2024-05-17T00:00:00",
          "2024-05-20T00:00:00",
          "2024-05-21T00:00:00",
          "2024-05-22T00:00:00",
          "2024-05-23T00:00:00",
          "2024-05-24T00:00:00",
          "2024-05-27T00:00:00",
          "2024-05-28T00:00:00",
          "2024-05-29T00:00:00",
          "2024-05-30T00:00:00",
          "2024-05-31T00:00:00",
          "2024-06-03T00:00:00",
          "2024-06-04T00:00:00",
          "2024-06-05T00:00:00",
          "2024-06-06T00:00:00",
          "2024-06-07T00:00:00",
          "2024-06-11T00:00:00",
          "2024-06-12T00:00:00",
          "2024-06-13T00:00:00",
          "2024-06-14T00:00:00",
          "2024-06-17T00:00:00",
          "2024-06-18T00:00:00",
          "2024-06-19T00:00:00",
          "2024-06-20T00:00:00",
          "2024-06-21T00:00:00",
          "2024-06-24T00:00:00",
          "2024-06-25T00:00:00",
          "2024-06-26T00:00:00",
          "2024-06-27T00:00:00",
          "2024-06-28T00:00:00",
          "2024-07-01T00:00:00",
          "2024-07-02T00:00:00",
          "2024-07-03T00:00:00",
          "2024-07-04T00:00:00",
          "2024-07-05T00:00:00",
          "2024-07-08T00:00:00",
          "2024-07-09T00:00:00",
          "2024-07-10T00:00:00",
          "2024-07-11T00:00:00",
          "2024-07-12T00:00:00",
          "2024-07-15T00:00:00",
          "2024-07-16T00:00:00",
          "2024-07-17T00:00:00",
          "2024-07-18T00:00:00",
          "2024-07-19T00:00:00",
          "2024-07-22T00:00:00",
          "2024-07-23T00:00:00",
          "2024-07-26T00:00:00",
          "2024-07-29T00:00:00",
          "2024-07-30T00:00:00",
          "2024-07-31T00:00:00",
          "2024-08-01T00:00:00",
          "2024-08-02T00:00:00",
          "2024-08-05T00:00:00",
          "2024-08-06T00:00:00",
          "2024-08-07T00:00:00",
          "2024-08-08T00:00:00",
          "2024-08-09T00:00:00",
          "2024-08-12T00:00:00",
          "2024-08-13T00:00:00",
          "2024-08-14T00:00:00",
          "2024-08-15T00:00:00",
          "2024-08-16T00:00:00",
          "2024-08-19T00:00:00",
          "2024-08-20T00:00:00",
          "2024-08-21T00:00:00",
          "2024-08-22T00:00:00",
          "2024-08-23T00:00:00",
          "2024-08-26T00:00:00",
          "2024-08-27T00:00:00",
          "2024-08-28T00:00:00",
          "2024-08-29T00:00:00",
          "2024-08-30T00:00:00",
          "2024-09-02T00:00:00",
          "2024-09-03T00:00:00",
          "2024-09-04T00:00:00",
          "2024-09-05T00:00:00",
          "2024-09-06T00:00:00",
          "2024-09-09T00:00:00",
          "2024-09-10T00:00:00",
          "2024-09-11T00:00:00",
          "2024-09-12T00:00:00",
          "2024-09-13T00:00:00",
          "2024-09-16T00:00:00",
          "2024-09-18T00:00:00",
          "2024-09-19T00:00:00",
          "2024-09-20T00:00:00",
          "2024-09-23T00:00:00",
          "2024-09-24T00:00:00",
          "2024-09-25T00:00:00",
          "2024-09-26T00:00:00",
          "2024-09-27T00:00:00",
          "2024-09-30T00:00:00",
          "2024-10-01T00:00:00",
          "2024-10-04T00:00:00",
          "2024-10-07T00:00:00",
          "2024-10-08T00:00:00",
          "2024-10-09T00:00:00",
          "2024-10-11T00:00:00",
          "2024-10-14T00:00:00",
          "2024-10-15T00:00:00",
          "2024-10-16T00:00:00",
          "2024-10-17T00:00:00",
          "2024-10-18T00:00:00",
          "2024-10-21T00:00:00",
          "2024-10-22T00:00:00",
          "2024-10-23T00:00:00",
          "2024-10-24T00:00:00",
          "2024-10-25T00:00:00",
          "2024-10-28T00:00:00",
          "2024-10-29T00:00:00",
          "2024-10-30T00:00:00",
          "2024-11-01T00:00:00",
          "2024-11-04T00:00:00",
          "2024-11-05T00:00:00",
          "2024-11-06T00:00:00",
          "2024-11-07T00:00:00",
          "2024-11-08T00:00:00",
          "2024-11-11T00:00:00",
          "2024-11-12T00:00:00",
          "2024-11-13T00:00:00",
          "2024-11-14T00:00:00",
          "2024-11-15T00:00:00",
          "2024-11-18T00:00:00",
          "2024-11-19T00:00:00",
          "2024-11-20T00:00:00",
          "2024-11-21T00:00:00",
          "2024-11-22T00:00:00",
          "2024-11-25T00:00:00",
          "2024-11-26T00:00:00",
          "2024-11-27T00:00:00",
          "2024-11-28T00:00:00",
          "2024-11-29T00:00:00",
          "2024-12-02T00:00:00",
          "2024-12-03T00:00:00",
          "2024-12-04T00:00:00",
          "2024-12-05T00:00:00",
          "2024-12-06T00:00:00",
          "2024-12-09T00:00:00",
          "2024-12-10T00:00:00",
          "2024-12-11T00:00:00",
          "2024-12-12T00:00:00",
          "2024-12-13T00:00:00",
          "2024-12-16T00:00:00",
          "2024-12-17T00:00:00",
          "2024-12-18T00:00:00",
          "2024-12-19T00:00:00",
          "2024-12-20T00:00:00",
          "2024-12-23T00:00:00",
          "2024-12-24T00:00:00",
          "2024-12-25T00:00:00",
          "2024-12-26T00:00:00",
          "2024-12-27T00:00:00",
          "2024-12-30T00:00:00",
          "2024-12-31T00:00:00",
          "2025-01-02T00:00:00",
          "2025-01-03T00:00:00",
          "2025-01-06T00:00:00",
          "2025-01-07T00:00:00",
          "2025-01-08T00:00:00",
          "2025-01-09T00:00:00",
          "2025-01-10T00:00:00",
          "2025-01-13T00:00:00",
          "2025-01-14T00:00:00",
          "2025-01-15T00:00:00",
          "2025-01-16T00:00:00",
          "2025-01-17T00:00:00",
          "2025-01-20T00:00:00",
          "2025-01-21T00:00:00",
          "2025-01-22T00:00:00",
          "2025-02-03T00:00:00",
          "2025-02-04T00:00:00",
          "2025-02-05T00:00:00",
          "2025-02-06T00:00:00",
          "2025-02-07T00:00:00",
          "2025-02-10T00:00:00",
          "2025-02-11T00:00:00",
          "2025-02-12T00:00:00",
          "2025-02-13T00:00:00",
          "2025-02-14T00:00:00",
          "2025-02-17T00:00:00",
          "2025-02-18T00:00:00",
          "2025-02-19T00:00:00",
          "2025-02-20T00:00:00",
          "2025-02-21T00:00:00",
          "2025-02-24T00:00:00",
          "2025-02-25T00:00:00",
          "2025-02-26T00:00:00",
          "2025-02-27T00:00:00",
          "2025-03-03T00:00:00",
          "2025-03-04T00:00:00",
          "2025-03-05T00:00:00",
          "2025-03-06T00:00:00",
          "2025-03-07T00:00:00",
          "2025-03-10T00:00:00",
          "2025-03-11T00:00:00",
          "2025-03-12T00:00:00",
          "2025-03-13T00:00:00",
          "2025-03-14T00:00:00",
          "2025-03-17T00:00:00",
          "2025-03-18T00:00:00",
          "2025-03-19T00:00:00",
          "2025-03-20T00:00:00",
          "2025-03-21T00:00:00",
          "2025-03-24T00:00:00",
          "2025-03-25T00:00:00",
          "2025-03-26T00:00:00",
          "2025-03-27T00:00:00",
          "2025-03-28T00:00:00",
          "2025-03-31T00:00:00",
          "2025-04-01T00:00:00",
          "2025-04-02T00:00:00",
          "2025-04-07T00:00:00",
          "2025-04-08T00:00:00",
          "2025-04-09T00:00:00",
          "2025-04-10T00:00:00",
          "2025-04-11T00:00:00",
          "2025-04-14T00:00:00",
          "2025-04-15T00:00:00",
          "2025-04-16T00:00:00",
          "2025-04-17T00:00:00",
          "2025-04-18T00:00:00",
          "2025-04-21T00:00:00",
          "2025-04-22T00:00:00",
          "2025-04-23T00:00:00",
          "2025-04-24T00:00:00",
          "2025-04-25T00:00:00",
          "2025-04-28T00:00:00",
          "2025-04-29T00:00:00",
          "2025-04-30T00:00:00",
          "2025-05-02T00:00:00",
          "2025-05-05T00:00:00",
          "2025-05-06T00:00:00",
          "2025-05-07T00:00:00",
          "2025-05-08T00:00:00",
          "2025-05-09T00:00:00",
          "2025-05-12T00:00:00",
          "2025-05-13T00:00:00",
          "2025-05-14T00:00:00",
          "2025-05-15T00:00:00",
          "2025-05-16T00:00:00",
          "2025-05-19T00:00:00",
          "2025-05-20T00:00:00",
          "2025-05-21T00:00:00",
          "2025-05-22T00:00:00",
          "2025-05-23T00:00:00",
          "2025-05-26T00:00:00",
          "2025-05-27T00:00:00",
          "2025-05-28T00:00:00",
          "2025-05-29T00:00:00",
          "2025-06-02T00:00:00",
          "2025-06-03T00:00:00",
          "2025-06-04T00:00:00",
          "2025-06-05T00:00:00",
          "2025-06-06T00:00:00",
          "2025-06-09T00:00:00",
          "2025-06-10T00:00:00",
          "2025-06-11T00:00:00",
          "2025-06-12T00:00:00",
          "2025-06-13T00:00:00",
          "2025-06-16T00:00:00",
          "2025-06-17T00:00:00",
          "2025-06-18T00:00:00",
          "2025-06-19T00:00:00",
          "2025-06-20T00:00:00",
          "2025-06-23T00:00:00",
          "2025-06-24T00:00:00",
          "2025-06-25T00:00:00",
          "2025-06-26T00:00:00",
          "2025-06-27T00:00:00",
          "2025-06-30T00:00:00",
          "2025-07-01T00:00:00",
          "2025-07-02T00:00:00",
          "2025-07-03T00:00:00",
          "2025-07-04T00:00:00",
          "2025-07-07T00:00:00",
          "2025-07-08T00:00:00",
          "2025-07-09T00:00:00",
          "2025-07-10T00:00:00",
          "2025-07-11T00:00:00",
          "2025-07-14T00:00:00",
          "2025-07-15T00:00:00",
          "2025-07-16T00:00:00",
          "2025-07-17T00:00:00",
          "2025-07-18T00:00:00",
          "2025-07-21T00:00:00",
          "2025-07-22T00:00:00",
          "2025-07-23T00:00:00",
          "2025-07-24T00:00:00",
          "2025-07-25T00:00:00",
          "2025-07-28T00:00:00",
          "2025-07-29T00:00:00",
          "2025-07-30T00:00:00",
          "2025-07-31T00:00:00",
          "2025-08-04T00:00:00",
          "2025-08-05T00:00:00",
          "2025-08-06T00:00:00",
          "2025-08-07T00:00:00",
          "2025-08-08T00:00:00",
          "2025-08-11T00:00:00",
          "2025-08-12T00:00:00",
          "2025-08-13T00:00:00",
          "2025-08-14T00:00:00",
          "2025-08-15T00:00:00",
          "2025-08-18T00:00:00",
          "2025-08-19T00:00:00",
          "2025-08-20T00:00:00",
          "2025-08-21T00:00:00",
          "2025-08-22T00:00:00",
          "2025-08-25T00:00:00",
          "2025-08-26T00:00:00",
          "2025-08-27T00:00:00"
         ],
         "xaxis": "x",
         "y": [
          898.153076171875,
          872.5177001953125,
          872.1417236328125,
          865.5631103515625,
          864.623291015625,
          872.1417236328125,
          868.382568359375,
          864.623291015625,
          870.2621459960938,
          866.5028686523438,
          841.1280517578125,
          826.0911865234375,
          843.0077514648438,
          864.623291015625,
          866.5028686523438,
          856.1649780273438,
          879.6602172851562,
          886.2388916015625,
          879.6602172851562,
          881.539794921875,
          905.0350341796875,
          907.8544921875,
          874.0213623046875,
          879.6602172851562,
          880.6000366210938,
          913.4932861328125,
          911.6136474609375,
          905.0350341796875,
          922.891357421875,
          921.9515991210938,
          953.905029296875,
          1033.7886962890625,
          1047.8858642578125,
          1047.8858642578125,
          1071.3809814453125,
          1038.48779296875,
          1080.7791748046875,
          1085.4781494140625,
          1118.3714599609375,
          1155.9637451171875,
          1155.9637451171875,
          1151.2647705078125,
          1141.86669921875,
          1141.86669921875,
          1080.7791748046875,
          1066.6820068359375,
          1099.5753173828125,
          1080.7791748046875,
          1061.98291015625,
          1071.3809814453125,
          1057.283935546875,
          1052.5848388671875,
          1061.98291015625,
          1094.876220703125,
          1090.1771240234375,
          1113.67236328125,
          1090.1771240234375,
          1094.876220703125,
          1090.1771240234375,
          1080.7791748046875,
          1090.1771240234375,
          1123.0704345703125,
          1127.7694091796875,
          1108.9732666015625,
          1043.186767578125,
          991.497314453125,
          986.79833984375,
          986.79833984375,
          933.229248046875,
          907.8544921875,
          913.4932861328125,
          949.2059936523438,
          921.9515991210938,
          944.5069580078125,
          953.905029296875,
          932.2894897460938,
          939.8079223632812,
          977.4002075195312,
          972.701171875,
          982.0993041992188,
          1029.0897216796875,
          1029.0897216796875,
          1029.0897216796875,
          1047.8858642578125,
          1085.4781494140625,
          1085.4781494140625,
          1118.3714599609375,
          1094.876220703125,
          1118.3714599609375,
          1104.2742919921875,
          1113.67236328125,
          1132.468505859375,
          1123.0704345703125,
          1207.653076171875,
          1231.1484375,
          1212.352294921875,
          1212.352294921875,
          1160.662841796875,
          1193.5560302734375,
          1165.36181640625,
          1155.9637451171875,
          1212.352294921875,
          1198.255126953125,
          1193.5560302734375,
          1221.7503662109375,
          1301.634033203125,
          1311.031982421875,
          1296.9349365234375,
          1320.43017578125,
          1395.6148681640625,
          1409.7117919921875,
          1400.3138427734375,
          1325.1290283203125,
          1301.634033203125,
          1320.43017578125,
          1311.031982421875,
          1315.7310791015625,
          1329.828125,
          1325.1290283203125,
          1320.43017578125,
          1320.8194580078125,
          1296.8045654296875,
          1364.0462646484375,
          1402.4700927734375,
          1378.4552001953125,
          1364.0462646484375,
          1306.4105224609375,
          1301.6075439453125,
          1292.00146484375,
          1272.78955078125,
          1229.5628662109375,
          1210.350830078125,
          1176.7301025390625,
          1224.7598876953125,
          1195.9420166015625,
          1191.138916015625,
          1205.5479736328125,
          1171.9271240234375,
          1133.5032958984375,
          1047.049560546875,
          951.9506225585938,
          1032.640625,
          1104.6854248046875,
          1071.0645751953125,
          1080.6705322265625,
          1128.7001953125,
          1114.2913818359375,
          1138.30615234375,
          1109.48828125,
          1181.532958984375,
          1205.5479736328125,
          1200.744873046875,
          1171.9271240234375,
          1181.532958984375,
          1176.7301025390625,
          1167.1241455078125,
          1162.3211669921875,
          1152.7152099609375,
          1200.744873046875,
          1191.138916015625,
          1176.7301025390625,
          1171.9271240234375,
          1090.2763671875,
          1066.261474609375,
          1099.88232421875,
          1061.4586181640625,
          1085.473388671875,
          1066.261474609375,
          1109.48828125,
          1080.6705322265625,
          1085.473388671875,
          1061.4586181640625,
          1075.867431640625,
          1080.6705322265625,
          1099.88232421875,
          1147.912109375,
          1176.7301025390625,
          1219.956787109375,
          1210.350830078125,
          1128.7001953125,
          1162.3211669921875,
          1181.532958984375,
          1200.744873046875,
          1176.7301025390625,
          1195.9420166015625,
          1248.7747802734375,
          1239.1688232421875,
          1248.7747802734375,
          1224.7598876953125,
          1224.7598876953125,
          1253.5777587890625,
          1277.5926513671875,
          1258.3807373046875,
          1248.7747802734375,
          1219.956787109375,
          1263.1837158203125,
          1282.3955078125,
          1248.7747802734375,
          1239.1688232421875,
          1239.1688232421875,
          1243.9718017578125,
          1239.1688232421875,
          1253.5777587890625,
          1253.5777587890625,
          1229.5628662109375,
          1243.9718017578125,
          1215.1539306640625,
          1205.5479736328125,
          1186.3360595703125,
          1219.956787109375,
          1191.138916015625,
          1234.3658447265625,
          1224.7598876953125,
          1215.1539306640625,
          1258.3807373046875,
          1229.5628662109375,
          1229.5628662109375,
          1200.744873046875,
          1205.5479736328125,
          1205.5479736328125,
          1258.3807373046875,
          1263.1837158203125,
          1267.9866943359375,
          1272.78955078125,
          1253.5777587890625,
          1272.78955078125,
          1296.8045654296875,
          1296.8045654296875,
          1325.6224365234375,
          1354.4403076171875,
          1330.4254150390625,
          1368.8492431640625,
          1364.0462646484375,
          1364.0462646484375,
          1335.2283935546875,
          1354.4403076171875,
          1349.6373291015625,
          1354.4403076171875,
          1364.0462646484375,
          1373.6522216796875,
          1364.0462646484375,
          1359.2432861328125,
          1323.938232421875,
          1338.648681640625,
          1397.4903564453125,
          1461.235595703125,
          1441.6217041015625,
          1412.2008056640625,
          1436.7181396484375,
          1363.166015625,
          1372.9730224609375,
          1392.5869140625,
          1431.814697265625,
          1402.3939208984375,
          1417.104248046875,
          1436.7181396484375,
          1436.7181396484375,
          1471.04248046875,
          1461.235595703125,
          1495.5599365234375,
          1495.5599365234375,
          1495.5599365234375,
          1451.4285888671875,
          1480.8494873046875,
          1456.33203125,
          1490.6563720703125,
          1475.946044921875,
          1515.173828125,
          1505.3668212890625,
          1510.270263671875,
          1471.04248046875,
          1480.8494873046875,
          1515.173828125,
          1520.0772705078125,
          1529.8841552734375,
          1485.7529296875,
          1441.6217041015625,
          1475.946044921875,
          1475.946044921875,
          1466.1390380859375,
          1436.7181396484375,
          1368.069580078125,
          1358.2625732421875,
          1382.7799072265625,
          1363.166015625,
          1372.9730224609375,
          1397.4903564453125,
          1446.525146484375,
          1436.7181396484375,
          1456.33203125,
          1451.4285888671875,
          1451.4285888671875,
          1495.5599365234375,
          1485.7529296875,
          1456.33203125,
          1436.7181396484375,
          1363.166015625,
          1431.814697265625,
          1407.29736328125,
          1270,
          1235.6756591796875,
          1162.12353515625,
          1274.903564453125,
          1358.2625732421875,
          1372.9730224609375,
          1358.2625732421875,
          1338.648681640625,
          1314.13134765625,
          1338.648681640625,
          1319.0347900390625,
          1274.903564453125,
          1343.5521240234375,
          1304.3243408203125,
          1353.359130859375,
          1323.938232421875,
          1343.5521240234375,
          1323.938232421875,
          1274.903564453125,
          1270,
          1255.28955078125,
          1250.3861083984375,
          1265.0965576171875,
          1299.4208984375,
          1289.6138916015625,
          1328.841796875,
          1333.7452392578125,
          1343.5521240234375,
          1338.648681640625,
          1284.71044921875,
          1289.6138916015625,
          1314.13134765625,
          1299.4208984375,
          1289.6138916015625,
          1255.28955078125,
          1255.28955078125,
          1255.28955078125,
          1235.6756591796875,
          1235.6756591796875,
          1250.3861083984375,
          1250.3861083984375,
          1220.96533203125,
          1255.28955078125,
          1260.193115234375,
          1309.227783203125,
          1289.6138916015625,
          1260.193115234375,
          1225.8687744140625,
          1230.772216796875,
          1250.3861083984375,
          1260.193115234375,
          1240.5792236328125,
          1225.8687744140625,
          1230.772216796875,
          1245.482666015625,
          1270,
          1265.0965576171875,
          1260.193115234375,
          1225.8687744140625,
          1250.3861083984375,
          1270,
          1270,
          1290,
          1280,
          1270,
          1355,
          1400,
          1420,
          1385,
          1395,
          1410,
          1390,
          1410,
          1425,
          1430,
          1430,
          1430,
          1430,
          1400,
          1360,
          1380,
          1370,
          1330,
          1340,
          1320,
          1355,
          1350,
          1355,
          1360,
          1370,
          1390,
          1370,
          1410,
          1390,
          1355,
          1365,
          1365,
          1410,
          1400,
          1400
         ],
         "yaxis": "y"
        }
       ],
       "layout": {
        "legend": {
         "title": {
          "text": "Ticker"
         },
         "tracegroupgap": 0
        },
        "template": {
         "data": {
          "bar": [
           {
            "error_x": {
             "color": "#2a3f5f"
            },
            "error_y": {
             "color": "#2a3f5f"
            },
            "marker": {
             "line": {
              "color": "#E5ECF6",
              "width": 0.5
             },
             "pattern": {
              "fillmode": "overlay",
              "size": 10,
              "solidity": 0.2
             }
            },
            "type": "bar"
           }
          ],
          "barpolar": [
           {
            "marker": {
             "line": {
              "color": "#E5ECF6",
              "width": 0.5
             },
             "pattern": {
              "fillmode": "overlay",
              "size": 10,
              "solidity": 0.2
             }
            },
            "type": "barpolar"
           }
          ],
          "carpet": [
           {
            "aaxis": {
             "endlinecolor": "#2a3f5f",
             "gridcolor": "white",
             "linecolor": "white",
             "minorgridcolor": "white",
             "startlinecolor": "#2a3f5f"
            },
            "baxis": {
             "endlinecolor": "#2a3f5f",
             "gridcolor": "white",
             "linecolor": "white",
             "minorgridcolor": "white",
             "startlinecolor": "#2a3f5f"
            },
            "type": "carpet"
           }
          ],
          "choropleth": [
           {
            "colorbar": {
             "outlinewidth": 0,
             "ticks": ""
            },
            "type": "choropleth"
           }
          ],
          "contour": [
           {
            "colorbar": {
             "outlinewidth": 0,
             "ticks": ""
            },
            "colorscale": [
             [
              0,
              "#0d0887"
             ],
             [
              0.1111111111111111,
              "#46039f"
             ],
             [
              0.2222222222222222,
              "#7201a8"
             ],
             [
              0.3333333333333333,
              "#9c179e"
             ],
             [
              0.4444444444444444,
              "#bd3786"
             ],
             [
              0.5555555555555556,
              "#d8576b"
             ],
             [
              0.6666666666666666,
              "#ed7953"
             ],
             [
              0.7777777777777778,
              "#fb9f3a"
             ],
             [
              0.8888888888888888,
              "#fdca26"
             ],
             [
              1,
              "#f0f921"
             ]
            ],
            "type": "contour"
           }
          ],
          "contourcarpet": [
           {
            "colorbar": {
             "outlinewidth": 0,
             "ticks": ""
            },
            "type": "contourcarpet"
           }
          ],
          "heatmap": [
           {
            "colorbar": {
             "outlinewidth": 0,
             "ticks": ""
            },
            "colorscale": [
             [
              0,
              "#0d0887"
             ],
             [
              0.1111111111111111,
              "#46039f"
             ],
             [
              0.2222222222222222,
              "#7201a8"
             ],
             [
              0.3333333333333333,
              "#9c179e"
             ],
             [
              0.4444444444444444,
              "#bd3786"
             ],
             [
              0.5555555555555556,
              "#d8576b"
             ],
             [
              0.6666666666666666,
              "#ed7953"
             ],
             [
              0.7777777777777778,
              "#fb9f3a"
             ],
             [
              0.8888888888888888,
              "#fdca26"
             ],
             [
              1,
              "#f0f921"
             ]
            ],
            "type": "heatmap"
           }
          ],
          "heatmapgl": [
           {
            "colorbar": {
             "outlinewidth": 0,
             "ticks": ""
            },
            "colorscale": [
             [
              0,
              "#0d0887"
             ],
             [
              0.1111111111111111,
              "#46039f"
             ],
             [
              0.2222222222222222,
              "#7201a8"
             ],
             [
              0.3333333333333333,
              "#9c179e"
             ],
             [
              0.4444444444444444,
              "#bd3786"
             ],
             [
              0.5555555555555556,
              "#d8576b"
             ],
             [
              0.6666666666666666,
              "#ed7953"
             ],
             [
              0.7777777777777778,
              "#fb9f3a"
             ],
             [
              0.8888888888888888,
              "#fdca26"
             ],
             [
              1,
              "#f0f921"
             ]
            ],
            "type": "heatmapgl"
           }
          ],
          "histogram": [
           {
            "marker": {
             "pattern": {
              "fillmode": "overlay",
              "size": 10,
              "solidity": 0.2
             }
            },
            "type": "histogram"
           }
          ],
          "histogram2d": [
           {
            "colorbar": {
             "outlinewidth": 0,
             "ticks": ""
            },
            "colorscale": [
             [
              0,
              "#0d0887"
             ],
             [
              0.1111111111111111,
              "#46039f"
             ],
             [
              0.2222222222222222,
              "#7201a8"
             ],
             [
              0.3333333333333333,
              "#9c179e"
             ],
             [
              0.4444444444444444,
              "#bd3786"
             ],
             [
              0.5555555555555556,
              "#d8576b"
             ],
             [
              0.6666666666666666,
              "#ed7953"
             ],
             [
              0.7777777777777778,
              "#fb9f3a"
             ],
             [
              0.8888888888888888,
              "#fdca26"
             ],
             [
              1,
              "#f0f921"
             ]
            ],
            "type": "histogram2d"
           }
          ],
          "histogram2dcontour": [
           {
            "colorbar": {
             "outlinewidth": 0,
             "ticks": ""
            },
            "colorscale": [
             [
              0,
              "#0d0887"
             ],
             [
              0.1111111111111111,
              "#46039f"
             ],
             [
              0.2222222222222222,
              "#7201a8"
             ],
             [
              0.3333333333333333,
              "#9c179e"
             ],
             [
              0.4444444444444444,
              "#bd3786"
             ],
             [
              0.5555555555555556,
              "#d8576b"
             ],
             [
              0.6666666666666666,
              "#ed7953"
             ],
             [
              0.7777777777777778,
              "#fb9f3a"
             ],
             [
              0.8888888888888888,
              "#fdca26"
             ],
             [
              1,
              "#f0f921"
             ]
            ],
            "type": "histogram2dcontour"
           }
          ],
          "mesh3d": [
           {
            "colorbar": {
             "outlinewidth": 0,
             "ticks": ""
            },
            "type": "mesh3d"
           }
          ],
          "parcoords": [
           {
            "line": {
             "colorbar": {
              "outlinewidth": 0,
              "ticks": ""
             }
            },
            "type": "parcoords"
           }
          ],
          "pie": [
           {
            "automargin": true,
            "type": "pie"
           }
          ],
          "scatter": [
           {
            "fillpattern": {
             "fillmode": "overlay",
             "size": 10,
             "solidity": 0.2
            },
            "type": "scatter"
           }
          ],
          "scatter3d": [
           {
            "line": {
             "colorbar": {
              "outlinewidth": 0,
              "ticks": ""
             }
            },
            "marker": {
             "colorbar": {
              "outlinewidth": 0,
              "ticks": ""
             }
            },
            "type": "scatter3d"
           }
          ],
          "scattercarpet": [
           {
            "marker": {
             "colorbar": {
              "outlinewidth": 0,
              "ticks": ""
             }
            },
            "type": "scattercarpet"
           }
          ],
          "scattergeo": [
           {
            "marker": {
             "colorbar": {
              "outlinewidth": 0,
              "ticks": ""
             }
            },
            "type": "scattergeo"
           }
          ],
          "scattergl": [
           {
            "marker": {
             "colorbar": {
              "outlinewidth": 0,
              "ticks": ""
             }
            },
            "type": "scattergl"
           }
          ],
          "scattermapbox": [
           {
            "marker": {
             "colorbar": {
              "outlinewidth": 0,
              "ticks": ""
             }
            },
            "type": "scattermapbox"
           }
          ],
          "scatterpolar": [
           {
            "marker": {
             "colorbar": {
              "outlinewidth": 0,
              "ticks": ""
             }
            },
            "type": "scatterpolar"
           }
          ],
          "scatterpolargl": [
           {
            "marker": {
             "colorbar": {
              "outlinewidth": 0,
              "ticks": ""
             }
            },
            "type": "scatterpolargl"
           }
          ],
          "scatterternary": [
           {
            "marker": {
             "colorbar": {
              "outlinewidth": 0,
              "ticks": ""
             }
            },
            "type": "scatterternary"
           }
          ],
          "surface": [
           {
            "colorbar": {
             "outlinewidth": 0,
             "ticks": ""
            },
            "colorscale": [
             [
              0,
              "#0d0887"
             ],
             [
              0.1111111111111111,
              "#46039f"
             ],
             [
              0.2222222222222222,
              "#7201a8"
             ],
             [
              0.3333333333333333,
              "#9c179e"
             ],
             [
              0.4444444444444444,
              "#bd3786"
             ],
             [
              0.5555555555555556,
              "#d8576b"
             ],
             [
              0.6666666666666666,
              "#ed7953"
             ],
             [
              0.7777777777777778,
              "#fb9f3a"
             ],
             [
              0.8888888888888888,
              "#fdca26"
             ],
             [
              1,
              "#f0f921"
             ]
            ],
            "type": "surface"
           }
          ],
          "table": [
           {
            "cells": {
             "fill": {
              "color": "#EBF0F8"
             },
             "line": {
              "color": "white"
             }
            },
            "header": {
             "fill": {
              "color": "#C8D4E3"
             },
             "line": {
              "color": "white"
             }
            },
            "type": "table"
           }
          ]
         },
         "layout": {
          "annotationdefaults": {
           "arrowcolor": "#2a3f5f",
           "arrowhead": 0,
           "arrowwidth": 1
          },
          "autotypenumbers": "strict",
          "coloraxis": {
           "colorbar": {
            "outlinewidth": 0,
            "ticks": ""
           }
          },
          "colorscale": {
           "diverging": [
            [
             0,
             "#8e0152"
            ],
            [
             0.1,
             "#c51b7d"
            ],
            [
             0.2,
             "#de77ae"
            ],
            [
             0.3,
             "#f1b6da"
            ],
            [
             0.4,
             "#fde0ef"
            ],
            [
             0.5,
             "#f7f7f7"
            ],
            [
             0.6,
             "#e6f5d0"
            ],
            [
             0.7,
             "#b8e186"
            ],
            [
             0.8,
             "#7fbc41"
            ],
            [
             0.9,
             "#4d9221"
            ],
            [
             1,
             "#276419"
            ]
           ],
           "sequential": [
            [
             0,
             "#0d0887"
            ],
            [
             0.1111111111111111,
             "#46039f"
            ],
            [
             0.2222222222222222,
             "#7201a8"
            ],
            [
             0.3333333333333333,
             "#9c179e"
            ],
            [
             0.4444444444444444,
             "#bd3786"
            ],
            [
             0.5555555555555556,
             "#d8576b"
            ],
            [
             0.6666666666666666,
             "#ed7953"
            ],
            [
             0.7777777777777778,
             "#fb9f3a"
            ],
            [
             0.8888888888888888,
             "#fdca26"
            ],
            [
             1,
             "#f0f921"
            ]
           ],
           "sequentialminus": [
            [
             0,
             "#0d0887"
            ],
            [
             0.1111111111111111,
             "#46039f"
            ],
            [
             0.2222222222222222,
             "#7201a8"
            ],
            [
             0.3333333333333333,
             "#9c179e"
            ],
            [
             0.4444444444444444,
             "#bd3786"
            ],
            [
             0.5555555555555556,
             "#d8576b"
            ],
            [
             0.6666666666666666,
             "#ed7953"
            ],
            [
             0.7777777777777778,
             "#fb9f3a"
            ],
            [
             0.8888888888888888,
             "#fdca26"
            ],
            [
             1,
             "#f0f921"
            ]
           ]
          },
          "colorway": [
           "#636efa",
           "#EF553B",
           "#00cc96",
           "#ab63fa",
           "#FFA15A",
           "#19d3f3",
           "#FF6692",
           "#B6E880",
           "#FF97FF",
           "#FECB52"
          ],
          "font": {
           "color": "#2a3f5f"
          },
          "geo": {
           "bgcolor": "white",
           "lakecolor": "white",
           "landcolor": "#E5ECF6",
           "showlakes": true,
           "showland": true,
           "subunitcolor": "white"
          },
          "hoverlabel": {
           "align": "left"
          },
          "hovermode": "closest",
          "mapbox": {
           "style": "light"
          },
          "paper_bgcolor": "white",
          "plot_bgcolor": "#E5ECF6",
          "polar": {
           "angularaxis": {
            "gridcolor": "white",
            "linecolor": "white",
            "ticks": ""
           },
           "bgcolor": "#E5ECF6",
           "radialaxis": {
            "gridcolor": "white",
            "linecolor": "white",
            "ticks": ""
           }
          },
          "scene": {
           "xaxis": {
            "backgroundcolor": "#E5ECF6",
            "gridcolor": "white",
            "gridwidth": 2,
            "linecolor": "white",
            "showbackground": true,
            "ticks": "",
            "zerolinecolor": "white"
           },
           "yaxis": {
            "backgroundcolor": "#E5ECF6",
            "gridcolor": "white",
            "gridwidth": 2,
            "linecolor": "white",
            "showbackground": true,
            "ticks": "",
            "zerolinecolor": "white"
           },
           "zaxis": {
            "backgroundcolor": "#E5ECF6",
            "gridcolor": "white",
            "gridwidth": 2,
            "linecolor": "white",
            "showbackground": true,
            "ticks": "",
            "zerolinecolor": "white"
           }
          },
          "shapedefaults": {
           "line": {
            "color": "#2a3f5f"
           }
          },
          "ternary": {
           "aaxis": {
            "gridcolor": "white",
            "linecolor": "white",
            "ticks": ""
           },
           "baxis": {
            "gridcolor": "white",
            "linecolor": "white",
            "ticks": ""
           },
           "bgcolor": "#E5ECF6",
           "caxis": {
            "gridcolor": "white",
            "linecolor": "white",
            "ticks": ""
           }
          },
          "title": {
           "x": 0.05
          },
          "xaxis": {
           "automargin": true,
           "gridcolor": "white",
           "linecolor": "white",
           "ticks": "",
           "title": {
            "standoff": 15
           },
           "zerolinecolor": "white",
           "zerolinewidth": 2
          },
          "yaxis": {
           "automargin": true,
           "gridcolor": "white",
           "linecolor": "white",
           "ticks": "",
           "title": {
            "standoff": 15
           },
           "zerolinecolor": "white",
           "zerolinewidth": 2
          }
         }
        },
        "title": {
         "text": "Stock Data"
        },
        "xaxis": {
         "anchor": "y",
         "domain": [
          0,
          1
         ],
         "title": {
          "text": "Date"
         }
        },
        "yaxis": {
         "anchor": "x",
         "domain": [
          0,
          1
         ],
         "title": {
          "text": "$ TWN"
         }
        }
       }
      }
     },
     "metadata": {},
     "output_type": "display_data"
    },
    {
     "name": "stdout",
     "output_type": "stream",
     "text": [
      "<class 'pandas.core.frame.DataFrame'>\n",
      "DatetimeIndex: 399 entries, 2024-01-02 to 2025-08-27\n",
      "Data columns (total 4 columns):\n",
      " #   Column   Non-Null Count  Dtype  \n",
      "---  ------   --------------  -----  \n",
      " 0   2317.TW  399 non-null    float64\n",
      " 1   2330.TW  399 non-null    float64\n",
      " 2   2353.TW  399 non-null    float64\n",
      " 3   2454.TW  399 non-null    float64\n",
      "dtypes: float64(4)\n",
      "memory usage: 15.6 KB\n"
     ]
    }
   ],
   "source": [
    "# Visualization of stock data\n",
    "import plotly.express as px\n",
    "fig = px.line(df,\n",
    "        title='Stock Data',\n",
    "        labels={'value':'$ TWN',\n",
    "        'variable':'Ticker'})\n",
    "fig.show()\n",
    "\n",
    "# Summary of stock data\n",
    "df.info()"
   ]
  },
  {
   "cell_type": "markdown",
   "metadata": {
    "id": "eCxemXN4g3nl"
   },
   "source": [
    "A return (also referred to as a financial return or investment return) is usually presented as a percentage relative to the original investment over a given time period. There are two commonly used rates of return in financial management. The daily percent changes is calculated using the **.pct_change(method)**."
   ]
  },
  {
   "cell_type": "code",
   "execution_count": 37,
   "metadata": {
    "id": "hoaEFO0Og3nl"
   },
   "outputs": [
    {
     "data": {
      "application/vnd.plotly.v1+json": {
       "config": {
        "plotlyServerURL": "https://plot.ly"
       },
       "data": [
        {
         "hovertemplate": "Ticker=2317.TW<br>Date=%{x}<br>value=%{y}<extra></extra>",
         "legendgroup": "2317.TW",
         "line": {
          "color": "#636efa",
          "dash": "solid"
         },
         "marker": {
          "symbol": "circle"
         },
         "mode": "lines",
         "name": "2317.TW",
         "showlegend": true,
         "type": "scattergl",
         "x": [
          "2024-01-02T00:00:00",
          "2024-01-03T00:00:00",
          "2024-01-04T00:00:00",
          "2024-01-05T00:00:00",
          "2024-01-08T00:00:00",
          "2024-01-09T00:00:00",
          "2024-01-10T00:00:00",
          "2024-01-11T00:00:00",
          "2024-01-12T00:00:00",
          "2024-01-15T00:00:00",
          "2024-01-16T00:00:00",
          "2024-01-17T00:00:00",
          "2024-01-18T00:00:00",
          "2024-01-19T00:00:00",
          "2024-01-22T00:00:00",
          "2024-01-23T00:00:00",
          "2024-01-24T00:00:00",
          "2024-01-25T00:00:00",
          "2024-01-26T00:00:00",
          "2024-01-29T00:00:00",
          "2024-01-30T00:00:00",
          "2024-01-31T00:00:00",
          "2024-02-01T00:00:00",
          "2024-02-02T00:00:00",
          "2024-02-05T00:00:00",
          "2024-02-15T00:00:00",
          "2024-02-16T00:00:00",
          "2024-02-19T00:00:00",
          "2024-02-20T00:00:00",
          "2024-02-21T00:00:00",
          "2024-02-22T00:00:00",
          "2024-02-23T00:00:00",
          "2024-02-26T00:00:00",
          "2024-02-27T00:00:00",
          "2024-02-29T00:00:00",
          "2024-03-01T00:00:00",
          "2024-03-04T00:00:00",
          "2024-03-05T00:00:00",
          "2024-03-06T00:00:00",
          "2024-03-07T00:00:00",
          "2024-03-08T00:00:00",
          "2024-03-11T00:00:00",
          "2024-03-12T00:00:00",
          "2024-03-13T00:00:00",
          "2024-03-14T00:00:00",
          "2024-03-15T00:00:00",
          "2024-03-18T00:00:00",
          "2024-03-19T00:00:00",
          "2024-03-20T00:00:00",
          "2024-03-21T00:00:00",
          "2024-03-22T00:00:00",
          "2024-03-25T00:00:00",
          "2024-03-26T00:00:00",
          "2024-03-27T00:00:00",
          "2024-03-28T00:00:00",
          "2024-03-29T00:00:00",
          "2024-04-01T00:00:00",
          "2024-04-02T00:00:00",
          "2024-04-03T00:00:00",
          "2024-04-08T00:00:00",
          "2024-04-09T00:00:00",
          "2024-04-10T00:00:00",
          "2024-04-11T00:00:00",
          "2024-04-12T00:00:00",
          "2024-04-15T00:00:00",
          "2024-04-16T00:00:00",
          "2024-04-17T00:00:00",
          "2024-04-18T00:00:00",
          "2024-04-19T00:00:00",
          "2024-04-22T00:00:00",
          "2024-04-23T00:00:00",
          "2024-04-24T00:00:00",
          "2024-04-25T00:00:00",
          "2024-04-26T00:00:00",
          "2024-04-29T00:00:00",
          "2024-04-30T00:00:00",
          "2024-05-02T00:00:00",
          "2024-05-03T00:00:00",
          "2024-05-06T00:00:00",
          "2024-05-07T00:00:00",
          "2024-05-08T00:00:00",
          "2024-05-09T00:00:00",
          "2024-05-10T00:00:00",
          "2024-05-13T00:00:00",
          "2024-05-14T00:00:00",
          "2024-05-15T00:00:00",
          "2024-05-16T00:00:00",
          "2024-05-17T00:00:00",
          "2024-05-20T00:00:00",
          "2024-05-21T00:00:00",
          "2024-05-22T00:00:00",
          "2024-05-23T00:00:00",
          "2024-05-24T00:00:00",
          "2024-05-27T00:00:00",
          "2024-05-28T00:00:00",
          "2024-05-29T00:00:00",
          "2024-05-30T00:00:00",
          "2024-05-31T00:00:00",
          "2024-06-03T00:00:00",
          "2024-06-04T00:00:00",
          "2024-06-05T00:00:00",
          "2024-06-06T00:00:00",
          "2024-06-07T00:00:00",
          "2024-06-11T00:00:00",
          "2024-06-12T00:00:00",
          "2024-06-13T00:00:00",
          "2024-06-14T00:00:00",
          "2024-06-17T00:00:00",
          "2024-06-18T00:00:00",
          "2024-06-19T00:00:00",
          "2024-06-20T00:00:00",
          "2024-06-21T00:00:00",
          "2024-06-24T00:00:00",
          "2024-06-25T00:00:00",
          "2024-06-26T00:00:00",
          "2024-06-27T00:00:00",
          "2024-06-28T00:00:00",
          "2024-07-01T00:00:00",
          "2024-07-02T00:00:00",
          "2024-07-03T00:00:00",
          "2024-07-04T00:00:00",
          "2024-07-05T00:00:00",
          "2024-07-08T00:00:00",
          "2024-07-09T00:00:00",
          "2024-07-10T00:00:00",
          "2024-07-11T00:00:00",
          "2024-07-12T00:00:00",
          "2024-07-15T00:00:00",
          "2024-07-16T00:00:00",
          "2024-07-17T00:00:00",
          "2024-07-18T00:00:00",
          "2024-07-19T00:00:00",
          "2024-07-22T00:00:00",
          "2024-07-23T00:00:00",
          "2024-07-26T00:00:00",
          "2024-07-29T00:00:00",
          "2024-07-30T00:00:00",
          "2024-07-31T00:00:00",
          "2024-08-01T00:00:00",
          "2024-08-02T00:00:00",
          "2024-08-05T00:00:00",
          "2024-08-06T00:00:00",
          "2024-08-07T00:00:00",
          "2024-08-08T00:00:00",
          "2024-08-09T00:00:00",
          "2024-08-12T00:00:00",
          "2024-08-13T00:00:00",
          "2024-08-14T00:00:00",
          "2024-08-15T00:00:00",
          "2024-08-16T00:00:00",
          "2024-08-19T00:00:00",
          "2024-08-20T00:00:00",
          "2024-08-21T00:00:00",
          "2024-08-22T00:00:00",
          "2024-08-23T00:00:00",
          "2024-08-26T00:00:00",
          "2024-08-27T00:00:00",
          "2024-08-28T00:00:00",
          "2024-08-29T00:00:00",
          "2024-08-30T00:00:00",
          "2024-09-02T00:00:00",
          "2024-09-03T00:00:00",
          "2024-09-04T00:00:00",
          "2024-09-05T00:00:00",
          "2024-09-06T00:00:00",
          "2024-09-09T00:00:00",
          "2024-09-10T00:00:00",
          "2024-09-11T00:00:00",
          "2024-09-12T00:00:00",
          "2024-09-13T00:00:00",
          "2024-09-16T00:00:00",
          "2024-09-18T00:00:00",
          "2024-09-19T00:00:00",
          "2024-09-20T00:00:00",
          "2024-09-23T00:00:00",
          "2024-09-24T00:00:00",
          "2024-09-25T00:00:00",
          "2024-09-26T00:00:00",
          "2024-09-27T00:00:00",
          "2024-09-30T00:00:00",
          "2024-10-01T00:00:00",
          "2024-10-04T00:00:00",
          "2024-10-07T00:00:00",
          "2024-10-08T00:00:00",
          "2024-10-09T00:00:00",
          "2024-10-11T00:00:00",
          "2024-10-14T00:00:00",
          "2024-10-15T00:00:00",
          "2024-10-16T00:00:00",
          "2024-10-17T00:00:00",
          "2024-10-18T00:00:00",
          "2024-10-21T00:00:00",
          "2024-10-22T00:00:00",
          "2024-10-23T00:00:00",
          "2024-10-24T00:00:00",
          "2024-10-25T00:00:00",
          "2024-10-28T00:00:00",
          "2024-10-29T00:00:00",
          "2024-10-30T00:00:00",
          "2024-11-01T00:00:00",
          "2024-11-04T00:00:00",
          "2024-11-05T00:00:00",
          "2024-11-06T00:00:00",
          "2024-11-07T00:00:00",
          "2024-11-08T00:00:00",
          "2024-11-11T00:00:00",
          "2024-11-12T00:00:00",
          "2024-11-13T00:00:00",
          "2024-11-14T00:00:00",
          "2024-11-15T00:00:00",
          "2024-11-18T00:00:00",
          "2024-11-19T00:00:00",
          "2024-11-20T00:00:00",
          "2024-11-21T00:00:00",
          "2024-11-22T00:00:00",
          "2024-11-25T00:00:00",
          "2024-11-26T00:00:00",
          "2024-11-27T00:00:00",
          "2024-11-28T00:00:00",
          "2024-11-29T00:00:00",
          "2024-12-02T00:00:00",
          "2024-12-03T00:00:00",
          "2024-12-04T00:00:00",
          "2024-12-05T00:00:00",
          "2024-12-06T00:00:00",
          "2024-12-09T00:00:00",
          "2024-12-10T00:00:00",
          "2024-12-11T00:00:00",
          "2024-12-12T00:00:00",
          "2024-12-13T00:00:00",
          "2024-12-16T00:00:00",
          "2024-12-17T00:00:00",
          "2024-12-18T00:00:00",
          "2024-12-19T00:00:00",
          "2024-12-20T00:00:00",
          "2024-12-23T00:00:00",
          "2024-12-24T00:00:00",
          "2024-12-25T00:00:00",
          "2024-12-26T00:00:00",
          "2024-12-27T00:00:00",
          "2024-12-30T00:00:00",
          "2024-12-31T00:00:00",
          "2025-01-02T00:00:00",
          "2025-01-03T00:00:00",
          "2025-01-06T00:00:00",
          "2025-01-07T00:00:00",
          "2025-01-08T00:00:00",
          "2025-01-09T00:00:00",
          "2025-01-10T00:00:00",
          "2025-01-13T00:00:00",
          "2025-01-14T00:00:00",
          "2025-01-15T00:00:00",
          "2025-01-16T00:00:00",
          "2025-01-17T00:00:00",
          "2025-01-20T00:00:00",
          "2025-01-21T00:00:00",
          "2025-01-22T00:00:00",
          "2025-02-03T00:00:00",
          "2025-02-04T00:00:00",
          "2025-02-05T00:00:00",
          "2025-02-06T00:00:00",
          "2025-02-07T00:00:00",
          "2025-02-10T00:00:00",
          "2025-02-11T00:00:00",
          "2025-02-12T00:00:00",
          "2025-02-13T00:00:00",
          "2025-02-14T00:00:00",
          "2025-02-17T00:00:00",
          "2025-02-18T00:00:00",
          "2025-02-19T00:00:00",
          "2025-02-20T00:00:00",
          "2025-02-21T00:00:00",
          "2025-02-24T00:00:00",
          "2025-02-25T00:00:00",
          "2025-02-26T00:00:00",
          "2025-02-27T00:00:00",
          "2025-03-03T00:00:00",
          "2025-03-04T00:00:00",
          "2025-03-05T00:00:00",
          "2025-03-06T00:00:00",
          "2025-03-07T00:00:00",
          "2025-03-10T00:00:00",
          "2025-03-11T00:00:00",
          "2025-03-12T00:00:00",
          "2025-03-13T00:00:00",
          "2025-03-14T00:00:00",
          "2025-03-17T00:00:00",
          "2025-03-18T00:00:00",
          "2025-03-19T00:00:00",
          "2025-03-20T00:00:00",
          "2025-03-21T00:00:00",
          "2025-03-24T00:00:00",
          "2025-03-25T00:00:00",
          "2025-03-26T00:00:00",
          "2025-03-27T00:00:00",
          "2025-03-28T00:00:00",
          "2025-03-31T00:00:00",
          "2025-04-01T00:00:00",
          "2025-04-02T00:00:00",
          "2025-04-07T00:00:00",
          "2025-04-08T00:00:00",
          "2025-04-09T00:00:00",
          "2025-04-10T00:00:00",
          "2025-04-11T00:00:00",
          "2025-04-14T00:00:00",
          "2025-04-15T00:00:00",
          "2025-04-16T00:00:00",
          "2025-04-17T00:00:00",
          "2025-04-18T00:00:00",
          "2025-04-21T00:00:00",
          "2025-04-22T00:00:00",
          "2025-04-23T00:00:00",
          "2025-04-24T00:00:00",
          "2025-04-25T00:00:00",
          "2025-04-28T00:00:00",
          "2025-04-29T00:00:00",
          "2025-04-30T00:00:00",
          "2025-05-02T00:00:00",
          "2025-05-05T00:00:00",
          "2025-05-06T00:00:00",
          "2025-05-07T00:00:00",
          "2025-05-08T00:00:00",
          "2025-05-09T00:00:00",
          "2025-05-12T00:00:00",
          "2025-05-13T00:00:00",
          "2025-05-14T00:00:00",
          "2025-05-15T00:00:00",
          "2025-05-16T00:00:00",
          "2025-05-19T00:00:00",
          "2025-05-20T00:00:00",
          "2025-05-21T00:00:00",
          "2025-05-22T00:00:00",
          "2025-05-23T00:00:00",
          "2025-05-26T00:00:00",
          "2025-05-27T00:00:00",
          "2025-05-28T00:00:00",
          "2025-05-29T00:00:00",
          "2025-06-02T00:00:00",
          "2025-06-03T00:00:00",
          "2025-06-04T00:00:00",
          "2025-06-05T00:00:00",
          "2025-06-06T00:00:00",
          "2025-06-09T00:00:00",
          "2025-06-10T00:00:00",
          "2025-06-11T00:00:00",
          "2025-06-12T00:00:00",
          "2025-06-13T00:00:00",
          "2025-06-16T00:00:00",
          "2025-06-17T00:00:00",
          "2025-06-18T00:00:00",
          "2025-06-19T00:00:00",
          "2025-06-20T00:00:00",
          "2025-06-23T00:00:00",
          "2025-06-24T00:00:00",
          "2025-06-25T00:00:00",
          "2025-06-26T00:00:00",
          "2025-06-27T00:00:00",
          "2025-06-30T00:00:00",
          "2025-07-01T00:00:00",
          "2025-07-02T00:00:00",
          "2025-07-03T00:00:00",
          "2025-07-04T00:00:00",
          "2025-07-07T00:00:00",
          "2025-07-08T00:00:00",
          "2025-07-09T00:00:00",
          "2025-07-10T00:00:00",
          "2025-07-11T00:00:00",
          "2025-07-14T00:00:00",
          "2025-07-15T00:00:00",
          "2025-07-16T00:00:00",
          "2025-07-17T00:00:00",
          "2025-07-18T00:00:00",
          "2025-07-21T00:00:00",
          "2025-07-22T00:00:00",
          "2025-07-23T00:00:00",
          "2025-07-24T00:00:00",
          "2025-07-25T00:00:00",
          "2025-07-28T00:00:00",
          "2025-07-29T00:00:00",
          "2025-07-30T00:00:00",
          "2025-07-31T00:00:00",
          "2025-08-04T00:00:00",
          "2025-08-05T00:00:00",
          "2025-08-06T00:00:00",
          "2025-08-07T00:00:00",
          "2025-08-08T00:00:00",
          "2025-08-11T00:00:00",
          "2025-08-12T00:00:00",
          "2025-08-13T00:00:00",
          "2025-08-14T00:00:00",
          "2025-08-15T00:00:00",
          "2025-08-18T00:00:00",
          "2025-08-19T00:00:00",
          "2025-08-20T00:00:00",
          "2025-08-21T00:00:00",
          "2025-08-22T00:00:00",
          "2025-08-25T00:00:00",
          "2025-08-26T00:00:00",
          "2025-08-27T00:00:00"
         ],
         "xaxis": "x",
         "y": [
          null,
          0.6907634006325802,
          0.6907519813716527,
          0.6931471805599453,
          0.6810551146850505,
          0.690681099900853,
          0.6881843748404181,
          0.6956440892722096,
          0.6931471805599453,
          0.6906564908756763,
          0.6931471805599453,
          0.6861225748509829,
          0.6997178560860321,
          0.6961456852574377,
          0.6901576400205,
          0.6986375758227501,
          0.6906688764992045,
          0.7005821632313187,
          0.6955951503413121,
          0.6931471805599453,
          0.6907051887038264,
          0.6955951503413121,
          0.6955832236158116,
          0.6882810143358022,
          0.6906931636652277,
          0.690681099900853,
          0.6956193578106388,
          0.7005091814938132,
          0.6955714518127988,
          0.6907287721878503,
          0.6955714518127988,
          0.6907287721878503,
          0.6955714518127988,
          0.6931471805599453,
          0.6907287721878503,
          0.6882810143358022,
          0.7149662010725987,
          0.6931471805599453,
          0.6931471805599453,
          0.6978310453499982,
          0.6814511212725306,
          0.7143494011723209,
          0.7356116738796281,
          0.6994299272960487,
          0.6952197101301658,
          0.7375989256477562,
          0.7081850771797307,
          0.6931471805599453,
          0.700473214994026,
          0.7093200203228313,
          0.7036184869478035,
          0.6931471805599453,
          0.6810467755644107,
          0.7157765230155118,
          0.7164427392116113,
          0.6802020256503429,
          0.6898414083769414,
          0.7209950319605543,
          0.6931471805599453,
          0.6899975359400436,
          0.6931471805599453,
          0.6820093863856356,
          0.6784770073597116,
          0.6948125059346363,
          0.6780841531483622,
          0.6758755661832595,
          0.7124629902635359,
          0.6982535498243649,
          0.6761109647875266,
          0.6931471805599453,
          0.6966376254124894,
          0.733969143544389,
          0.6786190972398812,
          0.7046321283312027,
          0.7043742411511461,
          0.6852294694835718,
          0.6867163210835514,
          0.6996196638109675,
          0.7293430870876552,
          0.6990995990558856,
          0.6931471805599453,
          0.6960927244197718,
          0.6902102874538109,
          0.6931471805599453,
          0.700494764658664,
          0.688777201949919,
          0.6960754261540727,
          0.6887643860974912,
          0.6857670605419945,
          0.688659535430104,
          0.702142797422978,
          0.7049119648960804,
          0.701780333077031,
          0.7183939786105353,
          0.6944976131508104,
          0.6795784727338178,
          0.6820050129416382,
          0.6803173236369949,
          0.7061437843672193,
          0.6774437723691172,
          0.7062192461145826,
          0.6988289868009901,
          0.6931471805599453,
          0.7015624282754604,
          0.7123521121734039,
          0.7050757804858894,
          0.7086513761927793,
          0.6981849503046726,
          0.6893901496913921,
          0.704418419625134,
          0.728238489351397,
          0.6804229142467251,
          0.6788951494338669,
          0.7052100732109697,
          0.6907746731850526,
          0.6990819261334424,
          0.696670399683304,
          0.6978091711059069,
          0.6785588400200896,
          0.6894729538773564,
          0.7210785776565644,
          0.6931471805599453,
          0.7207351252935912,
          0.6909372445626799,
          0.6887027131036192,
          0.6976114895249887,
          0.6718578658662181,
          0.6943039318906233,
          0.6850311747654347,
          0.6907970135211445,
          0.6740989941957225,
          0.6931471805599453,
          0.6645560357941215,
          0.7162547354507675,
          0.6692916911573559,
          0.6957479919948659,
          0.7008891205926043,
          0.6982362680869478,
          0.7044467456846386,
          0.6528394352913344,
          0.6422771340348148,
          0.6916579600351631,
          0.7020625520384896,
          0.6724056938928618,
          0.7083219599352603,
          0.7151583604110641,
          0.7072517693762266,
          0.7055015011453141,
          0.6809436284636775,
          0.7014003297366564,
          0.7012663121794188,
          0.6918093724361284,
          0.6850717592213856,
          0.6821881711620217,
          0.6945389851608365,
          0.6986873366676701,
          0.6890178270049896,
          0.7069025383943829,
          0.6904481354559702,
          0.6931471805599453,
          0.6890738516740611,
          0.6985967613770224,
          0.6781707270738896,
          0.6805331710948067,
          0.6974236959390958,
          0.6803173872474215,
          0.6843879929210833,
          0.6946253942908083,
          0.7164718421034062,
          0.6889128727669485,
          0.7072517693762266,
          0.6736207552564271,
          0.7003053987037413,
          0.6945626251835788,
          0.7015860567132673,
          0.7014459906349515,
          0.7080627099208138,
          0.6957961770803601,
          0.6970971562881452,
          0.6839426645168225,
          0.6918129423461024,
          0.7116907604915703,
          0.7021273372131792,
          0.6842469499045879,
          0.7059514370431679,
          0.6956565812119488,
          0.6906440612404819,
          0.7130483266570231,
          0.6883045772215005,
          0.7016475172304683,
          0.6907462295053101,
          0.6991531973188853,
          0.7061574165880888,
          0.6943066142438367,
          0.6826758714453065,
          0.7037292993345778,
          0.6908296926109706,
          0.6802739789231851,
          0.6979090733436984,
          0.6848385450652903,
          0.7074672091135171,
          0.6931471805599453,
          0.6919782969486533,
          0.7013104737365387,
          0.6954486674970835,
          0.6977238638169858,
          0.6794169754925045,
          0.694314736380406,
          0.6861296016714328,
          0.6824518817960028,
          0.6822181385694847,
          0.6956132621881186,
          0.699270890915125,
          0.6846157636439554,
          0.6943809620705661,
          0.7114515519054654,
          0.6739619483874684,
          0.6782215174263455,
          0.6905994196693661,
          0.6931471805599453,
          0.6944251101801845,
          0.6944218925859924,
          0.704532512806245,
          0.6881596215445132,
          0.6906314669713011,
          0.6855425744686373,
          0.6854251275512057,
          0.6853039959654492,
          0.6918235803362089,
          0.6878280004032022,
          0.6810094615012255,
          0.6958906979268978,
          0.697237169338393,
          0.683616793080705,
          0.6931471805599453,
          0.7055015011453141,
          0.6931471805599453,
          0.6958389604242583,
          0.6958245889359471,
          0.6904769215620102,
          0.6891176214222406,
          0.6904408307758821,
          0.6890627600831508,
          0.689029120256342,
          0.7027692709901228,
          0.7079423379891194,
          0.6878701049644148,
          0.679760116101007,
          0.6890403950513412,
          0.6652123934794184,
          0.7018555161797967,
          0.6830678774352358,
          0.7004305712625418,
          0.6931471805599453,
          0.7060320777669731,
          0.6945507056351302,
          0.6973400625265921,
          0.6520357707046925,
          0.6916354949743615,
          0.7111656544024817,
          0.6989781215697347,
          0.7074946115205274,
          0.6818476298488051,
          0.707412785523128,
          0.6875449054076157,
          0.7015860567132673,
          0.6875761158792578,
          0.7057084178917622,
          0.6958831484235185,
          0.6917838813419757,
          0.6904111694915703,
          0.6958906979268978,
          0.6958756832052756,
          0.6753262971839394,
          0.7015623847017812,
          0.6749775378026642,
          0.6815863629141694,
          0.6946167053398042,
          0.7019063681988071,
          0.6931471805599453,
          0.6888150401276892,
          0.6931471805599453,
          0.6829206244759033,
          0.6990643784887157,
          0.6857888048073243,
          0.6990818899030558,
          0.6872474843015004,
          0.6916579600351631,
          0.6826444331574599,
          0.6992262482578887,
          0.6901306002588998,
          0.6870681131541863,
          0.6992634291684687,
          0.6961728881578696,
          0.676442161526972,
          0.6726901487639708,
          0.6668298318544992,
          0.7134868836964388,
          0.6980692621922935,
          0.6430532435317019,
          0.6431830275137033,
          0.641853882843351,
          0.7408786147985933,
          0.7367184243870692,
          0.7079075894679341,
          0.6967507722515187,
          0.6805230540758129,
          0.6876172078222432,
          0.6968577436275288,
          0.6968304098869778,
          0.6765263132383501,
          0.7193169312259401,
          0.6841136496270211,
          0.7022630606426868,
          0.7056584873724187,
          0.6949000494043763,
          0.6878886188366318,
          0.7141269341005956,
          0.6760527675329114,
          0.705353060468689,
          0.6897166603508443,
          0.6965895097605563,
          0.6965660264918051,
          0.7133498523789891,
          0.7093550226898724,
          0.7088460707725678,
          0.6823529582908098,
          0.688433892048539,
          0.6804081605564775,
          0.6931471805599453,
          0.6963886601950994,
          0.6866746431994037,
          0.6964098635633152,
          0.689895108047669,
          0.6898738694471467,
          0.6931471805599453,
          0.7062192567230063,
          0.6818658599175285,
          0.689863119855103,
          0.7078894230925225,
          0.6915433633562332,
          0.6850760706871429,
          0.6980371703915714,
          0.696378238119182,
          0.6947535741258476,
          0.6979433571884431,
          0.6899675415514455,
          0.6883433240304897,
          0.6931471805599453,
          0.6963677811544554,
          0.686716318350299,
          0.6980054938580952,
          0.6947535741258476,
          0.7074672473055851,
          0.6978091977899793,
          0.6962288335820053,
          0.6992634291684687,
          0.6809519130516669,
          0.7070255470322088,
          0.7003223405321388,
          0.6993010461343236,
          0.683958754505539,
          0.6931471805599453,
          0.6869166308093092,
          0.6994167935735407,
          0.6946987712513641,
          0.6931471805599453,
          0.690046402881697,
          0.7009051713708846,
          0.6916122608418616,
          0.6977519469466936,
          0.6977099261183634,
          0.6916354644746233,
          0.6840146969966728,
          0.7054172731517597,
          0.7169578292536637,
          0.6945829309860495,
          0.6974359648321629,
          0.6802806699666951,
          0.6931471805599453,
          0.7119202950678704,
          0.6987494361086153,
          0.7055697005585024,
          0.6972039812555596,
          0.7157395035885393,
          0.6931471805599453,
          0.7021043741639621,
          0.6906187342065866,
          0.6969470584697202,
          0.6956629051571924,
          0.7117696926579472,
          0.7003674285334324,
          0.6883739018072876,
          0.6749538345987396,
          0.7067696822412414,
          0.6846157455104764,
          0.7054172731517597,
          0.6967551219361444,
          0.6907519698339903
         ],
         "yaxis": "y"
        },
        {
         "hovertemplate": "Ticker=2330.TW<br>Date=%{x}<br>value=%{y}<extra></extra>",
         "legendgroup": "2330.TW",
         "line": {
          "color": "#EF553B",
          "dash": "solid"
         },
         "marker": {
          "symbol": "circle"
         },
         "mode": "lines",
         "name": "2330.TW",
         "showlegend": true,
         "type": "scattergl",
         "x": [
          "2024-01-02T00:00:00",
          "2024-01-03T00:00:00",
          "2024-01-04T00:00:00",
          "2024-01-05T00:00:00",
          "2024-01-08T00:00:00",
          "2024-01-09T00:00:00",
          "2024-01-10T00:00:00",
          "2024-01-11T00:00:00",
          "2024-01-12T00:00:00",
          "2024-01-15T00:00:00",
          "2024-01-16T00:00:00",
          "2024-01-17T00:00:00",
          "2024-01-18T00:00:00",
          "2024-01-19T00:00:00",
          "2024-01-22T00:00:00",
          "2024-01-23T00:00:00",
          "2024-01-24T00:00:00",
          "2024-01-25T00:00:00",
          "2024-01-26T00:00:00",
          "2024-01-29T00:00:00",
          "2024-01-30T00:00:00",
          "2024-01-31T00:00:00",
          "2024-02-01T00:00:00",
          "2024-02-02T00:00:00",
          "2024-02-05T00:00:00",
          "2024-02-15T00:00:00",
          "2024-02-16T00:00:00",
          "2024-02-19T00:00:00",
          "2024-02-20T00:00:00",
          "2024-02-21T00:00:00",
          "2024-02-22T00:00:00",
          "2024-02-23T00:00:00",
          "2024-02-26T00:00:00",
          "2024-02-27T00:00:00",
          "2024-02-29T00:00:00",
          "2024-03-01T00:00:00",
          "2024-03-04T00:00:00",
          "2024-03-05T00:00:00",
          "2024-03-06T00:00:00",
          "2024-03-07T00:00:00",
          "2024-03-08T00:00:00",
          "2024-03-11T00:00:00",
          "2024-03-12T00:00:00",
          "2024-03-13T00:00:00",
          "2024-03-14T00:00:00",
          "2024-03-15T00:00:00",
          "2024-03-18T00:00:00",
          "2024-03-19T00:00:00",
          "2024-03-20T00:00:00",
          "2024-03-21T00:00:00",
          "2024-03-22T00:00:00",
          "2024-03-25T00:00:00",
          "2024-03-26T00:00:00",
          "2024-03-27T00:00:00",
          "2024-03-28T00:00:00",
          "2024-03-29T00:00:00",
          "2024-04-01T00:00:00",
          "2024-04-02T00:00:00",
          "2024-04-03T00:00:00",
          "2024-04-08T00:00:00",
          "2024-04-09T00:00:00",
          "2024-04-10T00:00:00",
          "2024-04-11T00:00:00",
          "2024-04-12T00:00:00",
          "2024-04-15T00:00:00",
          "2024-04-16T00:00:00",
          "2024-04-17T00:00:00",
          "2024-04-18T00:00:00",
          "2024-04-19T00:00:00",
          "2024-04-22T00:00:00",
          "2024-04-23T00:00:00",
          "2024-04-24T00:00:00",
          "2024-04-25T00:00:00",
          "2024-04-26T00:00:00",
          "2024-04-29T00:00:00",
          "2024-04-30T00:00:00",
          "2024-05-02T00:00:00",
          "2024-05-03T00:00:00",
          "2024-05-06T00:00:00",
          "2024-05-07T00:00:00",
          "2024-05-08T00:00:00",
          "2024-05-09T00:00:00",
          "2024-05-10T00:00:00",
          "2024-05-13T00:00:00",
          "2024-05-14T00:00:00",
          "2024-05-15T00:00:00",
          "2024-05-16T00:00:00",
          "2024-05-17T00:00:00",
          "2024-05-20T00:00:00",
          "2024-05-21T00:00:00",
          "2024-05-22T00:00:00",
          "2024-05-23T00:00:00",
          "2024-05-24T00:00:00",
          "2024-05-27T00:00:00",
          "2024-05-28T00:00:00",
          "2024-05-29T00:00:00",
          "2024-05-30T00:00:00",
          "2024-05-31T00:00:00",
          "2024-06-03T00:00:00",
          "2024-06-04T00:00:00",
          "2024-06-05T00:00:00",
          "2024-06-06T00:00:00",
          "2024-06-07T00:00:00",
          "2024-06-11T00:00:00",
          "2024-06-12T00:00:00",
          "2024-06-13T00:00:00",
          "2024-06-14T00:00:00",
          "2024-06-17T00:00:00",
          "2024-06-18T00:00:00",
          "2024-06-19T00:00:00",
          "2024-06-20T00:00:00",
          "2024-06-21T00:00:00",
          "2024-06-24T00:00:00",
          "2024-06-25T00:00:00",
          "2024-06-26T00:00:00",
          "2024-06-27T00:00:00",
          "2024-06-28T00:00:00",
          "2024-07-01T00:00:00",
          "2024-07-02T00:00:00",
          "2024-07-03T00:00:00",
          "2024-07-04T00:00:00",
          "2024-07-05T00:00:00",
          "2024-07-08T00:00:00",
          "2024-07-09T00:00:00",
          "2024-07-10T00:00:00",
          "2024-07-11T00:00:00",
          "2024-07-12T00:00:00",
          "2024-07-15T00:00:00",
          "2024-07-16T00:00:00",
          "2024-07-17T00:00:00",
          "2024-07-18T00:00:00",
          "2024-07-19T00:00:00",
          "2024-07-22T00:00:00",
          "2024-07-23T00:00:00",
          "2024-07-26T00:00:00",
          "2024-07-29T00:00:00",
          "2024-07-30T00:00:00",
          "2024-07-31T00:00:00",
          "2024-08-01T00:00:00",
          "2024-08-02T00:00:00",
          "2024-08-05T00:00:00",
          "2024-08-06T00:00:00",
          "2024-08-07T00:00:00",
          "2024-08-08T00:00:00",
          "2024-08-09T00:00:00",
          "2024-08-12T00:00:00",
          "2024-08-13T00:00:00",
          "2024-08-14T00:00:00",
          "2024-08-15T00:00:00",
          "2024-08-16T00:00:00",
          "2024-08-19T00:00:00",
          "2024-08-20T00:00:00",
          "2024-08-21T00:00:00",
          "2024-08-22T00:00:00",
          "2024-08-23T00:00:00",
          "2024-08-26T00:00:00",
          "2024-08-27T00:00:00",
          "2024-08-28T00:00:00",
          "2024-08-29T00:00:00",
          "2024-08-30T00:00:00",
          "2024-09-02T00:00:00",
          "2024-09-03T00:00:00",
          "2024-09-04T00:00:00",
          "2024-09-05T00:00:00",
          "2024-09-06T00:00:00",
          "2024-09-09T00:00:00",
          "2024-09-10T00:00:00",
          "2024-09-11T00:00:00",
          "2024-09-12T00:00:00",
          "2024-09-13T00:00:00",
          "2024-09-16T00:00:00",
          "2024-09-18T00:00:00",
          "2024-09-19T00:00:00",
          "2024-09-20T00:00:00",
          "2024-09-23T00:00:00",
          "2024-09-24T00:00:00",
          "2024-09-25T00:00:00",
          "2024-09-26T00:00:00",
          "2024-09-27T00:00:00",
          "2024-09-30T00:00:00",
          "2024-10-01T00:00:00",
          "2024-10-04T00:00:00",
          "2024-10-07T00:00:00",
          "2024-10-08T00:00:00",
          "2024-10-09T00:00:00",
          "2024-10-11T00:00:00",
          "2024-10-14T00:00:00",
          "2024-10-15T00:00:00",
          "2024-10-16T00:00:00",
          "2024-10-17T00:00:00",
          "2024-10-18T00:00:00",
          "2024-10-21T00:00:00",
          "2024-10-22T00:00:00",
          "2024-10-23T00:00:00",
          "2024-10-24T00:00:00",
          "2024-10-25T00:00:00",
          "2024-10-28T00:00:00",
          "2024-10-29T00:00:00",
          "2024-10-30T00:00:00",
          "2024-11-01T00:00:00",
          "2024-11-04T00:00:00",
          "2024-11-05T00:00:00",
          "2024-11-06T00:00:00",
          "2024-11-07T00:00:00",
          "2024-11-08T00:00:00",
          "2024-11-11T00:00:00",
          "2024-11-12T00:00:00",
          "2024-11-13T00:00:00",
          "2024-11-14T00:00:00",
          "2024-11-15T00:00:00",
          "2024-11-18T00:00:00",
          "2024-11-19T00:00:00",
          "2024-11-20T00:00:00",
          "2024-11-21T00:00:00",
          "2024-11-22T00:00:00",
          "2024-11-25T00:00:00",
          "2024-11-26T00:00:00",
          "2024-11-27T00:00:00",
          "2024-11-28T00:00:00",
          "2024-11-29T00:00:00",
          "2024-12-02T00:00:00",
          "2024-12-03T00:00:00",
          "2024-12-04T00:00:00",
          "2024-12-05T00:00:00",
          "2024-12-06T00:00:00",
          "2024-12-09T00:00:00",
          "2024-12-10T00:00:00",
          "2024-12-11T00:00:00",
          "2024-12-12T00:00:00",
          "2024-12-13T00:00:00",
          "2024-12-16T00:00:00",
          "2024-12-17T00:00:00",
          "2024-12-18T00:00:00",
          "2024-12-19T00:00:00",
          "2024-12-20T00:00:00",
          "2024-12-23T00:00:00",
          "2024-12-24T00:00:00",
          "2024-12-25T00:00:00",
          "2024-12-26T00:00:00",
          "2024-12-27T00:00:00",
          "2024-12-30T00:00:00",
          "2024-12-31T00:00:00",
          "2025-01-02T00:00:00",
          "2025-01-03T00:00:00",
          "2025-01-06T00:00:00",
          "2025-01-07T00:00:00",
          "2025-01-08T00:00:00",
          "2025-01-09T00:00:00",
          "2025-01-10T00:00:00",
          "2025-01-13T00:00:00",
          "2025-01-14T00:00:00",
          "2025-01-15T00:00:00",
          "2025-01-16T00:00:00",
          "2025-01-17T00:00:00",
          "2025-01-20T00:00:00",
          "2025-01-21T00:00:00",
          "2025-01-22T00:00:00",
          "2025-02-03T00:00:00",
          "2025-02-04T00:00:00",
          "2025-02-05T00:00:00",
          "2025-02-06T00:00:00",
          "2025-02-07T00:00:00",
          "2025-02-10T00:00:00",
          "2025-02-11T00:00:00",
          "2025-02-12T00:00:00",
          "2025-02-13T00:00:00",
          "2025-02-14T00:00:00",
          "2025-02-17T00:00:00",
          "2025-02-18T00:00:00",
          "2025-02-19T00:00:00",
          "2025-02-20T00:00:00",
          "2025-02-21T00:00:00",
          "2025-02-24T00:00:00",
          "2025-02-25T00:00:00",
          "2025-02-26T00:00:00",
          "2025-02-27T00:00:00",
          "2025-03-03T00:00:00",
          "2025-03-04T00:00:00",
          "2025-03-05T00:00:00",
          "2025-03-06T00:00:00",
          "2025-03-07T00:00:00",
          "2025-03-10T00:00:00",
          "2025-03-11T00:00:00",
          "2025-03-12T00:00:00",
          "2025-03-13T00:00:00",
          "2025-03-14T00:00:00",
          "2025-03-17T00:00:00",
          "2025-03-18T00:00:00",
          "2025-03-19T00:00:00",
          "2025-03-20T00:00:00",
          "2025-03-21T00:00:00",
          "2025-03-24T00:00:00",
          "2025-03-25T00:00:00",
          "2025-03-26T00:00:00",
          "2025-03-27T00:00:00",
          "2025-03-28T00:00:00",
          "2025-03-31T00:00:00",
          "2025-04-01T00:00:00",
          "2025-04-02T00:00:00",
          "2025-04-07T00:00:00",
          "2025-04-08T00:00:00",
          "2025-04-09T00:00:00",
          "2025-04-10T00:00:00",
          "2025-04-11T00:00:00",
          "2025-04-14T00:00:00",
          "2025-04-15T00:00:00",
          "2025-04-16T00:00:00",
          "2025-04-17T00:00:00",
          "2025-04-18T00:00:00",
          "2025-04-21T00:00:00",
          "2025-04-22T00:00:00",
          "2025-04-23T00:00:00",
          "2025-04-24T00:00:00",
          "2025-04-25T00:00:00",
          "2025-04-28T00:00:00",
          "2025-04-29T00:00:00",
          "2025-04-30T00:00:00",
          "2025-05-02T00:00:00",
          "2025-05-05T00:00:00",
          "2025-05-06T00:00:00",
          "2025-05-07T00:00:00",
          "2025-05-08T00:00:00",
          "2025-05-09T00:00:00",
          "2025-05-12T00:00:00",
          "2025-05-13T00:00:00",
          "2025-05-14T00:00:00",
          "2025-05-15T00:00:00",
          "2025-05-16T00:00:00",
          "2025-05-19T00:00:00",
          "2025-05-20T00:00:00",
          "2025-05-21T00:00:00",
          "2025-05-22T00:00:00",
          "2025-05-23T00:00:00",
          "2025-05-26T00:00:00",
          "2025-05-27T00:00:00",
          "2025-05-28T00:00:00",
          "2025-05-29T00:00:00",
          "2025-06-02T00:00:00",
          "2025-06-03T00:00:00",
          "2025-06-04T00:00:00",
          "2025-06-05T00:00:00",
          "2025-06-06T00:00:00",
          "2025-06-09T00:00:00",
          "2025-06-10T00:00:00",
          "2025-06-11T00:00:00",
          "2025-06-12T00:00:00",
          "2025-06-13T00:00:00",
          "2025-06-16T00:00:00",
          "2025-06-17T00:00:00",
          "2025-06-18T00:00:00",
          "2025-06-19T00:00:00",
          "2025-06-20T00:00:00",
          "2025-06-23T00:00:00",
          "2025-06-24T00:00:00",
          "2025-06-25T00:00:00",
          "2025-06-26T00:00:00",
          "2025-06-27T00:00:00",
          "2025-06-30T00:00:00",
          "2025-07-01T00:00:00",
          "2025-07-02T00:00:00",
          "2025-07-03T00:00:00",
          "2025-07-04T00:00:00",
          "2025-07-07T00:00:00",
          "2025-07-08T00:00:00",
          "2025-07-09T00:00:00",
          "2025-07-10T00:00:00",
          "2025-07-11T00:00:00",
          "2025-07-14T00:00:00",
          "2025-07-15T00:00:00",
          "2025-07-16T00:00:00",
          "2025-07-17T00:00:00",
          "2025-07-18T00:00:00",
          "2025-07-21T00:00:00",
          "2025-07-22T00:00:00",
          "2025-07-23T00:00:00",
          "2025-07-24T00:00:00",
          "2025-07-25T00:00:00",
          "2025-07-28T00:00:00",
          "2025-07-29T00:00:00",
          "2025-07-30T00:00:00",
          "2025-07-31T00:00:00",
          "2025-08-04T00:00:00",
          "2025-08-05T00:00:00",
          "2025-08-06T00:00:00",
          "2025-08-07T00:00:00",
          "2025-08-08T00:00:00",
          "2025-08-11T00:00:00",
          "2025-08-12T00:00:00",
          "2025-08-13T00:00:00",
          "2025-08-14T00:00:00",
          "2025-08-15T00:00:00",
          "2025-08-18T00:00:00",
          "2025-08-19T00:00:00",
          "2025-08-20T00:00:00",
          "2025-08-21T00:00:00",
          "2025-08-22T00:00:00",
          "2025-08-25T00:00:00",
          "2025-08-26T00:00:00",
          "2025-08-27T00:00:00"
         ],
         "xaxis": "x",
         "y": [
          null,
          0.6804190217758251,
          0.6948756229206109,
          0.6896930615084472,
          0.6992051952138153,
          0.695716742134318,
          0.6914392957577118,
          0.6948579872235907,
          0.6914392957577118,
          0.6948579872235907,
          0.6880144820160553,
          0.6940089032669506,
          0.6991533788834999,
          0.7249489437127806,
          0.6931471805599453,
          0.6947433462636013,
          0.6923507119541082,
          0.7050379228313645,
          0.6947035486190111,
          0.6962479510128629,
          0.6885068603363086,
          0.682183853335276,
          0.6931471805599453,
          0.6987049674095155,
          0.7017712578132368,
          0.7318617675929232,
          0.6830533470775643,
          0.6894801750132795,
          0.6997623802968754,
          0.6887708165548575,
          0.7011911029002672,
          0.6967534008837057,
          0.6938642592782026,
          0.6931471805599453,
          0.6874000522662503,
          0.6924222592729917,
          0.7189365141211027,
          0.6965895814449369,
          0.696566043230089,
          0.7100108817485102,
          0.7088133425596845,
          0.6816012173908098,
          0.6957547375800387,
          0.6989742507508875,
          0.6963513373205705,
          0.6731787104037978,
          0.7027736850041599,
          0.6918374311252381,
          0.6905190751595957,
          0.7101521802131366,
          0.6937846885002137,
          0.6899573659116589,
          0.6944284025302908,
          0.6912271922251186,
          0.686707969098202,
          0.697688271869943,
          0.6892737339032986,
          0.7060505423259018,
          0.6867979538863995,
          0.6950684782266812,
          0.7158754016731675,
          0.6907022074032096,
          0.6962099502100889,
          0.6919269320439125,
          0.6857851935970276,
          0.6819180728877062,
          0.7032482904587956,
          0.6931471805599453,
          0.6589882847973313,
          0.6877995672147248,
          0.7012009468129494,
          0.7121953739708562,
          0.6822320953463785,
          0.7035368582307927,
          0.7014248729030022,
          0.689997552612269,
          0.6816894186812753,
          0.6983151174231154,
          0.6969860119794729,
          0.7020135916649256,
          0.6943963918867779,
          0.6893995426805795,
          0.6969089160783943,
          0.703689923122779,
          0.6968034681530512,
          0.7015962559328052,
          0.6943383582354353,
          0.6895736069621573,
          0.6931471805599453,
          0.696733570399463,
          0.7067287524360925,
          0.6994927044793976,
          0.688565300498231,
          0.6942999109853089,
          0.6908430110198389,
          0.6885122078507264,
          0.682000100229835,
          0.6829521057316241,
          0.7082578283612825,
          0.6890015098094714,
          0.7020466552166214,
          0.7162963937434375,
          0.684722515446089,
          0.6954198941616023,
          0.7077624040789773,
          0.7005738749901103,
          0.6947780476471671,
          0.6926047715311786,
          0.7050199769659832,
          0.713095275286289,
          0.6931471805599453,
          0.6875248877732792,
          0.6775624595975611,
          0.6958032063958776,
          0.70105240404346,
          0.6931471805599453,
          0.6962672540975521,
          0.694181866860317,
          0.6890064163731058,
          0.7029943349886885,
          0.7063386494381463,
          0.6931471805599453,
          0.7079622872423365,
          0.6955596504931412,
          0.6955481854794829,
          0.7097549505134525,
          0.6744549726988353,
          0.6931471805599453,
          0.70033291046913,
          0.6812280517676719,
          0.6809370393149027,
          0.6755808526188923,
          0.6770387333498387,
          0.7142227960590599,
          0.6646552269653152,
          0.7039115402401162,
          0.6910263035144898,
          0.6899505763958379,
          0.7069698726531796,
          0.6630100645799535,
          0.6431935760636699,
          0.7322498971346387,
          0.7156200207321836,
          0.6800178775227133,
          0.7141308261199573,
          0.6963540357795587,
          0.6936789503847939,
          0.6968597024861456,
          0.6905066500856875,
          0.7068387810169158,
          0.6952090227061672,
          0.6931471805599453,
          0.6854091573135537,
          0.6894871032355572,
          0.6920950445341889,
          0.6936739413163555,
          0.6889277612172315,
          0.7047568282434308,
          0.682195354324514,
          0.6936771932259398,
          0.6952635690040515,
          0.688918873313945,
          0.6656447949406329,
          0.7004321856946745,
          0.7019772330024486,
          0.6827446815726653,
          0.6959241351398678,
          0.6914865216765921,
          0.7168333280101237,
          0.6968636859612992,
          0.6931471805599453,
          0.6899742400354374,
          0.7031922130627161,
          0.6998951913486244,
          0.6952005464026052,
          0.6982518273035597,
          0.7022244067285365,
          0.6981099606148423,
          0.6857305813936578,
          0.6714126880980658,
          0.7009536551059297,
          0.6957158742613959,
          0.7073750612509933,
          0.6956316645715317,
          0.6980854833054864,
          0.7053275606704824,
          0.6931471805599453,
          0.7050379488973014,
          0.6813961427183085,
          0.6883510172549424,
          0.7170146759120494,
          0.6931471805599453,
          0.6885282721585573,
          0.6861459845622859,
          0.6931471805599453,
          0.6955028168618135,
          0.6860800116902261,
          0.6883738809623765,
          0.6883279326013355,
          0.6907170652738965,
          0.7004375551202023,
          0.6979433738687816,
          0.6978978625596395,
          0.6955028168618135,
          0.7048158888409372,
          0.6908510433945305,
          0.6768866185924082,
          0.6859787190353184,
          0.6931471805599453,
          0.6931471805599453,
          0.6883045652170187,
          0.7004375551202023,
          0.685909571115471,
          0.6858032051187577,
          0.7078894043769046,
          0.6883279326013355,
          0.6833910238547214,
          0.6881843699028579,
          0.6956440715494298,
          0.6886594947249425,
          0.7125363265480946,
          0.7027626508330885,
          0.7002310365512919,
          0.6954809426904051,
          0.6884850900660482,
          0.6978311079871121,
          0.6884850900660482,
          0.6837131656571385,
          0.702231494550165,
          0.6955028529713668,
          0.702493052390975,
          0.6885282586145755,
          0.6977875359830962,
          0.686210743937566,
          0.6766568170201145,
          0.7146534212261787,
          0.6931471805599453,
          0.695459279760233,
          0.6931471805599453,
          0.695448637362648,
          0.6931471805599453,
          0.6862427288847311,
          0.6884851342617911,
          0.6978310633763809,
          0.7161366922751488,
          0.6953668984600325,
          0.6820236250882263,
          0.6908821577539708,
          0.6931471805599453,
          0.6817185156227569,
          0.7000996353150637,
          0.6816130577251,
          0.7117523870430558,
          0.699911573385017,
          0.6931471805599453,
          0.6931471805599453,
          0.6998212805767839,
          0.664094870268245,
          0.704761681613218,
          0.6999731387441466,
          0.6953969165008201,
          0.6976214930071478,
          0.6842185412245371,
          0.6954070290269257,
          0.688632523300052,
          0.6885913313042079,
          0.6792902168460525,
          0.704870612026602,
          0.7000358342821015,
          0.6885913313042079,
          0.6885495514981335,
          0.7000675589147912,
          0.6839728514506614,
          0.6838013092667901,
          0.6955140624049146,
          0.6836683691055018,
          0.6834853190868334,
          0.6832948440679287,
          0.7030975522631,
          0.685767050902182,
          0.6931471805599453,
          0.6896585331600588,
          0.6795277795767483,
          0.7018629679440397,
          0.6814391994596923,
          0.6900335778129719,
          0.6988659083626879,
          0.6959914211981648,
          0.6833152663335069,
          0.7103306462324829,
          0.6865263271779102,
          0.6931471805599453,
          0.7023638391360522,
          0.6880838698035416,
          0.6818592198824504,
          0.6900107311444926,
          0.6708414356321121,
          0.7116561390582213,
          0.6920873146747756,
          0.641965608700256,
          0.6740990106095395,
          0.6739693554990474,
          0.7416339847272222,
          0.7080985781427193,
          0.6795569206334486,
          0.7000596767582637,
          0.6805250961449085,
          0.6884578105016196,
          0.6949165954007415,
          0.6842844778956467,
          0.6817047433453268,
          0.7274775615768535,
          0.6879792085825667,
          0.7069404842278474,
          0.6982019531937105,
          0.6959303767536297,
          0.6964676167367515,
          0.716011526748399,
          0.6868113705176169,
          0.6835059668505747,
          0.6974855763902256,
          0.6877446728306987,
          0.7098907559253106,
          0.6973532801145662,
          0.6993972246488496,
          0.708508460803738,
          0.6901396481304378,
          0.6956616444213968,
          0.6861084324429687,
          0.6900937626937045,
          0.6992633993611104,
          0.6890985974340891,
          0.6941649753989163,
          0.689073860511521,
          0.6874959805459787,
          0.6941829279648569,
          0.6931471805599453,
          0.6822294804150092,
          0.6952591109608616,
          0.7139812717863027,
          0.6971794387312016,
          0.6916430535776639,
          0.6981597003607185,
          0.7128522562506565,
          0.7026710787502585,
          0.6858124735972453,
          0.6859442682658873,
          0.6907170457066535,
          0.7028559946869062,
          0.6979204593126032,
          0.6836232990486898,
          0.7027626392593873,
          0.6764203867546318,
          0.7077459799810979,
          0.702625924514489,
          0.6954809039061655,
          0.6954700619760851,
          0.6838447878976317,
          0.7048706442560045,
          0.6931471805599453,
          0.6954486775482245,
          0.6908509682995951,
          0.6908403744620304,
          0.6931471805599453,
          0.69776612641624,
          0.697723847587357,
          0.6931471805599453,
          0.6908718667228099,
          0.6999731456303452,
          0.7021158505427056,
          0.6931471805599453,
          0.7041483916219187,
          0.690980332474855,
          0.6844135005911908,
          0.6997624196786645,
          0.6931471805599453,
          0.6931471805599453,
          0.6931471805599453,
          0.6887708059601464,
          0.7019191666327823,
          0.6953093435644404,
          0.6823128383942352,
          0.6997333734128022,
          0.682218110027755,
          0.7172976407922285,
          0.6910262889908076,
          0.6952725798722589,
          0.6931471805599453,
          0.7015860492058099,
          0.6826758806926498,
          0.6952725798722589,
          0.6931471805599453,
          0.695263583466323,
          0.6718244110911241,
          0.6997333734128022,
          0.6866040819710093,
          0.7084480255152459,
          0.6952816530885779,
          0.699509874347774
         ],
         "yaxis": "y"
        },
        {
         "hovertemplate": "Ticker=2353.TW<br>Date=%{x}<br>value=%{y}<extra></extra>",
         "legendgroup": "2353.TW",
         "line": {
          "color": "#00cc96",
          "dash": "solid"
         },
         "marker": {
          "symbol": "circle"
         },
         "mode": "lines",
         "name": "2353.TW",
         "showlegend": true,
         "type": "scattergl",
         "x": [
          "2024-01-02T00:00:00",
          "2024-01-03T00:00:00",
          "2024-01-04T00:00:00",
          "2024-01-05T00:00:00",
          "2024-01-08T00:00:00",
          "2024-01-09T00:00:00",
          "2024-01-10T00:00:00",
          "2024-01-11T00:00:00",
          "2024-01-12T00:00:00",
          "2024-01-15T00:00:00",
          "2024-01-16T00:00:00",
          "2024-01-17T00:00:00",
          "2024-01-18T00:00:00",
          "2024-01-19T00:00:00",
          "2024-01-22T00:00:00",
          "2024-01-23T00:00:00",
          "2024-01-24T00:00:00",
          "2024-01-25T00:00:00",
          "2024-01-26T00:00:00",
          "2024-01-29T00:00:00",
          "2024-01-30T00:00:00",
          "2024-01-31T00:00:00",
          "2024-02-01T00:00:00",
          "2024-02-02T00:00:00",
          "2024-02-05T00:00:00",
          "2024-02-15T00:00:00",
          "2024-02-16T00:00:00",
          "2024-02-19T00:00:00",
          "2024-02-20T00:00:00",
          "2024-02-21T00:00:00",
          "2024-02-22T00:00:00",
          "2024-02-23T00:00:00",
          "2024-02-26T00:00:00",
          "2024-02-27T00:00:00",
          "2024-02-29T00:00:00",
          "2024-03-01T00:00:00",
          "2024-03-04T00:00:00",
          "2024-03-05T00:00:00",
          "2024-03-06T00:00:00",
          "2024-03-07T00:00:00",
          "2024-03-08T00:00:00",
          "2024-03-11T00:00:00",
          "2024-03-12T00:00:00",
          "2024-03-13T00:00:00",
          "2024-03-14T00:00:00",
          "2024-03-15T00:00:00",
          "2024-03-18T00:00:00",
          "2024-03-19T00:00:00",
          "2024-03-20T00:00:00",
          "2024-03-21T00:00:00",
          "2024-03-22T00:00:00",
          "2024-03-25T00:00:00",
          "2024-03-26T00:00:00",
          "2024-03-27T00:00:00",
          "2024-03-28T00:00:00",
          "2024-03-29T00:00:00",
          "2024-04-01T00:00:00",
          "2024-04-02T00:00:00",
          "2024-04-03T00:00:00",
          "2024-04-08T00:00:00",
          "2024-04-09T00:00:00",
          "2024-04-10T00:00:00",
          "2024-04-11T00:00:00",
          "2024-04-12T00:00:00",
          "2024-04-15T00:00:00",
          "2024-04-16T00:00:00",
          "2024-04-17T00:00:00",
          "2024-04-18T00:00:00",
          "2024-04-19T00:00:00",
          "2024-04-22T00:00:00",
          "2024-04-23T00:00:00",
          "2024-04-24T00:00:00",
          "2024-04-25T00:00:00",
          "2024-04-26T00:00:00",
          "2024-04-29T00:00:00",
          "2024-04-30T00:00:00",
          "2024-05-02T00:00:00",
          "2024-05-03T00:00:00",
          "2024-05-06T00:00:00",
          "2024-05-07T00:00:00",
          "2024-05-08T00:00:00",
          "2024-05-09T00:00:00",
          "2024-05-10T00:00:00",
          "2024-05-13T00:00:00",
          "2024-05-14T00:00:00",
          "2024-05-15T00:00:00",
          "2024-05-16T00:00:00",
          "2024-05-17T00:00:00",
          "2024-05-20T00:00:00",
          "2024-05-21T00:00:00",
          "2024-05-22T00:00:00",
          "2024-05-23T00:00:00",
          "2024-05-24T00:00:00",
          "2024-05-27T00:00:00",
          "2024-05-28T00:00:00",
          "2024-05-29T00:00:00",
          "2024-05-30T00:00:00",
          "2024-05-31T00:00:00",
          "2024-06-03T00:00:00",
          "2024-06-04T00:00:00",
          "2024-06-05T00:00:00",
          "2024-06-06T00:00:00",
          "2024-06-07T00:00:00",
          "2024-06-11T00:00:00",
          "2024-06-12T00:00:00",
          "2024-06-13T00:00:00",
          "2024-06-14T00:00:00",
          "2024-06-17T00:00:00",
          "2024-06-18T00:00:00",
          "2024-06-19T00:00:00",
          "2024-06-20T00:00:00",
          "2024-06-21T00:00:00",
          "2024-06-24T00:00:00",
          "2024-06-25T00:00:00",
          "2024-06-26T00:00:00",
          "2024-06-27T00:00:00",
          "2024-06-28T00:00:00",
          "2024-07-01T00:00:00",
          "2024-07-02T00:00:00",
          "2024-07-03T00:00:00",
          "2024-07-04T00:00:00",
          "2024-07-05T00:00:00",
          "2024-07-08T00:00:00",
          "2024-07-09T00:00:00",
          "2024-07-10T00:00:00",
          "2024-07-11T00:00:00",
          "2024-07-12T00:00:00",
          "2024-07-15T00:00:00",
          "2024-07-16T00:00:00",
          "2024-07-17T00:00:00",
          "2024-07-18T00:00:00",
          "2024-07-19T00:00:00",
          "2024-07-22T00:00:00",
          "2024-07-23T00:00:00",
          "2024-07-26T00:00:00",
          "2024-07-29T00:00:00",
          "2024-07-30T00:00:00",
          "2024-07-31T00:00:00",
          "2024-08-01T00:00:00",
          "2024-08-02T00:00:00",
          "2024-08-05T00:00:00",
          "2024-08-06T00:00:00",
          "2024-08-07T00:00:00",
          "2024-08-08T00:00:00",
          "2024-08-09T00:00:00",
          "2024-08-12T00:00:00",
          "2024-08-13T00:00:00",
          "2024-08-14T00:00:00",
          "2024-08-15T00:00:00",
          "2024-08-16T00:00:00",
          "2024-08-19T00:00:00",
          "2024-08-20T00:00:00",
          "2024-08-21T00:00:00",
          "2024-08-22T00:00:00",
          "2024-08-23T00:00:00",
          "2024-08-26T00:00:00",
          "2024-08-27T00:00:00",
          "2024-08-28T00:00:00",
          "2024-08-29T00:00:00",
          "2024-08-30T00:00:00",
          "2024-09-02T00:00:00",
          "2024-09-03T00:00:00",
          "2024-09-04T00:00:00",
          "2024-09-05T00:00:00",
          "2024-09-06T00:00:00",
          "2024-09-09T00:00:00",
          "2024-09-10T00:00:00",
          "2024-09-11T00:00:00",
          "2024-09-12T00:00:00",
          "2024-09-13T00:00:00",
          "2024-09-16T00:00:00",
          "2024-09-18T00:00:00",
          "2024-09-19T00:00:00",
          "2024-09-20T00:00:00",
          "2024-09-23T00:00:00",
          "2024-09-24T00:00:00",
          "2024-09-25T00:00:00",
          "2024-09-26T00:00:00",
          "2024-09-27T00:00:00",
          "2024-09-30T00:00:00",
          "2024-10-01T00:00:00",
          "2024-10-04T00:00:00",
          "2024-10-07T00:00:00",
          "2024-10-08T00:00:00",
          "2024-10-09T00:00:00",
          "2024-10-11T00:00:00",
          "2024-10-14T00:00:00",
          "2024-10-15T00:00:00",
          "2024-10-16T00:00:00",
          "2024-10-17T00:00:00",
          "2024-10-18T00:00:00",
          "2024-10-21T00:00:00",
          "2024-10-22T00:00:00",
          "2024-10-23T00:00:00",
          "2024-10-24T00:00:00",
          "2024-10-25T00:00:00",
          "2024-10-28T00:00:00",
          "2024-10-29T00:00:00",
          "2024-10-30T00:00:00",
          "2024-11-01T00:00:00",
          "2024-11-04T00:00:00",
          "2024-11-05T00:00:00",
          "2024-11-06T00:00:00",
          "2024-11-07T00:00:00",
          "2024-11-08T00:00:00",
          "2024-11-11T00:00:00",
          "2024-11-12T00:00:00",
          "2024-11-13T00:00:00",
          "2024-11-14T00:00:00",
          "2024-11-15T00:00:00",
          "2024-11-18T00:00:00",
          "2024-11-19T00:00:00",
          "2024-11-20T00:00:00",
          "2024-11-21T00:00:00",
          "2024-11-22T00:00:00",
          "2024-11-25T00:00:00",
          "2024-11-26T00:00:00",
          "2024-11-27T00:00:00",
          "2024-11-28T00:00:00",
          "2024-11-29T00:00:00",
          "2024-12-02T00:00:00",
          "2024-12-03T00:00:00",
          "2024-12-04T00:00:00",
          "2024-12-05T00:00:00",
          "2024-12-06T00:00:00",
          "2024-12-09T00:00:00",
          "2024-12-10T00:00:00",
          "2024-12-11T00:00:00",
          "2024-12-12T00:00:00",
          "2024-12-13T00:00:00",
          "2024-12-16T00:00:00",
          "2024-12-17T00:00:00",
          "2024-12-18T00:00:00",
          "2024-12-19T00:00:00",
          "2024-12-20T00:00:00",
          "2024-12-23T00:00:00",
          "2024-12-24T00:00:00",
          "2024-12-25T00:00:00",
          "2024-12-26T00:00:00",
          "2024-12-27T00:00:00",
          "2024-12-30T00:00:00",
          "2024-12-31T00:00:00",
          "2025-01-02T00:00:00",
          "2025-01-03T00:00:00",
          "2025-01-06T00:00:00",
          "2025-01-07T00:00:00",
          "2025-01-08T00:00:00",
          "2025-01-09T00:00:00",
          "2025-01-10T00:00:00",
          "2025-01-13T00:00:00",
          "2025-01-14T00:00:00",
          "2025-01-15T00:00:00",
          "2025-01-16T00:00:00",
          "2025-01-17T00:00:00",
          "2025-01-20T00:00:00",
          "2025-01-21T00:00:00",
          "2025-01-22T00:00:00",
          "2025-02-03T00:00:00",
          "2025-02-04T00:00:00",
          "2025-02-05T00:00:00",
          "2025-02-06T00:00:00",
          "2025-02-07T00:00:00",
          "2025-02-10T00:00:00",
          "2025-02-11T00:00:00",
          "2025-02-12T00:00:00",
          "2025-02-13T00:00:00",
          "2025-02-14T00:00:00",
          "2025-02-17T00:00:00",
          "2025-02-18T00:00:00",
          "2025-02-19T00:00:00",
          "2025-02-20T00:00:00",
          "2025-02-21T00:00:00",
          "2025-02-24T00:00:00",
          "2025-02-25T00:00:00",
          "2025-02-26T00:00:00",
          "2025-02-27T00:00:00",
          "2025-03-03T00:00:00",
          "2025-03-04T00:00:00",
          "2025-03-05T00:00:00",
          "2025-03-06T00:00:00",
          "2025-03-07T00:00:00",
          "2025-03-10T00:00:00",
          "2025-03-11T00:00:00",
          "2025-03-12T00:00:00",
          "2025-03-13T00:00:00",
          "2025-03-14T00:00:00",
          "2025-03-17T00:00:00",
          "2025-03-18T00:00:00",
          "2025-03-19T00:00:00",
          "2025-03-20T00:00:00",
          "2025-03-21T00:00:00",
          "2025-03-24T00:00:00",
          "2025-03-25T00:00:00",
          "2025-03-26T00:00:00",
          "2025-03-27T00:00:00",
          "2025-03-28T00:00:00",
          "2025-03-31T00:00:00",
          "2025-04-01T00:00:00",
          "2025-04-02T00:00:00",
          "2025-04-07T00:00:00",
          "2025-04-08T00:00:00",
          "2025-04-09T00:00:00",
          "2025-04-10T00:00:00",
          "2025-04-11T00:00:00",
          "2025-04-14T00:00:00",
          "2025-04-15T00:00:00",
          "2025-04-16T00:00:00",
          "2025-04-17T00:00:00",
          "2025-04-18T00:00:00",
          "2025-04-21T00:00:00",
          "2025-04-22T00:00:00",
          "2025-04-23T00:00:00",
          "2025-04-24T00:00:00",
          "2025-04-25T00:00:00",
          "2025-04-28T00:00:00",
          "2025-04-29T00:00:00",
          "2025-04-30T00:00:00",
          "2025-05-02T00:00:00",
          "2025-05-05T00:00:00",
          "2025-05-06T00:00:00",
          "2025-05-07T00:00:00",
          "2025-05-08T00:00:00",
          "2025-05-09T00:00:00",
          "2025-05-12T00:00:00",
          "2025-05-13T00:00:00",
          "2025-05-14T00:00:00",
          "2025-05-15T00:00:00",
          "2025-05-16T00:00:00",
          "2025-05-19T00:00:00",
          "2025-05-20T00:00:00",
          "2025-05-21T00:00:00",
          "2025-05-22T00:00:00",
          "2025-05-23T00:00:00",
          "2025-05-26T00:00:00",
          "2025-05-27T00:00:00",
          "2025-05-28T00:00:00",
          "2025-05-29T00:00:00",
          "2025-06-02T00:00:00",
          "2025-06-03T00:00:00",
          "2025-06-04T00:00:00",
          "2025-06-05T00:00:00",
          "2025-06-06T00:00:00",
          "2025-06-09T00:00:00",
          "2025-06-10T00:00:00",
          "2025-06-11T00:00:00",
          "2025-06-12T00:00:00",
          "2025-06-13T00:00:00",
          "2025-06-16T00:00:00",
          "2025-06-17T00:00:00",
          "2025-06-18T00:00:00",
          "2025-06-19T00:00:00",
          "2025-06-20T00:00:00",
          "2025-06-23T00:00:00",
          "2025-06-24T00:00:00",
          "2025-06-25T00:00:00",
          "2025-06-26T00:00:00",
          "2025-06-27T00:00:00",
          "2025-06-30T00:00:00",
          "2025-07-01T00:00:00",
          "2025-07-02T00:00:00",
          "2025-07-03T00:00:00",
          "2025-07-04T00:00:00",
          "2025-07-07T00:00:00",
          "2025-07-08T00:00:00",
          "2025-07-09T00:00:00",
          "2025-07-10T00:00:00",
          "2025-07-11T00:00:00",
          "2025-07-14T00:00:00",
          "2025-07-15T00:00:00",
          "2025-07-16T00:00:00",
          "2025-07-17T00:00:00",
          "2025-07-18T00:00:00",
          "2025-07-21T00:00:00",
          "2025-07-22T00:00:00",
          "2025-07-23T00:00:00",
          "2025-07-24T00:00:00",
          "2025-07-25T00:00:00",
          "2025-07-28T00:00:00",
          "2025-07-29T00:00:00",
          "2025-07-30T00:00:00",
          "2025-07-31T00:00:00",
          "2025-08-04T00:00:00",
          "2025-08-05T00:00:00",
          "2025-08-06T00:00:00",
          "2025-08-07T00:00:00",
          "2025-08-08T00:00:00",
          "2025-08-11T00:00:00",
          "2025-08-12T00:00:00",
          "2025-08-13T00:00:00",
          "2025-08-14T00:00:00",
          "2025-08-15T00:00:00",
          "2025-08-18T00:00:00",
          "2025-08-19T00:00:00",
          "2025-08-20T00:00:00",
          "2025-08-21T00:00:00",
          "2025-08-22T00:00:00",
          "2025-08-25T00:00:00",
          "2025-08-26T00:00:00",
          "2025-08-27T00:00:00"
         ],
         "xaxis": "x",
         "y": [
          null,
          0.674815749565297,
          0.679160910804071,
          0.6854647113345078,
          0.6952175359227931,
          0.68641666400999,
          0.6868512395151748,
          0.7057789528017739,
          0.678578779264441,
          0.6851364412196037,
          0.6871834753063553,
          0.6826989387927549,
          0.695936588062037,
          0.7036473898413512,
          0.7018145962014675,
          0.6979484798856722,
          0.6947349057151181,
          0.6957836229238241,
          0.672987350253429,
          0.7051103703311412,
          0.6968795301898421,
          0.6814136898010249,
          0.6996407226788136,
          0.6856161995920047,
          0.6969483967417053,
          0.6899022186058716,
          0.7215444928680802,
          0.680217055097516,
          0.6931471805599453,
          0.6915636895320113,
          0.6889053404345982,
          0.6813381982752152,
          0.6936934351925367,
          0.6898666899429282,
          0.6892936492051797,
          0.7025161937842661,
          0.6915153668397296,
          0.6936923796570295,
          0.6871378185799171,
          0.6892808785387015,
          0.6875760784303486,
          0.6970721068137888,
          0.7173773971409885,
          0.6872852190616878,
          0.6866746981574231,
          0.692602278542956,
          0.6931471805599453,
          0.685484382867488,
          0.7014185421803857,
          0.6969525292969869,
          0.6898986601930679,
          0.6991141208297683,
          0.6866746981574231,
          0.6980371301970341,
          0.696378207483576,
          0.6931471805599453,
          0.689388734955124,
          0.697457585450669,
          0.6867024625008675,
          0.6926047330406634,
          0.7012575410819343,
          0.6968795301898421,
          0.7331628608479444,
          0.6683320436829261,
          0.683305071842598,
          0.6713551944713336,
          0.6881898484193122,
          0.6925921324429827,
          0.6797241341060309,
          0.6879969443290483,
          0.6948758406195155,
          0.7079791037332158,
          0.6886729839172027,
          0.6948349012527479,
          0.7059714222795528,
          0.6871115304636999,
          0.6875946847180477,
          0.7026206147480284,
          0.7148871657280184,
          0.6894562029610523,
          0.6931471805599453,
          0.6952657856781851,
          0.6978877836257374,
          0.6926240301459137,
          0.7051171196100613,
          0.684418010108779,
          0.6905423289039303,
          0.6968015902265698,
          0.6941850654248605,
          0.6931471805599453,
          0.7411968890121452,
          0.6959733383431806,
          0.7317904823491834,
          0.7018052243621162,
          0.6750354304320265,
          0.668919874218225,
          0.6819110846317925,
          0.6969495135942275,
          0.6893592505144935,
          0.6806889998092421,
          0.6862877576447599,
          0.6941367916922477,
          0.683715471275493,
          0.6845504393806418,
          0.6931471805599453,
          0.7063788676663492,
          0.6901486713566322,
          0.7001507667473355,
          0.6821963691605504,
          0.6941587745024028,
          0.6936689992976496,
          0.6947100650395881,
          0.681646792527255,
          0.691017242664419,
          0.6888645382498768,
          0.6990564106167133,
          0.6920816231895215,
          0.6995302159302474,
          0.6862742744736184,
          0.6984748514951941,
          0.6910307660734091,
          0.6952680837584145,
          0.6915603215976878,
          0.6781896413614957,
          0.7045572112305317,
          0.7027166625721478,
          0.6931471805599453,
          0.6884190242304541,
          0.6942048066942084,
          0.6883840336859202,
          0.6952770757232877,
          0.6835471183237284,
          0.6931471805599453,
          0.6909803206183801,
          0.6876976115040604,
          0.6804292513879461,
          0.6914546801218897,
          0.6891800128494132,
          0.7151385227824368,
          0.681618085622221,
          0.6421478839679664,
          0.6894181567068264,
          0.7245247013213018,
          0.6902051324420407,
          0.6895947833394165,
          0.6967122423092893,
          0.6913725831212715,
          0.6925538458998263,
          0.6984773851554379,
          0.6960805984151632,
          0.6978091723219552,
          0.6925683177775533,
          0.6919877770590088,
          0.6943079298378092,
          0.6919877770590088,
          0.7132685663248903,
          0.6920305021544993,
          0.6886628437302555,
          0.6846461250682302,
          0.6954407721456782,
          0.6902859440786699,
          0.6937217197572354,
          0.6693296361586963,
          0.6846776583832045,
          0.7089529944779216,
          0.6889817605819271,
          0.6841245499080402,
          0.6870309445459233,
          0.706026852651143,
          0.6967507837256175,
          0.6913534842426252,
          0.6883394528189197,
          0.7033851939861412,
          0.6925538458998263,
          0.6895778770970107,
          0.6955366810022786,
          0.6931471805599453,
          0.6913598483037892,
          0.6907548697911354,
          0.6828906367387749,
          0.7107607903735996,
          0.6740307002128483,
          0.6925319448639715,
          0.6857306412096308,
          0.6931471805599453,
          0.7086513393462884,
          0.6907199816196248,
          0.6992188536126728,
          0.688926506129099,
          0.707006989719793,
          0.6872264914948971,
          0.6907548697911354,
          0.6985347713538799,
          0.6877884604267271,
          0.6877303579521276,
          0.6943600192963688,
          0.688900902894189,
          0.6907021782084051,
          0.6894594119022355,
          0.6881905635081115,
          0.6937711964258145,
          0.7036899091827099,
          0.6949769805743923,
          0.7028325394044287,
          0.6750852552990487,
          0.6831968452421101,
          0.6778797271157717,
          0.6911921220287559,
          0.6839547611312612,
          0.6991212764575513,
          0.6885312948695729,
          0.6977844714933613,
          0.6905121184496094,
          0.6845121944314732,
          0.6918003447654405,
          0.7072177204052396,
          0.7016412215282373,
          0.6821188543766803,
          0.6911663041002393,
          0.6944707882489163,
          0.701042001918556,
          0.6905429982184782,
          0.6983623447194767,
          0.6886090475826723,
          0.6964055786324165,
          0.7053935751941715,
          0.6867979438325236,
          0.6886499176274098,
          0.6866578559377976,
          0.675962341726962,
          0.691109858137919,
          0.6897353676278138,
          0.708799071641174,
          0.6871451961733543,
          0.6938198918744442,
          0.7038424203870615,
          0.6970867738636914,
          0.7022440832350365,
          0.6880057529814428,
          0.6931471805599453,
          0.7034566066659395,
          0.698210459138463,
          0.7074910403960959,
          0.6690496337556296,
          0.691222228783091,
          0.6847465036321074,
          0.6944552061544721,
          0.6813283313077655,
          0.6897993322618152,
          0.681641082980738,
          0.6986417298273657,
          0.6945086312465218,
          0.6958609011904332,
          0.700552128203237,
          0.6911478756061333,
          0.6951504907430673,
          0.688475848912145,
          0.7124489286051758,
          0.6847027974066081,
          0.6957753173625753,
          0.698369100768173,
          0.6944417121691505,
          0.6860158701510284,
          0.6885494330613771,
          0.6984242666820242,
          0.7048584257279095,
          0.6969762042872535,
          0.6950488965645526,
          0.6918821767267587,
          0.6944137866549113,
          0.695041741498691,
          0.7031722811033922,
          0.6857122607896141,
          0.6900094265943568,
          0.6956660367032784,
          0.6843254749869331,
          0.6835224537195527,
          0.6905396029808605,
          0.6905259327590845,
          0.6964312606028872,
          0.6924933816290362,
          0.686581159250076,
          0.7010732363194883,
          0.6892230467673278,
          0.6905121184496094,
          0.6951293659114608,
          0.6970919540689539,
          0.7048432580968544,
          0.6835224537195527,
          0.6970458161017227,
          0.6879657935707394,
          0.6859411223122818,
          0.6931471805599453,
          0.6984312376646167,
          0.6905224928476069,
          0.6878631765450611,
          0.6647860443675233,
          0.7147734356867407,
          0.6938226181946333,
          0.6419248819167197,
          0.6424060873754047,
          0.641941482486627,
          0.7418493323046971,
          0.7073318089101805,
          0.6988498583033674,
          0.7035932138683314,
          0.6828091397421366,
          0.6963729749497956,
          0.6979510269115301,
          0.6939417657530099,
          0.6915586091758903,
          0.7026559888647326,
          0.7055696750428381,
          0.6939090742831304,
          0.6969451399681801,
          0.7066508056295434,
          0.7062956369774819,
          0.6808947804444723,
          0.6865173006181045,
          0.697601584989279,
          0.6953570938452952,
          0.6997333945349683,
          0.6873331791932856,
          0.7004518255469545,
          0.6917010698338562,
          0.7025233546702281,
          0.6952785890100317,
          0.7058145270512491,
          0.6952168302796776,
          0.689012100362064,
          0.6889776173560426,
          0.6896445448945117,
          0.6882054280713095,
          0.6938581549296711,
          0.6888767166346241,
          0.6967224487392134,
          0.6867255040970179,
          0.6895383662300949,
          0.7010980133559632,
          0.6974237322771486,
          0.7023118913858155,
          0.6966182059978968,
          0.6959058179455007,
          0.6924600863780199,
          0.692459196054321,
          0.6910789576730281,
          0.6965990355396079,
          0.6903961323237034,
          0.684128700622621,
          0.6882123955731,
          0.6727921851604179,
          0.6845567158128608,
          0.6852043271422751,
          0.7027472602461328,
          0.6884040706419212,
          0.6891583439501565,
          0.689126266367814,
          0.6833909992603827,
          0.6873548850349611,
          0.7039401388641057,
          0.6964098075155688,
          0.6792524170118909,
          0.6939815441645565,
          0.6814119114757662,
          0.7007970397390112,
          0.690622995491498,
          0.7040670641602399,
          0.6914929141481949,
          0.7038689266302849,
          0.6931471805599453,
          0.6939585582139183,
          0.6947666202648888,
          0.6987855115635028,
          0.6770437725976676,
          0.7078894874766689,
          0.6979433405383442,
          0.6994763095947201,
          0.7009536512090389,
          0.6846232835683782,
          0.69784571916675,
          0.6931471805599453,
          0.6908116167028858,
          0.7009293210020002,
          0.687748039484323,
          0.6869068871177895,
          0.6700477740163562,
          0.6873548850349611,
          0.6898026831428822,
          0.6931471805599453,
          0.690622995491498,
          0.6889152657080195,
          0.6914421438213189,
          0.6948551294148237,
          0.6931471805599453,
          0.6999383715953308,
          0.6931471805599453,
          0.696502901186473,
          0.711344514138082,
          0.6858744396145169
         ],
         "yaxis": "y"
        },
        {
         "hovertemplate": "Ticker=2454.TW<br>Date=%{x}<br>value=%{y}<extra></extra>",
         "legendgroup": "2454.TW",
         "line": {
          "color": "#ab63fa",
          "dash": "solid"
         },
         "marker": {
          "symbol": "circle"
         },
         "mode": "lines",
         "name": "2454.TW",
         "showlegend": true,
         "type": "scattergl",
         "x": [
          "2024-01-02T00:00:00",
          "2024-01-03T00:00:00",
          "2024-01-04T00:00:00",
          "2024-01-05T00:00:00",
          "2024-01-08T00:00:00",
          "2024-01-09T00:00:00",
          "2024-01-10T00:00:00",
          "2024-01-11T00:00:00",
          "2024-01-12T00:00:00",
          "2024-01-15T00:00:00",
          "2024-01-16T00:00:00",
          "2024-01-17T00:00:00",
          "2024-01-18T00:00:00",
          "2024-01-19T00:00:00",
          "2024-01-22T00:00:00",
          "2024-01-23T00:00:00",
          "2024-01-24T00:00:00",
          "2024-01-25T00:00:00",
          "2024-01-26T00:00:00",
          "2024-01-29T00:00:00",
          "2024-01-30T00:00:00",
          "2024-01-31T00:00:00",
          "2024-02-01T00:00:00",
          "2024-02-02T00:00:00",
          "2024-02-05T00:00:00",
          "2024-02-15T00:00:00",
          "2024-02-16T00:00:00",
          "2024-02-19T00:00:00",
          "2024-02-20T00:00:00",
          "2024-02-21T00:00:00",
          "2024-02-22T00:00:00",
          "2024-02-23T00:00:00",
          "2024-02-26T00:00:00",
          "2024-02-27T00:00:00",
          "2024-02-29T00:00:00",
          "2024-03-01T00:00:00",
          "2024-03-04T00:00:00",
          "2024-03-05T00:00:00",
          "2024-03-06T00:00:00",
          "2024-03-07T00:00:00",
          "2024-03-08T00:00:00",
          "2024-03-11T00:00:00",
          "2024-03-12T00:00:00",
          "2024-03-13T00:00:00",
          "2024-03-14T00:00:00",
          "2024-03-15T00:00:00",
          "2024-03-18T00:00:00",
          "2024-03-19T00:00:00",
          "2024-03-20T00:00:00",
          "2024-03-21T00:00:00",
          "2024-03-22T00:00:00",
          "2024-03-25T00:00:00",
          "2024-03-26T00:00:00",
          "2024-03-27T00:00:00",
          "2024-03-28T00:00:00",
          "2024-03-29T00:00:00",
          "2024-04-01T00:00:00",
          "2024-04-02T00:00:00",
          "2024-04-03T00:00:00",
          "2024-04-08T00:00:00",
          "2024-04-09T00:00:00",
          "2024-04-10T00:00:00",
          "2024-04-11T00:00:00",
          "2024-04-12T00:00:00",
          "2024-04-15T00:00:00",
          "2024-04-16T00:00:00",
          "2024-04-17T00:00:00",
          "2024-04-18T00:00:00",
          "2024-04-19T00:00:00",
          "2024-04-22T00:00:00",
          "2024-04-23T00:00:00",
          "2024-04-24T00:00:00",
          "2024-04-25T00:00:00",
          "2024-04-26T00:00:00",
          "2024-04-29T00:00:00",
          "2024-04-30T00:00:00",
          "2024-05-02T00:00:00",
          "2024-05-03T00:00:00",
          "2024-05-06T00:00:00",
          "2024-05-07T00:00:00",
          "2024-05-08T00:00:00",
          "2024-05-09T00:00:00",
          "2024-05-10T00:00:00",
          "2024-05-13T00:00:00",
          "2024-05-14T00:00:00",
          "2024-05-15T00:00:00",
          "2024-05-16T00:00:00",
          "2024-05-17T00:00:00",
          "2024-05-20T00:00:00",
          "2024-05-21T00:00:00",
          "2024-05-22T00:00:00",
          "2024-05-23T00:00:00",
          "2024-05-24T00:00:00",
          "2024-05-27T00:00:00",
          "2024-05-28T00:00:00",
          "2024-05-29T00:00:00",
          "2024-05-30T00:00:00",
          "2024-05-31T00:00:00",
          "2024-06-03T00:00:00",
          "2024-06-04T00:00:00",
          "2024-06-05T00:00:00",
          "2024-06-06T00:00:00",
          "2024-06-07T00:00:00",
          "2024-06-11T00:00:00",
          "2024-06-12T00:00:00",
          "2024-06-13T00:00:00",
          "2024-06-14T00:00:00",
          "2024-06-17T00:00:00",
          "2024-06-18T00:00:00",
          "2024-06-19T00:00:00",
          "2024-06-20T00:00:00",
          "2024-06-21T00:00:00",
          "2024-06-24T00:00:00",
          "2024-06-25T00:00:00",
          "2024-06-26T00:00:00",
          "2024-06-27T00:00:00",
          "2024-06-28T00:00:00",
          "2024-07-01T00:00:00",
          "2024-07-02T00:00:00",
          "2024-07-03T00:00:00",
          "2024-07-04T00:00:00",
          "2024-07-05T00:00:00",
          "2024-07-08T00:00:00",
          "2024-07-09T00:00:00",
          "2024-07-10T00:00:00",
          "2024-07-11T00:00:00",
          "2024-07-12T00:00:00",
          "2024-07-15T00:00:00",
          "2024-07-16T00:00:00",
          "2024-07-17T00:00:00",
          "2024-07-18T00:00:00",
          "2024-07-19T00:00:00",
          "2024-07-22T00:00:00",
          "2024-07-23T00:00:00",
          "2024-07-26T00:00:00",
          "2024-07-29T00:00:00",
          "2024-07-30T00:00:00",
          "2024-07-31T00:00:00",
          "2024-08-01T00:00:00",
          "2024-08-02T00:00:00",
          "2024-08-05T00:00:00",
          "2024-08-06T00:00:00",
          "2024-08-07T00:00:00",
          "2024-08-08T00:00:00",
          "2024-08-09T00:00:00",
          "2024-08-12T00:00:00",
          "2024-08-13T00:00:00",
          "2024-08-14T00:00:00",
          "2024-08-15T00:00:00",
          "2024-08-16T00:00:00",
          "2024-08-19T00:00:00",
          "2024-08-20T00:00:00",
          "2024-08-21T00:00:00",
          "2024-08-22T00:00:00",
          "2024-08-23T00:00:00",
          "2024-08-26T00:00:00",
          "2024-08-27T00:00:00",
          "2024-08-28T00:00:00",
          "2024-08-29T00:00:00",
          "2024-08-30T00:00:00",
          "2024-09-02T00:00:00",
          "2024-09-03T00:00:00",
          "2024-09-04T00:00:00",
          "2024-09-05T00:00:00",
          "2024-09-06T00:00:00",
          "2024-09-09T00:00:00",
          "2024-09-10T00:00:00",
          "2024-09-11T00:00:00",
          "2024-09-12T00:00:00",
          "2024-09-13T00:00:00",
          "2024-09-16T00:00:00",
          "2024-09-18T00:00:00",
          "2024-09-19T00:00:00",
          "2024-09-20T00:00:00",
          "2024-09-23T00:00:00",
          "2024-09-24T00:00:00",
          "2024-09-25T00:00:00",
          "2024-09-26T00:00:00",
          "2024-09-27T00:00:00",
          "2024-09-30T00:00:00",
          "2024-10-01T00:00:00",
          "2024-10-04T00:00:00",
          "2024-10-07T00:00:00",
          "2024-10-08T00:00:00",
          "2024-10-09T00:00:00",
          "2024-10-11T00:00:00",
          "2024-10-14T00:00:00",
          "2024-10-15T00:00:00",
          "2024-10-16T00:00:00",
          "2024-10-17T00:00:00",
          "2024-10-18T00:00:00",
          "2024-10-21T00:00:00",
          "2024-10-22T00:00:00",
          "2024-10-23T00:00:00",
          "2024-10-24T00:00:00",
          "2024-10-25T00:00:00",
          "2024-10-28T00:00:00",
          "2024-10-29T00:00:00",
          "2024-10-30T00:00:00",
          "2024-11-01T00:00:00",
          "2024-11-04T00:00:00",
          "2024-11-05T00:00:00",
          "2024-11-06T00:00:00",
          "2024-11-07T00:00:00",
          "2024-11-08T00:00:00",
          "2024-11-11T00:00:00",
          "2024-11-12T00:00:00",
          "2024-11-13T00:00:00",
          "2024-11-14T00:00:00",
          "2024-11-15T00:00:00",
          "2024-11-18T00:00:00",
          "2024-11-19T00:00:00",
          "2024-11-20T00:00:00",
          "2024-11-21T00:00:00",
          "2024-11-22T00:00:00",
          "2024-11-25T00:00:00",
          "2024-11-26T00:00:00",
          "2024-11-27T00:00:00",
          "2024-11-28T00:00:00",
          "2024-11-29T00:00:00",
          "2024-12-02T00:00:00",
          "2024-12-03T00:00:00",
          "2024-12-04T00:00:00",
          "2024-12-05T00:00:00",
          "2024-12-06T00:00:00",
          "2024-12-09T00:00:00",
          "2024-12-10T00:00:00",
          "2024-12-11T00:00:00",
          "2024-12-12T00:00:00",
          "2024-12-13T00:00:00",
          "2024-12-16T00:00:00",
          "2024-12-17T00:00:00",
          "2024-12-18T00:00:00",
          "2024-12-19T00:00:00",
          "2024-12-20T00:00:00",
          "2024-12-23T00:00:00",
          "2024-12-24T00:00:00",
          "2024-12-25T00:00:00",
          "2024-12-26T00:00:00",
          "2024-12-27T00:00:00",
          "2024-12-30T00:00:00",
          "2024-12-31T00:00:00",
          "2025-01-02T00:00:00",
          "2025-01-03T00:00:00",
          "2025-01-06T00:00:00",
          "2025-01-07T00:00:00",
          "2025-01-08T00:00:00",
          "2025-01-09T00:00:00",
          "2025-01-10T00:00:00",
          "2025-01-13T00:00:00",
          "2025-01-14T00:00:00",
          "2025-01-15T00:00:00",
          "2025-01-16T00:00:00",
          "2025-01-17T00:00:00",
          "2025-01-20T00:00:00",
          "2025-01-21T00:00:00",
          "2025-01-22T00:00:00",
          "2025-02-03T00:00:00",
          "2025-02-04T00:00:00",
          "2025-02-05T00:00:00",
          "2025-02-06T00:00:00",
          "2025-02-07T00:00:00",
          "2025-02-10T00:00:00",
          "2025-02-11T00:00:00",
          "2025-02-12T00:00:00",
          "2025-02-13T00:00:00",
          "2025-02-14T00:00:00",
          "2025-02-17T00:00:00",
          "2025-02-18T00:00:00",
          "2025-02-19T00:00:00",
          "2025-02-20T00:00:00",
          "2025-02-21T00:00:00",
          "2025-02-24T00:00:00",
          "2025-02-25T00:00:00",
          "2025-02-26T00:00:00",
          "2025-02-27T00:00:00",
          "2025-03-03T00:00:00",
          "2025-03-04T00:00:00",
          "2025-03-05T00:00:00",
          "2025-03-06T00:00:00",
          "2025-03-07T00:00:00",
          "2025-03-10T00:00:00",
          "2025-03-11T00:00:00",
          "2025-03-12T00:00:00",
          "2025-03-13T00:00:00",
          "2025-03-14T00:00:00",
          "2025-03-17T00:00:00",
          "2025-03-18T00:00:00",
          "2025-03-19T00:00:00",
          "2025-03-20T00:00:00",
          "2025-03-21T00:00:00",
          "2025-03-24T00:00:00",
          "2025-03-25T00:00:00",
          "2025-03-26T00:00:00",
          "2025-03-27T00:00:00",
          "2025-03-28T00:00:00",
          "2025-03-31T00:00:00",
          "2025-04-01T00:00:00",
          "2025-04-02T00:00:00",
          "2025-04-07T00:00:00",
          "2025-04-08T00:00:00",
          "2025-04-09T00:00:00",
          "2025-04-10T00:00:00",
          "2025-04-11T00:00:00",
          "2025-04-14T00:00:00",
          "2025-04-15T00:00:00",
          "2025-04-16T00:00:00",
          "2025-04-17T00:00:00",
          "2025-04-18T00:00:00",
          "2025-04-21T00:00:00",
          "2025-04-22T00:00:00",
          "2025-04-23T00:00:00",
          "2025-04-24T00:00:00",
          "2025-04-25T00:00:00",
          "2025-04-28T00:00:00",
          "2025-04-29T00:00:00",
          "2025-04-30T00:00:00",
          "2025-05-02T00:00:00",
          "2025-05-05T00:00:00",
          "2025-05-06T00:00:00",
          "2025-05-07T00:00:00",
          "2025-05-08T00:00:00",
          "2025-05-09T00:00:00",
          "2025-05-12T00:00:00",
          "2025-05-13T00:00:00",
          "2025-05-14T00:00:00",
          "2025-05-15T00:00:00",
          "2025-05-16T00:00:00",
          "2025-05-19T00:00:00",
          "2025-05-20T00:00:00",
          "2025-05-21T00:00:00",
          "2025-05-22T00:00:00",
          "2025-05-23T00:00:00",
          "2025-05-26T00:00:00",
          "2025-05-27T00:00:00",
          "2025-05-28T00:00:00",
          "2025-05-29T00:00:00",
          "2025-06-02T00:00:00",
          "2025-06-03T00:00:00",
          "2025-06-04T00:00:00",
          "2025-06-05T00:00:00",
          "2025-06-06T00:00:00",
          "2025-06-09T00:00:00",
          "2025-06-10T00:00:00",
          "2025-06-11T00:00:00",
          "2025-06-12T00:00:00",
          "2025-06-13T00:00:00",
          "2025-06-16T00:00:00",
          "2025-06-17T00:00:00",
          "2025-06-18T00:00:00",
          "2025-06-19T00:00:00",
          "2025-06-20T00:00:00",
          "2025-06-23T00:00:00",
          "2025-06-24T00:00:00",
          "2025-06-25T00:00:00",
          "2025-06-26T00:00:00",
          "2025-06-27T00:00:00",
          "2025-06-30T00:00:00",
          "2025-07-01T00:00:00",
          "2025-07-02T00:00:00",
          "2025-07-03T00:00:00",
          "2025-07-04T00:00:00",
          "2025-07-07T00:00:00",
          "2025-07-08T00:00:00",
          "2025-07-09T00:00:00",
          "2025-07-10T00:00:00",
          "2025-07-11T00:00:00",
          "2025-07-14T00:00:00",
          "2025-07-15T00:00:00",
          "2025-07-16T00:00:00",
          "2025-07-17T00:00:00",
          "2025-07-18T00:00:00",
          "2025-07-21T00:00:00",
          "2025-07-22T00:00:00",
          "2025-07-23T00:00:00",
          "2025-07-24T00:00:00",
          "2025-07-25T00:00:00",
          "2025-07-28T00:00:00",
          "2025-07-29T00:00:00",
          "2025-07-30T00:00:00",
          "2025-07-31T00:00:00",
          "2025-08-04T00:00:00",
          "2025-08-05T00:00:00",
          "2025-08-06T00:00:00",
          "2025-08-07T00:00:00",
          "2025-08-08T00:00:00",
          "2025-08-11T00:00:00",
          "2025-08-12T00:00:00",
          "2025-08-13T00:00:00",
          "2025-08-14T00:00:00",
          "2025-08-15T00:00:00",
          "2025-08-18T00:00:00",
          "2025-08-19T00:00:00",
          "2025-08-20T00:00:00",
          "2025-08-21T00:00:00",
          "2025-08-22T00:00:00",
          "2025-08-25T00:00:00",
          "2025-08-26T00:00:00",
          "2025-08-27T00:00:00"
         ],
         "xaxis": "x",
         "y": [
          null,
          0.6787732062579459,
          0.6929317023689324,
          0.6893685227486792,
          0.6926041383897348,
          0.6974855644342414,
          0.6909897262538122,
          0.6909803062510027,
          0.6964027493026264,
          0.6909849912930689,
          0.6783968424748289,
          0.6841684810809149,
          0.7033340389714144,
          0.7058861806760288,
          0.6942335246979143,
          0.6871640220158601,
          0.7067751072941094,
          0.6968795336076363,
          0.6894287061874628,
          0.6942149646241024,
          0.7063854170832381,
          0.6947036199864823,
          0.6743378243485488,
          0.6963677995262857,
          0.6936812324493375,
          0.7116515257299035,
          0.6921178318672981,
          0.6895324307789911,
          0.7029638292755592,
          0.6926379128071206,
          0.7103279759130742,
          0.734166197281745,
          0.6999422474154979,
          0.6931471805599453,
          0.7042955295562908,
          0.6776773001503704,
          0.7133046491922146,
          0.6953187039380311,
          0.7081850730307361,
          0.7098142186120909,
          0.6931471805599453,
          0.6911126200366203,
          0.6890571990021399,
          0.6931471805599453,
          0.6660339426652411,
          0.686604059480552,
          0.7084480406579695,
          0.6845634445248209,
          0.6844134515485951,
          0.6975621952244826,
          0.6865465304834327,
          0.690922458537982,
          0.6976015273013094,
          0.7085152268155389,
          0.6909989258868917,
          0.7038654161185753,
          0.68254260838053,
          0.6953000601684609,
          0.6909989258868917,
          0.6888275790373699,
          0.6974855220181543,
          0.7081207382783146,
          0.695237016660911,
          0.6847789372565163,
          0.663037402641756,
          0.6680603369418292,
          0.6907747329595675,
          0.6931471805599453,
          0.6656291313212934,
          0.6794587851481524,
          0.6962479286819223,
          0.7125059142051211,
          0.6786867129282573,
          0.7053053679392055,
          0.6981099657432854,
          0.6817524797963282,
          0.6971713142954704,
          0.7129497913016987,
          0.6907404424855337,
          0.6979664942973535,
          0.7167889536361151,
          0.6931471805599453,
          0.6931471805599453,
          0.7022381442100866,
          0.7109254111858117,
          0.6931471805599453,
          0.7081850730307361,
          0.6825874020373955,
          0.7038196591511308,
          0.6868246928981415,
          0.6973934679283623,
          0.7015505844769976,
          0.6889891737797614,
          0.7301123452095349,
          0.702827866047262,
          0.6854843146787164,
          0.6931471805599453,
          0.6715988383722289,
          0.7072177260404272,
          0.6812658624524249,
          0.6891067744156156,
          0.717244763567716,
          0.6873162402291543,
          0.6911844475749381,
          0.7048890394260076,
          0.7253164592139544,
          0.6967507381359427,
          0.687756359606448,
          0.7021643899253234,
          0.7212192199713517,
          0.6981849047041684,
          0.6898083253418875,
          0.6659345515046053,
          0.6842424785163737,
          0.70034144980736,
          0.6895820711432804,
          0.6949377131538093,
          0.6984899974502776,
          0.6913788118950457,
          0.691372627722948,
          0.693294577046708,
          0.6840146995403462,
          0.7187427206125768,
          0.7071334188058799,
          0.6845486775596231,
          0.687906995292191,
          0.6717940618837789,
          0.6913072541541784,
          0.6894502726548564,
          0.6856844607738098,
          0.676020267862878,
          0.685303955413518,
          0.6791609925641042,
          0.7133498816532517,
          0.6813127264725414,
          0.691137079110139,
          0.6991773992872304,
          0.6791048277326629,
          0.6766178838168363,
          0.6542653498436737,
          0.646670880582816,
          0.734655084905412,
          0.7274363031828099,
          0.6778128216824632,
          0.6976214594284691,
          0.7151260246607325,
          0.6867437993372549,
          0.7038653390853373,
          0.6804081575322222,
          0.7250987734468006,
          0.7032585392233932,
          0.6911531118297961,
          0.6810746532436601,
          0.6972371126675743,
          0.6911126440458006,
          0.6890571965838737,
          0.6910874482438875,
          0.6890063892012526,
          0.7137664094106833,
          0.6891391599789699,
          0.6870804806777695,
          0.6911042795665676,
          0.6576898260411077,
          0.6820728727544535,
          0.7087899540765592,
          0.6755256396352277,
          0.7043958323786516,
          0.6842582351508802,
          0.7132147390617053,
          0.6800751576237887,
          0.6953668801931361,
          0.6820236547151509,
          0.6999115212090313,
          0.6953768919865758,
          0.7019967368698979,
          0.7147462876204633,
          0.7056214046600057,
          0.7113478286608339,
          0.6892024030599264,
          0.6588350426123999,
          0.7079310268519828,
          0.7013776250329129,
          0.7012443891261906,
          0.6830968981047466,
          0.7012773041232713,
          0.7149951134682824,
          0.6892936123762187,
          0.697015656196825,
          0.683485272495356,
          0.6931471805599453,
          0.704843216846319,
          0.7026801384470124,
          0.6855999770960881,
          0.6893230852365518,
          0.681541588416291,
          0.7107086531657868,
          0.7007229242265507,
          0.679951940896689,
          0.6892936123762187,
          0.6931471805599453,
          0.6950832890151879,
          0.6912148133783081,
          0.6989442965360081,
          0.6931471805599453,
          0.6835224700110027,
          0.6989894544491934,
          0.6814965667898347,
          0.6891867805397611,
          0.6851471403327997,
          0.7072177094142286,
          0.6812658550650933,
          0.7111297297853522,
          0.6892485413031919,
          0.689217903597246,
          0.7107774066695556,
          0.6816307418692464,
          0.6931471805599453,
          0.6813591781112485,
          0.6951452335463988,
          0.6931471805599453,
          0.7148228995253699,
          0.6950537582762075,
          0.6950465158134819,
          0.6950392801215287,
          0.6855714365286742,
          0.7007807548749636,
          0.702536966622797,
          0.6931471805599453,
          0.7041970136432901,
          0.703958093693668,
          0.6842424046353939,
          0.7074843397880819,
          0.6913912543278596,
          0.6931471805599453,
          0.6825276145987553,
          0.7003156680794979,
          0.6913725576818219,
          0.6949249583239905,
          0.69668700630967,
          0.6966621217253759,
          0.6896445509441698,
          0.691385066040045,
          0.6800750865849701,
          0.6986873701048624,
          0.7148871578813246,
          0.7156980288556819,
          0.686413151483095,
          0.6828906638067962,
          0.7017902622845406,
          0.6672166003413433,
          0.696737869553371,
          0.700264645175991,
          0.7071334164473776,
          0.6828200923642975,
          0.6983781950084201,
          0.7000437568068529,
          0.6931471805599453,
          0.7050217957118347,
          0.6898083014970205,
          0.7048237152091903,
          0.6931471805599453,
          0.6931471805599453,
          0.6782831338894251,
          0.7032313162222571,
          0.6848345533547818,
          0.7048628014507039,
          0.6882007895160992,
          0.7063486861815985,
          0.6899056679331339,
          0.6947745094073101,
          0.6800751043101452,
          0.6964749899508013,
          0.7046699467885541,
          0.6947639849840829,
          0.6963677738280171,
          0.6786190959551472,
          0.6781843248107882,
          0.7049816431878712,
          0.6931471805599453,
          0.6898193713069343,
          0.6830630448976335,
          0.6689664140016797,
          0.6895564917270027,
          0.7021319520158236,
          0.6860297156286179,
          0.696737869553371,
          0.7020361130278104,
          0.7105389375790869,
          0.6897515718968241,
          0.6999499251465469,
          0.6914622713616538,
          0.6931471805599453,
          0.7082355049804151,
          0.6898630864300125,
          0.6831968332746624,
          0.686390400796366,
          0.6672166003413433,
          0.7180152590778408,
          0.6845486897348603,
          0.643136737744014,
          0.6795415219207177,
          0.6629334013573853,
          0.7405299293449065,
          0.7253164367478999,
          0.6985477426142396,
          0.6877756279788222,
          0.6859007751438609,
          0.6839474991687436,
          0.7024322825390895,
          0.685794209451356,
          0.6762770715002593,
          0.7197141720837437,
          0.6784410392273433,
          0.7117697078531968,
          0.6822180921863885,
          0.7005272848067524,
          0.6858211434741505,
          0.6744550788618227,
          0.691222217097863,
          0.6873388292590439,
          0.6911921586647342,
          0.6990123097178614,
          0.7066218852316417,
          0.6893664358358025,
          0.7082418473748154,
          0.6949904867044379,
          0.6968168849753339,
          0.6913207081591712,
          0.6727949489838929,
          0.6950537461614917,
          0.7026080204380732,
          0.6875344345925004,
          0.6893664358358025,
          0.6797498444223566,
          0.6931471805599453,
          0.6931471805599453,
          0.685304006161746,
          0.6931471805599453,
          0.6990819260170457,
          0.6931471805599453,
          0.6813127525494351,
          0.7071054892556504,
          0.6950984363286569,
          0.7124155668905578,
          0.6856283511365838,
          0.681674807976684,
          0.6794349127731686,
          0.6951451699057181,
          0.7010837268234837,
          0.6970611025715214,
          0.6853346444318982,
          0.6872006717867437,
          0.6951451699057181,
          0.6991054999635647,
          0.7029415617216316,
          0.6912148256370666,
          0.6912073286700264,
          0.6794349127731686,
          0.7030974946523566,
          0.7009597170678603,
          0.6931471805599453,
          0.7009903580209712,
          0.6892636805335477,
          0.689233281238809,
          0.7260639955730871,
          0.7096159882732137,
          0.7002646483288093,
          0.6807466673614904,
          0.696750788063244,
          0.6985091237013307,
          0.6860297127910813,
          0.7003156700385578,
          0.6984522327896384,
          0.6949000293873597,
          0.6931471805599453,
          0.6931471805599453,
          0.6931471805599453,
          0.6826022673833304,
          0.6787584431078457,
          0.7004732206520182,
          0.6895174125093666,
          0.6784410331702498,
          0.6968995301784957,
          0.6856565088307877,
          0.7063176437496903,
          0.6913004579667806,
          0.6949973198481069,
          0.6949904990542344,
          0.6968169094489077,
          0.700419939889025,
          0.6859269325864583,
          0.7076401878625121,
          0.6860297127910813,
          0.6804773278188937,
          0.6968304259762417,
          0.6931471805599453,
          0.7094963185614748,
          0.6895947789555775,
          0.6931471805599453
         ],
         "yaxis": "y"
        }
       ],
       "layout": {
        "legend": {
         "title": {
          "text": "Ticker"
         },
         "tracegroupgap": 0
        },
        "template": {
         "data": {
          "bar": [
           {
            "error_x": {
             "color": "#2a3f5f"
            },
            "error_y": {
             "color": "#2a3f5f"
            },
            "marker": {
             "line": {
              "color": "#E5ECF6",
              "width": 0.5
             },
             "pattern": {
              "fillmode": "overlay",
              "size": 10,
              "solidity": 0.2
             }
            },
            "type": "bar"
           }
          ],
          "barpolar": [
           {
            "marker": {
             "line": {
              "color": "#E5ECF6",
              "width": 0.5
             },
             "pattern": {
              "fillmode": "overlay",
              "size": 10,
              "solidity": 0.2
             }
            },
            "type": "barpolar"
           }
          ],
          "carpet": [
           {
            "aaxis": {
             "endlinecolor": "#2a3f5f",
             "gridcolor": "white",
             "linecolor": "white",
             "minorgridcolor": "white",
             "startlinecolor": "#2a3f5f"
            },
            "baxis": {
             "endlinecolor": "#2a3f5f",
             "gridcolor": "white",
             "linecolor": "white",
             "minorgridcolor": "white",
             "startlinecolor": "#2a3f5f"
            },
            "type": "carpet"
           }
          ],
          "choropleth": [
           {
            "colorbar": {
             "outlinewidth": 0,
             "ticks": ""
            },
            "type": "choropleth"
           }
          ],
          "contour": [
           {
            "colorbar": {
             "outlinewidth": 0,
             "ticks": ""
            },
            "colorscale": [
             [
              0,
              "#0d0887"
             ],
             [
              0.1111111111111111,
              "#46039f"
             ],
             [
              0.2222222222222222,
              "#7201a8"
             ],
             [
              0.3333333333333333,
              "#9c179e"
             ],
             [
              0.4444444444444444,
              "#bd3786"
             ],
             [
              0.5555555555555556,
              "#d8576b"
             ],
             [
              0.6666666666666666,
              "#ed7953"
             ],
             [
              0.7777777777777778,
              "#fb9f3a"
             ],
             [
              0.8888888888888888,
              "#fdca26"
             ],
             [
              1,
              "#f0f921"
             ]
            ],
            "type": "contour"
           }
          ],
          "contourcarpet": [
           {
            "colorbar": {
             "outlinewidth": 0,
             "ticks": ""
            },
            "type": "contourcarpet"
           }
          ],
          "heatmap": [
           {
            "colorbar": {
             "outlinewidth": 0,
             "ticks": ""
            },
            "colorscale": [
             [
              0,
              "#0d0887"
             ],
             [
              0.1111111111111111,
              "#46039f"
             ],
             [
              0.2222222222222222,
              "#7201a8"
             ],
             [
              0.3333333333333333,
              "#9c179e"
             ],
             [
              0.4444444444444444,
              "#bd3786"
             ],
             [
              0.5555555555555556,
              "#d8576b"
             ],
             [
              0.6666666666666666,
              "#ed7953"
             ],
             [
              0.7777777777777778,
              "#fb9f3a"
             ],
             [
              0.8888888888888888,
              "#fdca26"
             ],
             [
              1,
              "#f0f921"
             ]
            ],
            "type": "heatmap"
           }
          ],
          "heatmapgl": [
           {
            "colorbar": {
             "outlinewidth": 0,
             "ticks": ""
            },
            "colorscale": [
             [
              0,
              "#0d0887"
             ],
             [
              0.1111111111111111,
              "#46039f"
             ],
             [
              0.2222222222222222,
              "#7201a8"
             ],
             [
              0.3333333333333333,
              "#9c179e"
             ],
             [
              0.4444444444444444,
              "#bd3786"
             ],
             [
              0.5555555555555556,
              "#d8576b"
             ],
             [
              0.6666666666666666,
              "#ed7953"
             ],
             [
              0.7777777777777778,
              "#fb9f3a"
             ],
             [
              0.8888888888888888,
              "#fdca26"
             ],
             [
              1,
              "#f0f921"
             ]
            ],
            "type": "heatmapgl"
           }
          ],
          "histogram": [
           {
            "marker": {
             "pattern": {
              "fillmode": "overlay",
              "size": 10,
              "solidity": 0.2
             }
            },
            "type": "histogram"
           }
          ],
          "histogram2d": [
           {
            "colorbar": {
             "outlinewidth": 0,
             "ticks": ""
            },
            "colorscale": [
             [
              0,
              "#0d0887"
             ],
             [
              0.1111111111111111,
              "#46039f"
             ],
             [
              0.2222222222222222,
              "#7201a8"
             ],
             [
              0.3333333333333333,
              "#9c179e"
             ],
             [
              0.4444444444444444,
              "#bd3786"
             ],
             [
              0.5555555555555556,
              "#d8576b"
             ],
             [
              0.6666666666666666,
              "#ed7953"
             ],
             [
              0.7777777777777778,
              "#fb9f3a"
             ],
             [
              0.8888888888888888,
              "#fdca26"
             ],
             [
              1,
              "#f0f921"
             ]
            ],
            "type": "histogram2d"
           }
          ],
          "histogram2dcontour": [
           {
            "colorbar": {
             "outlinewidth": 0,
             "ticks": ""
            },
            "colorscale": [
             [
              0,
              "#0d0887"
             ],
             [
              0.1111111111111111,
              "#46039f"
             ],
             [
              0.2222222222222222,
              "#7201a8"
             ],
             [
              0.3333333333333333,
              "#9c179e"
             ],
             [
              0.4444444444444444,
              "#bd3786"
             ],
             [
              0.5555555555555556,
              "#d8576b"
             ],
             [
              0.6666666666666666,
              "#ed7953"
             ],
             [
              0.7777777777777778,
              "#fb9f3a"
             ],
             [
              0.8888888888888888,
              "#fdca26"
             ],
             [
              1,
              "#f0f921"
             ]
            ],
            "type": "histogram2dcontour"
           }
          ],
          "mesh3d": [
           {
            "colorbar": {
             "outlinewidth": 0,
             "ticks": ""
            },
            "type": "mesh3d"
           }
          ],
          "parcoords": [
           {
            "line": {
             "colorbar": {
              "outlinewidth": 0,
              "ticks": ""
             }
            },
            "type": "parcoords"
           }
          ],
          "pie": [
           {
            "automargin": true,
            "type": "pie"
           }
          ],
          "scatter": [
           {
            "fillpattern": {
             "fillmode": "overlay",
             "size": 10,
             "solidity": 0.2
            },
            "type": "scatter"
           }
          ],
          "scatter3d": [
           {
            "line": {
             "colorbar": {
              "outlinewidth": 0,
              "ticks": ""
             }
            },
            "marker": {
             "colorbar": {
              "outlinewidth": 0,
              "ticks": ""
             }
            },
            "type": "scatter3d"
           }
          ],
          "scattercarpet": [
           {
            "marker": {
             "colorbar": {
              "outlinewidth": 0,
              "ticks": ""
             }
            },
            "type": "scattercarpet"
           }
          ],
          "scattergeo": [
           {
            "marker": {
             "colorbar": {
              "outlinewidth": 0,
              "ticks": ""
             }
            },
            "type": "scattergeo"
           }
          ],
          "scattergl": [
           {
            "marker": {
             "colorbar": {
              "outlinewidth": 0,
              "ticks": ""
             }
            },
            "type": "scattergl"
           }
          ],
          "scattermapbox": [
           {
            "marker": {
             "colorbar": {
              "outlinewidth": 0,
              "ticks": ""
             }
            },
            "type": "scattermapbox"
           }
          ],
          "scatterpolar": [
           {
            "marker": {
             "colorbar": {
              "outlinewidth": 0,
              "ticks": ""
             }
            },
            "type": "scatterpolar"
           }
          ],
          "scatterpolargl": [
           {
            "marker": {
             "colorbar": {
              "outlinewidth": 0,
              "ticks": ""
             }
            },
            "type": "scatterpolargl"
           }
          ],
          "scatterternary": [
           {
            "marker": {
             "colorbar": {
              "outlinewidth": 0,
              "ticks": ""
             }
            },
            "type": "scatterternary"
           }
          ],
          "surface": [
           {
            "colorbar": {
             "outlinewidth": 0,
             "ticks": ""
            },
            "colorscale": [
             [
              0,
              "#0d0887"
             ],
             [
              0.1111111111111111,
              "#46039f"
             ],
             [
              0.2222222222222222,
              "#7201a8"
             ],
             [
              0.3333333333333333,
              "#9c179e"
             ],
             [
              0.4444444444444444,
              "#bd3786"
             ],
             [
              0.5555555555555556,
              "#d8576b"
             ],
             [
              0.6666666666666666,
              "#ed7953"
             ],
             [
              0.7777777777777778,
              "#fb9f3a"
             ],
             [
              0.8888888888888888,
              "#fdca26"
             ],
             [
              1,
              "#f0f921"
             ]
            ],
            "type": "surface"
           }
          ],
          "table": [
           {
            "cells": {
             "fill": {
              "color": "#EBF0F8"
             },
             "line": {
              "color": "white"
             }
            },
            "header": {
             "fill": {
              "color": "#C8D4E3"
             },
             "line": {
              "color": "white"
             }
            },
            "type": "table"
           }
          ]
         },
         "layout": {
          "annotationdefaults": {
           "arrowcolor": "#2a3f5f",
           "arrowhead": 0,
           "arrowwidth": 1
          },
          "autotypenumbers": "strict",
          "coloraxis": {
           "colorbar": {
            "outlinewidth": 0,
            "ticks": ""
           }
          },
          "colorscale": {
           "diverging": [
            [
             0,
             "#8e0152"
            ],
            [
             0.1,
             "#c51b7d"
            ],
            [
             0.2,
             "#de77ae"
            ],
            [
             0.3,
             "#f1b6da"
            ],
            [
             0.4,
             "#fde0ef"
            ],
            [
             0.5,
             "#f7f7f7"
            ],
            [
             0.6,
             "#e6f5d0"
            ],
            [
             0.7,
             "#b8e186"
            ],
            [
             0.8,
             "#7fbc41"
            ],
            [
             0.9,
             "#4d9221"
            ],
            [
             1,
             "#276419"
            ]
           ],
           "sequential": [
            [
             0,
             "#0d0887"
            ],
            [
             0.1111111111111111,
             "#46039f"
            ],
            [
             0.2222222222222222,
             "#7201a8"
            ],
            [
             0.3333333333333333,
             "#9c179e"
            ],
            [
             0.4444444444444444,
             "#bd3786"
            ],
            [
             0.5555555555555556,
             "#d8576b"
            ],
            [
             0.6666666666666666,
             "#ed7953"
            ],
            [
             0.7777777777777778,
             "#fb9f3a"
            ],
            [
             0.8888888888888888,
             "#fdca26"
            ],
            [
             1,
             "#f0f921"
            ]
           ],
           "sequentialminus": [
            [
             0,
             "#0d0887"
            ],
            [
             0.1111111111111111,
             "#46039f"
            ],
            [
             0.2222222222222222,
             "#7201a8"
            ],
            [
             0.3333333333333333,
             "#9c179e"
            ],
            [
             0.4444444444444444,
             "#bd3786"
            ],
            [
             0.5555555555555556,
             "#d8576b"
            ],
            [
             0.6666666666666666,
             "#ed7953"
            ],
            [
             0.7777777777777778,
             "#fb9f3a"
            ],
            [
             0.8888888888888888,
             "#fdca26"
            ],
            [
             1,
             "#f0f921"
            ]
           ]
          },
          "colorway": [
           "#636efa",
           "#EF553B",
           "#00cc96",
           "#ab63fa",
           "#FFA15A",
           "#19d3f3",
           "#FF6692",
           "#B6E880",
           "#FF97FF",
           "#FECB52"
          ],
          "font": {
           "color": "#2a3f5f"
          },
          "geo": {
           "bgcolor": "white",
           "lakecolor": "white",
           "landcolor": "#E5ECF6",
           "showlakes": true,
           "showland": true,
           "subunitcolor": "white"
          },
          "hoverlabel": {
           "align": "left"
          },
          "hovermode": "closest",
          "mapbox": {
           "style": "light"
          },
          "paper_bgcolor": "white",
          "plot_bgcolor": "#E5ECF6",
          "polar": {
           "angularaxis": {
            "gridcolor": "white",
            "linecolor": "white",
            "ticks": ""
           },
           "bgcolor": "#E5ECF6",
           "radialaxis": {
            "gridcolor": "white",
            "linecolor": "white",
            "ticks": ""
           }
          },
          "scene": {
           "xaxis": {
            "backgroundcolor": "#E5ECF6",
            "gridcolor": "white",
            "gridwidth": 2,
            "linecolor": "white",
            "showbackground": true,
            "ticks": "",
            "zerolinecolor": "white"
           },
           "yaxis": {
            "backgroundcolor": "#E5ECF6",
            "gridcolor": "white",
            "gridwidth": 2,
            "linecolor": "white",
            "showbackground": true,
            "ticks": "",
            "zerolinecolor": "white"
           },
           "zaxis": {
            "backgroundcolor": "#E5ECF6",
            "gridcolor": "white",
            "gridwidth": 2,
            "linecolor": "white",
            "showbackground": true,
            "ticks": "",
            "zerolinecolor": "white"
           }
          },
          "shapedefaults": {
           "line": {
            "color": "#2a3f5f"
           }
          },
          "ternary": {
           "aaxis": {
            "gridcolor": "white",
            "linecolor": "white",
            "ticks": ""
           },
           "baxis": {
            "gridcolor": "white",
            "linecolor": "white",
            "ticks": ""
           },
           "bgcolor": "#E5ECF6",
           "caxis": {
            "gridcolor": "white",
            "linecolor": "white",
            "ticks": ""
           }
          },
          "title": {
           "x": 0.05
          },
          "xaxis": {
           "automargin": true,
           "gridcolor": "white",
           "linecolor": "white",
           "ticks": "",
           "title": {
            "standoff": 15
           },
           "zerolinecolor": "white",
           "zerolinewidth": 2
          },
          "yaxis": {
           "automargin": true,
           "gridcolor": "white",
           "linecolor": "white",
           "ticks": "",
           "title": {
            "standoff": 15
           },
           "zerolinecolor": "white",
           "zerolinewidth": 2
          }
         }
        },
        "title": {
         "text": "Stock % Change"
        },
        "xaxis": {
         "anchor": "y",
         "domain": [
          0,
          1
         ],
         "title": {
          "text": "Date"
         }
        },
        "yaxis": {
         "anchor": "x",
         "domain": [
          0,
          1
         ],
         "title": {
          "text": "value"
         }
        }
       }
      }
     },
     "metadata": {},
     "output_type": "display_data"
    },
    {
     "data": {
      "text/html": [
       "<div>\n",
       "<style scoped>\n",
       "    .dataframe tbody tr th:only-of-type {\n",
       "        vertical-align: middle;\n",
       "    }\n",
       "\n",
       "    .dataframe tbody tr th {\n",
       "        vertical-align: top;\n",
       "    }\n",
       "\n",
       "    .dataframe thead th {\n",
       "        text-align: right;\n",
       "    }\n",
       "</style>\n",
       "<table border=\"1\" class=\"dataframe\">\n",
       "  <thead>\n",
       "    <tr style=\"text-align: right;\">\n",
       "      <th>Ticker</th>\n",
       "      <th>2317.TW</th>\n",
       "      <th>2330.TW</th>\n",
       "      <th>2353.TW</th>\n",
       "      <th>2454.TW</th>\n",
       "    </tr>\n",
       "  </thead>\n",
       "  <tbody>\n",
       "    <tr>\n",
       "      <th>count</th>\n",
       "      <td>399.000000</td>\n",
       "      <td>399.000000</td>\n",
       "      <td>399.000000</td>\n",
       "      <td>399.000000</td>\n",
       "    </tr>\n",
       "    <tr>\n",
       "      <th>mean</th>\n",
       "      <td>162.036073</td>\n",
       "      <td>936.260558</td>\n",
       "      <td>38.360424</td>\n",
       "      <td>1226.592735</td>\n",
       "    </tr>\n",
       "    <tr>\n",
       "      <th>std</th>\n",
       "      <td>31.314434</td>\n",
       "      <td>151.671631</td>\n",
       "      <td>5.175302</td>\n",
       "      <td>166.377850</td>\n",
       "    </tr>\n",
       "    <tr>\n",
       "      <th>min</th>\n",
       "      <td>92.765930</td>\n",
       "      <td>561.393921</td>\n",
       "      <td>25.743608</td>\n",
       "      <td>826.091187</td>\n",
       "    </tr>\n",
       "    <tr>\n",
       "      <th>25%</th>\n",
       "      <td>146.769623</td>\n",
       "      <td>837.699890</td>\n",
       "      <td>34.618254</td>\n",
       "      <td>1113.672363</td>\n",
       "    </tr>\n",
       "    <tr>\n",
       "      <th>50%</th>\n",
       "      <td>165.489746</td>\n",
       "      <td>962.335388</td>\n",
       "      <td>38.496449</td>\n",
       "      <td>1250.386108</td>\n",
       "    </tr>\n",
       "    <tr>\n",
       "      <th>75%</th>\n",
       "      <td>182.135216</td>\n",
       "      <td>1053.269958</td>\n",
       "      <td>42.409397</td>\n",
       "      <td>1355.000000</td>\n",
       "    </tr>\n",
       "    <tr>\n",
       "      <th>max</th>\n",
       "      <td>218.562256</td>\n",
       "      <td>1200.000000</td>\n",
       "      <td>53.875130</td>\n",
       "      <td>1529.884155</td>\n",
       "    </tr>\n",
       "  </tbody>\n",
       "</table>\n",
       "</div>"
      ],
      "text/plain": [
       "Ticker     2317.TW      2330.TW     2353.TW      2454.TW\n",
       "count   399.000000   399.000000  399.000000   399.000000\n",
       "mean    162.036073   936.260558   38.360424  1226.592735\n",
       "std      31.314434   151.671631    5.175302   166.377850\n",
       "min      92.765930   561.393921   25.743608   826.091187\n",
       "25%     146.769623   837.699890   34.618254  1113.672363\n",
       "50%     165.489746   962.335388   38.496449  1250.386108\n",
       "75%     182.135216  1053.269958   42.409397  1355.000000\n",
       "max     218.562256  1200.000000   53.875130  1529.884155"
      ]
     },
     "execution_count": 37,
     "metadata": {},
     "output_type": "execute_result"
    }
   ],
   "source": [
    "returns = np.log(1+ df/df.shift(1)) # pct_change(1)\n",
    "\n",
    "fig = px.line(returns,\n",
    "        title='Stock % Change',\n",
    "        labels={'variable':'Ticker'})\n",
    "fig.show()\n",
    "\n",
    "df.describe()"
   ]
  },
  {
   "cell_type": "markdown",
   "metadata": {
    "id": "3HjXF6mtg3nl"
   },
   "source": [
    "Risk refers to the possibility of the actual return varying from the expected return. We are going to calculate portfolio risk using variance and standard deviations. Remember that the standard deviation of daily returns is a common measure to analyse stock or portfolio risk."
   ]
  },
  {
   "cell_type": "code",
   "execution_count": 38,
   "metadata": {
    "id": "OAWiM5rmg3nl"
   },
   "outputs": [
    {
     "data": {
      "application/vnd.plotly.v1+json": {
       "config": {
        "plotlyServerURL": "https://plot.ly"
       },
       "data": [
        {
         "alignmentgroup": "True",
         "hovertemplate": "Ticker=%{x}<br>value=%{y}<extra></extra>",
         "legendgroup": "2317.TW",
         "marker": {
          "color": "#636efa",
          "pattern": {
           "shape": ""
          }
         },
         "name": "2317.TW",
         "offsetgroup": "2317.TW",
         "orientation": "v",
         "showlegend": true,
         "textposition": "auto",
         "type": "bar",
         "x": [
          "2317.TW"
         ],
         "xaxis": "x",
         "y": [
          0.6941650648355465
         ],
         "yaxis": "y"
        },
        {
         "alignmentgroup": "True",
         "hovertemplate": "Ticker=%{x}<br>value=%{y}<extra></extra>",
         "legendgroup": "2330.TW",
         "marker": {
          "color": "#EF553B",
          "pattern": {
           "shape": ""
          }
         },
         "name": "2330.TW",
         "offsetgroup": "2330.TW",
         "orientation": "v",
         "showlegend": true,
         "textposition": "auto",
         "type": "bar",
         "x": [
          "2330.TW"
         ],
         "xaxis": "x",
         "y": [
          0.6941156824173969
         ],
         "yaxis": "y"
        },
        {
         "alignmentgroup": "True",
         "hovertemplate": "Ticker=%{x}<br>value=%{y}<extra></extra>",
         "legendgroup": "2353.TW",
         "marker": {
          "color": "#00cc96",
          "pattern": {
           "shape": ""
          }
         },
         "name": "2353.TW",
         "offsetgroup": "2353.TW",
         "orientation": "v",
         "showlegend": true,
         "textposition": "auto",
         "type": "bar",
         "x": [
          "2353.TW"
         ],
         "xaxis": "x",
         "y": [
          0.6926360371424265
         ],
         "yaxis": "y"
        },
        {
         "alignmentgroup": "True",
         "hovertemplate": "Ticker=%{x}<br>value=%{y}<extra></extra>",
         "legendgroup": "2454.TW",
         "marker": {
          "color": "#ab63fa",
          "pattern": {
           "shape": ""
          }
         },
         "name": "2454.TW",
         "offsetgroup": "2454.TW",
         "orientation": "v",
         "showlegend": true,
         "textposition": "auto",
         "type": "bar",
         "x": [
          "2454.TW"
         ],
         "xaxis": "x",
         "y": [
          0.6937866622806503
         ],
         "yaxis": "y"
        }
       ],
       "layout": {
        "barmode": "relative",
        "legend": {
         "title": {
          "text": "Ticker"
         },
         "tracegroupgap": 0
        },
        "margin": {
         "t": 60
        },
        "showlegend": false,
        "template": {
         "data": {
          "bar": [
           {
            "error_x": {
             "color": "#2a3f5f"
            },
            "error_y": {
             "color": "#2a3f5f"
            },
            "marker": {
             "line": {
              "color": "#E5ECF6",
              "width": 0.5
             },
             "pattern": {
              "fillmode": "overlay",
              "size": 10,
              "solidity": 0.2
             }
            },
            "type": "bar"
           }
          ],
          "barpolar": [
           {
            "marker": {
             "line": {
              "color": "#E5ECF6",
              "width": 0.5
             },
             "pattern": {
              "fillmode": "overlay",
              "size": 10,
              "solidity": 0.2
             }
            },
            "type": "barpolar"
           }
          ],
          "carpet": [
           {
            "aaxis": {
             "endlinecolor": "#2a3f5f",
             "gridcolor": "white",
             "linecolor": "white",
             "minorgridcolor": "white",
             "startlinecolor": "#2a3f5f"
            },
            "baxis": {
             "endlinecolor": "#2a3f5f",
             "gridcolor": "white",
             "linecolor": "white",
             "minorgridcolor": "white",
             "startlinecolor": "#2a3f5f"
            },
            "type": "carpet"
           }
          ],
          "choropleth": [
           {
            "colorbar": {
             "outlinewidth": 0,
             "ticks": ""
            },
            "type": "choropleth"
           }
          ],
          "contour": [
           {
            "colorbar": {
             "outlinewidth": 0,
             "ticks": ""
            },
            "colorscale": [
             [
              0,
              "#0d0887"
             ],
             [
              0.1111111111111111,
              "#46039f"
             ],
             [
              0.2222222222222222,
              "#7201a8"
             ],
             [
              0.3333333333333333,
              "#9c179e"
             ],
             [
              0.4444444444444444,
              "#bd3786"
             ],
             [
              0.5555555555555556,
              "#d8576b"
             ],
             [
              0.6666666666666666,
              "#ed7953"
             ],
             [
              0.7777777777777778,
              "#fb9f3a"
             ],
             [
              0.8888888888888888,
              "#fdca26"
             ],
             [
              1,
              "#f0f921"
             ]
            ],
            "type": "contour"
           }
          ],
          "contourcarpet": [
           {
            "colorbar": {
             "outlinewidth": 0,
             "ticks": ""
            },
            "type": "contourcarpet"
           }
          ],
          "heatmap": [
           {
            "colorbar": {
             "outlinewidth": 0,
             "ticks": ""
            },
            "colorscale": [
             [
              0,
              "#0d0887"
             ],
             [
              0.1111111111111111,
              "#46039f"
             ],
             [
              0.2222222222222222,
              "#7201a8"
             ],
             [
              0.3333333333333333,
              "#9c179e"
             ],
             [
              0.4444444444444444,
              "#bd3786"
             ],
             [
              0.5555555555555556,
              "#d8576b"
             ],
             [
              0.6666666666666666,
              "#ed7953"
             ],
             [
              0.7777777777777778,
              "#fb9f3a"
             ],
             [
              0.8888888888888888,
              "#fdca26"
             ],
             [
              1,
              "#f0f921"
             ]
            ],
            "type": "heatmap"
           }
          ],
          "heatmapgl": [
           {
            "colorbar": {
             "outlinewidth": 0,
             "ticks": ""
            },
            "colorscale": [
             [
              0,
              "#0d0887"
             ],
             [
              0.1111111111111111,
              "#46039f"
             ],
             [
              0.2222222222222222,
              "#7201a8"
             ],
             [
              0.3333333333333333,
              "#9c179e"
             ],
             [
              0.4444444444444444,
              "#bd3786"
             ],
             [
              0.5555555555555556,
              "#d8576b"
             ],
             [
              0.6666666666666666,
              "#ed7953"
             ],
             [
              0.7777777777777778,
              "#fb9f3a"
             ],
             [
              0.8888888888888888,
              "#fdca26"
             ],
             [
              1,
              "#f0f921"
             ]
            ],
            "type": "heatmapgl"
           }
          ],
          "histogram": [
           {
            "marker": {
             "pattern": {
              "fillmode": "overlay",
              "size": 10,
              "solidity": 0.2
             }
            },
            "type": "histogram"
           }
          ],
          "histogram2d": [
           {
            "colorbar": {
             "outlinewidth": 0,
             "ticks": ""
            },
            "colorscale": [
             [
              0,
              "#0d0887"
             ],
             [
              0.1111111111111111,
              "#46039f"
             ],
             [
              0.2222222222222222,
              "#7201a8"
             ],
             [
              0.3333333333333333,
              "#9c179e"
             ],
             [
              0.4444444444444444,
              "#bd3786"
             ],
             [
              0.5555555555555556,
              "#d8576b"
             ],
             [
              0.6666666666666666,
              "#ed7953"
             ],
             [
              0.7777777777777778,
              "#fb9f3a"
             ],
             [
              0.8888888888888888,
              "#fdca26"
             ],
             [
              1,
              "#f0f921"
             ]
            ],
            "type": "histogram2d"
           }
          ],
          "histogram2dcontour": [
           {
            "colorbar": {
             "outlinewidth": 0,
             "ticks": ""
            },
            "colorscale": [
             [
              0,
              "#0d0887"
             ],
             [
              0.1111111111111111,
              "#46039f"
             ],
             [
              0.2222222222222222,
              "#7201a8"
             ],
             [
              0.3333333333333333,
              "#9c179e"
             ],
             [
              0.4444444444444444,
              "#bd3786"
             ],
             [
              0.5555555555555556,
              "#d8576b"
             ],
             [
              0.6666666666666666,
              "#ed7953"
             ],
             [
              0.7777777777777778,
              "#fb9f3a"
             ],
             [
              0.8888888888888888,
              "#fdca26"
             ],
             [
              1,
              "#f0f921"
             ]
            ],
            "type": "histogram2dcontour"
           }
          ],
          "mesh3d": [
           {
            "colorbar": {
             "outlinewidth": 0,
             "ticks": ""
            },
            "type": "mesh3d"
           }
          ],
          "parcoords": [
           {
            "line": {
             "colorbar": {
              "outlinewidth": 0,
              "ticks": ""
             }
            },
            "type": "parcoords"
           }
          ],
          "pie": [
           {
            "automargin": true,
            "type": "pie"
           }
          ],
          "scatter": [
           {
            "fillpattern": {
             "fillmode": "overlay",
             "size": 10,
             "solidity": 0.2
            },
            "type": "scatter"
           }
          ],
          "scatter3d": [
           {
            "line": {
             "colorbar": {
              "outlinewidth": 0,
              "ticks": ""
             }
            },
            "marker": {
             "colorbar": {
              "outlinewidth": 0,
              "ticks": ""
             }
            },
            "type": "scatter3d"
           }
          ],
          "scattercarpet": [
           {
            "marker": {
             "colorbar": {
              "outlinewidth": 0,
              "ticks": ""
             }
            },
            "type": "scattercarpet"
           }
          ],
          "scattergeo": [
           {
            "marker": {
             "colorbar": {
              "outlinewidth": 0,
              "ticks": ""
             }
            },
            "type": "scattergeo"
           }
          ],
          "scattergl": [
           {
            "marker": {
             "colorbar": {
              "outlinewidth": 0,
              "ticks": ""
             }
            },
            "type": "scattergl"
           }
          ],
          "scattermapbox": [
           {
            "marker": {
             "colorbar": {
              "outlinewidth": 0,
              "ticks": ""
             }
            },
            "type": "scattermapbox"
           }
          ],
          "scatterpolar": [
           {
            "marker": {
             "colorbar": {
              "outlinewidth": 0,
              "ticks": ""
             }
            },
            "type": "scatterpolar"
           }
          ],
          "scatterpolargl": [
           {
            "marker": {
             "colorbar": {
              "outlinewidth": 0,
              "ticks": ""
             }
            },
            "type": "scatterpolargl"
           }
          ],
          "scatterternary": [
           {
            "marker": {
             "colorbar": {
              "outlinewidth": 0,
              "ticks": ""
             }
            },
            "type": "scatterternary"
           }
          ],
          "surface": [
           {
            "colorbar": {
             "outlinewidth": 0,
             "ticks": ""
            },
            "colorscale": [
             [
              0,
              "#0d0887"
             ],
             [
              0.1111111111111111,
              "#46039f"
             ],
             [
              0.2222222222222222,
              "#7201a8"
             ],
             [
              0.3333333333333333,
              "#9c179e"
             ],
             [
              0.4444444444444444,
              "#bd3786"
             ],
             [
              0.5555555555555556,
              "#d8576b"
             ],
             [
              0.6666666666666666,
              "#ed7953"
             ],
             [
              0.7777777777777778,
              "#fb9f3a"
             ],
             [
              0.8888888888888888,
              "#fdca26"
             ],
             [
              1,
              "#f0f921"
             ]
            ],
            "type": "surface"
           }
          ],
          "table": [
           {
            "cells": {
             "fill": {
              "color": "#EBF0F8"
             },
             "line": {
              "color": "white"
             }
            },
            "header": {
             "fill": {
              "color": "#C8D4E3"
             },
             "line": {
              "color": "white"
             }
            },
            "type": "table"
           }
          ]
         },
         "layout": {
          "annotationdefaults": {
           "arrowcolor": "#2a3f5f",
           "arrowhead": 0,
           "arrowwidth": 1
          },
          "autotypenumbers": "strict",
          "coloraxis": {
           "colorbar": {
            "outlinewidth": 0,
            "ticks": ""
           }
          },
          "colorscale": {
           "diverging": [
            [
             0,
             "#8e0152"
            ],
            [
             0.1,
             "#c51b7d"
            ],
            [
             0.2,
             "#de77ae"
            ],
            [
             0.3,
             "#f1b6da"
            ],
            [
             0.4,
             "#fde0ef"
            ],
            [
             0.5,
             "#f7f7f7"
            ],
            [
             0.6,
             "#e6f5d0"
            ],
            [
             0.7,
             "#b8e186"
            ],
            [
             0.8,
             "#7fbc41"
            ],
            [
             0.9,
             "#4d9221"
            ],
            [
             1,
             "#276419"
            ]
           ],
           "sequential": [
            [
             0,
             "#0d0887"
            ],
            [
             0.1111111111111111,
             "#46039f"
            ],
            [
             0.2222222222222222,
             "#7201a8"
            ],
            [
             0.3333333333333333,
             "#9c179e"
            ],
            [
             0.4444444444444444,
             "#bd3786"
            ],
            [
             0.5555555555555556,
             "#d8576b"
            ],
            [
             0.6666666666666666,
             "#ed7953"
            ],
            [
             0.7777777777777778,
             "#fb9f3a"
            ],
            [
             0.8888888888888888,
             "#fdca26"
            ],
            [
             1,
             "#f0f921"
            ]
           ],
           "sequentialminus": [
            [
             0,
             "#0d0887"
            ],
            [
             0.1111111111111111,
             "#46039f"
            ],
            [
             0.2222222222222222,
             "#7201a8"
            ],
            [
             0.3333333333333333,
             "#9c179e"
            ],
            [
             0.4444444444444444,
             "#bd3786"
            ],
            [
             0.5555555555555556,
             "#d8576b"
            ],
            [
             0.6666666666666666,
             "#ed7953"
            ],
            [
             0.7777777777777778,
             "#fb9f3a"
            ],
            [
             0.8888888888888888,
             "#fdca26"
            ],
            [
             1,
             "#f0f921"
            ]
           ]
          },
          "colorway": [
           "#636efa",
           "#EF553B",
           "#00cc96",
           "#ab63fa",
           "#FFA15A",
           "#19d3f3",
           "#FF6692",
           "#B6E880",
           "#FF97FF",
           "#FECB52"
          ],
          "font": {
           "color": "#2a3f5f"
          },
          "geo": {
           "bgcolor": "white",
           "lakecolor": "white",
           "landcolor": "#E5ECF6",
           "showlakes": true,
           "showland": true,
           "subunitcolor": "white"
          },
          "hoverlabel": {
           "align": "left"
          },
          "hovermode": "closest",
          "mapbox": {
           "style": "light"
          },
          "paper_bgcolor": "white",
          "plot_bgcolor": "#E5ECF6",
          "polar": {
           "angularaxis": {
            "gridcolor": "white",
            "linecolor": "white",
            "ticks": ""
           },
           "bgcolor": "#E5ECF6",
           "radialaxis": {
            "gridcolor": "white",
            "linecolor": "white",
            "ticks": ""
           }
          },
          "scene": {
           "xaxis": {
            "backgroundcolor": "#E5ECF6",
            "gridcolor": "white",
            "gridwidth": 2,
            "linecolor": "white",
            "showbackground": true,
            "ticks": "",
            "zerolinecolor": "white"
           },
           "yaxis": {
            "backgroundcolor": "#E5ECF6",
            "gridcolor": "white",
            "gridwidth": 2,
            "linecolor": "white",
            "showbackground": true,
            "ticks": "",
            "zerolinecolor": "white"
           },
           "zaxis": {
            "backgroundcolor": "#E5ECF6",
            "gridcolor": "white",
            "gridwidth": 2,
            "linecolor": "white",
            "showbackground": true,
            "ticks": "",
            "zerolinecolor": "white"
           }
          },
          "shapedefaults": {
           "line": {
            "color": "#2a3f5f"
           }
          },
          "ternary": {
           "aaxis": {
            "gridcolor": "white",
            "linecolor": "white",
            "ticks": ""
           },
           "baxis": {
            "gridcolor": "white",
            "linecolor": "white",
            "ticks": ""
           },
           "bgcolor": "#E5ECF6",
           "caxis": {
            "gridcolor": "white",
            "linecolor": "white",
            "ticks": ""
           }
          },
          "title": {
           "x": 0.05
          },
          "xaxis": {
           "automargin": true,
           "gridcolor": "white",
           "linecolor": "white",
           "ticks": "",
           "title": {
            "standoff": 15
           },
           "zerolinecolor": "white",
           "zerolinewidth": 2
          },
          "yaxis": {
           "automargin": true,
           "gridcolor": "white",
           "linecolor": "white",
           "ticks": "",
           "title": {
            "standoff": 15
           },
           "zerolinecolor": "white",
           "zerolinewidth": 2
          }
         }
        },
        "title": {
         "text": "Average Returns"
        },
        "xaxis": {
         "anchor": "y",
         "categoryarray": [
          "2317.TW",
          "2330.TW",
          "2353.TW",
          "2454.TW"
         ],
         "categoryorder": "array",
         "domain": [
          0,
          1
         ],
         "title": {
          "text": "Ticker"
         }
        },
        "yaxis": {
         "anchor": "x",
         "domain": [
          0,
          1
         ],
         "title": {
          "text": "value"
         }
        }
       }
      }
     },
     "metadata": {},
     "output_type": "display_data"
    }
   ],
   "source": [
    "avg_return = returns.mean()\n",
    "\n",
    "fig = px.bar(avg_return, color=avg_return.index)\n",
    "fig.update_layout(showlegend=False, title='Average Returns')\n",
    "fig.show()"
   ]
  },
  {
   "cell_type": "code",
   "execution_count": 39,
   "metadata": {
    "id": "CiQj9POdg3nl"
   },
   "outputs": [
    {
     "data": {
      "application/vnd.plotly.v1+json": {
       "config": {
        "plotlyServerURL": "https://plot.ly"
       },
       "data": [
        {
         "alignmentgroup": "True",
         "hovertemplate": "Ticker=%{x}<br>value=%{y}<extra></extra>",
         "legendgroup": "2317.TW",
         "marker": {
          "color": "#636efa",
          "pattern": {
           "shape": ""
          }
         },
         "name": "2317.TW",
         "offsetgroup": "2317.TW",
         "orientation": "v",
         "showlegend": true,
         "textposition": "auto",
         "type": "bar",
         "x": [
          "2317.TW"
         ],
         "xaxis": "x",
         "y": [
          0.012814196852267104
         ],
         "yaxis": "y"
        },
        {
         "alignmentgroup": "True",
         "hovertemplate": "Ticker=%{x}<br>value=%{y}<extra></extra>",
         "legendgroup": "2330.TW",
         "marker": {
          "color": "#EF553B",
          "pattern": {
           "shape": ""
          }
         },
         "name": "2330.TW",
         "offsetgroup": "2330.TW",
         "orientation": "v",
         "showlegend": true,
         "textposition": "auto",
         "type": "bar",
         "x": [
          "2330.TW"
         ],
         "xaxis": "x",
         "y": [
          0.011040300355461845
         ],
         "yaxis": "y"
        },
        {
         "alignmentgroup": "True",
         "hovertemplate": "Ticker=%{x}<br>value=%{y}<extra></extra>",
         "legendgroup": "2353.TW",
         "marker": {
          "color": "#00cc96",
          "pattern": {
           "shape": ""
          }
         },
         "name": "2353.TW",
         "offsetgroup": "2353.TW",
         "orientation": "v",
         "showlegend": true,
         "textposition": "auto",
         "type": "bar",
         "x": [
          "2353.TW"
         ],
         "xaxis": "x",
         "y": [
          0.010812248817305734
         ],
         "yaxis": "y"
        },
        {
         "alignmentgroup": "True",
         "hovertemplate": "Ticker=%{x}<br>value=%{y}<extra></extra>",
         "legendgroup": "2454.TW",
         "marker": {
          "color": "#ab63fa",
          "pattern": {
           "shape": ""
          }
         },
         "name": "2454.TW",
         "offsetgroup": "2454.TW",
         "orientation": "v",
         "showlegend": true,
         "textposition": "auto",
         "type": "bar",
         "x": [
          "2454.TW"
         ],
         "xaxis": "x",
         "y": [
          0.012801763460727702
         ],
         "yaxis": "y"
        }
       ],
       "layout": {
        "barmode": "relative",
        "legend": {
         "title": {
          "text": "Ticker"
         },
         "tracegroupgap": 0
        },
        "margin": {
         "t": 60
        },
        "showlegend": false,
        "template": {
         "data": {
          "bar": [
           {
            "error_x": {
             "color": "#2a3f5f"
            },
            "error_y": {
             "color": "#2a3f5f"
            },
            "marker": {
             "line": {
              "color": "#E5ECF6",
              "width": 0.5
             },
             "pattern": {
              "fillmode": "overlay",
              "size": 10,
              "solidity": 0.2
             }
            },
            "type": "bar"
           }
          ],
          "barpolar": [
           {
            "marker": {
             "line": {
              "color": "#E5ECF6",
              "width": 0.5
             },
             "pattern": {
              "fillmode": "overlay",
              "size": 10,
              "solidity": 0.2
             }
            },
            "type": "barpolar"
           }
          ],
          "carpet": [
           {
            "aaxis": {
             "endlinecolor": "#2a3f5f",
             "gridcolor": "white",
             "linecolor": "white",
             "minorgridcolor": "white",
             "startlinecolor": "#2a3f5f"
            },
            "baxis": {
             "endlinecolor": "#2a3f5f",
             "gridcolor": "white",
             "linecolor": "white",
             "minorgridcolor": "white",
             "startlinecolor": "#2a3f5f"
            },
            "type": "carpet"
           }
          ],
          "choropleth": [
           {
            "colorbar": {
             "outlinewidth": 0,
             "ticks": ""
            },
            "type": "choropleth"
           }
          ],
          "contour": [
           {
            "colorbar": {
             "outlinewidth": 0,
             "ticks": ""
            },
            "colorscale": [
             [
              0,
              "#0d0887"
             ],
             [
              0.1111111111111111,
              "#46039f"
             ],
             [
              0.2222222222222222,
              "#7201a8"
             ],
             [
              0.3333333333333333,
              "#9c179e"
             ],
             [
              0.4444444444444444,
              "#bd3786"
             ],
             [
              0.5555555555555556,
              "#d8576b"
             ],
             [
              0.6666666666666666,
              "#ed7953"
             ],
             [
              0.7777777777777778,
              "#fb9f3a"
             ],
             [
              0.8888888888888888,
              "#fdca26"
             ],
             [
              1,
              "#f0f921"
             ]
            ],
            "type": "contour"
           }
          ],
          "contourcarpet": [
           {
            "colorbar": {
             "outlinewidth": 0,
             "ticks": ""
            },
            "type": "contourcarpet"
           }
          ],
          "heatmap": [
           {
            "colorbar": {
             "outlinewidth": 0,
             "ticks": ""
            },
            "colorscale": [
             [
              0,
              "#0d0887"
             ],
             [
              0.1111111111111111,
              "#46039f"
             ],
             [
              0.2222222222222222,
              "#7201a8"
             ],
             [
              0.3333333333333333,
              "#9c179e"
             ],
             [
              0.4444444444444444,
              "#bd3786"
             ],
             [
              0.5555555555555556,
              "#d8576b"
             ],
             [
              0.6666666666666666,
              "#ed7953"
             ],
             [
              0.7777777777777778,
              "#fb9f3a"
             ],
             [
              0.8888888888888888,
              "#fdca26"
             ],
             [
              1,
              "#f0f921"
             ]
            ],
            "type": "heatmap"
           }
          ],
          "heatmapgl": [
           {
            "colorbar": {
             "outlinewidth": 0,
             "ticks": ""
            },
            "colorscale": [
             [
              0,
              "#0d0887"
             ],
             [
              0.1111111111111111,
              "#46039f"
             ],
             [
              0.2222222222222222,
              "#7201a8"
             ],
             [
              0.3333333333333333,
              "#9c179e"
             ],
             [
              0.4444444444444444,
              "#bd3786"
             ],
             [
              0.5555555555555556,
              "#d8576b"
             ],
             [
              0.6666666666666666,
              "#ed7953"
             ],
             [
              0.7777777777777778,
              "#fb9f3a"
             ],
             [
              0.8888888888888888,
              "#fdca26"
             ],
             [
              1,
              "#f0f921"
             ]
            ],
            "type": "heatmapgl"
           }
          ],
          "histogram": [
           {
            "marker": {
             "pattern": {
              "fillmode": "overlay",
              "size": 10,
              "solidity": 0.2
             }
            },
            "type": "histogram"
           }
          ],
          "histogram2d": [
           {
            "colorbar": {
             "outlinewidth": 0,
             "ticks": ""
            },
            "colorscale": [
             [
              0,
              "#0d0887"
             ],
             [
              0.1111111111111111,
              "#46039f"
             ],
             [
              0.2222222222222222,
              "#7201a8"
             ],
             [
              0.3333333333333333,
              "#9c179e"
             ],
             [
              0.4444444444444444,
              "#bd3786"
             ],
             [
              0.5555555555555556,
              "#d8576b"
             ],
             [
              0.6666666666666666,
              "#ed7953"
             ],
             [
              0.7777777777777778,
              "#fb9f3a"
             ],
             [
              0.8888888888888888,
              "#fdca26"
             ],
             [
              1,
              "#f0f921"
             ]
            ],
            "type": "histogram2d"
           }
          ],
          "histogram2dcontour": [
           {
            "colorbar": {
             "outlinewidth": 0,
             "ticks": ""
            },
            "colorscale": [
             [
              0,
              "#0d0887"
             ],
             [
              0.1111111111111111,
              "#46039f"
             ],
             [
              0.2222222222222222,
              "#7201a8"
             ],
             [
              0.3333333333333333,
              "#9c179e"
             ],
             [
              0.4444444444444444,
              "#bd3786"
             ],
             [
              0.5555555555555556,
              "#d8576b"
             ],
             [
              0.6666666666666666,
              "#ed7953"
             ],
             [
              0.7777777777777778,
              "#fb9f3a"
             ],
             [
              0.8888888888888888,
              "#fdca26"
             ],
             [
              1,
              "#f0f921"
             ]
            ],
            "type": "histogram2dcontour"
           }
          ],
          "mesh3d": [
           {
            "colorbar": {
             "outlinewidth": 0,
             "ticks": ""
            },
            "type": "mesh3d"
           }
          ],
          "parcoords": [
           {
            "line": {
             "colorbar": {
              "outlinewidth": 0,
              "ticks": ""
             }
            },
            "type": "parcoords"
           }
          ],
          "pie": [
           {
            "automargin": true,
            "type": "pie"
           }
          ],
          "scatter": [
           {
            "fillpattern": {
             "fillmode": "overlay",
             "size": 10,
             "solidity": 0.2
            },
            "type": "scatter"
           }
          ],
          "scatter3d": [
           {
            "line": {
             "colorbar": {
              "outlinewidth": 0,
              "ticks": ""
             }
            },
            "marker": {
             "colorbar": {
              "outlinewidth": 0,
              "ticks": ""
             }
            },
            "type": "scatter3d"
           }
          ],
          "scattercarpet": [
           {
            "marker": {
             "colorbar": {
              "outlinewidth": 0,
              "ticks": ""
             }
            },
            "type": "scattercarpet"
           }
          ],
          "scattergeo": [
           {
            "marker": {
             "colorbar": {
              "outlinewidth": 0,
              "ticks": ""
             }
            },
            "type": "scattergeo"
           }
          ],
          "scattergl": [
           {
            "marker": {
             "colorbar": {
              "outlinewidth": 0,
              "ticks": ""
             }
            },
            "type": "scattergl"
           }
          ],
          "scattermapbox": [
           {
            "marker": {
             "colorbar": {
              "outlinewidth": 0,
              "ticks": ""
             }
            },
            "type": "scattermapbox"
           }
          ],
          "scatterpolar": [
           {
            "marker": {
             "colorbar": {
              "outlinewidth": 0,
              "ticks": ""
             }
            },
            "type": "scatterpolar"
           }
          ],
          "scatterpolargl": [
           {
            "marker": {
             "colorbar": {
              "outlinewidth": 0,
              "ticks": ""
             }
            },
            "type": "scatterpolargl"
           }
          ],
          "scatterternary": [
           {
            "marker": {
             "colorbar": {
              "outlinewidth": 0,
              "ticks": ""
             }
            },
            "type": "scatterternary"
           }
          ],
          "surface": [
           {
            "colorbar": {
             "outlinewidth": 0,
             "ticks": ""
            },
            "colorscale": [
             [
              0,
              "#0d0887"
             ],
             [
              0.1111111111111111,
              "#46039f"
             ],
             [
              0.2222222222222222,
              "#7201a8"
             ],
             [
              0.3333333333333333,
              "#9c179e"
             ],
             [
              0.4444444444444444,
              "#bd3786"
             ],
             [
              0.5555555555555556,
              "#d8576b"
             ],
             [
              0.6666666666666666,
              "#ed7953"
             ],
             [
              0.7777777777777778,
              "#fb9f3a"
             ],
             [
              0.8888888888888888,
              "#fdca26"
             ],
             [
              1,
              "#f0f921"
             ]
            ],
            "type": "surface"
           }
          ],
          "table": [
           {
            "cells": {
             "fill": {
              "color": "#EBF0F8"
             },
             "line": {
              "color": "white"
             }
            },
            "header": {
             "fill": {
              "color": "#C8D4E3"
             },
             "line": {
              "color": "white"
             }
            },
            "type": "table"
           }
          ]
         },
         "layout": {
          "annotationdefaults": {
           "arrowcolor": "#2a3f5f",
           "arrowhead": 0,
           "arrowwidth": 1
          },
          "autotypenumbers": "strict",
          "coloraxis": {
           "colorbar": {
            "outlinewidth": 0,
            "ticks": ""
           }
          },
          "colorscale": {
           "diverging": [
            [
             0,
             "#8e0152"
            ],
            [
             0.1,
             "#c51b7d"
            ],
            [
             0.2,
             "#de77ae"
            ],
            [
             0.3,
             "#f1b6da"
            ],
            [
             0.4,
             "#fde0ef"
            ],
            [
             0.5,
             "#f7f7f7"
            ],
            [
             0.6,
             "#e6f5d0"
            ],
            [
             0.7,
             "#b8e186"
            ],
            [
             0.8,
             "#7fbc41"
            ],
            [
             0.9,
             "#4d9221"
            ],
            [
             1,
             "#276419"
            ]
           ],
           "sequential": [
            [
             0,
             "#0d0887"
            ],
            [
             0.1111111111111111,
             "#46039f"
            ],
            [
             0.2222222222222222,
             "#7201a8"
            ],
            [
             0.3333333333333333,
             "#9c179e"
            ],
            [
             0.4444444444444444,
             "#bd3786"
            ],
            [
             0.5555555555555556,
             "#d8576b"
            ],
            [
             0.6666666666666666,
             "#ed7953"
            ],
            [
             0.7777777777777778,
             "#fb9f3a"
            ],
            [
             0.8888888888888888,
             "#fdca26"
            ],
            [
             1,
             "#f0f921"
            ]
           ],
           "sequentialminus": [
            [
             0,
             "#0d0887"
            ],
            [
             0.1111111111111111,
             "#46039f"
            ],
            [
             0.2222222222222222,
             "#7201a8"
            ],
            [
             0.3333333333333333,
             "#9c179e"
            ],
            [
             0.4444444444444444,
             "#bd3786"
            ],
            [
             0.5555555555555556,
             "#d8576b"
            ],
            [
             0.6666666666666666,
             "#ed7953"
            ],
            [
             0.7777777777777778,
             "#fb9f3a"
            ],
            [
             0.8888888888888888,
             "#fdca26"
            ],
            [
             1,
             "#f0f921"
            ]
           ]
          },
          "colorway": [
           "#636efa",
           "#EF553B",
           "#00cc96",
           "#ab63fa",
           "#FFA15A",
           "#19d3f3",
           "#FF6692",
           "#B6E880",
           "#FF97FF",
           "#FECB52"
          ],
          "font": {
           "color": "#2a3f5f"
          },
          "geo": {
           "bgcolor": "white",
           "lakecolor": "white",
           "landcolor": "#E5ECF6",
           "showlakes": true,
           "showland": true,
           "subunitcolor": "white"
          },
          "hoverlabel": {
           "align": "left"
          },
          "hovermode": "closest",
          "mapbox": {
           "style": "light"
          },
          "paper_bgcolor": "white",
          "plot_bgcolor": "#E5ECF6",
          "polar": {
           "angularaxis": {
            "gridcolor": "white",
            "linecolor": "white",
            "ticks": ""
           },
           "bgcolor": "#E5ECF6",
           "radialaxis": {
            "gridcolor": "white",
            "linecolor": "white",
            "ticks": ""
           }
          },
          "scene": {
           "xaxis": {
            "backgroundcolor": "#E5ECF6",
            "gridcolor": "white",
            "gridwidth": 2,
            "linecolor": "white",
            "showbackground": true,
            "ticks": "",
            "zerolinecolor": "white"
           },
           "yaxis": {
            "backgroundcolor": "#E5ECF6",
            "gridcolor": "white",
            "gridwidth": 2,
            "linecolor": "white",
            "showbackground": true,
            "ticks": "",
            "zerolinecolor": "white"
           },
           "zaxis": {
            "backgroundcolor": "#E5ECF6",
            "gridcolor": "white",
            "gridwidth": 2,
            "linecolor": "white",
            "showbackground": true,
            "ticks": "",
            "zerolinecolor": "white"
           }
          },
          "shapedefaults": {
           "line": {
            "color": "#2a3f5f"
           }
          },
          "ternary": {
           "aaxis": {
            "gridcolor": "white",
            "linecolor": "white",
            "ticks": ""
           },
           "baxis": {
            "gridcolor": "white",
            "linecolor": "white",
            "ticks": ""
           },
           "bgcolor": "#E5ECF6",
           "caxis": {
            "gridcolor": "white",
            "linecolor": "white",
            "ticks": ""
           }
          },
          "title": {
           "x": 0.05
          },
          "xaxis": {
           "automargin": true,
           "gridcolor": "white",
           "linecolor": "white",
           "ticks": "",
           "title": {
            "standoff": 15
           },
           "zerolinecolor": "white",
           "zerolinewidth": 2
          },
          "yaxis": {
           "automargin": true,
           "gridcolor": "white",
           "linecolor": "white",
           "ticks": "",
           "title": {
            "standoff": 15
           },
           "zerolinecolor": "white",
           "zerolinewidth": 2
          }
         }
        },
        "title": {
         "text": "Standard Deviation of the Return Difference"
        },
        "xaxis": {
         "anchor": "y",
         "categoryarray": [
          "2317.TW",
          "2330.TW",
          "2353.TW",
          "2454.TW"
         ],
         "categoryorder": "array",
         "domain": [
          0,
          1
         ],
         "title": {
          "text": "Ticker"
         }
        },
        "yaxis": {
         "anchor": "x",
         "domain": [
          0,
          1
         ],
         "title": {
          "text": "value"
         }
        }
       }
      }
     },
     "metadata": {},
     "output_type": "display_data"
    }
   ],
   "source": [
    "sd_return = returns.std()\n",
    "\n",
    "fig = px.bar(sd_return, color=sd_return.index)\n",
    "fig.update_layout(showlegend=False, title='Standard Deviation of the Return Difference')\n",
    "fig.show()"
   ]
  },
  {
   "cell_type": "markdown",
   "metadata": {
    "id": "PNBmLI2jg3nl"
   },
   "source": [
    "### **Sharpe Ratio**\n",
    "\n",
    "Developed by Nobel Laureate William F. Sharpe, the Sharpe Ratio is a measure for calculating risk-adjusted return and has been the industry standard for such calculations.\n",
    "\n",
    "$$\n",
    "Sharpe = \\frac{R_P - R_f}{\\sigma_p}\n",
    "$$\n",
    "\n",
    "- $R_p$ = portfolio return\n",
    "- $R_f$ = risk-free rate\n",
    "- $\\sigma_p$ = standard deviation of the portfolio's excess return\n",
    "\n",
    "The Sharpe Ratio is the mean (portfolio return - the risk-free rate) % standard deviation.\n"
   ]
  },
  {
   "cell_type": "code",
   "execution_count": 40,
   "metadata": {
    "id": "pmlWisBng3nm"
   },
   "outputs": [
    {
     "data": {
      "application/vnd.plotly.v1+json": {
       "config": {
        "plotlyServerURL": "https://plot.ly"
       },
       "data": [
        {
         "alignmentgroup": "True",
         "hovertemplate": "Ticker=%{x}<br>value=%{y}<extra></extra>",
         "legendgroup": "2317.TW",
         "marker": {
          "color": "#636efa",
          "pattern": {
           "shape": ""
          }
         },
         "name": "2317.TW",
         "offsetgroup": "2317.TW",
         "orientation": "v",
         "showlegend": true,
         "textposition": "auto",
         "type": "bar",
         "x": [
          "2317.TW"
         ],
         "xaxis": "x",
         "y": [
          859.9468940071506
         ],
         "yaxis": "y"
        },
        {
         "alignmentgroup": "True",
         "hovertemplate": "Ticker=%{x}<br>value=%{y}<extra></extra>",
         "legendgroup": "2330.TW",
         "marker": {
          "color": "#EF553B",
          "pattern": {
           "shape": ""
          }
         },
         "name": "2330.TW",
         "offsetgroup": "2330.TW",
         "orientation": "v",
         "showlegend": true,
         "textposition": "auto",
         "type": "bar",
         "x": [
          "2330.TW"
         ],
         "xaxis": "x",
         "y": [
          998.0475626522917
         ],
         "yaxis": "y"
        },
        {
         "alignmentgroup": "True",
         "hovertemplate": "Ticker=%{x}<br>value=%{y}<extra></extra>",
         "legendgroup": "2353.TW",
         "marker": {
          "color": "#00cc96",
          "pattern": {
           "shape": ""
          }
         },
         "name": "2353.TW",
         "offsetgroup": "2353.TW",
         "orientation": "v",
         "showlegend": true,
         "textposition": "auto",
         "type": "bar",
         "x": [
          "2353.TW"
         ],
         "xaxis": "x",
         "y": [
          1016.9259333509135
         ],
         "yaxis": "y"
        },
        {
         "alignmentgroup": "True",
         "hovertemplate": "Ticker=%{x}<br>value=%{y}<extra></extra>",
         "legendgroup": "2454.TW",
         "marker": {
          "color": "#ab63fa",
          "pattern": {
           "shape": ""
          }
         },
         "name": "2454.TW",
         "offsetgroup": "2454.TW",
         "orientation": "v",
         "showlegend": true,
         "textposition": "auto",
         "type": "bar",
         "x": [
          "2454.TW"
         ],
         "xaxis": "x",
         "y": [
          860.312867188603
         ],
         "yaxis": "y"
        }
       ],
       "layout": {
        "barmode": "relative",
        "legend": {
         "title": {
          "text": "Ticker"
         },
         "tracegroupgap": 0
        },
        "margin": {
         "t": 60
        },
        "showlegend": false,
        "template": {
         "data": {
          "bar": [
           {
            "error_x": {
             "color": "#2a3f5f"
            },
            "error_y": {
             "color": "#2a3f5f"
            },
            "marker": {
             "line": {
              "color": "#E5ECF6",
              "width": 0.5
             },
             "pattern": {
              "fillmode": "overlay",
              "size": 10,
              "solidity": 0.2
             }
            },
            "type": "bar"
           }
          ],
          "barpolar": [
           {
            "marker": {
             "line": {
              "color": "#E5ECF6",
              "width": 0.5
             },
             "pattern": {
              "fillmode": "overlay",
              "size": 10,
              "solidity": 0.2
             }
            },
            "type": "barpolar"
           }
          ],
          "carpet": [
           {
            "aaxis": {
             "endlinecolor": "#2a3f5f",
             "gridcolor": "white",
             "linecolor": "white",
             "minorgridcolor": "white",
             "startlinecolor": "#2a3f5f"
            },
            "baxis": {
             "endlinecolor": "#2a3f5f",
             "gridcolor": "white",
             "linecolor": "white",
             "minorgridcolor": "white",
             "startlinecolor": "#2a3f5f"
            },
            "type": "carpet"
           }
          ],
          "choropleth": [
           {
            "colorbar": {
             "outlinewidth": 0,
             "ticks": ""
            },
            "type": "choropleth"
           }
          ],
          "contour": [
           {
            "colorbar": {
             "outlinewidth": 0,
             "ticks": ""
            },
            "colorscale": [
             [
              0,
              "#0d0887"
             ],
             [
              0.1111111111111111,
              "#46039f"
             ],
             [
              0.2222222222222222,
              "#7201a8"
             ],
             [
              0.3333333333333333,
              "#9c179e"
             ],
             [
              0.4444444444444444,
              "#bd3786"
             ],
             [
              0.5555555555555556,
              "#d8576b"
             ],
             [
              0.6666666666666666,
              "#ed7953"
             ],
             [
              0.7777777777777778,
              "#fb9f3a"
             ],
             [
              0.8888888888888888,
              "#fdca26"
             ],
             [
              1,
              "#f0f921"
             ]
            ],
            "type": "contour"
           }
          ],
          "contourcarpet": [
           {
            "colorbar": {
             "outlinewidth": 0,
             "ticks": ""
            },
            "type": "contourcarpet"
           }
          ],
          "heatmap": [
           {
            "colorbar": {
             "outlinewidth": 0,
             "ticks": ""
            },
            "colorscale": [
             [
              0,
              "#0d0887"
             ],
             [
              0.1111111111111111,
              "#46039f"
             ],
             [
              0.2222222222222222,
              "#7201a8"
             ],
             [
              0.3333333333333333,
              "#9c179e"
             ],
             [
              0.4444444444444444,
              "#bd3786"
             ],
             [
              0.5555555555555556,
              "#d8576b"
             ],
             [
              0.6666666666666666,
              "#ed7953"
             ],
             [
              0.7777777777777778,
              "#fb9f3a"
             ],
             [
              0.8888888888888888,
              "#fdca26"
             ],
             [
              1,
              "#f0f921"
             ]
            ],
            "type": "heatmap"
           }
          ],
          "heatmapgl": [
           {
            "colorbar": {
             "outlinewidth": 0,
             "ticks": ""
            },
            "colorscale": [
             [
              0,
              "#0d0887"
             ],
             [
              0.1111111111111111,
              "#46039f"
             ],
             [
              0.2222222222222222,
              "#7201a8"
             ],
             [
              0.3333333333333333,
              "#9c179e"
             ],
             [
              0.4444444444444444,
              "#bd3786"
             ],
             [
              0.5555555555555556,
              "#d8576b"
             ],
             [
              0.6666666666666666,
              "#ed7953"
             ],
             [
              0.7777777777777778,
              "#fb9f3a"
             ],
             [
              0.8888888888888888,
              "#fdca26"
             ],
             [
              1,
              "#f0f921"
             ]
            ],
            "type": "heatmapgl"
           }
          ],
          "histogram": [
           {
            "marker": {
             "pattern": {
              "fillmode": "overlay",
              "size": 10,
              "solidity": 0.2
             }
            },
            "type": "histogram"
           }
          ],
          "histogram2d": [
           {
            "colorbar": {
             "outlinewidth": 0,
             "ticks": ""
            },
            "colorscale": [
             [
              0,
              "#0d0887"
             ],
             [
              0.1111111111111111,
              "#46039f"
             ],
             [
              0.2222222222222222,
              "#7201a8"
             ],
             [
              0.3333333333333333,
              "#9c179e"
             ],
             [
              0.4444444444444444,
              "#bd3786"
             ],
             [
              0.5555555555555556,
              "#d8576b"
             ],
             [
              0.6666666666666666,
              "#ed7953"
             ],
             [
              0.7777777777777778,
              "#fb9f3a"
             ],
             [
              0.8888888888888888,
              "#fdca26"
             ],
             [
              1,
              "#f0f921"
             ]
            ],
            "type": "histogram2d"
           }
          ],
          "histogram2dcontour": [
           {
            "colorbar": {
             "outlinewidth": 0,
             "ticks": ""
            },
            "colorscale": [
             [
              0,
              "#0d0887"
             ],
             [
              0.1111111111111111,
              "#46039f"
             ],
             [
              0.2222222222222222,
              "#7201a8"
             ],
             [
              0.3333333333333333,
              "#9c179e"
             ],
             [
              0.4444444444444444,
              "#bd3786"
             ],
             [
              0.5555555555555556,
              "#d8576b"
             ],
             [
              0.6666666666666666,
              "#ed7953"
             ],
             [
              0.7777777777777778,
              "#fb9f3a"
             ],
             [
              0.8888888888888888,
              "#fdca26"
             ],
             [
              1,
              "#f0f921"
             ]
            ],
            "type": "histogram2dcontour"
           }
          ],
          "mesh3d": [
           {
            "colorbar": {
             "outlinewidth": 0,
             "ticks": ""
            },
            "type": "mesh3d"
           }
          ],
          "parcoords": [
           {
            "line": {
             "colorbar": {
              "outlinewidth": 0,
              "ticks": ""
             }
            },
            "type": "parcoords"
           }
          ],
          "pie": [
           {
            "automargin": true,
            "type": "pie"
           }
          ],
          "scatter": [
           {
            "fillpattern": {
             "fillmode": "overlay",
             "size": 10,
             "solidity": 0.2
            },
            "type": "scatter"
           }
          ],
          "scatter3d": [
           {
            "line": {
             "colorbar": {
              "outlinewidth": 0,
              "ticks": ""
             }
            },
            "marker": {
             "colorbar": {
              "outlinewidth": 0,
              "ticks": ""
             }
            },
            "type": "scatter3d"
           }
          ],
          "scattercarpet": [
           {
            "marker": {
             "colorbar": {
              "outlinewidth": 0,
              "ticks": ""
             }
            },
            "type": "scattercarpet"
           }
          ],
          "scattergeo": [
           {
            "marker": {
             "colorbar": {
              "outlinewidth": 0,
              "ticks": ""
             }
            },
            "type": "scattergeo"
           }
          ],
          "scattergl": [
           {
            "marker": {
             "colorbar": {
              "outlinewidth": 0,
              "ticks": ""
             }
            },
            "type": "scattergl"
           }
          ],
          "scattermapbox": [
           {
            "marker": {
             "colorbar": {
              "outlinewidth": 0,
              "ticks": ""
             }
            },
            "type": "scattermapbox"
           }
          ],
          "scatterpolar": [
           {
            "marker": {
             "colorbar": {
              "outlinewidth": 0,
              "ticks": ""
             }
            },
            "type": "scatterpolar"
           }
          ],
          "scatterpolargl": [
           {
            "marker": {
             "colorbar": {
              "outlinewidth": 0,
              "ticks": ""
             }
            },
            "type": "scatterpolargl"
           }
          ],
          "scatterternary": [
           {
            "marker": {
             "colorbar": {
              "outlinewidth": 0,
              "ticks": ""
             }
            },
            "type": "scatterternary"
           }
          ],
          "surface": [
           {
            "colorbar": {
             "outlinewidth": 0,
             "ticks": ""
            },
            "colorscale": [
             [
              0,
              "#0d0887"
             ],
             [
              0.1111111111111111,
              "#46039f"
             ],
             [
              0.2222222222222222,
              "#7201a8"
             ],
             [
              0.3333333333333333,
              "#9c179e"
             ],
             [
              0.4444444444444444,
              "#bd3786"
             ],
             [
              0.5555555555555556,
              "#d8576b"
             ],
             [
              0.6666666666666666,
              "#ed7953"
             ],
             [
              0.7777777777777778,
              "#fb9f3a"
             ],
             [
              0.8888888888888888,
              "#fdca26"
             ],
             [
              1,
              "#f0f921"
             ]
            ],
            "type": "surface"
           }
          ],
          "table": [
           {
            "cells": {
             "fill": {
              "color": "#EBF0F8"
             },
             "line": {
              "color": "white"
             }
            },
            "header": {
             "fill": {
              "color": "#C8D4E3"
             },
             "line": {
              "color": "white"
             }
            },
            "type": "table"
           }
          ]
         },
         "layout": {
          "annotationdefaults": {
           "arrowcolor": "#2a3f5f",
           "arrowhead": 0,
           "arrowwidth": 1
          },
          "autotypenumbers": "strict",
          "coloraxis": {
           "colorbar": {
            "outlinewidth": 0,
            "ticks": ""
           }
          },
          "colorscale": {
           "diverging": [
            [
             0,
             "#8e0152"
            ],
            [
             0.1,
             "#c51b7d"
            ],
            [
             0.2,
             "#de77ae"
            ],
            [
             0.3,
             "#f1b6da"
            ],
            [
             0.4,
             "#fde0ef"
            ],
            [
             0.5,
             "#f7f7f7"
            ],
            [
             0.6,
             "#e6f5d0"
            ],
            [
             0.7,
             "#b8e186"
            ],
            [
             0.8,
             "#7fbc41"
            ],
            [
             0.9,
             "#4d9221"
            ],
            [
             1,
             "#276419"
            ]
           ],
           "sequential": [
            [
             0,
             "#0d0887"
            ],
            [
             0.1111111111111111,
             "#46039f"
            ],
            [
             0.2222222222222222,
             "#7201a8"
            ],
            [
             0.3333333333333333,
             "#9c179e"
            ],
            [
             0.4444444444444444,
             "#bd3786"
            ],
            [
             0.5555555555555556,
             "#d8576b"
            ],
            [
             0.6666666666666666,
             "#ed7953"
            ],
            [
             0.7777777777777778,
             "#fb9f3a"
            ],
            [
             0.8888888888888888,
             "#fdca26"
            ],
            [
             1,
             "#f0f921"
            ]
           ],
           "sequentialminus": [
            [
             0,
             "#0d0887"
            ],
            [
             0.1111111111111111,
             "#46039f"
            ],
            [
             0.2222222222222222,
             "#7201a8"
            ],
            [
             0.3333333333333333,
             "#9c179e"
            ],
            [
             0.4444444444444444,
             "#bd3786"
            ],
            [
             0.5555555555555556,
             "#d8576b"
            ],
            [
             0.6666666666666666,
             "#ed7953"
            ],
            [
             0.7777777777777778,
             "#fb9f3a"
            ],
            [
             0.8888888888888888,
             "#fdca26"
            ],
            [
             1,
             "#f0f921"
            ]
           ]
          },
          "colorway": [
           "#636efa",
           "#EF553B",
           "#00cc96",
           "#ab63fa",
           "#FFA15A",
           "#19d3f3",
           "#FF6692",
           "#B6E880",
           "#FF97FF",
           "#FECB52"
          ],
          "font": {
           "color": "#2a3f5f"
          },
          "geo": {
           "bgcolor": "white",
           "lakecolor": "white",
           "landcolor": "#E5ECF6",
           "showlakes": true,
           "showland": true,
           "subunitcolor": "white"
          },
          "hoverlabel": {
           "align": "left"
          },
          "hovermode": "closest",
          "mapbox": {
           "style": "light"
          },
          "paper_bgcolor": "white",
          "plot_bgcolor": "#E5ECF6",
          "polar": {
           "angularaxis": {
            "gridcolor": "white",
            "linecolor": "white",
            "ticks": ""
           },
           "bgcolor": "#E5ECF6",
           "radialaxis": {
            "gridcolor": "white",
            "linecolor": "white",
            "ticks": ""
           }
          },
          "scene": {
           "xaxis": {
            "backgroundcolor": "#E5ECF6",
            "gridcolor": "white",
            "gridwidth": 2,
            "linecolor": "white",
            "showbackground": true,
            "ticks": "",
            "zerolinecolor": "white"
           },
           "yaxis": {
            "backgroundcolor": "#E5ECF6",
            "gridcolor": "white",
            "gridwidth": 2,
            "linecolor": "white",
            "showbackground": true,
            "ticks": "",
            "zerolinecolor": "white"
           },
           "zaxis": {
            "backgroundcolor": "#E5ECF6",
            "gridcolor": "white",
            "gridwidth": 2,
            "linecolor": "white",
            "showbackground": true,
            "ticks": "",
            "zerolinecolor": "white"
           }
          },
          "shapedefaults": {
           "line": {
            "color": "#2a3f5f"
           }
          },
          "ternary": {
           "aaxis": {
            "gridcolor": "white",
            "linecolor": "white",
            "ticks": ""
           },
           "baxis": {
            "gridcolor": "white",
            "linecolor": "white",
            "ticks": ""
           },
           "bgcolor": "#E5ECF6",
           "caxis": {
            "gridcolor": "white",
            "linecolor": "white",
            "ticks": ""
           }
          },
          "title": {
           "x": 0.05
          },
          "xaxis": {
           "automargin": true,
           "gridcolor": "white",
           "linecolor": "white",
           "ticks": "",
           "title": {
            "standoff": 15
           },
           "zerolinecolor": "white",
           "zerolinewidth": 2
          },
          "yaxis": {
           "automargin": true,
           "gridcolor": "white",
           "linecolor": "white",
           "ticks": "",
           "title": {
            "standoff": 15
           },
           "zerolinecolor": "white",
           "zerolinewidth": 2
          }
         }
        },
        "title": {
         "text": "Annualized Sharpe Ratio: Stocks"
        },
        "xaxis": {
         "anchor": "y",
         "categoryarray": [
          "2317.TW",
          "2330.TW",
          "2353.TW",
          "2454.TW"
         ],
         "categoryorder": "array",
         "domain": [
          0,
          1
         ],
         "title": {
          "text": "Ticker"
         }
        },
        "yaxis": {
         "anchor": "x",
         "domain": [
          0,
          1
         ],
         "title": {
          "text": "value"
         }
        }
       }
      }
     },
     "metadata": {},
     "output_type": "display_data"
    }
   ],
   "source": [
    "daily_sharpe_ratio = avg_return.div(sd_return) # (avg_return - 0.0)/sd_return\n",
    "\n",
    "# annualized Sharpe ratio for trading days in a year (5 days, 52 weeks, no holidays)\n",
    "annual_factor = np.sqrt(252)\n",
    "annual_sharpe_ratio = daily_sharpe_ratio.mul(annual_factor)\n",
    "\n",
    "fig = px.bar(annual_sharpe_ratio, color=annual_sharpe_ratio.index)\n",
    "fig.update_layout(showlegend=False, title='Annualized Sharpe Ratio: Stocks')\n",
    "fig.show()"
   ]
  },
  {
   "cell_type": "markdown",
   "metadata": {
    "id": "_ONz4KRhg3nm"
   },
   "source": [
    "Generally, a Sharpe Ratio above 1 is considered acceptable to investors (of course depending on risk-tolerance), a ratio of 2 is very good, and a ratio above 3 is considered to be excellent."
   ]
  },
  {
   "cell_type": "markdown",
   "metadata": {
    "id": "thck7ndig3nm"
   },
   "source": [
    "### Portfolio Allocation\n",
    "\n",
    "Monte Carlo Simulation.\n",
    "\n",
    "What we're going to do is randomly assign a weight to each stock in our portfolio, and then calculate the mean daily return and standard deviation of return."
   ]
  },
  {
   "cell_type": "code",
   "execution_count": 41,
   "metadata": {
    "id": "VddDRr5fg3nm"
   },
   "outputs": [
    {
     "data": {
      "text/plain": [
       "1059.242833063086"
      ]
     },
     "execution_count": 41,
     "metadata": {},
     "output_type": "execute_result"
    }
   ],
   "source": [
    "# Single Run\n",
    "import numpy as np\n",
    "np.random.seed(12345)\n",
    "\n",
    "weights = np.array(np.random.random(4))\n",
    "weights = weights/np.sum(weights)\n",
    "\n",
    "port_ret = np.sum(returns.mean()*weights)*252\n",
    "port_vol = np.sqrt(np.dot(weights.T, np.dot(returns.cov()*252, weights)))\n",
    "\n",
    "SR = (port_ret - 0.0)/port_vol\n",
    "SR"
   ]
  },
  {
   "cell_type": "markdown",
   "metadata": {
    "id": "byo7V02_g3nm"
   },
   "source": [
    "we're trying to find a portfolio that maximizes the Sharpe Ratio, so we can create an optimizer that attempts to minimize the negative Sharpe Ratio."
   ]
  },
  {
   "cell_type": "code",
   "execution_count": 42,
   "metadata": {
    "id": "kjpc9t0yg3nm"
   },
   "outputs": [],
   "source": [
    "num_ports = 5000\n",
    "all_weights = np.zeros((num_ports, len(df.columns)))\n",
    "ret_arr = np.zeros(num_ports)\n",
    "vol_arr = np.zeros(num_ports)\n",
    "sharpe_arr = np.zeros(num_ports)\n",
    "\n",
    "for i in range(num_ports):\n",
    "    weights = np.array(np.random.random(4))\n",
    "    weights = weights/np.sum(weights)\n",
    "    all_weights[i,:] = weights\n",
    "\n",
    "    ret_arr[i] = np.sum(returns.mean()*weights)*252\n",
    "    vol_arr[i] = np.sqrt(np.dot(weights.T, np.dot(returns.cov()*252, weights)))\n",
    "\n",
    "    sharpe_arr[i] = (ret_arr[i] - 0.0)/vol_arr[i]"
   ]
  },
  {
   "cell_type": "code",
   "execution_count": 43,
   "metadata": {
    "id": "GfPptfA9g3nm"
   },
   "outputs": [
    {
     "data": {
      "image/png": "[encoded data removed]",
      "text/plain": [
       "<Figure size 1000x500 with 2 Axes>"
      ]
     },
     "metadata": {},
     "output_type": "display_data"
    }
   ],
   "source": [
    "import matplotlib.pyplot as plt\n",
    "plt.figure(figsize = (10,5))\n",
    "plt.scatter(vol_arr, ret_arr, c=sharpe_arr, cmap = 'plasma')\n",
    "plt.colorbar(label = 'Sharpe Ratio')\n",
    "plt.xlabel('Volatility', fontweight = 'bold')\n",
    "plt.ylabel('Returns', fontweight = 'bold')\n",
    "\n",
    "plt.grid(True, ls=':', lw=1)"
   ]
  },
  {
   "cell_type": "markdown",
   "metadata": {
    "id": "XgHTjW-Ag3nn"
   },
   "source": [
    "If we then get the location of the maximum Sharpe Ratio and then get the allocation for that index. This shows us the optimal allocation out of the 5000 random allocations:"
   ]
  },
  {
   "cell_type": "code",
   "execution_count": 44,
   "metadata": {
    "id": "lVHGvHNZg3nn"
   },
   "outputs": [
    {
     "data": {
      "text/plain": [
       "912"
      ]
     },
     "execution_count": 44,
     "metadata": {},
     "output_type": "execute_result"
    }
   ],
   "source": [
    "sharpe_arr.argmax()"
   ]
  },
  {
   "cell_type": "code",
   "execution_count": 45,
   "metadata": {
    "id": "Bpb3w9wDg3nn"
   },
   "outputs": [
    {
     "data": {
      "text/plain": [
       "array([0.18111595, 0.31701488, 0.45007719, 0.05179199])"
      ]
     },
     "execution_count": 45,
     "metadata": {},
     "output_type": "execute_result"
    }
   ],
   "source": [
    "all_weights[2505, :]"
   ]
  },
  {
   "cell_type": "code",
   "execution_count": 47,
   "metadata": {
    "id": "nDrpZ6qBg3nn"
   },
   "outputs": [],
   "source": [
    "max_sr_ret = ret_arr[912]\n",
    "max_sr_vol = vol_arr[912]"
   ]
  },
  {
   "cell_type": "markdown",
   "metadata": {
    "id": "Yw1gH65fg3nn"
   },
   "source": [
    "put a red dot at the location of the maximum Sharpe Ratio"
   ]
  },
  {
   "cell_type": "code",
   "execution_count": 48,
   "metadata": {
    "id": "JHLCdEwqg3nn"
   },
   "outputs": [
    {
     "data": {
      "image/png": "[encoded data removed]",
      "text/plain": [
       "<Figure size 640x480 with 2 Axes>"
      ]
     },
     "metadata": {},
     "output_type": "display_data"
    }
   ],
   "source": [
    "# plot the dataplt.figure(figsize=(12,8))\n",
    "plt.scatter(vol_arr,ret_arr,c=sharpe_arr,cmap='plasma')\n",
    "plt.colorbar(label='Sharpe Ratio')\n",
    "plt.xlabel('Volatility')\n",
    "plt.ylabel('Return')\n",
    "\n",
    "# add a red dot for max_sr_vol & max_sr_ret\n",
    "plt.scatter(max_sr_vol, max_sr_ret, c='red', s=50, edgecolors='black')\n",
    "plt.grid(True, ls=':', lw=1)"
   ]
  },
  {
   "cell_type": "code",
   "execution_count": 49,
   "metadata": {
    "id": "JWpBXnBEg3nn"
   },
   "outputs": [],
   "source": [
    "def get_ret_vol_sr(weights):\n",
    "    weights = np.array(weights)\n",
    "    ret = np.sum(returns.mean()*weights)*252\n",
    "    vol = np.sqrt(np.dot(weights.T,np.dot(returns.cov()*252,weights)))\n",
    "    sr = ret/vol\n",
    "    return np.array([ret,vol,sr])\n",
    "\n",
    "# minimize negative Sharpe Ratio\n",
    "def neg_sharpe(weights):\n",
    "\treturn get_ret_vol_sr(weights)[2] * -1\n",
    "\n",
    "# check allocation sums to 1\n",
    "def check_sum(weights):\n",
    "\treturn np.sum(weights) - 1\n",
    "\n",
    "# create constraint variable\n",
    "cons = ({'type':'eq','fun':check_sum})\n",
    "\n",
    "# create weight boundaries\n",
    "bounds = ((0,1),(0,1),(0,1),(0,1))\n",
    "\n",
    "# initial guess\n",
    "init_guess = [0.25, 0.25, 0.25, 0.25]"
   ]
  }
 ],
 "metadata": {
  "colab": {
   "provenance": []
  },
  "kernelspec": {
   "display_name": "Python 3",
   "language": "python",
   "name": "python3"
  },
  "language_info": {
   "codemirror_mode": {
    "name": "ipython",
    "version": 3
   },
   "file_extension": ".py",
   "mimetype": "text/x-python",
   "name": "python",
   "nbconvert_exporter": "python",
   "pygments_lexer": "ipython3",
   "version": "3.12.7"
  }
 },
 "nbformat": 4,
 "nbformat_minor": 0
}
