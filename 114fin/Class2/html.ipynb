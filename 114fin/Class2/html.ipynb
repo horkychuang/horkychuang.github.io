{
 "cells": [
  {
   "cell_type": "code",
   "execution_count": null,
   "id": "4cbbb1ec",
   "metadata": {},
   "outputs": [],
   "source": [
    "pip install aspose-pdf"
   ]
  },
  {
   "cell_type": "code",
   "execution_count": 20,
   "id": "a5d87614",
   "metadata": {},
   "outputs": [],
   "source": [
    "import aspose.pdf as ap\n",
    "\n",
    "input_html = \"Class1.html\"\n",
    "output_pdf = \"Class1.pdf\"\n",
    "\n",
    "# create HtmlLoadOptions object\n",
    "options = ap.HtmlLoadOptions()\n",
    "\n",
    "# load file\n",
    "document = ap.Document(input_html, options)\n",
    "\n",
    "# convert HTML to PDF\n",
    "document.save(output_pdf)"
   ]
  },
  {
   "cell_type": "code",
   "execution_count": 15,
   "id": "33403241",
   "metadata": {},
   "outputs": [
    {
     "name": "stdout",
     "output_type": "stream",
     "text": [
      "Requirement already satisfied: pdfkit in c:\\users\\user\\appdata\\local\\programs\\python\\python312\\lib\\site-packages (1.0.0)\n",
      "Note: you may need to restart the kernel to use updated packages.\n"
     ]
    },
    {
     "name": "stderr",
     "output_type": "stream",
     "text": [
      "\n",
      "[notice] A new release of pip is available: 24.2 -> 25.1.1\n",
      "[notice] To update, run: python.exe -m pip install --upgrade pip\n"
     ]
    }
   ],
   "source": [
    "pip install pdfkit"
   ]
  },
  {
   "cell_type": "code",
   "execution_count": null,
   "id": "b8edaafd",
   "metadata": {},
   "outputs": [],
   "source": [
    "options = {\n",
    "    'page-size': 'A4',\n",
    "    'margin-top': '0.75in',\n",
    "    'margin-right': '0.75in',\n",
    "    'margin-bottom': '0.75in',\n",
    "    'margin-left': '0.75in',\n",
    "}\n",
    "\n",
    "pdfkit.from_file('Class1.html', 'micro.pdf', options=options)"
   ]
  }
 ],
 "metadata": {
  "kernelspec": {
   "display_name": "Python 3",
   "language": "python",
   "name": "python3"
  },
  "language_info": {
   "codemirror_mode": {
    "name": "ipython",
    "version": 3
   },
   "file_extension": ".py",
   "mimetype": "text/x-python",
   "name": "python",
   "nbconvert_exporter": "python",
   "pygments_lexer": "ipython3",
   "version": "3.12.7"
  }
 },
 "nbformat": 4,
 "nbformat_minor": 5
}
