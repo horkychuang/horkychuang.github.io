{
 "cells": [
  {
   "cell_type": "markdown",
   "metadata": {
    "id": "4xMGPFby2C4s"
   },
   "source": [
    "## Control Statements and Loops"
   ]
  },
  {
   "cell_type": "markdown",
   "metadata": {
    "id": "spWm0UE92C4t"
   },
   "source": [
    "### Control Statements"
   ]
  },
  {
   "cell_type": "code",
   "execution_count": 25,
   "metadata": {
    "colab": {
     "base_uri": "https://localhost:8080/"
    },
    "executionInfo": {
     "elapsed": 491,
     "status": "ok",
     "timestamp": 1727508724250,
     "user": {
      "displayName": "wb ncnufin113",
      "userId": "14113034630541117709"
     },
     "user_tz": -480
    },
    "id": "jvpDDVpy2C4t",
    "outputId": "6a04c382-12b6-4250-c605-5bd32ec35469"
   },
   "outputs": [
    {
     "name": "stdout",
     "output_type": "stream",
     "text": [
      " Investment offers excess return over risk-free rate — consider allocation\n"
     ]
    }
   ],
   "source": [
    "# If Statements\n",
    "# Basic Conditional Logic: Risk vs. Return\n",
    "risk_free_rate = 0.02  # 2% risk-free rate (e.g., government bonds)\n",
    "expected_return = 0.08  # 8% expected return from a stock\n",
    "\n",
    "if expected_return > risk_free_rate:\n",
    "    print(\" Investment offers excess return over risk-free rate — consider allocation\")"
   ]
  },
  {
   "cell_type": "code",
   "execution_count": 24,
   "metadata": {
    "colab": {
     "base_uri": "https://localhost:8080/"
    },
    "executionInfo": {
     "elapsed": 4293,
     "status": "ok",
     "timestamp": 1727508728931,
     "user": {
      "displayName": "wb ncnufin113",
      "userId": "14113034630541117709"
     },
     "user_tz": -480
    },
    "id": "Hv6XY6Jh2C4t",
    "outputId": "3c624ec7-0c6c-4d9e-e603-905f30c3d255"
   },
   "outputs": [
    {
     "name": "stdout",
     "output_type": "stream",
     "text": [
      " Absolute return for risk modeling: 3600.00%\n"
     ]
    }
   ],
   "source": [
    "# Convert negative return to absolute value (e.g., for volatility or loss analysis)\n",
    "annual_return = float(input(\"Enter the annual return (e.g., -0.05 for -5%): \"))\n",
    "if annual_return < 0:\n",
    "    annual_return = -annual_return\n",
    "\n",
    "print(f\" Absolute return for risk modeling: {annual_return:.2%}\")"
   ]
  },
  {
   "cell_type": "code",
   "execution_count": 23,
   "metadata": {
    "colab": {
     "base_uri": "https://localhost:8080/"
    },
    "executionInfo": {
     "elapsed": 6,
     "status": "ok",
     "timestamp": 1727508728931,
     "user": {
      "displayName": "wb ncnufin113",
      "userId": "14113034630541117709"
     },
     "user_tz": -480
    },
    "id": "LqsTVUjp2C4t",
    "outputId": "39987e64-691f-4f30-dae1-70170caf1067"
   },
   "outputs": [
    {
     "name": "stdout",
     "output_type": "stream",
     "text": [
      " No volatility alert — proceed with trading strategy\n"
     ]
    }
   ],
   "source": [
    "# Use of `not`: Check if no market alert is active\n",
    "market_alert_active = False\n",
    "if not market_alert_active:\n",
    "    print(\" No volatility alert — proceed with trading strategy\")"
   ]
  },
  {
   "cell_type": "code",
   "execution_count": 22,
   "metadata": {
    "colab": {
     "base_uri": "https://localhost:8080/"
    },
    "executionInfo": {
     "elapsed": 5,
     "status": "ok",
     "timestamp": 1727508728931,
     "user": {
      "displayName": "wb ncnufin113",
      "userId": "14113034630541117709"
     },
     "user_tz": -480
    },
    "id": "0sDdLpCe2C4t",
    "outputId": "eaa3711e-7c06-4a41-9688-8453d91eb6fc"
   },
   "outputs": [
    {
     "name": "stdout",
     "output_type": "stream",
     "text": [
      " Rebalance: Take partial profits\n"
     ]
    }
   ],
   "source": [
    "# else\n",
    "# Decision Making: Investment Actions\n",
    "portfolio_outperformed_benchmark = True\n",
    "\n",
    "if portfolio_outperformed_benchmark:\n",
    "    print(\" Rebalance: Take partial profits\")\n",
    "else:\n",
    "    print(\" Hold or add: Monitor underperforming strategy\")"
   ]
  },
  {
   "cell_type": "code",
   "execution_count": 26,
   "metadata": {},
   "outputs": [
    {
     "name": "stdout",
     "output_type": "stream",
     "text": [
      "TSMC: Annualized return 12.00%, recommended for investment \n",
      "Hon Hai: Annualized return 8.00%, recommended for investment \n",
      "Acer: Annualized return 5.00%, not recommended\n",
      "MediaTek: Annualized return 10.00%, recommended for investment \n"
     ]
    }
   ],
   "source": [
    "# Assume we have annualized returns for several investment assets\n",
    "returns = {\n",
    "    'TSMC': 0.12,\n",
    "    'Hon Hai': 0.08,\n",
    "    'Acer': 0.05,\n",
    "    'MediaTek': 0.10\n",
    "}\n",
    "\n",
    "# Evaluate each stock to determine if it's worth investing (return > 7%)\n",
    "for stock, annual_return in returns.items():\n",
    "    if annual_return > 0.07:\n",
    "        print(f\"{stock}: Annualized return {annual_return:.2%}, recommended for investment \")\n",
    "    else:\n",
    "        print(f\"{stock}: Annualized return {annual_return:.2%}, not recommended\")"
   ]
  },
  {
   "cell_type": "code",
   "execution_count": 21,
   "metadata": {
    "colab": {
     "base_uri": "https://localhost:8080/"
    },
    "executionInfo": {
     "elapsed": 4380,
     "status": "ok",
     "timestamp": 1727508733307,
     "user": {
      "displayName": "wb ncnufin113",
      "userId": "14113034630541117709"
     },
     "user_tz": -480
    },
    "id": "TwT8KDHD2C4u",
    "outputId": "5184c8f2-fab3-4c2a-8b75-d4044bd3724f"
   },
   "outputs": [
    {
     "name": "stdout",
     "output_type": "stream",
     "text": [
      "25-year horizon: Consider annual review cycle.\n"
     ]
    }
   ],
   "source": [
    "# Check investment horizon (even vs. odd years for rebalancing frequency)\n",
    "years = int(input(\"Enter investment horizon in years: \"))\n",
    "if years % 2 == 0:\n",
    "    print(f\"{years}-year horizon: Suitable for semi-annual rebalancing.\")\n",
    "else:\n",
    "    print(f\"{years}-year horizon: Consider annual review cycle.\")"
   ]
  },
  {
   "cell_type": "code",
   "execution_count": 20,
   "metadata": {
    "colab": {
     "base_uri": "https://localhost:8080/",
     "height": 35
    },
    "executionInfo": {
     "elapsed": 10,
     "status": "ok",
     "timestamp": 1727508733307,
     "user": {
      "displayName": "wb ncnufin113",
      "userId": "14113034630541117709"
     },
     "user_tz": -480
    },
    "id": "JNARFp1r2C4u",
    "outputId": "d4c0a467-83b7-48e8-c376-6eed4b61c6c2"
   },
   "outputs": [
    {
     "name": "stdout",
     "output_type": "stream",
     "text": [
      " TSM (Short-Term Speculative)\n"
     ]
    }
   ],
   "source": [
    "# `if `Statements and functions\n",
    "# Functions with Conditional Logic\n",
    "def format_ticker(ticker):\n",
    "    \"\"\"Classify stock based on ticker length (proxy for familiarity or risk).\"\"\"\n",
    "    if len(ticker) < 4:\n",
    "        return f\"{ticker.upper()} (Short-Term Speculative)\"\n",
    "    else:\n",
    "        return f\"{ticker.upper()} (Core Holding)\"\n",
    "\n",
    "ticker = \"TSM\"\n",
    "print(f\" {format_ticker(ticker)}\")"
   ]
  },
  {
   "cell_type": "code",
   "execution_count": 19,
   "metadata": {
    "colab": {
     "base_uri": "https://localhost:8080/"
    },
    "executionInfo": {
     "elapsed": 312,
     "status": "ok",
     "timestamp": 1727508784218,
     "user": {
      "displayName": "wb ncnufin113",
      "userId": "14113034630541117709"
     },
     "user_tz": -480
    },
    "id": "5e-CePkE2C4u",
    "outputId": "2ab40829-fb60-4b73-cfdf-71a42bd9ed19"
   },
   "outputs": [
    {
     "name": "stdout",
     "output_type": "stream",
     "text": [
      "\n",
      " Asset Evaluation:\n",
      " High-value asset: Eligible for institutional allocation\n",
      " High-value asset: Eligible for institutional allocation\n",
      " Ultra-high-net-worth tier: Qualifies for private wealth management\n"
     ]
    }
   ],
   "source": [
    "# Nested `if `Statements\n",
    "# Nested Conditions: Asset Size & Risk Tier\n",
    "def asset_info(capital):\n",
    "    \"\"\"Categorize asset size for wealth management eligibility.\"\"\"\n",
    "    if capital > 1_000_000:\n",
    "        print(\" High-value asset: Eligible for institutional allocation\")\n",
    "    if capital > 10_000_000:\n",
    "        print(\" Ultra-high-net-worth tier: Qualifies for private wealth management\")\n",
    "\n",
    "print(\"\\n Asset Evaluation:\")\n",
    "asset_info(1.5e6)  # 1.5 million\n",
    "asset_info(12e6)   # 12 million"
   ]
  },
  {
   "cell_type": "code",
   "execution_count": 33,
   "metadata": {},
   "outputs": [
    {
     "name": "stdout",
     "output_type": "stream",
     "text": [
      "Reasonable return — consider investing \n"
     ]
    }
   ],
   "source": [
    "# Use nested if statements to evaluate investment strategy\n",
    "risk_level = \"Medium\"\n",
    "return_rate = 0.09\n",
    "\n",
    "if return_rate > 0.07:\n",
    "    if risk_level == \"Low\":\n",
    "        print(\"Low risk and high return — invest immediately\")\n",
    "    elif risk_level == \"Medium\":\n",
    "        print(\"Reasonable return — consider investing \")\n",
    "    else:\n",
    "        print(\"High return but high risk — evaluate carefully \")\n",
    "else:\n",
    "    print(\"Return too low — not recommended \")"
   ]
  },
  {
   "cell_type": "code",
   "execution_count": 18,
   "metadata": {
    "colab": {
     "base_uri": "https://localhost:8080/"
    },
    "executionInfo": {
     "elapsed": 7305,
     "status": "ok",
     "timestamp": 1727508794889,
     "user": {
      "displayName": "wb ncnufin113",
      "userId": "14113034630541117709"
     },
     "user_tz": -480
    },
    "id": "S5bWxYxR2C4u",
    "outputId": "6aae2921-bab2-4bd6-ede8-64bbbbf70112"
   },
   "outputs": [
    {
     "name": "stdout",
     "output_type": "stream",
     "text": [
      " Portfolio B (2500.00%) outperforms Portfolio A (1200.00%)\n"
     ]
    }
   ],
   "source": [
    "# Compare two portfolio returns\n",
    "return_a = float(input(\"Enter Portfolio A annual return (e.g., 0.07): \")) \n",
    "return_b = float(input(\"Enter Portfolio B annual return (e.g., 0.09): \"))\n",
    "\n",
    "if return_a == return_b:\n",
    "    print(f\" Both portfolios yield {return_a:.2%} — no statistical edge\")\n",
    "elif return_a < return_b:\n",
    "    print(f\" Portfolio B ({return_b:.2%}) outperforms Portfolio A ({return_a:.2%})\")\n",
    "else:\n",
    "    print(f\" Portfolio A ({return_a:.2%}) outperforms Portfolio B ({return_b:.2%})\")"
   ]
  },
  {
   "cell_type": "code",
   "execution_count": 17,
   "metadata": {
    "colab": {
     "base_uri": "https://localhost:8080/"
    },
    "executionInfo": {
     "elapsed": 367,
     "status": "ok",
     "timestamp": 1727508801204,
     "user": {
      "displayName": "wb ncnufin113",
      "userId": "14113034630541117709"
     },
     "user_tz": -480
    },
    "id": "D5tO2OkD2C4u",
    "outputId": "f477ca18-c1aa-4c91-fdb9-6397da6cb59b"
   },
   "outputs": [
    {
     "name": "stdout",
     "output_type": "stream",
     "text": [
      " Good risk-return profile — consider adding position\n"
     ]
    }
   ],
   "source": [
    "# elif\n",
    "#  Multi-Branch Logic: Risk-Adjusted Performance (Sharpe Ratio)\n",
    "sharpe_ratio = 1.2\n",
    "\n",
    "if sharpe_ratio > 1.5:\n",
    "    print(\" Excellent risk-adjusted return — strong buy signal\")\n",
    "elif sharpe_ratio > 1.0:\n",
    "    print(\" Good risk-return profile — consider adding position\")\n",
    "elif sharpe_ratio > 0.5:\n",
    "    print(\" Marginal performance — monitor closely\")\n",
    "else:\n",
    "    print(\" Poor risk-adjusted return — avoid or exit\")"
   ]
  },
  {
   "cell_type": "code",
   "execution_count": 16,
   "metadata": {
    "colab": {
     "base_uri": "https://localhost:8080/"
    },
    "executionInfo": {
     "elapsed": 6865,
     "status": "ok",
     "timestamp": 1727508810762,
     "user": {
      "displayName": "wb ncnufin113",
      "userId": "14113034630541117709"
     },
     "user_tz": -480
    },
    "id": "2RIvFZO_2C4u",
    "outputId": "bee03c14-3d69-4177-d1ff-623cd627ed7d"
   },
   "outputs": [
    {
     "name": "stdout",
     "output_type": "stream",
     "text": [
      ".Aggressive tilt: Y (25.0%) > X (12.0%)\n"
     ]
    }
   ],
   "source": [
    "# Compare two allocation strategies\n",
    "allocation_x = float(input(\"Enter Allocation X % (e.g., 60): \")) / 100\n",
    "allocation_y = float(input(\"Enter Allocation Y % (e.g., 40): \")) / 100\n",
    "\n",
    "if allocation_x < allocation_y:\n",
    "    print(f\".Aggressive tilt: Y ({allocation_y:.1%}) > X ({allocation_x:.1%})\")\n",
    "elif allocation_x > allocation_y:\n",
    "    print(f\" Conservative tilt: X ({allocation_x:.1%}) > Y ({allocation_y:.1%})\")\n",
    "else:\n",
    "    print(f\" Balanced 50/50 split — neutral strategy\")"
   ]
  },
  {
   "cell_type": "code",
   "execution_count": 34,
   "metadata": {},
   "outputs": [
    {
     "name": "stdout",
     "output_type": "stream",
     "text": [
      "Moderate interest rate environment — balanced stock and bond allocation\n"
     ]
    }
   ],
   "source": [
    "# Use elif to assess market interest rate environment\n",
    "interest_rate = 2.5  # Assume current market interest rate is 2.5%\n",
    "\n",
    "if interest_rate < 1:\n",
    "    print(\"Very low interest rate environment — consider balanced stock/bond allocation\")\n",
    "elif interest_rate < 3:\n",
    "    print(\"Moderate interest rate environment — balanced stock and bond allocation\")\n",
    "elif interest_rate < 5:\n",
    "    print(\"Relatively high interest rate environment — favor bond investments\")\n",
    "else:\n",
    "    print(\"High interest rate environment — prioritize bond allocation\")"
   ]
  },
  {
   "cell_type": "markdown",
   "metadata": {
    "id": "FWMxV4XQ2C4v"
   },
   "source": [
    "### Loops statements"
   ]
  },
  {
   "cell_type": "markdown",
   "metadata": {
    "id": "w4XDlM7s2C4v"
   },
   "source": [
    "#### For Loop: : Portfolio & Time-Based Processing"
   ]
  },
  {
   "cell_type": "code",
   "execution_count": 15,
   "metadata": {
    "colab": {
     "base_uri": "https://localhost:8080/"
    },
    "executionInfo": {
     "elapsed": 353,
     "status": "ok",
     "timestamp": 1727508813507,
     "user": {
      "displayName": "wb ncnufin113",
      "userId": "14113034630541117709"
     },
     "user_tz": -480
    },
    "id": "hlDtuDI62C4v",
    "outputId": "91b68e3e-908f-400f-d1cb-b0e7a00d077e"
   },
   "outputs": [
    {
     "name": "stdout",
     "output_type": "stream",
     "text": [
      "\n",
      " Daily trading signals:\n",
      "Day 1: Signal 0 | Day 2: Signal 1 | Day 3: Signal 2 | Day 4: Signal 0 | Day 5: Signal 1 | Day 6: Signal 2 | Day 7: Signal 0 | Day 8: Signal 1 | Day 9: Signal 2 | Day 10: Signal 0 | \n"
     ]
    }
   ],
   "source": [
    "# Simulate daily trading signals (Days 1–10)\n",
    "print(\"\\n Daily trading signals:\")\n",
    "for day in range(10):\n",
    "    signal = (day % 3)  # Simulated signal: 0, 1, 2\n",
    "    print(f\"Day {day+1}: Signal {signal}\", end=\" | \")\n",
    "print()"
   ]
  },
  {
   "cell_type": "code",
   "execution_count": 14,
   "metadata": {
    "colab": {
     "base_uri": "https://localhost:8080/"
    },
    "executionInfo": {
     "elapsed": 336,
     "status": "ok",
     "timestamp": 1727508815739,
     "user": {
      "displayName": "wb ncnufin113",
      "userId": "14113034630541117709"
     },
     "user_tz": -480
    },
    "id": "wLB8-pul2C4v",
    "outputId": "9da9b5dd-ca85-407c-c440-1e3b2a1b5aa9"
   },
   "outputs": [
    {
     "name": "stdout",
     "output_type": "stream",
     "text": [
      "\n",
      " Quarterly review schedule:\n",
      "Q1: Month 3 | Q2: Month 6 | Q3: Month 9 | Q4: Month 12 | Q5: Month 15 | Q6: Month 18 | Q7: Month 21 | Q8: Month 24 | Q9: Month 27 | Q10: Month 30 | \n"
     ]
    }
   ],
   "source": [
    "# Quarterly review periods (every 3 months)\n",
    "print(\"\\n Quarterly review schedule:\")\n",
    "for month in range(3, 31, 3):\n",
    "    quarter = month // 3\n",
    "    print(f\"Q{quarter}: Month {month}\", end=\" | \")\n",
    "print()"
   ]
  },
  {
   "cell_type": "code",
   "execution_count": 13,
   "metadata": {
    "colab": {
     "base_uri": "https://localhost:8080/"
    },
    "executionInfo": {
     "elapsed": 344,
     "status": "ok",
     "timestamp": 1727508817801,
     "user": {
      "displayName": "wb ncnufin113",
      "userId": "14113034630541117709"
     },
     "user_tz": -480
    },
    "id": "TZJezDeM2C4v",
    "outputId": "5f4887f2-3d48-4844-f538-71132cb8a40a"
   },
   "outputs": [
    {
     "name": "stdout",
     "output_type": "stream",
     "text": [
      "\n",
      " Asset class allocation:\n",
      "  ➜ Allocating capital to: Equities\n",
      "  ➜ Allocating capital to: Fixed Income\n",
      "  ➜ Allocating capital to: Real Estate\n",
      "  ➜ Allocating capital to: Commodities\n"
     ]
    }
   ],
   "source": [
    "# Loop over asset classes\n",
    "asset_classes = [\"Equities\", \"Fixed Income\", \"Real Estate\", \"Commodities\"]\n",
    "print(\"\\n Asset class allocation:\")\n",
    "for asset in asset_classes:\n",
    "    print(f\"  ➜ Allocating capital to: {asset}\")"
   ]
  },
  {
   "cell_type": "code",
   "execution_count": null,
   "metadata": {
    "colab": {
     "base_uri": "https://localhost:8080/"
    },
    "executionInfo": {
     "elapsed": 334,
     "status": "ok",
     "timestamp": 1727508820111,
     "user": {
      "displayName": "wb ncnufin113",
      "userId": "14113034630541117709"
     },
     "user_tz": -480
    },
    "id": "Vs9LzFSH2C4v",
    "outputId": "92fabbde-b4dd-42f9-e0a9-55eff625fb17"
   },
   "outputs": [
    {
     "name": "stdout",
     "output_type": "stream",
     "text": [
      "\n",
      " Investment risk tiers:\n",
      "Tier 0: Risk Level 1\n",
      "Tier 1: Risk Level 2\n",
      "Tier 2: Risk Level 3\n",
      "Tier 3: Risk Level 4\n",
      "Tier 4: Risk Level 5\n"
     ]
    }
   ],
   "source": [
    "# over a range of numbers\n",
    "# Investment tiers (0 to 4)\n",
    "print(\"\\n Investment risk tiers:\")\n",
    "\n",
    "for tier in range(5):\n",
    "    print(f\"Tier {tier}: Risk Level {tier + 1}\")"
   ]
  },
  {
   "cell_type": "code",
   "execution_count": 11,
   "metadata": {
    "colab": {
     "base_uri": "https://localhost:8080/"
    },
    "executionInfo": {
     "elapsed": 499,
     "status": "ok",
     "timestamp": 1727508823584,
     "user": {
      "displayName": "wb ncnufin113",
      "userId": "14113034630541117709"
     },
     "user_tz": -480
    },
    "id": "vlbf0tLn2C4v",
    "outputId": "8d6ff5f2-075f-43d5-ebfb-37c259ef43bd"
   },
   "outputs": [
    {
     "name": "stdout",
     "output_type": "stream",
     "text": [
      "The number is: 1\n",
      "The number is: 2\n",
      "The number is: 3\n",
      "The number is: 4\n"
     ]
    }
   ],
   "source": [
    "for num in range(1, 5): # 0-4\n",
    "  print(f\"The number is: {num}\")"
   ]
  },
  {
   "cell_type": "code",
   "execution_count": null,
   "metadata": {
    "colab": {
     "base_uri": "https://localhost:8080/"
    },
    "executionInfo": {
     "elapsed": 343,
     "status": "ok",
     "timestamp": 1727508826631,
     "user": {
      "displayName": "wb ncnufin113",
      "userId": "14113034630541117709"
     },
     "user_tz": -480
    },
    "id": "UI2He-h72C4v",
    "outputId": "7270ec1d-bb5d-4fba-dc38-ea3b36d5214d"
   },
   "outputs": [
    {
     "name": "stdout",
     "output_type": "stream",
     "text": [
      "\n",
      " Strategy refresh cycle (every 2 years):\n",
      "Year 2: Full portfolio review\n",
      "Year 4: Full portfolio review\n",
      "Year 6: Full portfolio review\n",
      "Year 8: Full portfolio review\n",
      "Year 10: Full portfolio review\n"
     ]
    }
   ],
   "source": [
    "# Every 2 years: Long-term strategy refresh\n",
    "print(\"\\n Strategy refresh cycle (every 2 years):\")\n",
    "\n",
    "for year in range(2, 11, 2):\n",
    "    print(f\"Year {year}: Full portfolio review\")"
   ]
  },
  {
   "cell_type": "code",
   "execution_count": null,
   "metadata": {
    "colab": {
     "base_uri": "https://localhost:8080/"
    },
    "executionInfo": {
     "elapsed": 1,
     "status": "ok",
     "timestamp": 1727508829532,
     "user": {
      "displayName": "wb ncnufin113",
      "userId": "14113034630541117709"
     },
     "user_tz": -480
    },
    "id": "Loh-hgp52C4v",
    "outputId": "0908ea4d-b0d4-4ad6-99cd-d6937a0c07b7"
   },
   "outputs": [
    {
     "name": "stdout",
     "output_type": "stream",
     "text": [
      "\n",
      " Portfolio positions:\n",
      "Position 1: TSMC\n",
      "Position 2: Apple\n",
      "Position 3: Tesla\n",
      "Position 4: NVIDIA\n"
     ]
    }
   ],
   "source": [
    "# `for `loop in `enumerate()`\n",
    "# Enumerate & Dictionaries: Structured Financial Data\n",
    "# Track portfolio positions with index\n",
    "portfolio_holdings = [\"TSMC\", \"Apple\", \"Tesla\", \"NVIDIA\"]\n",
    "print(\"\\n Portfolio positions:\")\n",
    "\n",
    "for index, stock in enumerate(portfolio_holdings):\n",
    "    print(f\"Position {index+1}: {stock}\")"
   ]
  },
  {
   "cell_type": "code",
   "execution_count": 27,
   "metadata": {},
   "outputs": [
    {
     "name": "stdout",
     "output_type": "stream",
     "text": [
      "Day 1 portfolio value: 1,003,000.00 TWD\n",
      "Day 2 portfolio value: 997,985.00 TWD\n",
      "Day 3 portfolio value: 999,980.97 TWD\n",
      "Day 4 portfolio value: 998,980.99 TWD\n",
      "Day 5 portfolio value: 1,002,976.91 TWD\n",
      "Day 6 portfolio value: 1,008,994.77 TWD\n",
      "Day 7 portfolio value: 1,006,976.78 TWD\n",
      "Day 8 portfolio value: 1,009,997.72 TWD\n",
      "Day 9 portfolio value: 1,011,007.71 TWD\n",
      "Day 10 portfolio value: 1,016,062.75 TWD\n"
     ]
    }
   ],
   "source": [
    "# Assume we have 10 days of daily return data\n",
    "daily_returns = [0.003, -0.005, 0.002, -0.001, 0.004,\n",
    "                 0.006, -0.002, 0.003, 0.001, 0.005]\n",
    "\n",
    "# Simulate daily portfolio value changes\n",
    "initial_capital = 1_000_000  # Initial capital: 1 million TWD\n",
    "current_capital = initial_capital\n",
    "\n",
    "for day, daily_return in enumerate(daily_returns, start=1):\n",
    "    current_capital *= (1 + daily_return)\n",
    "    print(f\"Day {day} portfolio value: {current_capital:,.2f} TWD\")"
   ]
  },
  {
   "cell_type": "code",
   "execution_count": 37,
   "metadata": {},
   "outputs": [
    {
     "name": "stdout",
     "output_type": "stream",
     "text": [
      "Investment #1: TSMC is recommended\n",
      "Investment #2: Hon Hai is recommended\n",
      "Investment #3: Acer is not recommended\n",
      "Investment #4: MediaTek is recommended\n"
     ]
    }
   ],
   "source": [
    "# Use enumerate() to display investment ranking and evaluation\n",
    "stocks = ['TSMC', 'Hon Hai', 'Acer', 'MediaTek']\n",
    "returns_list = [0.12, 0.08, 0.05, 0.10]\n",
    "\n",
    "for index, (stock, r) in enumerate(zip(stocks, returns_list), start=1):\n",
    "    if r > 0.07:\n",
    "        print(f\"Investment #{index}: {stock} is recommended\")\n",
    "    else:\n",
    "        print(f\"Investment #{index}: {stock} is not recommended\")"
   ]
  },
  {
   "cell_type": "code",
   "execution_count": null,
   "metadata": {
    "colab": {
     "base_uri": "https://localhost:8080/"
    },
    "executionInfo": {
     "elapsed": 354,
     "status": "ok",
     "timestamp": 1727508832297,
     "user": {
      "displayName": "wb ncnufin113",
      "userId": "14113034630541117709"
     },
     "user_tz": -480
    },
    "id": "S3I2Udf42C4v",
    "outputId": "e1bc45a0-5eea-411d-cb25-481dcb5c2f8c"
   },
   "outputs": [
    {
     "name": "stdout",
     "output_type": "stream",
     "text": [
      "\n",
      " Risk profiles by asset class:\n",
      "  ➜ Equities\n",
      "  ➜ Bonds\n",
      "  ➜ REITs\n",
      "  ➜ Gold\n"
     ]
    }
   ],
   "source": [
    "# over a dictionary\n",
    "# Map asset classes to risk levels\n",
    "risk_profiles = {\n",
    "    \"Equities\": \"High\",\n",
    "    \"Bonds\": \"Low\",\n",
    "    \"REITs\": \"Medium\",\n",
    "    \"Gold\": \"Hedge\"\n",
    "}\n",
    "print(\"\\n Risk profiles by asset class:\")\n",
    "\n",
    "for asset in risk_profiles:\n",
    "    print(f\"  ➜ {asset}\")"
   ]
  },
  {
   "cell_type": "code",
   "execution_count": 8,
   "metadata": {
    "colab": {
     "base_uri": "https://localhost:8080/"
    },
    "executionInfo": {
     "elapsed": 330,
     "status": "ok",
     "timestamp": 1727508836194,
     "user": {
      "displayName": "wb ncnufin113",
      "userId": "14113034630541117709"
     },
     "user_tz": -480
    },
    "id": "hVxk0uyo2C4v",
    "outputId": "e1b501b6-c2e4-490c-be0e-13cced99351e"
   },
   "outputs": [
    {
     "name": "stdout",
     "output_type": "stream",
     "text": [
      "  Equities → High risk exposure\n",
      "  Bonds → Low risk exposure\n",
      "  REITs → Medium risk exposure\n",
      "  Gold → Hedge risk exposure\n"
     ]
    }
   ],
   "source": [
    "for asset, risk in risk_profiles.items():\n",
    "    print(f\"  {asset} → {risk} risk exposure\")"
   ]
  },
  {
   "cell_type": "code",
   "execution_count": 35,
   "metadata": {},
   "outputs": [
    {
     "name": "stdout",
     "output_type": "stream",
     "text": [
      "Stocks: High return but high volatility — suitable for investors with high risk tolerance\n",
      "Bonds: Stable return — suitable for conservative investors\n",
      "Real Estate: Portfolio diversifier with inflation-hedging properties\n",
      "Commodities: Acts as a hedge — useful for risk diversification\n"
     ]
    }
   ],
   "source": [
    "# Simulate asset types in an investment portfolio\n",
    "assets = ['Stocks', 'Bonds', 'Real Estate', 'Commodities']\n",
    "\n",
    "for asset in assets:\n",
    "    if asset == 'Stocks':\n",
    "        print(f\"{asset}: High return but high volatility — suitable for investors with high risk tolerance\")\n",
    "    elif asset == 'Bonds':\n",
    "        print(f\"{asset}: Stable return — suitable for conservative investors\")\n",
    "    elif asset == 'Real Estate':\n",
    "        print(f\"{asset}: Portfolio diversifier with inflation-hedging properties\")\n",
    "    else:\n",
    "        print(f\"{asset}: Acts as a hedge — useful for risk diversification\")"
   ]
  },
  {
   "cell_type": "markdown",
   "metadata": {
    "id": "OyIOAWLw2C4v"
   },
   "source": [
    "#### While Loops"
   ]
  },
  {
   "cell_type": "code",
   "execution_count": null,
   "metadata": {
    "colab": {
     "base_uri": "https://localhost:8080/"
    },
    "executionInfo": {
     "elapsed": 329,
     "status": "ok",
     "timestamp": 1727508839422,
     "user": {
      "displayName": "wb ncnufin113",
      "userId": "14113034630541117709"
     },
     "user_tz": -480
    },
    "id": "pjE9kCbW2C4v",
    "outputId": "089e0e4c-8f6d-4a3e-b748-25932f7a65ba"
   },
   "outputs": [
    {
     "name": "stdout",
     "output_type": "stream",
     "text": [
      "\n",
      " Algorithmic trading log:\n",
      "  Day 1: Market open — running risk scan...\n",
      "  Day 2: Market open — running risk scan...\n",
      "  Day 3: Market open — running risk scan...\n",
      "  Day 4: Market open — running risk scan...\n",
      "  Day 5: Market open — running risk scan...\n"
     ]
    }
   ],
   "source": [
    "# Simulate 5 trading days\n",
    "day = 1\n",
    "print(\"\\n Algorithmic trading log:\")\n",
    "\n",
    "while day <= 5:\n",
    "    print(f\"  Day {day}: Market open — running risk scan...\")\n",
    "    day += 1"
   ]
  },
  {
   "cell_type": "code",
   "execution_count": 28,
   "metadata": {},
   "outputs": [
    {
     "name": "stdout",
     "output_type": "stream",
     "text": [
      "Day 1 portfolio value: 1,001,000.00 TWD\n",
      "Day 2 portfolio value: 1,002,001.00 TWD\n",
      "Day 3 portfolio value: 1,003,003.00 TWD\n",
      "Day 4 portfolio value: 1,004,006.00 TWD\n",
      "Day 5 portfolio value: 1,005,010.01 TWD\n",
      "Day 6 portfolio value: 1,006,015.02 TWD\n",
      "Day 7 portfolio value: 1,007,021.04 TWD\n",
      "Day 8 portfolio value: 1,008,028.06 TWD\n",
      "Day 9 portfolio value: 1,009,036.08 TWD\n",
      "Day 10 portfolio value: 1,010,045.12 TWD\n",
      "Day 11 portfolio value: 1,011,055.17 TWD\n",
      "Day 12 portfolio value: 1,012,066.22 TWD\n",
      "Day 13 portfolio value: 1,013,078.29 TWD\n",
      "Day 14 portfolio value: 1,014,091.37 TWD\n",
      "Day 15 portfolio value: 1,015,105.46 TWD\n",
      "Day 16 portfolio value: 1,016,120.56 TWD\n",
      "Day 17 portfolio value: 1,017,136.68 TWD\n",
      "Day 18 portfolio value: 1,018,153.82 TWD\n",
      "Day 19 portfolio value: 1,019,171.97 TWD\n",
      "Day 20 portfolio value: 1,020,191.14 TWD\n",
      "Day 21 portfolio value: 1,021,211.34 TWD\n",
      "Day 22 portfolio value: 1,022,232.55 TWD\n",
      "Day 23 portfolio value: 1,023,254.78 TWD\n",
      "Day 24 portfolio value: 1,024,278.03 TWD\n",
      "Day 25 portfolio value: 1,025,302.31 TWD\n",
      "Day 26 portfolio value: 1,026,327.62 TWD\n",
      "Day 27 portfolio value: 1,027,353.94 TWD\n",
      "Day 28 portfolio value: 1,028,381.30 TWD\n",
      "Day 29 portfolio value: 1,029,409.68 TWD\n",
      "Day 30 portfolio value: 1,030,439.09 TWD\n",
      "Day 31 portfolio value: 1,031,469.53 TWD\n",
      "Day 32 portfolio value: 1,032,501.00 TWD\n",
      "Day 33 portfolio value: 1,033,533.50 TWD\n",
      "Day 34 portfolio value: 1,034,567.03 TWD\n",
      "Day 35 portfolio value: 1,035,601.60 TWD\n",
      "Day 36 portfolio value: 1,036,637.20 TWD\n",
      "Day 37 portfolio value: 1,037,673.84 TWD\n",
      "Day 38 portfolio value: 1,038,711.51 TWD\n",
      "Day 39 portfolio value: 1,039,750.22 TWD\n",
      "Day 40 portfolio value: 1,040,789.97 TWD\n",
      "Day 41 portfolio value: 1,041,830.76 TWD\n",
      "Day 42 portfolio value: 1,042,872.59 TWD\n",
      "Day 43 portfolio value: 1,043,915.47 TWD\n",
      "Day 44 portfolio value: 1,044,959.38 TWD\n",
      "Day 45 portfolio value: 1,046,004.34 TWD\n",
      "Day 46 portfolio value: 1,047,050.34 TWD\n",
      "Day 47 portfolio value: 1,048,097.39 TWD\n",
      "Day 48 portfolio value: 1,049,145.49 TWD\n",
      "Day 49 portfolio value: 1,050,194.64 TWD\n",
      "Day 50 portfolio value: 1,051,244.83 TWD\n",
      "Day 51 portfolio value: 1,052,296.08 TWD\n",
      "Day 52 portfolio value: 1,053,348.37 TWD\n",
      "Day 53 portfolio value: 1,054,401.72 TWD\n",
      "Day 54 portfolio value: 1,055,456.12 TWD\n",
      "Day 55 portfolio value: 1,056,511.58 TWD\n",
      "Day 56 portfolio value: 1,057,568.09 TWD\n",
      "Day 57 portfolio value: 1,058,625.66 TWD\n",
      "Day 58 portfolio value: 1,059,684.28 TWD\n",
      "Day 59 portfolio value: 1,060,743.97 TWD\n",
      "Day 60 portfolio value: 1,061,804.71 TWD\n",
      "Day 61 portfolio value: 1,062,866.52 TWD\n",
      "Day 62 portfolio value: 1,063,929.38 TWD\n",
      "Day 63 portfolio value: 1,064,993.31 TWD\n",
      "Day 64 portfolio value: 1,066,058.31 TWD\n",
      "Day 65 portfolio value: 1,067,124.37 TWD\n",
      "Day 66 portfolio value: 1,068,191.49 TWD\n",
      "Day 67 portfolio value: 1,069,259.68 TWD\n",
      "Day 68 portfolio value: 1,070,328.94 TWD\n",
      "Day 69 portfolio value: 1,071,399.27 TWD\n",
      "Day 70 portfolio value: 1,072,470.67 TWD\n",
      "Day 71 portfolio value: 1,073,543.14 TWD\n",
      "Day 72 portfolio value: 1,074,616.68 TWD\n",
      "Day 73 portfolio value: 1,075,691.30 TWD\n",
      "Day 74 portfolio value: 1,076,766.99 TWD\n",
      "Day 75 portfolio value: 1,077,843.76 TWD\n",
      "Day 76 portfolio value: 1,078,921.60 TWD\n",
      "Day 77 portfolio value: 1,080,000.52 TWD\n",
      "Day 78 portfolio value: 1,081,080.52 TWD\n",
      "Day 79 portfolio value: 1,082,161.60 TWD\n",
      "Day 80 portfolio value: 1,083,243.77 TWD\n",
      "Day 81 portfolio value: 1,084,327.01 TWD\n",
      "Day 82 portfolio value: 1,085,411.34 TWD\n",
      "Day 83 portfolio value: 1,086,496.75 TWD\n",
      "Day 84 portfolio value: 1,087,583.24 TWD\n",
      "Day 85 portfolio value: 1,088,670.83 TWD\n",
      "Day 86 portfolio value: 1,089,759.50 TWD\n",
      "Day 87 portfolio value: 1,090,849.26 TWD\n",
      "Day 88 portfolio value: 1,091,940.11 TWD\n",
      "Day 89 portfolio value: 1,093,032.05 TWD\n",
      "Day 90 portfolio value: 1,094,125.08 TWD\n",
      "Day 91 portfolio value: 1,095,219.20 TWD\n",
      "Day 92 portfolio value: 1,096,314.42 TWD\n",
      "Day 93 portfolio value: 1,097,410.74 TWD\n",
      "Day 94 portfolio value: 1,098,508.15 TWD\n",
      "Day 95 portfolio value: 1,099,606.66 TWD\n",
      "Day 96 portfolio value: 1,100,706.26 TWD\n",
      "Day 97 portfolio value: 1,101,806.97 TWD\n",
      "Day 98 portfolio value: 1,102,908.78 TWD\n",
      "Day 99 portfolio value: 1,104,011.69 TWD\n",
      "Day 100 portfolio value: 1,105,115.70 TWD\n",
      "Day 101 portfolio value: 1,106,220.81 TWD\n",
      "Day 102 portfolio value: 1,107,327.03 TWD\n",
      "Day 103 portfolio value: 1,108,434.36 TWD\n",
      "Day 104 portfolio value: 1,109,542.80 TWD\n",
      "Day 105 portfolio value: 1,110,652.34 TWD\n",
      "Day 106 portfolio value: 1,111,762.99 TWD\n",
      "Day 107 portfolio value: 1,112,874.75 TWD\n",
      "Day 108 portfolio value: 1,113,987.63 TWD\n",
      "Day 109 portfolio value: 1,115,101.62 TWD\n",
      "Day 110 portfolio value: 1,116,216.72 TWD\n",
      "Day 111 portfolio value: 1,117,332.93 TWD\n",
      "Day 112 portfolio value: 1,118,450.27 TWD\n",
      "Day 113 portfolio value: 1,119,568.72 TWD\n",
      "Day 114 portfolio value: 1,120,688.29 TWD\n",
      "Day 115 portfolio value: 1,121,808.97 TWD\n",
      "Day 116 portfolio value: 1,122,930.78 TWD\n",
      "Day 117 portfolio value: 1,124,053.71 TWD\n",
      "Day 118 portfolio value: 1,125,177.77 TWD\n",
      "Day 119 portfolio value: 1,126,302.95 TWD\n",
      "Day 120 portfolio value: 1,127,429.25 TWD\n",
      "Day 121 portfolio value: 1,128,556.68 TWD\n",
      "Day 122 portfolio value: 1,129,685.23 TWD\n",
      "Day 123 portfolio value: 1,130,814.92 TWD\n",
      "Day 124 portfolio value: 1,131,945.73 TWD\n",
      "Day 125 portfolio value: 1,133,077.68 TWD\n",
      "Day 126 portfolio value: 1,134,210.76 TWD\n",
      "Day 127 portfolio value: 1,135,344.97 TWD\n",
      "Day 128 portfolio value: 1,136,480.31 TWD\n",
      "Day 129 portfolio value: 1,137,616.79 TWD\n",
      "Day 130 portfolio value: 1,138,754.41 TWD\n",
      "Day 131 portfolio value: 1,139,893.17 TWD\n",
      "Day 132 portfolio value: 1,141,033.06 TWD\n",
      "Day 133 portfolio value: 1,142,174.09 TWD\n",
      "Day 134 portfolio value: 1,143,316.27 TWD\n",
      "Day 135 portfolio value: 1,144,459.58 TWD\n",
      "Day 136 portfolio value: 1,145,604.04 TWD\n",
      "Day 137 portfolio value: 1,146,749.65 TWD\n",
      "Day 138 portfolio value: 1,147,896.40 TWD\n",
      "Day 139 portfolio value: 1,149,044.29 TWD\n",
      "Day 140 portfolio value: 1,150,193.34 TWD\n",
      "Day 141 portfolio value: 1,151,343.53 TWD\n",
      "Day 142 portfolio value: 1,152,494.87 TWD\n",
      "Day 143 portfolio value: 1,153,647.37 TWD\n",
      "Day 144 portfolio value: 1,154,801.02 TWD\n",
      "Day 145 portfolio value: 1,155,955.82 TWD\n",
      "Day 146 portfolio value: 1,157,111.77 TWD\n",
      "Day 147 portfolio value: 1,158,268.88 TWD\n",
      "Day 148 portfolio value: 1,159,427.15 TWD\n",
      "Day 149 portfolio value: 1,160,586.58 TWD\n",
      "Day 150 portfolio value: 1,161,747.17 TWD\n",
      "Day 151 portfolio value: 1,162,908.91 TWD\n",
      "Day 152 portfolio value: 1,164,071.82 TWD\n",
      "Day 153 portfolio value: 1,165,235.89 TWD\n",
      "Day 154 portfolio value: 1,166,401.13 TWD\n",
      "Day 155 portfolio value: 1,167,567.53 TWD\n",
      "Day 156 portfolio value: 1,168,735.10 TWD\n",
      "Day 157 portfolio value: 1,169,903.83 TWD\n",
      "Day 158 portfolio value: 1,171,073.74 TWD\n",
      "Day 159 portfolio value: 1,172,244.81 TWD\n",
      "Day 160 portfolio value: 1,173,417.06 TWD\n",
      "Day 161 portfolio value: 1,174,590.47 TWD\n",
      "Day 162 portfolio value: 1,175,765.06 TWD\n",
      "Day 163 portfolio value: 1,176,940.83 TWD\n",
      "Day 164 portfolio value: 1,178,117.77 TWD\n",
      "Day 165 portfolio value: 1,179,295.89 TWD\n",
      "Day 166 portfolio value: 1,180,475.18 TWD\n",
      "Day 167 portfolio value: 1,181,655.66 TWD\n",
      "Day 168 portfolio value: 1,182,837.31 TWD\n",
      "Day 169 portfolio value: 1,184,020.15 TWD\n",
      "Day 170 portfolio value: 1,185,204.17 TWD\n",
      "Day 171 portfolio value: 1,186,389.38 TWD\n",
      "Day 172 portfolio value: 1,187,575.77 TWD\n",
      "Day 173 portfolio value: 1,188,763.34 TWD\n",
      "Day 174 portfolio value: 1,189,952.10 TWD\n",
      "Day 175 portfolio value: 1,191,142.06 TWD\n",
      "Day 176 portfolio value: 1,192,333.20 TWD\n",
      "Day 177 portfolio value: 1,193,525.53 TWD\n",
      "Day 178 portfolio value: 1,194,719.06 TWD\n",
      "Day 179 portfolio value: 1,195,913.78 TWD\n",
      "Day 180 portfolio value: 1,197,109.69 TWD\n",
      "Day 181 portfolio value: 1,198,306.80 TWD\n",
      "Day 182 portfolio value: 1,199,505.11 TWD\n",
      "Day 183 portfolio value: 1,200,704.61 TWD\n",
      "Target capital 1,200,000 TWD reached in 183 days\n"
     ]
    }
   ],
   "source": [
    "# Use a while loop to simulate investment growth until target is reached\n",
    "target_capital = 1_200_000\n",
    "current_capital = initial_capital\n",
    "day = 0\n",
    "\n",
    "while current_capital < target_capital:\n",
    "    day += 1\n",
    "    current_capital *= (1 + 0.001)  # Assume 0.1% daily return\n",
    "    print(f\"Day {day} portfolio value: {current_capital:,.2f} TWD\")\n",
    "\n",
    "print(f\"Target capital {target_capital:,.0f} TWD reached in {day} days\")"
   ]
  },
  {
   "cell_type": "code",
   "execution_count": 5,
   "metadata": {
    "colab": {
     "base_uri": "https://localhost:8080/"
    },
    "executionInfo": {
     "elapsed": 343,
     "status": "ok",
     "timestamp": 1727508841873,
     "user": {
      "displayName": "wb ncnufin113",
      "userId": "14113034630541117709"
     },
     "user_tz": -480
    },
    "id": "TIyDWeZl2C4w",
    "outputId": "4d0d908f-2f2c-4265-be05-194275f2c981"
   },
   "outputs": [
    {
     "name": "stdout",
     "output_type": "stream",
     "text": [
      "\n",
      " Recovery monitoring:\n",
      "  Day 1: Rebalancing in progress...\n",
      "  Day 2: Rebalancing in progress...\n",
      "  Day 3: Rebalancing in progress...\n",
      "  Day 4: Rebalancing in progress...\n"
     ]
    }
   ],
   "source": [
    "# Drawdown recovery monitoring\n",
    "current_drawdown = 0\n",
    "max_drawdown_days = 4\n",
    "print(\"\\n Recovery monitoring:\")\n",
    "\n",
    "while current_drawdown < max_drawdown_days:\n",
    "    print(f\"  Day {current_drawdown + 1}: Rebalancing in progress...\")\n",
    "    current_drawdown += 1"
   ]
  },
  {
   "cell_type": "code",
   "execution_count": 4,
   "metadata": {
    "colab": {
     "base_uri": "https://localhost:8080/"
    },
    "executionInfo": {
     "elapsed": 322,
     "status": "ok",
     "timestamp": 1727508846694,
     "user": {
      "displayName": "wb ncnufin113",
      "userId": "14113034630541117709"
     },
     "user_tz": -480
    },
    "id": "r7gavtfp2C4w",
    "outputId": "77d33b96-70d1-488d-8e5e-6834da109555"
   },
   "outputs": [
    {
     "name": "stdout",
     "output_type": "stream",
     "text": [
      "\n",
      " Client portfolio reviews:\n",
      "  Reviewing: Alice (Conservative)\n",
      "  Reviewing: Bob (Balanced)\n",
      "  Reviewing: Charlie (Aggressive)\n",
      "  Reviewing: David (Retirement)\n"
     ]
    }
   ],
   "source": [
    "# Process client list by index\n",
    "client_names = [\"Alice (Conservative)\", \"Bob (Balanced)\", \"Charlie (Aggressive)\", \"David (Retirement)\"]\n",
    "index = 0\n",
    "print(\"\\n Client portfolio reviews:\")\n",
    "\n",
    "## the use of `len()` function to get the length of the list.\n",
    "while index < len(client_names):\n",
    "    print(f\"  Reviewing: {client_names[index]}\")\n",
    "    index += 1"
   ]
  },
  {
   "cell_type": "markdown",
   "metadata": {
    "id": "lXV7e1ky2C4w"
   },
   "source": [
    "##### Break & Continue"
   ]
  },
  {
   "cell_type": "code",
   "execution_count": null,
   "metadata": {
    "colab": {
     "base_uri": "https://localhost:8080/"
    },
    "executionInfo": {
     "elapsed": 427,
     "status": "ok",
     "timestamp": 1727508850004,
     "user": {
      "displayName": "wb ncnufin113",
      "userId": "14113034630541117709"
     },
     "user_tz": -480
    },
    "id": "ZLkin4hx2C4w",
    "outputId": "4592b49f-8281-45a5-e77f-c20edf49b177"
   },
   "outputs": [
    {
     "name": "stdout",
     "output_type": "stream",
     "text": [
      "\n",
      " Priority client detection:\n",
      "  Processing: Rose\n",
      "  Processing: Max\n",
      "  Processing: Nina (VIP Client)\n",
      " VIP client detected — immediate review initiated!\n"
     ]
    }
   ],
   "source": [
    "# `break`: Stop when VIP client is found\n",
    "client_list = [\"Rose\", \"Max\", \"Nina (VIP Client)\", \"Phillip\"]\n",
    "print(\"\\n Priority client detection:\")\n",
    "\n",
    "for client in client_list:\n",
    "    print(f\"  Processing: {client}\")\n",
    "    if client == \"Nina (VIP Client)\":\n",
    "        print(\" VIP client detected — immediate review initiated!\")\n",
    "        break"
   ]
  },
  {
   "cell_type": "code",
   "execution_count": 32,
   "metadata": {},
   "outputs": [
    {
     "name": "stdout",
     "output_type": "stream",
     "text": [
      "First recommended investment: TSMC, return 12.00%\n"
     ]
    }
   ],
   "source": [
    "returns = {\n",
    "    'TSMC': 0.12,\n",
    "    'Hon Hai': 0.08,\n",
    "    'Acer': 0.05,\n",
    "    'MediaTek': 0.10\n",
    "}\n",
    "\n",
    "# Stop immediately after finding the first viable investment (using 'break')\n",
    "for stock, annual_return in returns.items():\n",
    "    if annual_return > 0.07:\n",
    "        print(f\"First recommended investment: {stock}, return {annual_return:.2%}\")\n",
    "        break"
   ]
  },
  {
   "cell_type": "code",
   "execution_count": 3,
   "metadata": {
    "colab": {
     "base_uri": "https://localhost:8080/"
    },
    "executionInfo": {
     "elapsed": 332,
     "status": "ok",
     "timestamp": 1727508852067,
     "user": {
      "displayName": "wb ncnufin113",
      "userId": "14113034630541117709"
     },
     "user_tz": -480
    },
    "id": "kBZU_eOc2C4w",
    "outputId": "bfa1f0cf-f858-4ae1-b24d-4c79b6a09fff"
   },
   "outputs": [
    {
     "name": "stdout",
     "output_type": "stream",
     "text": [
      "\n",
      " Targeted action for VIP:\n",
      " Sending personalized investment report to: Nina (VIP Client)\n"
     ]
    }
   ],
   "source": [
    "# `continue`: Only process VIP client\n",
    "print(\"\\n Targeted action for VIP:\")\n",
    "for client in client_list:\n",
    "    if client != \"Nina (VIP Client)\":\n",
    "        continue\n",
    "    print(f\" Sending personalized investment report to: {client}\")"
   ]
  },
  {
   "cell_type": "code",
   "execution_count": 31,
   "metadata": {},
   "outputs": [
    {
     "name": "stdout",
     "output_type": "stream",
     "text": [
      "High-return investment candidates: ['TSMC', 'Hon Hai', 'MediaTek']\n"
     ]
    }
   ],
   "source": [
    "returns = {\n",
    "    'TSMC': 0.12,\n",
    "    'Hon Hai': 0.08,\n",
    "    'Acer': 0.05,\n",
    "    'MediaTek': 0.10\n",
    "}\n",
    "\n",
    "# Filter high-return stocks using 'continue'\n",
    "high_return_stocks = []\n",
    "\n",
    "for stock, annual_return in returns.items():\n",
    "    if annual_return <= 0.07:\n",
    "        continue  # Skip if return is not above threshold\n",
    "    high_return_stocks.append(stock)\n",
    "\n",
    "print(\"High-return investment candidates:\", high_return_stocks)"
   ]
  },
  {
   "cell_type": "markdown",
   "metadata": {
    "id": "27CW1z_a2C4w"
   },
   "source": [
    "## Additional Information"
   ]
  },
  {
   "cell_type": "markdown",
   "metadata": {
    "id": "4eeY98272C4w"
   },
   "source": [
    "Present Value (PV) details the current value associated with a sum of money that is to be received in the future, in today’s dollars. On the contrary, Future Value (FV) refers to the final amount (known as the terminal amount).\n",
    "\n",
    "$$\n",
    "PV=\\frac{FV}{(1+R)^n}\n",
    "$$\n",
    ", where PV is the present value, FV is the future value, R is the cost of capital discount rate per period, and n is the number of periods."
   ]
  },
  {
   "cell_type": "code",
   "execution_count": 1,
   "metadata": {
    "colab": {
     "base_uri": "https://localhost:8080/"
    },
    "executionInfo": {
     "elapsed": 341,
     "status": "ok",
     "timestamp": 1727508855403,
     "user": {
      "displayName": "wb ncnufin113",
      "userId": "14113034630541117709"
     },
     "user_tz": -480
    },
    "id": "_drph-kv2C4w",
    "outputId": "0089ae2b-9f73-497d-d80f-d4ce4162858f"
   },
   "outputs": [
    {
     "data": {
      "text/plain": [
       "82.64462809917354"
      ]
     },
     "execution_count": 1,
     "metadata": {},
     "output_type": "execute_result"
    }
   ],
   "source": [
    "# FV = 100, R=10% n=2\n",
    "100/(1+0.1)**2\n",
    "# 82.64462809917354"
   ]
  },
  {
   "cell_type": "code",
   "execution_count": 2,
   "metadata": {
    "executionInfo": {
     "elapsed": 327,
     "status": "ok",
     "timestamp": 1727508857578,
     "user": {
      "displayName": "wb ncnufin113",
      "userId": "14113034630541117709"
     },
     "user_tz": -480
    },
    "id": "bLIzbkAU2C4x"
   },
   "outputs": [],
   "source": [
    "# Import necessary libraries\n",
    "import numpy as np\n",
    "import matplotlib.pyplot as plt\n",
    "\n",
    "def present_value(fv, rate, periods):\n",
    "    \"\"\"Calculate Present Value\"\"\"\n",
    "    return fv / (1 + rate) ** periods"
   ]
  },
  {
   "cell_type": "code",
   "execution_count": 3,
   "metadata": {
    "colab": {
     "base_uri": "https://localhost:8080/"
    },
    "executionInfo": {
     "elapsed": 328,
     "status": "ok",
     "timestamp": 1727508860118,
     "user": {
      "displayName": "wb ncnufin113",
      "userId": "14113034630541117709"
     },
     "user_tz": -480
    },
    "id": "e6q0nS-z2C4x",
    "outputId": "8883537f-9d82-46f2-dc4e-3efbd4443323"
   },
   "outputs": [
    {
     "name": "stdout",
     "output_type": "stream",
     "text": [
      "Present Value: $100.00\n"
     ]
    }
   ],
   "source": [
    "# What is the PV of $110 received in 1 year at 10% discount rate?\n",
    "fv = 110\n",
    "rate = 0.10\n",
    "t = 1\n",
    "\n",
    "pv = present_value(fv, rate, t)\n",
    "print(f\"Present Value: ${pv:,.2f}\")"
   ]
  },
  {
   "cell_type": "code",
   "execution_count": 29,
   "metadata": {
    "colab": {
     "base_uri": "https://localhost:8080/"
    },
    "executionInfo": {
     "elapsed": 362,
     "status": "ok",
     "timestamp": 1727508862391,
     "user": {
      "displayName": "wb ncnufin113",
      "userId": "14113034630541117709"
     },
     "user_tz": -480
    },
    "id": "ErYNW0Vk2C4x",
    "outputId": "65c6e81d-0f26-4729-d4f4-f7c08311ded6"
   },
   "outputs": [
    {
     "data": {
      "text/plain": [
       "59.69723173093019"
      ]
     },
     "execution_count": 29,
     "metadata": {},
     "output_type": "execute_result"
    }
   ],
   "source": [
    "pv_f(80,0.05,6)\n",
    "# 59.69723173093019"
   ]
  },
  {
   "cell_type": "markdown",
   "metadata": {},
   "source": [
    "The value of a current sum at a future date, based on compound interest\n",
    "$$\n",
    "FV=PV \\times(1+r)^t\n",
    "$$"
   ]
  },
  {
   "cell_type": "code",
   "execution_count": 4,
   "metadata": {},
   "outputs": [],
   "source": [
    "def future_value(pv, rate, periods):\n",
    "    \"\"\"Calculate Future Value\"\"\"\n",
    "    return pv * (1 + rate) ** periods"
   ]
  },
  {
   "cell_type": "code",
   "execution_count": 5,
   "metadata": {},
   "outputs": [
    {
     "name": "stdout",
     "output_type": "stream",
     "text": [
      "Future Value: $146.93\n"
     ]
    }
   ],
   "source": [
    "# What is the FV of $100 invested for 5 years at 8%?\n",
    "pv = 100\n",
    "rate = 0.08\n",
    "t = 5\n",
    "\n",
    "fv = future_value(pv, rate, t)\n",
    "print(f\"Future Value: ${fv:,.2f}\")"
   ]
  },
  {
   "cell_type": "markdown",
   "metadata": {
    "id": "9ne64Fiq2C4z"
   },
   "source": [
    "The sum of present values of all **cash inflows and outflows** over time. Used to evaluate investment profitability.\n",
    "$$\n",
    "NPV=\\sum_{t=0}^n \\frac{\\text{CF}_t}{(1+r)^t}\n",
    "$$\n",
    "\n",
    "Net Present Value (NPV) is the difference between the present value of cash inflows and the present value of cash outflows over a period of time.\n",
    "- A **positive NPV** → good investment.\n",
    "- NPV=0: There is no difference in value between the value of the money earned and the money invested.\n",
    "- A **negative NPV** → avoid.\n"
   ]
  },
  {
   "cell_type": "code",
   "execution_count": 6,
   "metadata": {
    "executionInfo": {
     "elapsed": 330,
     "status": "ok",
     "timestamp": 1727508865936,
     "user": {
      "displayName": "wb ncnufin113",
      "userId": "14113034630541117709"
     },
     "user_tz": -480
    },
    "id": "HxFq08sU2C4z"
   },
   "outputs": [],
   "source": [
    "def npv(cash_flows, rate):\n",
    "    \"\"\"Calculate Net Present Value\n",
    "    cash_flows: list or array of CFs [CF0, CF1, ..., CFn]\n",
    "    rate: discount rate per period\n",
    "    \"\"\"\n",
    "    return sum(cf / (1 + rate)**t for t, cf in enumerate(cash_flows))"
   ]
  },
  {
   "cell_type": "code",
   "execution_count": 7,
   "metadata": {
    "colab": {
     "base_uri": "https://localhost:8080/"
    },
    "executionInfo": {
     "elapsed": 317,
     "status": "ok",
     "timestamp": 1727508868578,
     "user": {
      "displayName": "wb ncnufin113",
      "userId": "14113034630541117709"
     },
     "user_tz": -480
    },
    "id": "vSwW7nrr2C4z",
    "outputId": "afe98e77-87f6-4393-ac29-a39c4e5298ae"
   },
   "outputs": [
    {
     "name": "stdout",
     "output_type": "stream",
     "text": [
      "Net Present Value (NPV): $480.33\n"
     ]
    }
   ],
   "source": [
    "# Project with initial outlay of $1000 and inflows over 5 years\n",
    "cash_flows = [-1000, 300, 350, 400, 450, 500]  # Year 0 to 5\n",
    "discount_rate = 0.10  # 10%\n",
    "\n",
    "net_pv = npv(cash_flows, discount_rate)\n",
    "print(f\"Net Present Value (NPV): ${net_pv:,.2f}\")"
   ]
  },
  {
   "cell_type": "markdown",
   "metadata": {
    "id": "8Ta4aPNg2C40"
   },
   "source": [
    "#### Net Present Value (NPV) profile\n",
    "\n",
    "A graph showing how **NPV changes with different discount rates**. It helps visualize the **sensitivity** of an investment to the cost of capital.\n",
    "\n",
    "#### Interpretation of NPV Profile\n",
    "\n",
    "- When **discount rate increases**, NPV **decreases**.\n",
    "- The point where the curve crosses zero → **IRR (Internal Rate of Return)** ≈ 14.2%\n",
    "- If your **cost of capital is below 14.2%**, accept the project."
   ]
  },
  {
   "cell_type": "code",
   "execution_count": 8,
   "metadata": {},
   "outputs": [
    {
     "data": {
      "image/png": "[encoded data removed]",
      "text/plain": [
       "<Figure size 1000x600 with 1 Axes>"
      ]
     },
     "metadata": {},
     "output_type": "display_data"
    }
   ],
   "source": [
    "# Define a range of discount rates (0% to 20%)\n",
    "rates = np.linspace(0, 0.20, 100)  # 0% to 20%\n",
    "npv_values = [npv(cash_flows, r) for r in rates]\n",
    "\n",
    "# Plot NPV Profile\n",
    "plt.figure(figsize=(10, 6))\n",
    "plt.plot(rates * 100, npv_values, label='NPV Profile', color='blue')\n",
    "plt.axhline(0, color='red', linestyle='--', label='Break-even (NPV = 0)')\n",
    "plt.axvline(0.142, color='green', linestyle=':', label='IRR ≈ 14.2%')\n",
    "\n",
    "plt.title('NPV Profile: Sensitivity to Discount Rate')\n",
    "plt.xlabel('Discount Rate (%)')\n",
    "plt.ylabel('Net Present Value (NPV)')\n",
    "plt.grid(True, alpha=0.3)\n",
    "plt.legend()\n",
    "plt.tight_layout()\n",
    "plt.show()"
   ]
  },
  {
   "cell_type": "code",
   "execution_count": 11,
   "metadata": {},
   "outputs": [
    {
     "name": "stdout",
     "output_type": "stream",
     "text": [
      "NPV at 10.0%: $194.39\n",
      "IRR: 24.89%\n",
      "Recommendation: Accept the investment\n"
     ]
    },
    {
     "data": {
      "image/png": "[encoded data removed]",
      "text/plain": [
       "<Figure size 900x500 with 1 Axes>"
      ]
     },
     "metadata": {},
     "output_type": "display_data"
    }
   ],
   "source": [
    "import numpy as np\n",
    "import matplotlib.pyplot as plt\n",
    "\n",
    "def npv(cash_flows, discount_rate):\n",
    "    \"\"\"Calculate Net Present Value\"\"\"\n",
    "    return sum(cf / (1 + discount_rate) ** t for t, cf in enumerate(cash_flows))\n",
    "\n",
    "def irr(cash_flows, precision=0.0001, max_iterations=1000):\n",
    "    \"\"\"Calculate Internal Rate of Return using Newton-Raphson method\"\"\"\n",
    "    if not cash_flows or sum(1 for cf in cash_flows if cf < 0) == 0:\n",
    "        return None\n",
    "    \n",
    "    def npv_derivative(rate):\n",
    "        \"\"\"Calculate derivative of NPV with respect to rate\"\"\"\n",
    "        return sum(-t * cf / (1 + rate) ** (t + 1) for t, cf in enumerate(cash_flows) if t > 0)\n",
    "    \n",
    "    # Initial guess for IRR\n",
    "    rate = 0.1\n",
    "    for _ in range(max_iterations):\n",
    "        npv_val = npv(cash_flows, rate)\n",
    "        if abs(npv_val) < precision:\n",
    "            return rate\n",
    "        \n",
    "        deriv = npv_derivative(rate)\n",
    "        if abs(deriv) < 1e-10:  # Prevent division by near-zero\n",
    "            return None\n",
    "            \n",
    "        # Newton-Raphson update\n",
    "        new_rate = rate - npv_val / deriv\n",
    "        if abs(new_rate - rate) < precision:\n",
    "            return new_rate\n",
    "        rate = new_rate\n",
    "    \n",
    "    return None  # Return None if no convergence\n",
    "\n",
    "def analyze_investment(cash_flows, discount_rate, plot=True):\n",
    "    \"\"\"Full investment analysis with NPV and optional NPV profile\"\"\"\n",
    "    npv_val = npv(cash_flows, discount_rate)\n",
    "    irr_val = irr(cash_flows)\n",
    "    \n",
    "    print(f\"NPV at {discount_rate:.1%}: ${npv_val:,.2f}\")\n",
    "    print(f\"IRR: {irr_val:.2%}\" if irr_val is not None else \"IRR: Not found\")\n",
    "    \n",
    "    if npv_val > 0:\n",
    "        print(\"Recommendation: Accept the investment\")\n",
    "    else:\n",
    "        print(\"Recommendation: Reject the investment\")\n",
    "    \n",
    "    if plot:\n",
    "        rates = np.linspace(0, 0.20, 100)\n",
    "        npvs = [npv(cash_flows, r) for r in rates]\n",
    "        \n",
    "        plt.figure(figsize=(9, 5))\n",
    "        plt.plot(rates * 100, npvs, color='purple')\n",
    "        plt.axhline(0, color='red', linestyle='--')\n",
    "        if irr_val is not None:\n",
    "            plt.axvline(irr_val * 100, color='green', linestyle=':', label=f'IRR = {irr_val:.2%}')\n",
    "        plt.title('NPV Profile')\n",
    "        plt.xlabel('Discount Rate (%)')\n",
    "        plt.ylabel('NPV ($)')\n",
    "        plt.legend()\n",
    "        plt.grid(True, alpha=0.3)\n",
    "        plt.show()\n",
    "\n",
    "# Try it!\n",
    "analyze_investment(cash_flows=[-500, 150, 200, 250, 300], discount_rate=0.10)"
   ]
  },
  {
   "cell_type": "markdown",
   "metadata": {},
   "source": [
    "#### What is IRR? (Internal Rate of Return)\n",
    "\n",
    "The **discount rate** that makes the **Net Present Value (NPV)** of all cash flows from an investment **equal to zero**. \n",
    "$$\n",
    "NPV=\\sum_{t=0}^n \\frac{CF_t}{(1+IRR)^t}=0\n",
    "$$"
   ]
  },
  {
   "cell_type": "code",
   "execution_count": 12,
   "metadata": {},
   "outputs": [
    {
     "name": "stdout",
     "output_type": "stream",
     "text": [
      "NPV at 10.0%: $147.12\n",
      "IRR: 17.80%\n",
      "Recommendation: Accept the investment\n"
     ]
    },
    {
     "data": {
      "image/png": "[encoded data removed]",
      "text/plain": [
       "<Figure size 900x500 with 1 Axes>"
      ]
     },
     "metadata": {},
     "output_type": "display_data"
    }
   ],
   "source": [
    "import numpy as np\n",
    "import matplotlib.pyplot as plt\n",
    "\n",
    "def npv(cash_flows, discount_rate):\n",
    "    \"\"\"Calculate Net Present Value\"\"\"\n",
    "    return sum(cf / (1 + discount_rate) ** t for t, cf in enumerate(cash_flows))\n",
    "\n",
    "def irr(cash_flows, precision=0.0001, max_iterations=1000):\n",
    "    \"\"\"Calculate Internal Rate of Return using Newton-Raphson method\"\"\"\n",
    "    if not cash_flows or sum(1 for cf in cash_flows if cf < 0) == 0:\n",
    "        return None\n",
    "    \n",
    "    def npv_derivative(rate):\n",
    "        \"\"\"Calculate derivative of NPV with respect to rate\"\"\"\n",
    "        return sum(-t * cf / (1 + rate) ** (t + 1) for t, cf in enumerate(cash_flows) if t > 0)\n",
    "    \n",
    "    # Initial guess for IRR\n",
    "    rate = 0.1\n",
    "    for _ in range(max_iterations):\n",
    "        npv_val = npv(cash_flows, rate)\n",
    "        if abs(npv_val) < precision:\n",
    "            return rate\n",
    "        \n",
    "        deriv = npv_derivative(rate)\n",
    "        if abs(deriv) < 1e-10:  # Prevent division by near-zero\n",
    "            return None\n",
    "            \n",
    "        # Newton-Raphson update\n",
    "        new_rate = rate - npv_val / deriv\n",
    "        if abs(new_rate - rate) < precision:\n",
    "            return new_rate\n",
    "        rate = new_rate\n",
    "    \n",
    "    return None  # Return None if no convergence\n",
    "\n",
    "def analyze_investment(cash_flows, discount_rate, plot=True):\n",
    "    \"\"\"Full investment analysis with NPV and optional NPV profile\"\"\"\n",
    "    npv_val = npv(cash_flows, discount_rate)\n",
    "    irr_val = irr(cash_flows)\n",
    "    \n",
    "    print(f\"NPV at {discount_rate:.1%}: ${npv_val:,.2f}\")\n",
    "    print(f\"IRR: {irr_val:.2%}\" if irr_val is not None else \"IRR: Not found\")\n",
    "    \n",
    "    if npv_val > 0:\n",
    "        print(\"Recommendation: Accept the investment\")\n",
    "    else:\n",
    "        print(\"Recommendation: Reject the investment\")\n",
    "    \n",
    "    if plot:\n",
    "        rates = np.linspace(0, 0.20, 100)\n",
    "        npvs = [npv(cash_flows, r) for r in rates]\n",
    "        \n",
    "        plt.figure(figsize=(9, 5))\n",
    "        plt.plot(rates * 100, npvs, color='purple')\n",
    "        plt.axhline(0, color='red', linestyle='--')\n",
    "        if irr_val is not None:\n",
    "            plt.axvline(irr_val * 100, color='green', linestyle=':', label=f'IRR = {irr_val:.2%}')\n",
    "        plt.title('NPV Profile')\n",
    "        plt.xlabel('Discount Rate (%)')\n",
    "        plt.ylabel('NPV ($)')\n",
    "        plt.legend()\n",
    "        plt.grid(True, alpha=0.3)\n",
    "        plt.show()\n",
    "\n",
    "# Define cash flows and run analysis\n",
    "cash_flows = [-1000, 500, 400, 300, 200]\n",
    "analyze_investment(cash_flows=cash_flows, discount_rate=0.10)"
   ]
  },
  {
   "cell_type": "code",
   "execution_count": 13,
   "metadata": {},
   "outputs": [
    {
     "data": {
      "image/png": "[encoded data removed]",
      "text/plain": [
       "<Figure size 1000x600 with 1 Axes>"
      ]
     },
     "metadata": {},
     "output_type": "display_data"
    },
    {
     "name": "stdout",
     "output_type": "stream",
     "text": [
      "Internal Rate of Return (IRR): 17.80%\n"
     ]
    }
   ],
   "source": [
    "import numpy as np\n",
    "import matplotlib.pyplot as plt\n",
    "\n",
    "# Define cash flows\n",
    "cash_flows = [-1000, 500, 400, 300, 200]\n",
    "\n",
    "def npv(cash_flows, discount_rate):\n",
    "    \"\"\"Calculate Net Present Value\"\"\"\n",
    "    return sum(cf / (1 + discount_rate) ** t for t, cf in enumerate(cash_flows))\n",
    "\n",
    "def irr(cash_flows, precision=0.0001, max_iterations=1000):\n",
    "    \"\"\"Calculate Internal Rate of Return using Newton-Raphson method\"\"\"\n",
    "    if not cash_flows or sum(1 for cf in cash_flows if cf < 0) == 0:\n",
    "        return None\n",
    "    \n",
    "    def npv_derivative(rate):\n",
    "        \"\"\"Calculate derivative of NPV with respect to rate\"\"\"\n",
    "        return sum(-t * cf / (1 + rate) ** (t + 1) for t, cf in enumerate(cash_flows) if t > 0)\n",
    "    \n",
    "    # Initial guess for IRR\n",
    "    rate = 0.1\n",
    "    for _ in range(max_iterations):\n",
    "        npv_val = npv(cash_flows, rate)\n",
    "        if abs(npv_val) < precision:\n",
    "            return rate\n",
    "        \n",
    "        deriv = npv_derivative(rate)\n",
    "        if abs(deriv) < 1e-10:  # Prevent division by near-zero\n",
    "            return None\n",
    "            \n",
    "        # Newton-Raphson update\n",
    "        new_rate = rate - npv_val / deriv\n",
    "        if abs(new_rate - rate) < precision:\n",
    "            return new_rate\n",
    "        rate = new_rate\n",
    "    \n",
    "    return None  # Return None if no convergence\n",
    "\n",
    "# Range of discount rates\n",
    "discount_rates = np.linspace(0, 0.30, 100)  # 0% to 30%\n",
    "\n",
    "# Calculate NPV for each rate\n",
    "npv_values = [npv(cash_flows, r) for r in discount_rates]\n",
    "\n",
    "# Find IRR\n",
    "irr_rate = irr(cash_flows)\n",
    "\n",
    "# Plot\n",
    "plt.figure(figsize=(10, 6))\n",
    "plt.plot(discount_rates * 100, npv_values, label='NPV Profile', color='blue')\n",
    "plt.axhline(0, color='red', linestyle='--', label='NPV = 0')\n",
    "if irr_rate is not None:\n",
    "    plt.axvline(irr_rate * 100, color='green', linestyle=':', label=f'IRR = {irr_rate:.2%}')\n",
    "\n",
    "plt.title('NPV Profile with IRR')\n",
    "plt.xlabel('Discount Rate (%)')\n",
    "plt.ylabel('Net Present Value (NPV)')\n",
    "plt.legend()\n",
    "plt.grid(True, alpha=0.3)\n",
    "plt.tight_layout()\n",
    "plt.show()\n",
    "\n",
    "# Print IRR for reference\n",
    "print(f\"Internal Rate of Return (IRR): {irr_rate:.2%}\" if irr_rate is not None else \"IRR: Not found\")"
   ]
  },
  {
   "cell_type": "markdown",
   "metadata": {},
   "source": [
    "### Handling Multiple IRRs\n",
    "\n",
    "Some cash flows (e.g., with multiple outflows) can have **multiple IRRs**. Example: Project with cash flows `[-100, 200, -150]` → Sign changes twice → possibly two IRRs"
   ]
  },
  {
   "cell_type": "code",
   "execution_count": 14,
   "metadata": {},
   "outputs": [
    {
     "name": "stdout",
     "output_type": "stream",
     "text": [
      "No unique IRR found\n"
     ]
    }
   ],
   "source": [
    "import numpy as np\n",
    "\n",
    "# Define irregular cash flows\n",
    "cash_flows_irregular = [-100, 200, -150]\n",
    "\n",
    "def irr(cash_flows, precision=0.0001, max_iterations=1000):\n",
    "    \"\"\"Calculate Internal Rate of Return using Newton-Raphson method\"\"\"\n",
    "    if not cash_flows or sum(1 for cf in cash_flows if cf < 0) == 0:\n",
    "        return None\n",
    "    \n",
    "    def npv(rate):\n",
    "        \"\"\"Calculate Net Present Value\"\"\"\n",
    "        return sum(cf / (1 + rate) ** t for t, cf in enumerate(cash_flows))\n",
    "    \n",
    "    def npv_derivative(rate):\n",
    "        \"\"\"Calculate derivative of NPV with respect to rate\"\"\"\n",
    "        return sum(-t * cf / (1 + rate) ** (t + 1) for t, cf in enumerate(cash_flows) if t > 0)\n",
    "    \n",
    "    # Try multiple initial guesses to check for multiple roots\n",
    "    initial_guesses = [0.1, -0.5, 0.5]\n",
    "    valid_irrs = []\n",
    "    \n",
    "    for rate in initial_guesses:\n",
    "        current_rate = rate\n",
    "        for _ in range(max_iterations):\n",
    "            npv_val = npv(current_rate)\n",
    "            if abs(npv_val) < precision:\n",
    "                # Round to avoid floating-point duplicates\n",
    "                rounded_rate = round(current_rate, 8)\n",
    "                if rounded_rate not in valid_irrs:\n",
    "                    valid_irrs.append(rounded_rate)\n",
    "                break\n",
    "                \n",
    "            deriv = npv_derivative(current_rate)\n",
    "            if abs(deriv) < 1e-10:  # Prevent division by near-zero\n",
    "                break\n",
    "                \n",
    "            # Newton-Raphson update\n",
    "            new_rate = current_rate - npv_val / deriv\n",
    "            if abs(new_rate - current_rate) < precision:\n",
    "                rounded_rate = round(new_rate, 8)\n",
    "                if rounded_rate not in valid_irrs:\n",
    "                    valid_irrs.append(rounded_rate)\n",
    "                break\n",
    "            current_rate = new_rate\n",
    "    \n",
    "    # Return single IRR if unique, None if none or multiple\n",
    "    return valid_irrs[0] if len(valid_irrs) == 1 else None\n",
    "\n",
    "# Calculate IRR with error handling\n",
    "try:\n",
    "    irr_bad = irr(cash_flows_irregular)\n",
    "    if irr_bad is not None:\n",
    "        print(f\"IRR: {irr_bad:.2%}\")\n",
    "    else:\n",
    "        print(\"No unique IRR found\")\n",
    "except:\n",
    "    print(\"No unique IRR found\")"
   ]
  },
  {
   "cell_type": "markdown",
   "metadata": {},
   "source": [
    "#### **`numpy-financial`** is a **lightweight, official NumPy add-on** for personal finance and investment analysis."
   ]
  },
  {
   "cell_type": "code",
   "execution_count": 32,
   "metadata": {
    "colab": {
     "base_uri": "https://localhost:8080/"
    },
    "executionInfo": {
     "elapsed": 4459,
     "status": "ok",
     "timestamp": 1727508875643,
     "user": {
      "displayName": "wb ncnufin113",
      "userId": "14113034630541117709"
     },
     "user_tz": -480
    },
    "id": "yQPwKn6i2C40",
    "outputId": "5c9d3c42-ecec-4a23-aaf8-1631d6297210"
   },
   "outputs": [
    {
     "name": "stdout",
     "output_type": "stream",
     "text": [
      "Requirement already satisfied: numpy_financial in c:\\users\\user\\appdata\\local\\programs\\python\\python311\\lib\\site-packages (1.0.0)\n",
      "Requirement already satisfied: numpy>=1.15 in c:\\users\\user\\appdata\\local\\programs\\python\\python311\\lib\\site-packages (from numpy_financial) (1.24.3)\n",
      "Note: you may need to restart the kernel to use updated packages.\n"
     ]
    },
    {
     "name": "stderr",
     "output_type": "stream",
     "text": [
      "DEPRECATION: Loading egg at c:\\users\\user\\appdata\\roaming\\python\\python311\\site-packages\\scikit_roughsets-1.0-py3.11.egg is deprecated. pip 24.3 will enforce this behaviour change. A possible replacement is to use pip for package installation.. Discussion can be found at https://github.com/pypa/pip/issues/12330\n",
      "\n",
      "[notice] A new release of pip is available: 24.0 -> 24.3.1\n",
      "[notice] To update, run: python.exe -m pip install --upgrade pip\n"
     ]
    }
   ],
   "source": [
    "pip install numpy_financial"
   ]
  },
  {
   "cell_type": "code",
   "execution_count": 15,
   "metadata": {},
   "outputs": [
    {
     "name": "stdout",
     "output_type": "stream",
     "text": [
      "NPV: $480.33\n",
      "IRR: 25.75%\n",
      "Present Value: $4,212.36\n",
      "Future Value: $19,671.51\n",
      "Monthly Payment: $-1,610.46\n",
      "Years needed: 36.8\n",
      "Annual Interest Rate: 5.06%\n",
      "Modified IRR: 20.77%\n"
     ]
    }
   ],
   "source": [
    "import numpy as np\n",
    "import numpy_financial as npf  # Commonly aliased as npf\n",
    "\n",
    "# Net Present Value\n",
    "# Cash flows: initial investment + future returns\n",
    "cash_flows = [-1000, 300, 350, 400, 450, 500]\n",
    "discount_rate = 0.10  # 10%\n",
    "\n",
    "npv_value = npf.npv(rate=discount_rate, values=cash_flows)\n",
    "print(f\"NPV: ${npv_value:,.2f}\")\n",
    "\n",
    "# Internal Rate of Return (npf.irr)\n",
    "irr_value = npf.irr(cash_flows)\n",
    "print(f\"IRR: {irr_value:.2%}\")\n",
    "\n",
    "# Present Value (npf.pv)\n",
    "# What is the PV of receiving $1,000 per year for 5 years at 6%?\n",
    "rate = 0.06\n",
    "nper = 5\n",
    "pmt = -1000  # Negative: inflow from your perspective as investor\n",
    "\n",
    "pv_value = npf.pv(rate=rate, nper=nper, pmt=pmt, fv=0)\n",
    "print(f\"Present Value: ${pv_value:,.2f}\")\n",
    "\n",
    "# Future Value (npf.fv)\n",
    "# How much will $10,000 grow in 10 years at 7% annually?\n",
    "pv = -10000  # Initial investment (outflow)\n",
    "rate = 0.07\n",
    "nper = 10\n",
    "pmt = 0      # No additional payments\n",
    "\n",
    "fv_value = npf.fv(rate=rate, nper=nper, pmt=pmt, pv=pv)\n",
    "print(f\"Future Value: ${fv_value:,.2f}\")\n",
    "\n",
    "# Loan Payment (npf.pmt)\n",
    "# Monthly payment on a $300,000 mortgage at 5% annual interest over 30 years?\n",
    "loan_amount = 300_000\n",
    "annual_rate = 0.05\n",
    "years = 30\n",
    "\n",
    "# Convert to monthly\n",
    "monthly_rate = annual_rate / 12\n",
    "months = years * 12\n",
    "\n",
    "payment = npf.pmt(rate=monthly_rate, nper=months, pv=loan_amount)\n",
    "print(f\"Monthly Payment: ${payment:,.2f}\")\n",
    "\n",
    "# Number of Periods (npf.nper)\n",
    "# How long to save $1 million if you invest $5,000/year at 8%?\n",
    "annual_investment = -5000\n",
    "rate = 0.08\n",
    "fv = 1_000_000\n",
    "pv = 0\n",
    "\n",
    "n_periods = npf.nper(rate=rate, pmt=annual_investment, pv=pv, fv=fv)\n",
    "print(f\"Years needed: {n_periods:.1f}\")\n",
    "\n",
    "# Interest Rate (npf.rate)\n",
    "# lend $10,000 and get $300/month for 36 months. What’s your return?\n",
    "nper = 36\n",
    "pmt = 300\n",
    "pv = -10000\n",
    "fv = 0\n",
    "\n",
    "monthly_rate = npf.rate(nper=nper, pmt=pmt, pv=pv, fv=fv)\n",
    "annual_rate = monthly_rate * 12\n",
    "print(f\"Annual Interest Rate: {annual_rate:.2%}\")\n",
    "\n",
    "# Modified IRR (npf.mirr)\n",
    "cash_flows = [-100, 200, -50]  # Multiple sign changes\n",
    "finance_rate = 0.05  # Cost of borrowing\n",
    "reinvest_rate = 0.06 # Reinvestment rate\n",
    "\n",
    "mirr_value = npf.mirr(cash_flows, finance_rate, reinvest_rate)\n",
    "print(f\"Modified IRR: {mirr_value:.2%}\")"
   ]
  },
  {
   "cell_type": "code",
   "execution_count": 16,
   "metadata": {
    "colab": {
     "base_uri": "https://localhost:8080/"
    },
    "executionInfo": {
     "elapsed": 335,
     "status": "ok",
     "timestamp": 1727508879980,
     "user": {
      "displayName": "wb ncnufin113",
      "userId": "14113034630541117709"
     },
     "user_tz": -480
    },
    "id": "KqGLB4kH2C40",
    "outputId": "3e4f7e9f-b20b-4c55-fcf9-3ec08e1fb32a"
   },
   "outputs": [
    {
     "name": "stdout",
     "output_type": "stream",
     "text": [
      "47.63\n"
     ]
    }
   ],
   "source": [
    "import numpy_financial as npf\n",
    "cashflows=[-100,50,60,70]\n",
    "rate=0.1\n",
    "npv=npf.npv(rate,cashflows)\n",
    "print(round(npv,2))\n",
    "# 47.62"
   ]
  },
  {
   "cell_type": "code",
   "execution_count": 17,
   "metadata": {
    "colab": {
     "base_uri": "https://localhost:8080/",
     "height": 430
    },
    "executionInfo": {
     "elapsed": 753,
     "status": "ok",
     "timestamp": 1727508883266,
     "user": {
      "displayName": "wb ncnufin113",
      "userId": "14113034630541117709"
     },
     "user_tz": -480
    },
    "id": "txjwEiEE2C40",
    "outputId": "1ebdb460-40b6-4654-a3b0-26d5ba61eece"
   },
   "outputs": [
    {
     "data": {
      "image/png": "[encoded data removed]",
      "text/plain": [
       "<Figure size 640x480 with 1 Axes>"
      ]
     },
     "metadata": {},
     "output_type": "display_data"
    }
   ],
   "source": [
    "import numpy_financial as npf\n",
    "import matplotlib.pyplot as plt\n",
    "cashflows=[-100,50,60,70]\n",
    "rate=[]\n",
    "npv=[]\n",
    "x=(0,0.7)\n",
    "y=(0,0)\n",
    "\n",
    "for i in range(1,70):\n",
    "    rate.append(0.01*i)\n",
    "    npv.append(npf.npv(0.01*i,cashflows))\n",
    "\n",
    "plt.plot(rate, npv)\n",
    "plt.plot(x,y)\n",
    "plt.show()"
   ]
  },
  {
   "cell_type": "code",
   "execution_count": 18,
   "metadata": {
    "colab": {
     "base_uri": "https://localhost:8080/",
     "height": 435
    },
    "executionInfo": {
     "elapsed": 792,
     "status": "ok",
     "timestamp": 1727508887274,
     "user": {
      "displayName": "wb ncnufin113",
      "userId": "14113034630541117709"
     },
     "user_tz": -480
    },
    "id": "UejX7rma2C40",
    "outputId": "eaf92662-a8a7-4ffb-d62f-115e14ace891"
   },
   "outputs": [
    {
     "data": {
      "image/png": "[encoded data removed]",
      "text/plain": [
       "<Figure size 640x480 with 1 Axes>"
      ]
     },
     "metadata": {},
     "output_type": "display_data"
    }
   ],
   "source": [
    "import numpy_financial as npf\n",
    "import matplotlib.pyplot as plt\n",
    "cashflows=[504,-432,-432,-432,832]\n",
    "rate=[]\n",
    "npv=[]\n",
    "x=[0,0.3]\n",
    "y=[0,0]\n",
    "for i in range(1,30):\n",
    "    rate.append(0.01*i)\n",
    "    npv.append(npf.npv(0.01*i,cashflows))\n",
    "\n",
    "plt.plot(x,y)\n",
    "plt.plot(rate,npv)\n",
    "plt.show()"
   ]
  }
 ],
 "metadata": {
  "colab": {
   "provenance": []
  },
  "kernelspec": {
   "display_name": "Python 3",
   "language": "python",
   "name": "python3"
  },
  "language_info": {
   "codemirror_mode": {
    "name": "ipython",
    "version": 3
   },
   "file_extension": ".py",
   "mimetype": "text/x-python",
   "name": "python",
   "nbconvert_exporter": "python",
   "pygments_lexer": "ipython3",
   "version": "3.12.7"
  }
 },
 "nbformat": 4,
 "nbformat_minor": 0
}
