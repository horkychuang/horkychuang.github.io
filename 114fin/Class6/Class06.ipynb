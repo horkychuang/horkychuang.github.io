{
 "cells": [
  {
   "cell_type": "markdown",
   "metadata": {},
   "source": [
    "## Pandas Library\n",
    "Pandas is a core tool for financial data processing, ideal for loading, cleaning, and analyzing data such as portfolio returns, market performance, and corporate financial statements."
   ]
  },
  {
   "cell_type": "code",
   "execution_count": 2,
   "metadata": {},
   "outputs": [],
   "source": [
    "import pandas as pd\n",
    "import numpy as np "
   ]
  },
  {
   "cell_type": "markdown",
   "metadata": {},
   "source": [
    "#### Data Import and Export"
   ]
  },
  {
   "cell_type": "code",
   "execution_count": null,
   "metadata": {},
   "outputs": [],
   "source": [
    "# Load portfolio return data\n",
    "df = pd.read_csv('portfolio_returns.csv')\n",
    "df.head(10)"
   ]
  },
  {
   "cell_type": "code",
   "execution_count": null,
   "metadata": {},
   "outputs": [],
   "source": [
    "# Export data to Excel format\n",
    "df.to_excel('portfolio_returns.xlsx')"
   ]
  },
  {
   "cell_type": "markdown",
   "metadata": {},
   "source": [
    "#### Basic Descriptive"
   ]
  },
  {
   "cell_type": "code",
   "execution_count": null,
   "metadata": {},
   "outputs": [],
   "source": [
    "df.head(8)        # View first 8 rows\n",
    "df.dtypes         # Check column data types\n",
    "df.info()         # Check data structure and missing values\n",
    "df.shape          # Check data dimensions"
   ]
  },
  {
   "cell_type": "markdown",
   "metadata": {},
   "source": [
    "#### Data Structures and Types"
   ]
  },
  {
   "cell_type": "code",
   "execution_count": null,
   "metadata": {},
   "outputs": [],
   "source": [
    "# One-dimensional series\n",
    "# # Create a return series\n",
    "returns_series = pd.Series([0.01, 0.02, -0.01, np.nan, 0.03, 0.05])\n",
    "returns_series"
   ]
  },
  {
   "cell_type": "code",
   "execution_count": null,
   "metadata": {},
   "outputs": [],
   "source": [
    "# Create a trading days series\n",
    "trading_days = pd.Series(np.arange(1, 20))\n",
    "trading_days"
   ]
  },
  {
   "cell_type": "code",
   "execution_count": null,
   "metadata": {},
   "outputs": [],
   "source": [
    "# # Create a market return series with index labels\n",
    "market_returns = pd.Series(np.random.normal(0, 0.01, 5), index=['Mon', 'Tue', 'Wed', 'Thu', 'Fri'])\n",
    "market_returns"
   ]
  },
  {
   "cell_type": "code",
   "execution_count": null,
   "metadata": {},
   "outputs": [],
   "source": [
    "market_returns.values    # Get return values\n",
    "market_returns.index     # Get trading days"
   ]
  },
  {
   "cell_type": "code",
   "execution_count": null,
   "metadata": {},
   "outputs": [],
   "source": [
    "market_returns['Thu']                    # Get return for a specific day\n",
    "market_returns['Mon':'Thu']              # Get returns over a date range"
   ]
  },
  {
   "cell_type": "code",
   "execution_count": null,
   "metadata": {},
   "outputs": [],
   "source": [
    "market_returns.to_numpy()[0:3]           # Convert to NumPy array and slice"
   ]
  },
  {
   "cell_type": "markdown",
   "metadata": {},
   "source": [
    "#### Creating a DataFrame"
   ]
  },
  {
   "cell_type": "code",
   "execution_count": 4,
   "metadata": {},
   "outputs": [],
   "source": [
    "# Set random seed\n",
    "rng = np.random.RandomState(25) "
   ]
  },
  {
   "cell_type": "code",
   "execution_count": null,
   "metadata": {},
   "outputs": [],
   "source": [
    "# 2 dimensional data structure\n",
    "# Create a market return matrix\n",
    "returns_df = pd.DataFrame(rng.normal(0, 0.01, (4, 5)))\n",
    "returns_df"
   ]
  },
  {
   "cell_type": "code",
   "execution_count": null,
   "metadata": {},
   "outputs": [],
   "source": [
    "# info()/ describe()/ shape()\n",
    "returns_df.head()           # View first few rows\n",
    "returns_df.shape            # Check dimensions\n",
    "returns_df.describe()       # Summary statistics"
   ]
  },
  {
   "cell_type": "code",
   "execution_count": 5,
   "metadata": {},
   "outputs": [
    {
     "data": {
      "text/html": [
       "<div>\n",
       "<style scoped>\n",
       "    .dataframe tbody tr th:only-of-type {\n",
       "        vertical-align: middle;\n",
       "    }\n",
       "\n",
       "    .dataframe tbody tr th {\n",
       "        vertical-align: top;\n",
       "    }\n",
       "\n",
       "    .dataframe thead th {\n",
       "        text-align: right;\n",
       "    }\n",
       "</style>\n",
       "<table border=\"1\" class=\"dataframe\">\n",
       "  <thead>\n",
       "    <tr style=\"text-align: right;\">\n",
       "      <th></th>\n",
       "      <th>TSMC</th>\n",
       "      <th>Hon Hai</th>\n",
       "      <th>MediaTek</th>\n",
       "      <th>Acer</th>\n",
       "      <th>Quanta</th>\n",
       "    </tr>\n",
       "  </thead>\n",
       "  <tbody>\n",
       "    <tr>\n",
       "      <th>2024-01-01</th>\n",
       "      <td>0.002283</td>\n",
       "      <td>0.010269</td>\n",
       "      <td>-0.008396</td>\n",
       "      <td>-0.005912</td>\n",
       "      <td>-0.009569</td>\n",
       "    </tr>\n",
       "    <tr>\n",
       "      <th>2024-01-02</th>\n",
       "      <td>-0.002223</td>\n",
       "      <td>-0.006199</td>\n",
       "      <td>0.018379</td>\n",
       "      <td>-0.020532</td>\n",
       "      <td>0.008686</td>\n",
       "    </tr>\n",
       "    <tr>\n",
       "      <th>2024-01-03</th>\n",
       "      <td>-0.009207</td>\n",
       "      <td>-0.002323</td>\n",
       "      <td>0.021530</td>\n",
       "      <td>-0.013347</td>\n",
       "      <td>0.000764</td>\n",
       "    </tr>\n",
       "    <tr>\n",
       "      <th>2024-01-04</th>\n",
       "      <td>-0.012461</td>\n",
       "      <td>0.012023</td>\n",
       "      <td>-0.010499</td>\n",
       "      <td>0.010566</td>\n",
       "      <td>-0.004197</td>\n",
       "    </tr>\n",
       "  </tbody>\n",
       "</table>\n",
       "</div>"
      ],
      "text/plain": [
       "                TSMC   Hon Hai  MediaTek      Acer    Quanta\n",
       "2024-01-01  0.002283  0.010269 -0.008396 -0.005912 -0.009569\n",
       "2024-01-02 -0.002223 -0.006199  0.018379 -0.020532  0.008686\n",
       "2024-01-03 -0.009207 -0.002323  0.021530 -0.013347  0.000764\n",
       "2024-01-04 -0.012461  0.012023 -0.010499  0.010566 -0.004197"
      ]
     },
     "execution_count": 5,
     "metadata": {},
     "output_type": "execute_result"
    }
   ],
   "source": [
    "# Create a labeled return DataFrame with custom columns and index\n",
    "returns_labeled = pd.DataFrame(rng.normal(0, 0.01, (4, 5)),\n",
    "                               columns=['TSMC', 'Hon Hai', 'MediaTek', 'Acer', 'Quanta'],\n",
    "                               index=['2024-01-01', '2024-01-02', '2024-01-03', '2024-01-04'])\n",
    "returns_labeled"
   ]
  },
  {
   "cell_type": "code",
   "execution_count": 6,
   "metadata": {},
   "outputs": [
    {
     "data": {
      "text/plain": [
       "Index(['2024-01-01', '2024-01-02', '2024-01-03', '2024-01-04'], dtype='object')"
      ]
     },
     "execution_count": 6,
     "metadata": {},
     "output_type": "execute_result"
    }
   ],
   "source": [
    "returns_labeled.columns     # Column names\n",
    "returns_labeled.index       # Index (dates)"
   ]
  },
  {
   "cell_type": "code",
   "execution_count": 7,
   "metadata": {},
   "outputs": [
    {
     "data": {
      "text/html": [
       "<div>\n",
       "<style scoped>\n",
       "    .dataframe tbody tr th:only-of-type {\n",
       "        vertical-align: middle;\n",
       "    }\n",
       "\n",
       "    .dataframe tbody tr th {\n",
       "        vertical-align: top;\n",
       "    }\n",
       "\n",
       "    .dataframe thead th {\n",
       "        text-align: right;\n",
       "    }\n",
       "</style>\n",
       "<table border=\"1\" class=\"dataframe\">\n",
       "  <thead>\n",
       "    <tr style=\"text-align: right;\">\n",
       "      <th></th>\n",
       "      <th>A</th>\n",
       "      <th>B</th>\n",
       "      <th>C</th>\n",
       "      <th>D</th>\n",
       "      <th>E</th>\n",
       "      <th>F</th>\n",
       "    </tr>\n",
       "  </thead>\n",
       "  <tbody>\n",
       "    <tr>\n",
       "      <th>0</th>\n",
       "      <td>3.0</td>\n",
       "      <td>0.481343</td>\n",
       "      <td>2024-01-01</td>\n",
       "      <td>0.6</td>\n",
       "      <td>yes</td>\n",
       "      <td>Portfolio A</td>\n",
       "    </tr>\n",
       "    <tr>\n",
       "      <th>1</th>\n",
       "      <td>3.0</td>\n",
       "      <td>0.516502</td>\n",
       "      <td>2024-01-01</td>\n",
       "      <td>0.6</td>\n",
       "      <td>no</td>\n",
       "      <td>Portfolio A</td>\n",
       "    </tr>\n",
       "    <tr>\n",
       "      <th>2</th>\n",
       "      <td>3.0</td>\n",
       "      <td>0.383048</td>\n",
       "      <td>2024-01-01</td>\n",
       "      <td>0.6</td>\n",
       "      <td>no</td>\n",
       "      <td>Portfolio A</td>\n",
       "    </tr>\n",
       "    <tr>\n",
       "      <th>3</th>\n",
       "      <td>3.0</td>\n",
       "      <td>0.997541</td>\n",
       "      <td>2024-01-01</td>\n",
       "      <td>0.6</td>\n",
       "      <td>yes</td>\n",
       "      <td>Portfolio A</td>\n",
       "    </tr>\n",
       "    <tr>\n",
       "      <th>4</th>\n",
       "      <td>3.0</td>\n",
       "      <td>0.514244</td>\n",
       "      <td>2024-01-01</td>\n",
       "      <td>0.6</td>\n",
       "      <td>no</td>\n",
       "      <td>Portfolio A</td>\n",
       "    </tr>\n",
       "  </tbody>\n",
       "</table>\n",
       "</div>"
      ],
      "text/plain": [
       "     A         B          C    D    E            F\n",
       "0  3.0  0.481343 2024-01-01  0.6  yes  Portfolio A\n",
       "1  3.0  0.516502 2024-01-01  0.6   no  Portfolio A\n",
       "2  3.0  0.383048 2024-01-01  0.6   no  Portfolio A\n",
       "3  3.0  0.997541 2024-01-01  0.6  yes  Portfolio A\n",
       "4  3.0  0.514244 2024-01-01  0.6   no  Portfolio A"
      ]
     },
     "execution_count": 7,
     "metadata": {},
     "output_type": "execute_result"
    }
   ],
   "source": [
    "# # Create portfolio data\n",
    "portfolio_df = pd.DataFrame({\n",
    "    'A': 3.,  # Fixed investment ratio\n",
    "    'B': rng.random_sample(5),  # Random returns\n",
    "    'C': pd.Timestamp('2024-01-01'),  # Investment start date\n",
    "    'D': np.array([0.6] * 5),  # Investment weights\n",
    "    'E': pd.Categorical(['yes', 'no', 'no', 'yes', 'no']),  # Invest or not\n",
    "    'F': 'Portfolio A'  # Portfolio name\n",
    "})\n",
    "portfolio_df"
   ]
  },
  {
   "cell_type": "code",
   "execution_count": 8,
   "metadata": {},
   "outputs": [],
   "source": [
    "# Create investor data\n",
    "investor_df = pd.DataFrame({'Name': ['Alice', 'Bob', 'Charlie'],\n",
    "                            'Age': [25, 30, 35],\n",
    "                            'Investment': [100000, 150000, 200000]\n",
    "                            })"
   ]
  },
  {
   "cell_type": "code",
   "execution_count": 9,
   "metadata": {},
   "outputs": [
    {
     "data": {
      "text/html": [
       "<div>\n",
       "<style scoped>\n",
       "    .dataframe tbody tr th:only-of-type {\n",
       "        vertical-align: middle;\n",
       "    }\n",
       "\n",
       "    .dataframe tbody tr th {\n",
       "        vertical-align: top;\n",
       "    }\n",
       "\n",
       "    .dataframe thead th {\n",
       "        text-align: right;\n",
       "    }\n",
       "</style>\n",
       "<table border=\"1\" class=\"dataframe\">\n",
       "  <thead>\n",
       "    <tr style=\"text-align: right;\">\n",
       "      <th></th>\n",
       "      <th>Age</th>\n",
       "      <th>Investment</th>\n",
       "    </tr>\n",
       "    <tr>\n",
       "      <th>Name</th>\n",
       "      <th></th>\n",
       "      <th></th>\n",
       "    </tr>\n",
       "  </thead>\n",
       "  <tbody>\n",
       "    <tr>\n",
       "      <th>Alice</th>\n",
       "      <td>25</td>\n",
       "      <td>100000</td>\n",
       "    </tr>\n",
       "    <tr>\n",
       "      <th>Bob</th>\n",
       "      <td>30</td>\n",
       "      <td>150000</td>\n",
       "    </tr>\n",
       "    <tr>\n",
       "      <th>Charlie</th>\n",
       "      <td>35</td>\n",
       "      <td>200000</td>\n",
       "    </tr>\n",
       "  </tbody>\n",
       "</table>\n",
       "</div>"
      ],
      "text/plain": [
       "         Age  Investment\n",
       "Name                    \n",
       "Alice     25      100000\n",
       "Bob       30      150000\n",
       "Charlie   35      200000"
      ]
     },
     "execution_count": 9,
     "metadata": {},
     "output_type": "execute_result"
    }
   ],
   "source": [
    "# Set investor name as index\n",
    "investor_df = investor_df.set_index('Name')\n",
    "investor_df"
   ]
  },
  {
   "cell_type": "markdown",
   "metadata": {},
   "source": [
    "#### Slicing"
   ]
  },
  {
   "cell_type": "code",
   "execution_count": 10,
   "metadata": {},
   "outputs": [
    {
     "data": {
      "text/html": [
       "<div>\n",
       "<style scoped>\n",
       "    .dataframe tbody tr th:only-of-type {\n",
       "        vertical-align: middle;\n",
       "    }\n",
       "\n",
       "    .dataframe tbody tr th {\n",
       "        vertical-align: top;\n",
       "    }\n",
       "\n",
       "    .dataframe thead th {\n",
       "        text-align: right;\n",
       "    }\n",
       "</style>\n",
       "<table border=\"1\" class=\"dataframe\">\n",
       "  <thead>\n",
       "    <tr style=\"text-align: right;\">\n",
       "      <th></th>\n",
       "      <th>Stock</th>\n",
       "      <th>Bond</th>\n",
       "      <th>Real Estate</th>\n",
       "      <th>Commodity</th>\n",
       "    </tr>\n",
       "  </thead>\n",
       "  <tbody>\n",
       "    <tr>\n",
       "      <th>a</th>\n",
       "      <td>2</td>\n",
       "      <td>4</td>\n",
       "      <td>2</td>\n",
       "      <td>5</td>\n",
       "    </tr>\n",
       "    <tr>\n",
       "      <th>b</th>\n",
       "      <td>8</td>\n",
       "      <td>0</td>\n",
       "      <td>6</td>\n",
       "      <td>4</td>\n",
       "    </tr>\n",
       "    <tr>\n",
       "      <th>c</th>\n",
       "      <td>2</td>\n",
       "      <td>5</td>\n",
       "      <td>9</td>\n",
       "      <td>9</td>\n",
       "    </tr>\n",
       "    <tr>\n",
       "      <th>d</th>\n",
       "      <td>6</td>\n",
       "      <td>0</td>\n",
       "      <td>2</td>\n",
       "      <td>4</td>\n",
       "    </tr>\n",
       "    <tr>\n",
       "      <th>e</th>\n",
       "      <td>3</td>\n",
       "      <td>1</td>\n",
       "      <td>3</td>\n",
       "      <td>5</td>\n",
       "    </tr>\n",
       "  </tbody>\n",
       "</table>\n",
       "</div>"
      ],
      "text/plain": [
       "   Stock  Bond  Real Estate  Commodity\n",
       "a      2     4            2          5\n",
       "b      8     0            6          4\n",
       "c      2     5            9          9\n",
       "d      6     0            2          4\n",
       "e      3     1            3          5"
      ]
     },
     "execution_count": 10,
     "metadata": {},
     "output_type": "execute_result"
    }
   ],
   "source": [
    "# Create a return matrix\n",
    "returns_matrix = pd.DataFrame(rng.randint(0, 10, (5,4)),\n",
    "                              index=['a','b','c','d','e'],\n",
    "                              columns=['Stock', 'Bond', 'Real Estate', 'Commodity'])\n",
    "returns_matrix"
   ]
  },
  {
   "cell_type": "markdown",
   "metadata": {},
   "source": [
    "##### Columns"
   ]
  },
  {
   "cell_type": "code",
   "execution_count": null,
   "metadata": {},
   "outputs": [],
   "source": [
    "returns_matrix['Stock']                          # Get stock returns\n",
    "returns_matrix.Bond['b']                         # Get bond return for a specific date\n",
    "returns_matrix.Bond['b':'d']                     # Get bond returns over a period\n",
    "# returns_matrix.Stock"
   ]
  },
  {
   "cell_type": "markdown",
   "metadata": {},
   "source": [
    "##### ROWS"
   ]
  },
  {
   "cell_type": "code",
   "execution_count": null,
   "metadata": {},
   "outputs": [],
   "source": [
    "# # Use loc to get range of asset returns\n",
    "returns_matrix.loc[:, 'Stock':'Real Estate']"
   ]
  },
  {
   "cell_type": "code",
   "execution_count": null,
   "metadata": {},
   "outputs": [],
   "source": [
    "# Use loc to get returns for specific dates\n",
    "returns_matrix.loc['a':'d', :]"
   ]
  },
  {
   "cell_type": "code",
   "execution_count": null,
   "metadata": {},
   "outputs": [],
   "source": [
    "# # Use iloc for positional slicing\n",
    "returns_matrix.iloc[:, 1:4]\n",
    "returns_matrix.iloc[1:3, 1:4]"
   ]
  },
  {
   "cell_type": "markdown",
   "metadata": {},
   "source": [
    "##### Boolean selection"
   ]
  },
  {
   "cell_type": "code",
   "execution_count": 11,
   "metadata": {},
   "outputs": [
    {
     "data": {
      "text/html": [
       "<div>\n",
       "<style scoped>\n",
       "    .dataframe tbody tr th:only-of-type {\n",
       "        vertical-align: middle;\n",
       "    }\n",
       "\n",
       "    .dataframe tbody tr th {\n",
       "        vertical-align: top;\n",
       "    }\n",
       "\n",
       "    .dataframe thead th {\n",
       "        text-align: right;\n",
       "    }\n",
       "</style>\n",
       "<table border=\"1\" class=\"dataframe\">\n",
       "  <thead>\n",
       "    <tr style=\"text-align: right;\">\n",
       "      <th></th>\n",
       "      <th>Stock</th>\n",
       "      <th>Bond</th>\n",
       "      <th>Real Estate</th>\n",
       "      <th>Commodity</th>\n",
       "    </tr>\n",
       "  </thead>\n",
       "  <tbody>\n",
       "    <tr>\n",
       "      <th>a</th>\n",
       "      <td>2</td>\n",
       "      <td>4</td>\n",
       "      <td>2</td>\n",
       "      <td>5</td>\n",
       "    </tr>\n",
       "    <tr>\n",
       "      <th>b</th>\n",
       "      <td>8</td>\n",
       "      <td>0</td>\n",
       "      <td>6</td>\n",
       "      <td>4</td>\n",
       "    </tr>\n",
       "    <tr>\n",
       "      <th>c</th>\n",
       "      <td>2</td>\n",
       "      <td>5</td>\n",
       "      <td>9</td>\n",
       "      <td>9</td>\n",
       "    </tr>\n",
       "    <tr>\n",
       "      <th>d</th>\n",
       "      <td>6</td>\n",
       "      <td>0</td>\n",
       "      <td>2</td>\n",
       "      <td>4</td>\n",
       "    </tr>\n",
       "    <tr>\n",
       "      <th>e</th>\n",
       "      <td>3</td>\n",
       "      <td>1</td>\n",
       "      <td>3</td>\n",
       "      <td>5</td>\n",
       "    </tr>\n",
       "  </tbody>\n",
       "</table>\n",
       "</div>"
      ],
      "text/plain": [
       "   Stock  Bond  Real Estate  Commodity\n",
       "a      2     4            2          5\n",
       "b      8     0            6          4\n",
       "c      2     5            9          9\n",
       "d      6     0            2          4\n",
       "e      3     1            3          5"
      ]
     },
     "execution_count": 11,
     "metadata": {},
     "output_type": "execute_result"
    }
   ],
   "source": [
    "returns_matrix"
   ]
  },
  {
   "cell_type": "code",
   "execution_count": null,
   "metadata": {},
   "outputs": [],
   "source": [
    "# Filter days where stock return > 3\n",
    "returns_matrix[returns_matrix.Stock > 3]"
   ]
  },
  {
   "cell_type": "code",
   "execution_count": null,
   "metadata": {},
   "outputs": [],
   "source": [
    "# Filter where stock > 3 and real estate < 9\n",
    "returns_matrix[(returns_matrix.Stock > 3) & (returns_matrix['Real Estate'] < 9)]"
   ]
  },
  {
   "cell_type": "markdown",
   "metadata": {},
   "source": [
    "#### Replacing values"
   ]
  },
  {
   "cell_type": "code",
   "execution_count": null,
   "metadata": {},
   "outputs": [],
   "source": [
    "# Replace stock returns\n",
    "returns_matrix['Stock'] = [2, 5, 2, 5, 2]\n",
    "returns_matrix"
   ]
  },
  {
   "cell_type": "markdown",
   "metadata": {},
   "source": [
    "#### Categorical Data"
   ]
  },
  {
   "cell_type": "code",
   "execution_count": null,
   "metadata": {},
   "outputs": [],
   "source": [
    "# Create investment decision category\n",
    "investment_decision = pd.Series(['buy', 'hold', 'sell'], dtype='category')\n",
    "investment_decision"
   ]
  },
  {
   "cell_type": "code",
   "execution_count": null,
   "metadata": {},
   "outputs": [],
   "source": [
    "# Create a financial-style DataFrame\n",
    "df = pd.DataFrame({ \n",
    "    'A': 3.,                                  # Risk-free rate or fixed fee (broadcasted)\n",
    "    'B': rng.random_sample(5),                # Random returns or signals (5 values)\n",
    "    'C': pd.Timestamp('20200512'),            # As-of date for the data\n",
    "    'D': np.array([6] * 5),                   # Position size, weight, or exposure\n",
    "    'E': pd.Categorical(['yes', 'no', 'no', 'yes', 'no']),  # Investment active? (flag)\n",
    "    'F': 'NIH'                                # Fund name or strategy label (broadcasted)\n",
    "})\n",
    "df['F'].astype('category') "
   ]
  },
  {
   "cell_type": "markdown",
   "metadata": {},
   "source": [
    "#### Missing Data"
   ]
  },
  {
   "cell_type": "code",
   "execution_count": 12,
   "metadata": {},
   "outputs": [
    {
     "data": {
      "text/html": [
       "<div>\n",
       "<style scoped>\n",
       "    .dataframe tbody tr th:only-of-type {\n",
       "        vertical-align: middle;\n",
       "    }\n",
       "\n",
       "    .dataframe tbody tr th {\n",
       "        vertical-align: top;\n",
       "    }\n",
       "\n",
       "    .dataframe thead th {\n",
       "        text-align: right;\n",
       "    }\n",
       "</style>\n",
       "<table border=\"1\" class=\"dataframe\">\n",
       "  <thead>\n",
       "    <tr style=\"text-align: right;\">\n",
       "      <th></th>\n",
       "      <th>Technology</th>\n",
       "      <th>Finance</th>\n",
       "      <th>Manufacturing</th>\n",
       "      <th>Utilities</th>\n",
       "      <th>ETF</th>\n",
       "    </tr>\n",
       "  </thead>\n",
       "  <tbody>\n",
       "    <tr>\n",
       "      <th>a</th>\n",
       "      <td>0.850742</td>\n",
       "      <td>-1.948897</td>\n",
       "      <td>-0.457377</td>\n",
       "      <td>20</td>\n",
       "      <td>True</td>\n",
       "    </tr>\n",
       "    <tr>\n",
       "      <th>c</th>\n",
       "      <td>-1.041587</td>\n",
       "      <td>-0.196668</td>\n",
       "      <td>0.782574</td>\n",
       "      <td>20</td>\n",
       "      <td>False</td>\n",
       "    </tr>\n",
       "    <tr>\n",
       "      <th>e</th>\n",
       "      <td>0.285086</td>\n",
       "      <td>-0.769681</td>\n",
       "      <td>-0.324873</td>\n",
       "      <td>20</td>\n",
       "      <td>True</td>\n",
       "    </tr>\n",
       "    <tr>\n",
       "      <th>f</th>\n",
       "      <td>-0.395497</td>\n",
       "      <td>1.688461</td>\n",
       "      <td>-0.513787</td>\n",
       "      <td>20</td>\n",
       "      <td>False</td>\n",
       "    </tr>\n",
       "    <tr>\n",
       "      <th>g</th>\n",
       "      <td>-0.720614</td>\n",
       "      <td>-0.545538</td>\n",
       "      <td>1.548855</td>\n",
       "      <td>20</td>\n",
       "      <td>False</td>\n",
       "    </tr>\n",
       "  </tbody>\n",
       "</table>\n",
       "</div>"
      ],
      "text/plain": [
       "   Technology   Finance  Manufacturing  Utilities    ETF\n",
       "a    0.850742 -1.948897      -0.457377         20   True\n",
       "c   -1.041587 -0.196668       0.782574         20  False\n",
       "e    0.285086 -0.769681      -0.324873         20   True\n",
       "f   -0.395497  1.688461      -0.513787         20  False\n",
       "g   -0.720614 -0.545538       1.548855         20  False"
      ]
     },
     "execution_count": 12,
     "metadata": {},
     "output_type": "execute_result"
    }
   ],
   "source": [
    "# Create market data (with missing values)\n",
    "market_data = pd.DataFrame(np.random.randn(5, 3),\n",
    "                           index=['a','c','e','f','g'],\n",
    "                           columns=['Technology', 'Finance', 'Manufacturing'])\n",
    "\n",
    "# Add new columns\n",
    "market_data['Utilities'] = 20\n",
    "market_data['ETF'] = market_data['Technology'] > 0\n",
    "market_data"
   ]
  },
  {
   "cell_type": "code",
   "execution_count": 13,
   "metadata": {},
   "outputs": [
    {
     "name": "stderr",
     "output_type": "stream",
     "text": [
      "C:\\Users\\user\\AppData\\Local\\Temp\\ipykernel_4824\\3081518625.py:3: FutureWarning: Styler.applymap has been deprecated. Use Styler.map instead.\n",
      "  market_data_missing.style.applymap(lambda x: 'background-color:yellow', subset=pd.IndexSlice[['b','d'], :])\n"
     ]
    },
    {
     "data": {
      "text/html": [
       "<style type=\"text/css\">\n",
       "#T_449e9_row1_col0, #T_449e9_row1_col1, #T_449e9_row1_col2, #T_449e9_row1_col3, #T_449e9_row1_col4, #T_449e9_row3_col0, #T_449e9_row3_col1, #T_449e9_row3_col2, #T_449e9_row3_col3, #T_449e9_row3_col4 {\n",
       "  background-color: yellow;\n",
       "}\n",
       "</style>\n",
       "<table id=\"T_449e9\">\n",
       "  <thead>\n",
       "    <tr>\n",
       "      <th class=\"blank level0\" >&nbsp;</th>\n",
       "      <th id=\"T_449e9_level0_col0\" class=\"col_heading level0 col0\" >Technology</th>\n",
       "      <th id=\"T_449e9_level0_col1\" class=\"col_heading level0 col1\" >Finance</th>\n",
       "      <th id=\"T_449e9_level0_col2\" class=\"col_heading level0 col2\" >Manufacturing</th>\n",
       "      <th id=\"T_449e9_level0_col3\" class=\"col_heading level0 col3\" >Utilities</th>\n",
       "      <th id=\"T_449e9_level0_col4\" class=\"col_heading level0 col4\" >ETF</th>\n",
       "    </tr>\n",
       "  </thead>\n",
       "  <tbody>\n",
       "    <tr>\n",
       "      <th id=\"T_449e9_level0_row0\" class=\"row_heading level0 row0\" >a</th>\n",
       "      <td id=\"T_449e9_row0_col0\" class=\"data row0 col0\" >0.850742</td>\n",
       "      <td id=\"T_449e9_row0_col1\" class=\"data row0 col1\" >-1.948897</td>\n",
       "      <td id=\"T_449e9_row0_col2\" class=\"data row0 col2\" >-0.457377</td>\n",
       "      <td id=\"T_449e9_row0_col3\" class=\"data row0 col3\" >20.000000</td>\n",
       "      <td id=\"T_449e9_row0_col4\" class=\"data row0 col4\" >True</td>\n",
       "    </tr>\n",
       "    <tr>\n",
       "      <th id=\"T_449e9_level0_row1\" class=\"row_heading level0 row1\" >b</th>\n",
       "      <td id=\"T_449e9_row1_col0\" class=\"data row1 col0\" >nan</td>\n",
       "      <td id=\"T_449e9_row1_col1\" class=\"data row1 col1\" >nan</td>\n",
       "      <td id=\"T_449e9_row1_col2\" class=\"data row1 col2\" >nan</td>\n",
       "      <td id=\"T_449e9_row1_col3\" class=\"data row1 col3\" >nan</td>\n",
       "      <td id=\"T_449e9_row1_col4\" class=\"data row1 col4\" >nan</td>\n",
       "    </tr>\n",
       "    <tr>\n",
       "      <th id=\"T_449e9_level0_row2\" class=\"row_heading level0 row2\" >c</th>\n",
       "      <td id=\"T_449e9_row2_col0\" class=\"data row2 col0\" >-1.041587</td>\n",
       "      <td id=\"T_449e9_row2_col1\" class=\"data row2 col1\" >-0.196668</td>\n",
       "      <td id=\"T_449e9_row2_col2\" class=\"data row2 col2\" >0.782574</td>\n",
       "      <td id=\"T_449e9_row2_col3\" class=\"data row2 col3\" >20.000000</td>\n",
       "      <td id=\"T_449e9_row2_col4\" class=\"data row2 col4\" >False</td>\n",
       "    </tr>\n",
       "    <tr>\n",
       "      <th id=\"T_449e9_level0_row3\" class=\"row_heading level0 row3\" >d</th>\n",
       "      <td id=\"T_449e9_row3_col0\" class=\"data row3 col0\" >nan</td>\n",
       "      <td id=\"T_449e9_row3_col1\" class=\"data row3 col1\" >nan</td>\n",
       "      <td id=\"T_449e9_row3_col2\" class=\"data row3 col2\" >nan</td>\n",
       "      <td id=\"T_449e9_row3_col3\" class=\"data row3 col3\" >nan</td>\n",
       "      <td id=\"T_449e9_row3_col4\" class=\"data row3 col4\" >nan</td>\n",
       "    </tr>\n",
       "    <tr>\n",
       "      <th id=\"T_449e9_level0_row4\" class=\"row_heading level0 row4\" >e</th>\n",
       "      <td id=\"T_449e9_row4_col0\" class=\"data row4 col0\" >0.285086</td>\n",
       "      <td id=\"T_449e9_row4_col1\" class=\"data row4 col1\" >-0.769681</td>\n",
       "      <td id=\"T_449e9_row4_col2\" class=\"data row4 col2\" >-0.324873</td>\n",
       "      <td id=\"T_449e9_row4_col3\" class=\"data row4 col3\" >20.000000</td>\n",
       "      <td id=\"T_449e9_row4_col4\" class=\"data row4 col4\" >True</td>\n",
       "    </tr>\n",
       "    <tr>\n",
       "      <th id=\"T_449e9_level0_row5\" class=\"row_heading level0 row5\" >f</th>\n",
       "      <td id=\"T_449e9_row5_col0\" class=\"data row5 col0\" >-0.395497</td>\n",
       "      <td id=\"T_449e9_row5_col1\" class=\"data row5 col1\" >1.688461</td>\n",
       "      <td id=\"T_449e9_row5_col2\" class=\"data row5 col2\" >-0.513787</td>\n",
       "      <td id=\"T_449e9_row5_col3\" class=\"data row5 col3\" >20.000000</td>\n",
       "      <td id=\"T_449e9_row5_col4\" class=\"data row5 col4\" >False</td>\n",
       "    </tr>\n",
       "    <tr>\n",
       "      <th id=\"T_449e9_level0_row6\" class=\"row_heading level0 row6\" >g</th>\n",
       "      <td id=\"T_449e9_row6_col0\" class=\"data row6 col0\" >-0.720614</td>\n",
       "      <td id=\"T_449e9_row6_col1\" class=\"data row6 col1\" >-0.545538</td>\n",
       "      <td id=\"T_449e9_row6_col2\" class=\"data row6 col2\" >1.548855</td>\n",
       "      <td id=\"T_449e9_row6_col3\" class=\"data row6 col3\" >20.000000</td>\n",
       "      <td id=\"T_449e9_row6_col4\" class=\"data row6 col4\" >False</td>\n",
       "    </tr>\n",
       "  </tbody>\n",
       "</table>\n"
      ],
      "text/plain": [
       "<pandas.io.formats.style.Styler at 0x1ce57e00e00>"
      ]
     },
     "execution_count": 13,
     "metadata": {},
     "output_type": "execute_result"
    }
   ],
   "source": [
    "# Reindex to simulate missing values\n",
    "market_data_missing = market_data.reindex(['a','b','c','d','e','f','g'])\n",
    "market_data_missing.style.applymap(lambda x: 'background-color:yellow', subset=pd.IndexSlice[['b','d'], :])"
   ]
  },
  {
   "cell_type": "markdown",
   "metadata": {},
   "source": [
    "#### Finding Missing Values"
   ]
  },
  {
   "cell_type": "code",
   "execution_count": 14,
   "metadata": {},
   "outputs": [
    {
     "data": {
      "text/html": [
       "<div>\n",
       "<style scoped>\n",
       "    .dataframe tbody tr th:only-of-type {\n",
       "        vertical-align: middle;\n",
       "    }\n",
       "\n",
       "    .dataframe tbody tr th {\n",
       "        vertical-align: top;\n",
       "    }\n",
       "\n",
       "    .dataframe thead th {\n",
       "        text-align: right;\n",
       "    }\n",
       "</style>\n",
       "<table border=\"1\" class=\"dataframe\">\n",
       "  <thead>\n",
       "    <tr style=\"text-align: right;\">\n",
       "      <th></th>\n",
       "      <th>Technology</th>\n",
       "      <th>Finance</th>\n",
       "      <th>Manufacturing</th>\n",
       "      <th>Utilities</th>\n",
       "      <th>ETF</th>\n",
       "    </tr>\n",
       "  </thead>\n",
       "  <tbody>\n",
       "    <tr>\n",
       "      <th>a</th>\n",
       "      <td>False</td>\n",
       "      <td>False</td>\n",
       "      <td>False</td>\n",
       "      <td>False</td>\n",
       "      <td>False</td>\n",
       "    </tr>\n",
       "    <tr>\n",
       "      <th>b</th>\n",
       "      <td>True</td>\n",
       "      <td>True</td>\n",
       "      <td>True</td>\n",
       "      <td>True</td>\n",
       "      <td>True</td>\n",
       "    </tr>\n",
       "    <tr>\n",
       "      <th>c</th>\n",
       "      <td>False</td>\n",
       "      <td>False</td>\n",
       "      <td>False</td>\n",
       "      <td>False</td>\n",
       "      <td>False</td>\n",
       "    </tr>\n",
       "    <tr>\n",
       "      <th>d</th>\n",
       "      <td>True</td>\n",
       "      <td>True</td>\n",
       "      <td>True</td>\n",
       "      <td>True</td>\n",
       "      <td>True</td>\n",
       "    </tr>\n",
       "    <tr>\n",
       "      <th>e</th>\n",
       "      <td>False</td>\n",
       "      <td>False</td>\n",
       "      <td>False</td>\n",
       "      <td>False</td>\n",
       "      <td>False</td>\n",
       "    </tr>\n",
       "    <tr>\n",
       "      <th>f</th>\n",
       "      <td>False</td>\n",
       "      <td>False</td>\n",
       "      <td>False</td>\n",
       "      <td>False</td>\n",
       "      <td>False</td>\n",
       "    </tr>\n",
       "    <tr>\n",
       "      <th>g</th>\n",
       "      <td>False</td>\n",
       "      <td>False</td>\n",
       "      <td>False</td>\n",
       "      <td>False</td>\n",
       "      <td>False</td>\n",
       "    </tr>\n",
       "  </tbody>\n",
       "</table>\n",
       "</div>"
      ],
      "text/plain": [
       "   Technology  Finance  Manufacturing  Utilities    ETF\n",
       "a       False    False          False      False  False\n",
       "b        True     True           True       True   True\n",
       "c       False    False          False      False  False\n",
       "d        True     True           True       True   True\n",
       "e       False    False          False      False  False\n",
       "f       False    False          False      False  False\n",
       "g       False    False          False      False  False"
      ]
     },
     "execution_count": 14,
     "metadata": {},
     "output_type": "execute_result"
    }
   ],
   "source": [
    "# Check for missing values\n",
    "market_data_missing.isna().head(10)"
   ]
  },
  {
   "cell_type": "code",
   "execution_count": 15,
   "metadata": {},
   "outputs": [
    {
     "data": {
      "text/plain": [
       "a     True\n",
       "b    False\n",
       "c     True\n",
       "d    False\n",
       "e     True\n",
       "f     True\n",
       "g     True\n",
       "Name: Technology, dtype: bool"
      ]
     },
     "execution_count": 15,
     "metadata": {},
     "output_type": "execute_result"
    }
   ],
   "source": [
    "# Check for non-missing values\n",
    "market_data_missing['Technology'].notna()"
   ]
  },
  {
   "cell_type": "code",
   "execution_count": 16,
   "metadata": {},
   "outputs": [
    {
     "data": {
      "text/html": [
       "<div>\n",
       "<style scoped>\n",
       "    .dataframe tbody tr th:only-of-type {\n",
       "        vertical-align: middle;\n",
       "    }\n",
       "\n",
       "    .dataframe tbody tr th {\n",
       "        vertical-align: top;\n",
       "    }\n",
       "\n",
       "    .dataframe thead th {\n",
       "        text-align: right;\n",
       "    }\n",
       "</style>\n",
       "<table border=\"1\" class=\"dataframe\">\n",
       "  <thead>\n",
       "    <tr style=\"text-align: right;\">\n",
       "      <th></th>\n",
       "      <th>Technology</th>\n",
       "      <th>Finance</th>\n",
       "      <th>Manufacturing</th>\n",
       "      <th>Utilities</th>\n",
       "      <th>ETF</th>\n",
       "    </tr>\n",
       "  </thead>\n",
       "  <tbody>\n",
       "    <tr>\n",
       "      <th>a</th>\n",
       "      <td>0.850742</td>\n",
       "      <td>-1.948897</td>\n",
       "      <td>-0.457377</td>\n",
       "      <td>20.0</td>\n",
       "      <td>True</td>\n",
       "    </tr>\n",
       "    <tr>\n",
       "      <th>c</th>\n",
       "      <td>-1.041587</td>\n",
       "      <td>-0.196668</td>\n",
       "      <td>0.782574</td>\n",
       "      <td>20.0</td>\n",
       "      <td>False</td>\n",
       "    </tr>\n",
       "    <tr>\n",
       "      <th>e</th>\n",
       "      <td>0.285086</td>\n",
       "      <td>-0.769681</td>\n",
       "      <td>-0.324873</td>\n",
       "      <td>20.0</td>\n",
       "      <td>True</td>\n",
       "    </tr>\n",
       "    <tr>\n",
       "      <th>f</th>\n",
       "      <td>-0.395497</td>\n",
       "      <td>1.688461</td>\n",
       "      <td>-0.513787</td>\n",
       "      <td>20.0</td>\n",
       "      <td>False</td>\n",
       "    </tr>\n",
       "    <tr>\n",
       "      <th>g</th>\n",
       "      <td>-0.720614</td>\n",
       "      <td>-0.545538</td>\n",
       "      <td>1.548855</td>\n",
       "      <td>20.0</td>\n",
       "      <td>False</td>\n",
       "    </tr>\n",
       "  </tbody>\n",
       "</table>\n",
       "</div>"
      ],
      "text/plain": [
       "   Technology   Finance  Manufacturing  Utilities    ETF\n",
       "a    0.850742 -1.948897      -0.457377       20.0   True\n",
       "c   -1.041587 -0.196668       0.782574       20.0  False\n",
       "e    0.285086 -0.769681      -0.324873       20.0   True\n",
       "f   -0.395497  1.688461      -0.513787       20.0  False\n",
       "g   -0.720614 -0.545538       1.548855       20.0  False"
      ]
     },
     "execution_count": 16,
     "metadata": {},
     "output_type": "execute_result"
    }
   ],
   "source": [
    "# Drop rows with any missing values\n",
    "market_data_missing.dropna(how='any')"
   ]
  },
  {
   "cell_type": "code",
   "execution_count": 17,
   "metadata": {},
   "outputs": [
    {
     "name": "stderr",
     "output_type": "stream",
     "text": [
      "C:\\Users\\user\\AppData\\Local\\Temp\\ipykernel_4824\\3383503464.py:3: FutureWarning: Styler.applymap has been deprecated. Use Styler.map instead.\n",
      "  filled_data2.style.applymap(lambda x: 'background-color:yellow', subset=pd.IndexSlice[['b','d'], :])\n"
     ]
    },
    {
     "data": {
      "text/html": [
       "<style type=\"text/css\">\n",
       "#T_caff0_row1_col0, #T_caff0_row1_col1, #T_caff0_row1_col2, #T_caff0_row1_col3, #T_caff0_row1_col4, #T_caff0_row3_col0, #T_caff0_row3_col1, #T_caff0_row3_col2, #T_caff0_row3_col3, #T_caff0_row3_col4 {\n",
       "  background-color: yellow;\n",
       "}\n",
       "</style>\n",
       "<table id=\"T_caff0\">\n",
       "  <thead>\n",
       "    <tr>\n",
       "      <th class=\"blank level0\" >&nbsp;</th>\n",
       "      <th id=\"T_caff0_level0_col0\" class=\"col_heading level0 col0\" >Technology</th>\n",
       "      <th id=\"T_caff0_level0_col1\" class=\"col_heading level0 col1\" >Finance</th>\n",
       "      <th id=\"T_caff0_level0_col2\" class=\"col_heading level0 col2\" >Manufacturing</th>\n",
       "      <th id=\"T_caff0_level0_col3\" class=\"col_heading level0 col3\" >Utilities</th>\n",
       "      <th id=\"T_caff0_level0_col4\" class=\"col_heading level0 col4\" >ETF</th>\n",
       "    </tr>\n",
       "  </thead>\n",
       "  <tbody>\n",
       "    <tr>\n",
       "      <th id=\"T_caff0_level0_row0\" class=\"row_heading level0 row0\" >a</th>\n",
       "      <td id=\"T_caff0_row0_col0\" class=\"data row0 col0\" >0.850742</td>\n",
       "      <td id=\"T_caff0_row0_col1\" class=\"data row0 col1\" >-1.948897</td>\n",
       "      <td id=\"T_caff0_row0_col2\" class=\"data row0 col2\" >-0.457377</td>\n",
       "      <td id=\"T_caff0_row0_col3\" class=\"data row0 col3\" >20.000000</td>\n",
       "      <td id=\"T_caff0_row0_col4\" class=\"data row0 col4\" >True</td>\n",
       "    </tr>\n",
       "    <tr>\n",
       "      <th id=\"T_caff0_level0_row1\" class=\"row_heading level0 row1\" >b</th>\n",
       "      <td id=\"T_caff0_row1_col0\" class=\"data row1 col0\" >-0.204374</td>\n",
       "      <td id=\"T_caff0_row1_col1\" class=\"data row1 col1\" >-0.354465</td>\n",
       "      <td id=\"T_caff0_row1_col2\" class=\"data row1 col2\" >0.207079</td>\n",
       "      <td id=\"T_caff0_row1_col3\" class=\"data row1 col3\" >20.000000</td>\n",
       "      <td id=\"T_caff0_row1_col4\" class=\"data row1 col4\" >0.400000</td>\n",
       "    </tr>\n",
       "    <tr>\n",
       "      <th id=\"T_caff0_level0_row2\" class=\"row_heading level0 row2\" >c</th>\n",
       "      <td id=\"T_caff0_row2_col0\" class=\"data row2 col0\" >-1.041587</td>\n",
       "      <td id=\"T_caff0_row2_col1\" class=\"data row2 col1\" >-0.196668</td>\n",
       "      <td id=\"T_caff0_row2_col2\" class=\"data row2 col2\" >0.782574</td>\n",
       "      <td id=\"T_caff0_row2_col3\" class=\"data row2 col3\" >20.000000</td>\n",
       "      <td id=\"T_caff0_row2_col4\" class=\"data row2 col4\" >False</td>\n",
       "    </tr>\n",
       "    <tr>\n",
       "      <th id=\"T_caff0_level0_row3\" class=\"row_heading level0 row3\" >d</th>\n",
       "      <td id=\"T_caff0_row3_col0\" class=\"data row3 col0\" >-0.204374</td>\n",
       "      <td id=\"T_caff0_row3_col1\" class=\"data row3 col1\" >-0.354465</td>\n",
       "      <td id=\"T_caff0_row3_col2\" class=\"data row3 col2\" >0.207079</td>\n",
       "      <td id=\"T_caff0_row3_col3\" class=\"data row3 col3\" >20.000000</td>\n",
       "      <td id=\"T_caff0_row3_col4\" class=\"data row3 col4\" >0.400000</td>\n",
       "    </tr>\n",
       "    <tr>\n",
       "      <th id=\"T_caff0_level0_row4\" class=\"row_heading level0 row4\" >e</th>\n",
       "      <td id=\"T_caff0_row4_col0\" class=\"data row4 col0\" >0.285086</td>\n",
       "      <td id=\"T_caff0_row4_col1\" class=\"data row4 col1\" >-0.769681</td>\n",
       "      <td id=\"T_caff0_row4_col2\" class=\"data row4 col2\" >-0.324873</td>\n",
       "      <td id=\"T_caff0_row4_col3\" class=\"data row4 col3\" >20.000000</td>\n",
       "      <td id=\"T_caff0_row4_col4\" class=\"data row4 col4\" >True</td>\n",
       "    </tr>\n",
       "    <tr>\n",
       "      <th id=\"T_caff0_level0_row5\" class=\"row_heading level0 row5\" >f</th>\n",
       "      <td id=\"T_caff0_row5_col0\" class=\"data row5 col0\" >-0.395497</td>\n",
       "      <td id=\"T_caff0_row5_col1\" class=\"data row5 col1\" >1.688461</td>\n",
       "      <td id=\"T_caff0_row5_col2\" class=\"data row5 col2\" >-0.513787</td>\n",
       "      <td id=\"T_caff0_row5_col3\" class=\"data row5 col3\" >20.000000</td>\n",
       "      <td id=\"T_caff0_row5_col4\" class=\"data row5 col4\" >False</td>\n",
       "    </tr>\n",
       "    <tr>\n",
       "      <th id=\"T_caff0_level0_row6\" class=\"row_heading level0 row6\" >g</th>\n",
       "      <td id=\"T_caff0_row6_col0\" class=\"data row6 col0\" >-0.720614</td>\n",
       "      <td id=\"T_caff0_row6_col1\" class=\"data row6 col1\" >-0.545538</td>\n",
       "      <td id=\"T_caff0_row6_col2\" class=\"data row6 col2\" >1.548855</td>\n",
       "      <td id=\"T_caff0_row6_col3\" class=\"data row6 col3\" >20.000000</td>\n",
       "      <td id=\"T_caff0_row6_col4\" class=\"data row6 col4\" >False</td>\n",
       "    </tr>\n",
       "  </tbody>\n",
       "</table>\n"
      ],
      "text/plain": [
       "<pandas.io.formats.style.Styler at 0x1ce71110620>"
      ]
     },
     "execution_count": 17,
     "metadata": {},
     "output_type": "execute_result"
    }
   ],
   "source": [
    "# Fill missing values with column mean\n",
    "filled_data2 = market_data_missing.fillna(market_data_missing.mean())\n",
    "filled_data2.style.applymap(lambda x: 'background-color:yellow', subset=pd.IndexSlice[['b','d'], :])"
   ]
  },
  {
   "cell_type": "code",
   "execution_count": 18,
   "metadata": {},
   "outputs": [
    {
     "name": "stderr",
     "output_type": "stream",
     "text": [
      "C:\\Users\\user\\AppData\\Local\\Temp\\ipykernel_4824\\3815340413.py:2: FutureWarning: DataFrame.fillna with 'method' is deprecated and will raise in a future version. Use obj.ffill() or obj.bfill() instead.\n",
      "  forward_filled = market_data_missing.fillna(method='ffill')\n",
      "C:\\Users\\user\\AppData\\Local\\Temp\\ipykernel_4824\\3815340413.py:2: FutureWarning: Downcasting object dtype arrays on .fillna, .ffill, .bfill is deprecated and will change in a future version. Call result.infer_objects(copy=False) instead. To opt-in to the future behavior, set `pd.set_option('future.no_silent_downcasting', True)`\n",
      "  forward_filled = market_data_missing.fillna(method='ffill')\n",
      "C:\\Users\\user\\AppData\\Local\\Temp\\ipykernel_4824\\3815340413.py:3: FutureWarning: Styler.applymap has been deprecated. Use Styler.map instead.\n",
      "  forward_filled.style.applymap(lambda x: 'background-color:yellow', subset=pd.IndexSlice[['b','d'], :])\n"
     ]
    },
    {
     "data": {
      "text/html": [
       "<div>\n",
       "<style scoped>\n",
       "    .dataframe tbody tr th:only-of-type {\n",
       "        vertical-align: middle;\n",
       "    }\n",
       "\n",
       "    .dataframe tbody tr th {\n",
       "        vertical-align: top;\n",
       "    }\n",
       "\n",
       "    .dataframe thead th {\n",
       "        text-align: right;\n",
       "    }\n",
       "</style>\n",
       "<table border=\"1\" class=\"dataframe\">\n",
       "  <thead>\n",
       "    <tr style=\"text-align: right;\">\n",
       "      <th></th>\n",
       "      <th>Technology</th>\n",
       "      <th>Finance</th>\n",
       "      <th>Manufacturing</th>\n",
       "      <th>Utilities</th>\n",
       "      <th>ETF</th>\n",
       "    </tr>\n",
       "  </thead>\n",
       "  <tbody>\n",
       "    <tr>\n",
       "      <th>a</th>\n",
       "      <td>0.850742</td>\n",
       "      <td>-1.948897</td>\n",
       "      <td>-0.457377</td>\n",
       "      <td>20.0</td>\n",
       "      <td>True</td>\n",
       "    </tr>\n",
       "    <tr>\n",
       "      <th>b</th>\n",
       "      <td>0.850742</td>\n",
       "      <td>-1.948897</td>\n",
       "      <td>-0.457377</td>\n",
       "      <td>20.0</td>\n",
       "      <td>True</td>\n",
       "    </tr>\n",
       "    <tr>\n",
       "      <th>c</th>\n",
       "      <td>-1.041587</td>\n",
       "      <td>-0.196668</td>\n",
       "      <td>0.782574</td>\n",
       "      <td>20.0</td>\n",
       "      <td>False</td>\n",
       "    </tr>\n",
       "    <tr>\n",
       "      <th>d</th>\n",
       "      <td>-1.041587</td>\n",
       "      <td>-0.196668</td>\n",
       "      <td>0.782574</td>\n",
       "      <td>20.0</td>\n",
       "      <td>False</td>\n",
       "    </tr>\n",
       "    <tr>\n",
       "      <th>e</th>\n",
       "      <td>0.285086</td>\n",
       "      <td>-0.769681</td>\n",
       "      <td>-0.324873</td>\n",
       "      <td>20.0</td>\n",
       "      <td>True</td>\n",
       "    </tr>\n",
       "    <tr>\n",
       "      <th>f</th>\n",
       "      <td>-0.395497</td>\n",
       "      <td>1.688461</td>\n",
       "      <td>-0.513787</td>\n",
       "      <td>20.0</td>\n",
       "      <td>False</td>\n",
       "    </tr>\n",
       "    <tr>\n",
       "      <th>g</th>\n",
       "      <td>-0.720614</td>\n",
       "      <td>-0.545538</td>\n",
       "      <td>1.548855</td>\n",
       "      <td>20.0</td>\n",
       "      <td>False</td>\n",
       "    </tr>\n",
       "  </tbody>\n",
       "</table>\n",
       "</div>"
      ],
      "text/plain": [
       "   Technology   Finance  Manufacturing  Utilities    ETF\n",
       "a    0.850742 -1.948897      -0.457377       20.0   True\n",
       "b    0.850742 -1.948897      -0.457377       20.0   True\n",
       "c   -1.041587 -0.196668       0.782574       20.0  False\n",
       "d   -1.041587 -0.196668       0.782574       20.0  False\n",
       "e    0.285086 -0.769681      -0.324873       20.0   True\n",
       "f   -0.395497  1.688461      -0.513787       20.0  False\n",
       "g   -0.720614 -0.545538       1.548855       20.0  False"
      ]
     },
     "execution_count": 18,
     "metadata": {},
     "output_type": "execute_result"
    }
   ],
   "source": [
    "# Forward fill (suitable for time series)\n",
    "forward_filled = market_data_missing.fillna(method='ffill')\n",
    "forward_filled.style.applymap(lambda x: 'background-color:yellow', subset=pd.IndexSlice[['b','d'], :])\n",
    "forward_filled"
   ]
  },
  {
   "cell_type": "code",
   "execution_count": 19,
   "metadata": {},
   "outputs": [
    {
     "name": "stderr",
     "output_type": "stream",
     "text": [
      "C:\\Users\\user\\AppData\\Local\\Temp\\ipykernel_4824\\3695790408.py:2: FutureWarning: DataFrame.fillna with 'method' is deprecated and will raise in a future version. Use obj.ffill() or obj.bfill() instead.\n",
      "  backward_filled = market_data_missing.fillna(method='bfill')\n",
      "C:\\Users\\user\\AppData\\Local\\Temp\\ipykernel_4824\\3695790408.py:2: FutureWarning: Downcasting object dtype arrays on .fillna, .ffill, .bfill is deprecated and will change in a future version. Call result.infer_objects(copy=False) instead. To opt-in to the future behavior, set `pd.set_option('future.no_silent_downcasting', True)`\n",
      "  backward_filled = market_data_missing.fillna(method='bfill')\n",
      "C:\\Users\\user\\AppData\\Local\\Temp\\ipykernel_4824\\3695790408.py:3: FutureWarning: Styler.applymap has been deprecated. Use Styler.map instead.\n",
      "  backward_filled.style.applymap(lambda x: 'background-color:yellow', subset=pd.IndexSlice[['b','d'], :])\n"
     ]
    },
    {
     "data": {
      "text/html": [
       "<div>\n",
       "<style scoped>\n",
       "    .dataframe tbody tr th:only-of-type {\n",
       "        vertical-align: middle;\n",
       "    }\n",
       "\n",
       "    .dataframe tbody tr th {\n",
       "        vertical-align: top;\n",
       "    }\n",
       "\n",
       "    .dataframe thead th {\n",
       "        text-align: right;\n",
       "    }\n",
       "</style>\n",
       "<table border=\"1\" class=\"dataframe\">\n",
       "  <thead>\n",
       "    <tr style=\"text-align: right;\">\n",
       "      <th></th>\n",
       "      <th>Technology</th>\n",
       "      <th>Finance</th>\n",
       "      <th>Manufacturing</th>\n",
       "      <th>Utilities</th>\n",
       "      <th>ETF</th>\n",
       "    </tr>\n",
       "  </thead>\n",
       "  <tbody>\n",
       "    <tr>\n",
       "      <th>a</th>\n",
       "      <td>0.850742</td>\n",
       "      <td>-1.948897</td>\n",
       "      <td>-0.457377</td>\n",
       "      <td>20.0</td>\n",
       "      <td>True</td>\n",
       "    </tr>\n",
       "    <tr>\n",
       "      <th>b</th>\n",
       "      <td>-1.041587</td>\n",
       "      <td>-0.196668</td>\n",
       "      <td>0.782574</td>\n",
       "      <td>20.0</td>\n",
       "      <td>False</td>\n",
       "    </tr>\n",
       "    <tr>\n",
       "      <th>c</th>\n",
       "      <td>-1.041587</td>\n",
       "      <td>-0.196668</td>\n",
       "      <td>0.782574</td>\n",
       "      <td>20.0</td>\n",
       "      <td>False</td>\n",
       "    </tr>\n",
       "    <tr>\n",
       "      <th>d</th>\n",
       "      <td>0.285086</td>\n",
       "      <td>-0.769681</td>\n",
       "      <td>-0.324873</td>\n",
       "      <td>20.0</td>\n",
       "      <td>True</td>\n",
       "    </tr>\n",
       "    <tr>\n",
       "      <th>e</th>\n",
       "      <td>0.285086</td>\n",
       "      <td>-0.769681</td>\n",
       "      <td>-0.324873</td>\n",
       "      <td>20.0</td>\n",
       "      <td>True</td>\n",
       "    </tr>\n",
       "    <tr>\n",
       "      <th>f</th>\n",
       "      <td>-0.395497</td>\n",
       "      <td>1.688461</td>\n",
       "      <td>-0.513787</td>\n",
       "      <td>20.0</td>\n",
       "      <td>False</td>\n",
       "    </tr>\n",
       "    <tr>\n",
       "      <th>g</th>\n",
       "      <td>-0.720614</td>\n",
       "      <td>-0.545538</td>\n",
       "      <td>1.548855</td>\n",
       "      <td>20.0</td>\n",
       "      <td>False</td>\n",
       "    </tr>\n",
       "  </tbody>\n",
       "</table>\n",
       "</div>"
      ],
      "text/plain": [
       "   Technology   Finance  Manufacturing  Utilities    ETF\n",
       "a    0.850742 -1.948897      -0.457377       20.0   True\n",
       "b   -1.041587 -0.196668       0.782574       20.0  False\n",
       "c   -1.041587 -0.196668       0.782574       20.0  False\n",
       "d    0.285086 -0.769681      -0.324873       20.0   True\n",
       "e    0.285086 -0.769681      -0.324873       20.0   True\n",
       "f   -0.395497  1.688461      -0.513787       20.0  False\n",
       "g   -0.720614 -0.545538       1.548855       20.0  False"
      ]
     },
     "execution_count": 19,
     "metadata": {},
     "output_type": "execute_result"
    }
   ],
   "source": [
    "# Backward fill\n",
    "backward_filled = market_data_missing.fillna(method='bfill')\n",
    "backward_filled.style.applymap(lambda x: 'background-color:yellow', subset=pd.IndexSlice[['b','d'], :])\n",
    "backward_filled"
   ]
  },
  {
   "cell_type": "markdown",
   "metadata": {},
   "source": [
    "#### Concatenation of data sets"
   ]
  },
  {
   "cell_type": "code",
   "execution_count": 20,
   "metadata": {},
   "outputs": [],
   "source": [
    "# Create multiple portfolio return datasets\n",
    "portfolio1 = pd.DataFrame({'A': [f'A{i}' for i in range(4)],\n",
    "                            'B': [f'B{i}' for i in range(4)],\n",
    "                            'C': [f'C{i}' for i in range(4)],\n",
    "                            'D': [f'D{i}' for i in range(4)]})\n",
    "\n",
    "portfolio2 = pd.DataFrame({'A': [f'A{i}' for i in range(4,8)],\n",
    "                            'B': [f'B{i}' for i in range(4,8)],\n",
    "                            'C': [f'C{i}' for i in range(4,8)],\n",
    "                            'D': [f'D{i}' for i in range(4,8)]})\n",
    "\n",
    "portfolio3 = pd.DataFrame({'A': [f'A{i}' for i in range(8,12)],\n",
    "                            'B': [f'B{i}' for i in range(8,12)],\n",
    "                            'C': [f'C{i}' for i in range(8,12)],\n",
    "                            'D': [f'D{i}' for i in range(8,12)]})"
   ]
  },
  {
   "cell_type": "markdown",
   "metadata": {},
   "source": [
    "#### Adding Rows"
   ]
  },
  {
   "cell_type": "code",
   "execution_count": 21,
   "metadata": {},
   "outputs": [
    {
     "data": {
      "text/html": [
       "<div>\n",
       "<style scoped>\n",
       "    .dataframe tbody tr th:only-of-type {\n",
       "        vertical-align: middle;\n",
       "    }\n",
       "\n",
       "    .dataframe tbody tr th {\n",
       "        vertical-align: top;\n",
       "    }\n",
       "\n",
       "    .dataframe thead th {\n",
       "        text-align: right;\n",
       "    }\n",
       "</style>\n",
       "<table border=\"1\" class=\"dataframe\">\n",
       "  <thead>\n",
       "    <tr style=\"text-align: right;\">\n",
       "      <th></th>\n",
       "      <th>A</th>\n",
       "      <th>B</th>\n",
       "      <th>C</th>\n",
       "      <th>D</th>\n",
       "    </tr>\n",
       "  </thead>\n",
       "  <tbody>\n",
       "    <tr>\n",
       "      <th>0</th>\n",
       "      <td>A0</td>\n",
       "      <td>B0</td>\n",
       "      <td>C0</td>\n",
       "      <td>D0</td>\n",
       "    </tr>\n",
       "    <tr>\n",
       "      <th>1</th>\n",
       "      <td>A1</td>\n",
       "      <td>B1</td>\n",
       "      <td>C1</td>\n",
       "      <td>D1</td>\n",
       "    </tr>\n",
       "    <tr>\n",
       "      <th>2</th>\n",
       "      <td>A2</td>\n",
       "      <td>B2</td>\n",
       "      <td>C2</td>\n",
       "      <td>D2</td>\n",
       "    </tr>\n",
       "    <tr>\n",
       "      <th>3</th>\n",
       "      <td>A3</td>\n",
       "      <td>B3</td>\n",
       "      <td>C3</td>\n",
       "      <td>D3</td>\n",
       "    </tr>\n",
       "  </tbody>\n",
       "</table>\n",
       "</div>"
      ],
      "text/plain": [
       "    A   B   C   D\n",
       "0  A0  B0  C0  D0\n",
       "1  A1  B1  C1  D1\n",
       "2  A2  B2  C2  D2\n",
       "3  A3  B3  C3  D3"
      ]
     },
     "execution_count": 21,
     "metadata": {},
     "output_type": "execute_result"
    }
   ],
   "source": [
    "portfolio1"
   ]
  },
  {
   "cell_type": "code",
   "execution_count": 22,
   "metadata": {},
   "outputs": [
    {
     "data": {
      "text/html": [
       "<div>\n",
       "<style scoped>\n",
       "    .dataframe tbody tr th:only-of-type {\n",
       "        vertical-align: middle;\n",
       "    }\n",
       "\n",
       "    .dataframe tbody tr th {\n",
       "        vertical-align: top;\n",
       "    }\n",
       "\n",
       "    .dataframe thead th {\n",
       "        text-align: right;\n",
       "    }\n",
       "</style>\n",
       "<table border=\"1\" class=\"dataframe\">\n",
       "  <thead>\n",
       "    <tr style=\"text-align: right;\">\n",
       "      <th></th>\n",
       "      <th>A</th>\n",
       "      <th>B</th>\n",
       "      <th>C</th>\n",
       "      <th>D</th>\n",
       "    </tr>\n",
       "  </thead>\n",
       "  <tbody>\n",
       "    <tr>\n",
       "      <th>0</th>\n",
       "      <td>A4</td>\n",
       "      <td>B4</td>\n",
       "      <td>C4</td>\n",
       "      <td>D4</td>\n",
       "    </tr>\n",
       "    <tr>\n",
       "      <th>1</th>\n",
       "      <td>A5</td>\n",
       "      <td>B5</td>\n",
       "      <td>C5</td>\n",
       "      <td>D5</td>\n",
       "    </tr>\n",
       "    <tr>\n",
       "      <th>2</th>\n",
       "      <td>A6</td>\n",
       "      <td>B6</td>\n",
       "      <td>C6</td>\n",
       "      <td>D6</td>\n",
       "    </tr>\n",
       "    <tr>\n",
       "      <th>3</th>\n",
       "      <td>A7</td>\n",
       "      <td>B7</td>\n",
       "      <td>C7</td>\n",
       "      <td>D7</td>\n",
       "    </tr>\n",
       "  </tbody>\n",
       "</table>\n",
       "</div>"
      ],
      "text/plain": [
       "    A   B   C   D\n",
       "0  A4  B4  C4  D4\n",
       "1  A5  B5  C5  D5\n",
       "2  A6  B6  C6  D6\n",
       "3  A7  B7  C7  D7"
      ]
     },
     "execution_count": 22,
     "metadata": {},
     "output_type": "execute_result"
    }
   ],
   "source": [
    "portfolio2"
   ]
  },
  {
   "cell_type": "code",
   "execution_count": 23,
   "metadata": {},
   "outputs": [
    {
     "data": {
      "text/html": [
       "<div>\n",
       "<style scoped>\n",
       "    .dataframe tbody tr th:only-of-type {\n",
       "        vertical-align: middle;\n",
       "    }\n",
       "\n",
       "    .dataframe tbody tr th {\n",
       "        vertical-align: top;\n",
       "    }\n",
       "\n",
       "    .dataframe thead th {\n",
       "        text-align: right;\n",
       "    }\n",
       "</style>\n",
       "<table border=\"1\" class=\"dataframe\">\n",
       "  <thead>\n",
       "    <tr style=\"text-align: right;\">\n",
       "      <th></th>\n",
       "      <th>A</th>\n",
       "      <th>B</th>\n",
       "      <th>C</th>\n",
       "      <th>D</th>\n",
       "    </tr>\n",
       "  </thead>\n",
       "  <tbody>\n",
       "    <tr>\n",
       "      <th>0</th>\n",
       "      <td>A0</td>\n",
       "      <td>B0</td>\n",
       "      <td>C0</td>\n",
       "      <td>D0</td>\n",
       "    </tr>\n",
       "    <tr>\n",
       "      <th>1</th>\n",
       "      <td>A1</td>\n",
       "      <td>B1</td>\n",
       "      <td>C1</td>\n",
       "      <td>D1</td>\n",
       "    </tr>\n",
       "    <tr>\n",
       "      <th>2</th>\n",
       "      <td>A2</td>\n",
       "      <td>B2</td>\n",
       "      <td>C2</td>\n",
       "      <td>D2</td>\n",
       "    </tr>\n",
       "    <tr>\n",
       "      <th>3</th>\n",
       "      <td>A3</td>\n",
       "      <td>B3</td>\n",
       "      <td>C3</td>\n",
       "      <td>D3</td>\n",
       "    </tr>\n",
       "    <tr>\n",
       "      <th>0</th>\n",
       "      <td>A4</td>\n",
       "      <td>B4</td>\n",
       "      <td>C4</td>\n",
       "      <td>D4</td>\n",
       "    </tr>\n",
       "    <tr>\n",
       "      <th>1</th>\n",
       "      <td>A5</td>\n",
       "      <td>B5</td>\n",
       "      <td>C5</td>\n",
       "      <td>D5</td>\n",
       "    </tr>\n",
       "    <tr>\n",
       "      <th>2</th>\n",
       "      <td>A6</td>\n",
       "      <td>B6</td>\n",
       "      <td>C6</td>\n",
       "      <td>D6</td>\n",
       "    </tr>\n",
       "    <tr>\n",
       "      <th>3</th>\n",
       "      <td>A7</td>\n",
       "      <td>B7</td>\n",
       "      <td>C7</td>\n",
       "      <td>D7</td>\n",
       "    </tr>\n",
       "    <tr>\n",
       "      <th>0</th>\n",
       "      <td>A8</td>\n",
       "      <td>B8</td>\n",
       "      <td>C8</td>\n",
       "      <td>D8</td>\n",
       "    </tr>\n",
       "    <tr>\n",
       "      <th>1</th>\n",
       "      <td>A9</td>\n",
       "      <td>B9</td>\n",
       "      <td>C9</td>\n",
       "      <td>D9</td>\n",
       "    </tr>\n",
       "    <tr>\n",
       "      <th>2</th>\n",
       "      <td>A10</td>\n",
       "      <td>B10</td>\n",
       "      <td>C10</td>\n",
       "      <td>D10</td>\n",
       "    </tr>\n",
       "    <tr>\n",
       "      <th>3</th>\n",
       "      <td>A11</td>\n",
       "      <td>B11</td>\n",
       "      <td>C11</td>\n",
       "      <td>D11</td>\n",
       "    </tr>\n",
       "  </tbody>\n",
       "</table>\n",
       "</div>"
      ],
      "text/plain": [
       "     A    B    C    D\n",
       "0   A0   B0   C0   D0\n",
       "1   A1   B1   C1   D1\n",
       "2   A2   B2   C2   D2\n",
       "3   A3   B3   C3   D3\n",
       "0   A4   B4   C4   D4\n",
       "1   A5   B5   C5   D5\n",
       "2   A6   B6   C6   D6\n",
       "3   A7   B7   C7   D7\n",
       "0   A8   B8   C8   D8\n",
       "1   A9   B9   C9   D9\n",
       "2  A10  B10  C10  D10\n",
       "3  A11  B11  C11  D11"
      ]
     },
     "execution_count": 23,
     "metadata": {},
     "output_type": "execute_result"
    }
   ],
   "source": [
    "# Concatenate portfolios (vertically)\n",
    "combined_portfolios = pd.concat([portfolio1, portfolio2, portfolio3])\n",
    "combined_portfolios"
   ]
  },
  {
   "cell_type": "markdown",
   "metadata": {},
   "source": [
    "#### Adding columns"
   ]
  },
  {
   "cell_type": "code",
   "execution_count": 24,
   "metadata": {},
   "outputs": [
    {
     "data": {
      "text/html": [
       "<div>\n",
       "<style scoped>\n",
       "    .dataframe tbody tr th:only-of-type {\n",
       "        vertical-align: middle;\n",
       "    }\n",
       "\n",
       "    .dataframe tbody tr th {\n",
       "        vertical-align: top;\n",
       "    }\n",
       "\n",
       "    .dataframe thead th {\n",
       "        text-align: right;\n",
       "    }\n",
       "</style>\n",
       "<table border=\"1\" class=\"dataframe\">\n",
       "  <thead>\n",
       "    <tr style=\"text-align: right;\">\n",
       "      <th></th>\n",
       "      <th>A</th>\n",
       "      <th>B</th>\n",
       "      <th>C</th>\n",
       "      <th>D</th>\n",
       "      <th>0</th>\n",
       "    </tr>\n",
       "  </thead>\n",
       "  <tbody>\n",
       "    <tr>\n",
       "      <th>0</th>\n",
       "      <td>A0</td>\n",
       "      <td>B0</td>\n",
       "      <td>C0</td>\n",
       "      <td>D0</td>\n",
       "      <td>NaN</td>\n",
       "    </tr>\n",
       "    <tr>\n",
       "      <th>1</th>\n",
       "      <td>A1</td>\n",
       "      <td>B1</td>\n",
       "      <td>C1</td>\n",
       "      <td>D1</td>\n",
       "      <td>NaN</td>\n",
       "    </tr>\n",
       "    <tr>\n",
       "      <th>2</th>\n",
       "      <td>A2</td>\n",
       "      <td>B2</td>\n",
       "      <td>C2</td>\n",
       "      <td>D2</td>\n",
       "      <td>NaN</td>\n",
       "    </tr>\n",
       "    <tr>\n",
       "      <th>3</th>\n",
       "      <td>A3</td>\n",
       "      <td>B3</td>\n",
       "      <td>C3</td>\n",
       "      <td>D3</td>\n",
       "      <td>NaN</td>\n",
       "    </tr>\n",
       "    <tr>\n",
       "      <th>0</th>\n",
       "      <td>NaN</td>\n",
       "      <td>NaN</td>\n",
       "      <td>NaN</td>\n",
       "      <td>NaN</td>\n",
       "      <td>n1</td>\n",
       "    </tr>\n",
       "    <tr>\n",
       "      <th>1</th>\n",
       "      <td>NaN</td>\n",
       "      <td>NaN</td>\n",
       "      <td>NaN</td>\n",
       "      <td>NaN</td>\n",
       "      <td>n2</td>\n",
       "    </tr>\n",
       "    <tr>\n",
       "      <th>2</th>\n",
       "      <td>NaN</td>\n",
       "      <td>NaN</td>\n",
       "      <td>NaN</td>\n",
       "      <td>NaN</td>\n",
       "      <td>n3</td>\n",
       "    </tr>\n",
       "    <tr>\n",
       "      <th>3</th>\n",
       "      <td>NaN</td>\n",
       "      <td>NaN</td>\n",
       "      <td>NaN</td>\n",
       "      <td>NaN</td>\n",
       "      <td>n4</td>\n",
       "    </tr>\n",
       "  </tbody>\n",
       "</table>\n",
       "</div>"
      ],
      "text/plain": [
       "     A    B    C    D    0\n",
       "0   A0   B0   C0   D0  NaN\n",
       "1   A1   B1   C1   D1  NaN\n",
       "2   A2   B2   C2   D2  NaN\n",
       "3   A3   B3   C3   D3  NaN\n",
       "0  NaN  NaN  NaN  NaN   n1\n",
       "1  NaN  NaN  NaN  NaN   n2\n",
       "2  NaN  NaN  NaN  NaN   n3\n",
       "3  NaN  NaN  NaN  NaN   n4"
      ]
     },
     "execution_count": 24,
     "metadata": {},
     "output_type": "execute_result"
    }
   ],
   "source": [
    "# Add a new investment\n",
    "new_investment = pd.Series(['n1','n2','n3','n4'])\n",
    "pd.concat([portfolio1, new_investment])"
   ]
  },
  {
   "cell_type": "code",
   "execution_count": 25,
   "metadata": {},
   "outputs": [
    {
     "data": {
      "text/html": [
       "<div>\n",
       "<style scoped>\n",
       "    .dataframe tbody tr th:only-of-type {\n",
       "        vertical-align: middle;\n",
       "    }\n",
       "\n",
       "    .dataframe tbody tr th {\n",
       "        vertical-align: top;\n",
       "    }\n",
       "\n",
       "    .dataframe thead th {\n",
       "        text-align: right;\n",
       "    }\n",
       "</style>\n",
       "<table border=\"1\" class=\"dataframe\">\n",
       "  <thead>\n",
       "    <tr style=\"text-align: right;\">\n",
       "      <th></th>\n",
       "      <th>A</th>\n",
       "      <th>B</th>\n",
       "      <th>C</th>\n",
       "      <th>D</th>\n",
       "      <th>A</th>\n",
       "      <th>B</th>\n",
       "      <th>C</th>\n",
       "      <th>D</th>\n",
       "      <th>A</th>\n",
       "      <th>B</th>\n",
       "      <th>C</th>\n",
       "      <th>D</th>\n",
       "    </tr>\n",
       "  </thead>\n",
       "  <tbody>\n",
       "    <tr>\n",
       "      <th>0</th>\n",
       "      <td>A0</td>\n",
       "      <td>B0</td>\n",
       "      <td>C0</td>\n",
       "      <td>D0</td>\n",
       "      <td>A4</td>\n",
       "      <td>B4</td>\n",
       "      <td>C4</td>\n",
       "      <td>D4</td>\n",
       "      <td>A8</td>\n",
       "      <td>B8</td>\n",
       "      <td>C8</td>\n",
       "      <td>D8</td>\n",
       "    </tr>\n",
       "    <tr>\n",
       "      <th>1</th>\n",
       "      <td>A1</td>\n",
       "      <td>B1</td>\n",
       "      <td>C1</td>\n",
       "      <td>D1</td>\n",
       "      <td>A5</td>\n",
       "      <td>B5</td>\n",
       "      <td>C5</td>\n",
       "      <td>D5</td>\n",
       "      <td>A9</td>\n",
       "      <td>B9</td>\n",
       "      <td>C9</td>\n",
       "      <td>D9</td>\n",
       "    </tr>\n",
       "    <tr>\n",
       "      <th>2</th>\n",
       "      <td>A2</td>\n",
       "      <td>B2</td>\n",
       "      <td>C2</td>\n",
       "      <td>D2</td>\n",
       "      <td>A6</td>\n",
       "      <td>B6</td>\n",
       "      <td>C6</td>\n",
       "      <td>D6</td>\n",
       "      <td>A10</td>\n",
       "      <td>B10</td>\n",
       "      <td>C10</td>\n",
       "      <td>D10</td>\n",
       "    </tr>\n",
       "    <tr>\n",
       "      <th>3</th>\n",
       "      <td>A3</td>\n",
       "      <td>B3</td>\n",
       "      <td>C3</td>\n",
       "      <td>D3</td>\n",
       "      <td>A7</td>\n",
       "      <td>B7</td>\n",
       "      <td>C7</td>\n",
       "      <td>D7</td>\n",
       "      <td>A11</td>\n",
       "      <td>B11</td>\n",
       "      <td>C11</td>\n",
       "      <td>D11</td>\n",
       "    </tr>\n",
       "  </tbody>\n",
       "</table>\n",
       "</div>"
      ],
      "text/plain": [
       "    A   B   C   D   A   B   C   D    A    B    C    D\n",
       "0  A0  B0  C0  D0  A4  B4  C4  D4   A8   B8   C8   D8\n",
       "1  A1  B1  C1  D1  A5  B5  C5  D5   A9   B9   C9   D9\n",
       "2  A2  B2  C2  D2  A6  B6  C6  D6  A10  B10  C10  D10\n",
       "3  A3  B3  C3  D3  A7  B7  C7  D7  A11  B11  C11  D11"
      ]
     },
     "execution_count": 25,
     "metadata": {},
     "output_type": "execute_result"
    }
   ],
   "source": [
    "# Concatenate horizontally (add assets)\n",
    "pd.concat([portfolio1, portfolio2, portfolio3], axis=1)"
   ]
  },
  {
   "cell_type": "markdown",
   "metadata": {},
   "source": [
    "#### DataFrame Join"
   ]
  },
  {
   "cell_type": "code",
   "execution_count": null,
   "metadata": {},
   "outputs": [],
   "source": [
    "# Investment assets and market index data\n",
    "investment1 = pd.DataFrame({\"Stock\": [\"TSMC\", \"MediaTek\", \"Hon Hai\", \"Hon Hai\", \"Quanta\", \"Acer\"],\n",
    "                             \"Return\": range(6)})\n",
    "investment2 = pd.DataFrame({\"Index\": [\"MediaTek\", \"Hon Hai\", \"Acer\", \"ASUS\"],\n",
    "                             \"Index Return\": range(4)})"
   ]
  },
  {
   "cell_type": "code",
   "execution_count": null,
   "metadata": {},
   "outputs": [],
   "source": [
    "investment1"
   ]
  },
  {
   "cell_type": "code",
   "execution_count": null,
   "metadata": {},
   "outputs": [],
   "source": [
    "investment2"
   ]
  },
  {
   "cell_type": "code",
   "execution_count": null,
   "metadata": {},
   "outputs": [],
   "source": [
    "# Inner join\n",
    "pd.merge(investment1, investment2, left_on=\"Stock\", right_on=\"Index\")"
   ]
  },
  {
   "cell_type": "code",
   "execution_count": null,
   "metadata": {},
   "outputs": [],
   "source": [
    "# Left join\n",
    "pd.merge(investment1, investment2, left_on=\"Stock\", right_on=\"Index\", how='left')"
   ]
  },
  {
   "cell_type": "code",
   "execution_count": null,
   "metadata": {},
   "outputs": [],
   "source": [
    "# Right join\n",
    "pd.merge(investment1, investment2, left_on=\"Stock\", right_on=\"Index\", how='right')"
   ]
  },
  {
   "cell_type": "markdown",
   "metadata": {},
   "source": [
    "### Group"
   ]
  },
  {
   "cell_type": "code",
   "execution_count": null,
   "metadata": {},
   "outputs": [],
   "source": [
    "# Create investment category and return data\n",
    "investment_data = {\n",
    "    'Category': ['Technology', 'Finance', 'Technology', 'Finance', 'Technology', 'Finance'],\n",
    "    'Return': [0.1, 0.05, 0.12, 0.03, 0.15, 0.04]\n",
    "}\n",
    "investment_df = pd.DataFrame(investment_data)\n",
    "investment_df"
   ]
  },
  {
   "cell_type": "code",
   "execution_count": null,
   "metadata": {},
   "outputs": [],
   "source": [
    "# Group by category\n",
    "grouped = investment_df.groupby('Category')\n",
    "grouped.describe()"
   ]
  },
  {
   "cell_type": "code",
   "execution_count": null,
   "metadata": {},
   "outputs": [],
   "source": [
    "# Calculate mean return\n",
    "mean_returns = grouped.mean()\n",
    "mean_returns"
   ]
  },
  {
   "cell_type": "code",
   "execution_count": null,
   "metadata": {},
   "outputs": [],
   "source": [
    "# Calculate total return and count\n",
    "investment_df.groupby('Category').agg({'Return': ['sum', 'count']})"
   ]
  },
  {
   "cell_type": "code",
   "execution_count": null,
   "metadata": {},
   "outputs": [],
   "source": [
    "# Create investor data\n",
    "gender = [\"Male\", \"Female\"]\n",
    "data = pd.DataFrame({\n",
    "    \"Height\": np.random.randint(150, 190, 100),\n",
    "    \"Weight\": np.random.randint(40, 90, 100),\n",
    "    \"Gender\": [gender[x] for x in np.random.randint(0, 2, 100)]\n",
    "})\n",
    "data"
   ]
  },
  {
   "cell_type": "code",
   "execution_count": null,
   "metadata": {},
   "outputs": [],
   "source": [
    "# map() method by row, M--> 1, F-->0\n",
    "# Map gender to numeric\n",
    "data[\"Gender\"] = data[\"Gender\"].map({\"Male\": 1, \"Female\": 0})\n",
    "data"
   ]
  },
  {
   "cell_type": "markdown",
   "metadata": {},
   "source": [
    "#### Binning and Grouping"
   ]
  },
  {
   "cell_type": "code",
   "execution_count": 26,
   "metadata": {},
   "outputs": [],
   "source": [
    "# Create loan data\n",
    "loan_data = {\n",
    "    \"Loanee_names\": [\"Jones\", \"Smith\", \"Lynn\", \"Rebbeca\", \"Vizon\", \"Phylis\", \"Roberto\", \"Sypla\", \"Fernado\", \"Eric\", \"Michale\", \"Fredrick\", \"Allan\", \"Mary\", \"Joseph\"],\n",
    "    \"Loan_amount\": [10000, 20000, 1000, 500, 700, 850, 900, 1500, 12000, 16000, 1350, 16000, 8000, 7500, 850]\n",
    "}\n",
    "loan_df = pd.DataFrame(data=loan_data)"
   ]
  },
  {
   "cell_type": "code",
   "execution_count": 27,
   "metadata": {},
   "outputs": [
    {
     "data": {
      "text/plain": [
       "Loan_Risk\n",
       "Low       5\n",
       "Medium    5\n",
       "High      5\n",
       "Name: count, dtype: int64"
      ]
     },
     "execution_count": 27,
     "metadata": {},
     "output_type": "execute_result"
    }
   ],
   "source": [
    "# Divide loan amounts into three bins\n",
    "labels = ['Low', 'Medium', 'High']\n",
    "loan_df['Loan_Risk'] = pd.qcut(loan_df['Loan_amount'], q=3, precision=1, labels=labels)\n",
    "loan_df['Loan_Risk'].value_counts()"
   ]
  },
  {
   "cell_type": "markdown",
   "metadata": {},
   "source": [
    "#### Randomization (Shuffling Data)"
   ]
  },
  {
   "cell_type": "code",
   "execution_count": null,
   "metadata": {},
   "outputs": [],
   "source": [
    "# Create investment return matrix\n",
    "returns_df = pd.DataFrame(np.random.randn(10,5),\n",
    "                          index=np.sort(np.random.randint(0, 100, size=10)),\n",
    "                          columns=list('ABCDE'))\n",
    "returns_df"
   ]
  },
  {
   "cell_type": "code",
   "execution_count": null,
   "metadata": {},
   "outputs": [],
   "source": [
    "# Randomly shuffle the rows\n",
    "returns_df.loc[np.random.permutation(returns_df.index)]"
   ]
  },
  {
   "cell_type": "markdown",
   "metadata": {},
   "source": [
    "### Pivot Tables"
   ]
  },
  {
   "cell_type": "code",
   "execution_count": 29,
   "metadata": {},
   "outputs": [
    {
     "data": {
      "text/html": [
       "<div>\n",
       "<style scoped>\n",
       "    .dataframe tbody tr th:only-of-type {\n",
       "        vertical-align: middle;\n",
       "    }\n",
       "\n",
       "    .dataframe tbody tr th {\n",
       "        vertical-align: top;\n",
       "    }\n",
       "\n",
       "    .dataframe thead th {\n",
       "        text-align: right;\n",
       "    }\n",
       "</style>\n",
       "<table border=\"1\" class=\"dataframe\">\n",
       "  <thead>\n",
       "    <tr style=\"text-align: right;\">\n",
       "      <th></th>\n",
       "      <th>Asset</th>\n",
       "      <th>Period</th>\n",
       "      <th>Return</th>\n",
       "      <th>Risk</th>\n",
       "    </tr>\n",
       "  </thead>\n",
       "  <tbody>\n",
       "    <tr>\n",
       "      <th>0</th>\n",
       "      <td>Technology</td>\n",
       "      <td>Q1</td>\n",
       "      <td>0.05</td>\n",
       "      <td>1</td>\n",
       "    </tr>\n",
       "    <tr>\n",
       "      <th>1</th>\n",
       "      <td>Finance</td>\n",
       "      <td>Q2</td>\n",
       "      <td>0.04</td>\n",
       "      <td>2</td>\n",
       "    </tr>\n",
       "    <tr>\n",
       "      <th>2</th>\n",
       "      <td>Manufacturing</td>\n",
       "      <td>Q1</td>\n",
       "      <td>0.06</td>\n",
       "      <td>3</td>\n",
       "    </tr>\n",
       "    <tr>\n",
       "      <th>3</th>\n",
       "      <td>Technology</td>\n",
       "      <td>Q2</td>\n",
       "      <td>0.03</td>\n",
       "      <td>4</td>\n",
       "    </tr>\n",
       "    <tr>\n",
       "      <th>4</th>\n",
       "      <td>Finance</td>\n",
       "      <td>Q1</td>\n",
       "      <td>0.07</td>\n",
       "      <td>5</td>\n",
       "    </tr>\n",
       "    <tr>\n",
       "      <th>5</th>\n",
       "      <td>Manufacturing</td>\n",
       "      <td>Q2</td>\n",
       "      <td>0.02</td>\n",
       "      <td>6</td>\n",
       "    </tr>\n",
       "  </tbody>\n",
       "</table>\n",
       "</div>"
      ],
      "text/plain": [
       "           Asset Period  Return  Risk\n",
       "0     Technology     Q1    0.05     1\n",
       "1        Finance     Q2    0.04     2\n",
       "2  Manufacturing     Q1    0.06     3\n",
       "3     Technology     Q2    0.03     4\n",
       "4        Finance     Q1    0.07     5\n",
       "5  Manufacturing     Q2    0.02     6"
      ]
     },
     "execution_count": 29,
     "metadata": {},
     "output_type": "execute_result"
    }
   ],
   "source": [
    "# Create investment return data\n",
    "investment_data = {\n",
    "    'Asset': ['Technology', 'Finance', 'Manufacturing', 'Technology', 'Finance', 'Manufacturing'],\n",
    "    'Period': ['Q1', 'Q2', 'Q1', 'Q2', 'Q1', 'Q2'],\n",
    "    'Return': [0.05, 0.04, 0.06, 0.03, 0.07, 0.02],\n",
    "    'Risk': [1, 2, 3, 4, 5, 6]\n",
    "}\n",
    "investment_df = pd.DataFrame(investment_data)\n",
    "investment_df"
   ]
  },
  {
   "cell_type": "code",
   "execution_count": 30,
   "metadata": {},
   "outputs": [
    {
     "data": {
      "text/html": [
       "<div>\n",
       "<style scoped>\n",
       "    .dataframe tbody tr th:only-of-type {\n",
       "        vertical-align: middle;\n",
       "    }\n",
       "\n",
       "    .dataframe tbody tr th {\n",
       "        vertical-align: top;\n",
       "    }\n",
       "\n",
       "    .dataframe thead tr th {\n",
       "        text-align: left;\n",
       "    }\n",
       "\n",
       "    .dataframe thead tr:last-of-type th {\n",
       "        text-align: right;\n",
       "    }\n",
       "</style>\n",
       "<table border=\"1\" class=\"dataframe\">\n",
       "  <thead>\n",
       "    <tr>\n",
       "      <th></th>\n",
       "      <th colspan=\"2\" halign=\"left\">Return</th>\n",
       "      <th colspan=\"2\" halign=\"left\">Risk</th>\n",
       "    </tr>\n",
       "    <tr>\n",
       "      <th>Period</th>\n",
       "      <th>Q1</th>\n",
       "      <th>Q2</th>\n",
       "      <th>Q1</th>\n",
       "      <th>Q2</th>\n",
       "    </tr>\n",
       "    <tr>\n",
       "      <th>Asset</th>\n",
       "      <th></th>\n",
       "      <th></th>\n",
       "      <th></th>\n",
       "      <th></th>\n",
       "    </tr>\n",
       "  </thead>\n",
       "  <tbody>\n",
       "    <tr>\n",
       "      <th>Finance</th>\n",
       "      <td>0.07</td>\n",
       "      <td>0.04</td>\n",
       "      <td>5</td>\n",
       "      <td>2</td>\n",
       "    </tr>\n",
       "    <tr>\n",
       "      <th>Manufacturing</th>\n",
       "      <td>0.06</td>\n",
       "      <td>0.02</td>\n",
       "      <td>3</td>\n",
       "      <td>6</td>\n",
       "    </tr>\n",
       "    <tr>\n",
       "      <th>Technology</th>\n",
       "      <td>0.05</td>\n",
       "      <td>0.03</td>\n",
       "      <td>1</td>\n",
       "      <td>4</td>\n",
       "    </tr>\n",
       "  </tbody>\n",
       "</table>\n",
       "</div>"
      ],
      "text/plain": [
       "              Return       Risk   \n",
       "Period            Q1    Q2   Q1 Q2\n",
       "Asset                             \n",
       "Finance         0.07  0.04    5  2\n",
       "Manufacturing   0.06  0.02    3  6\n",
       "Technology      0.05  0.03    1  4"
      ]
     },
     "execution_count": 30,
     "metadata": {},
     "output_type": "execute_result"
    }
   ],
   "source": [
    "# Create pivot table with Asset and Period\n",
    "investment_pivot = investment_df.pivot(index='Asset', columns='Period')\n",
    "investment_pivot"
   ]
  },
  {
   "cell_type": "code",
   "execution_count": 31,
   "metadata": {},
   "outputs": [
    {
     "data": {
      "text/html": [
       "<div>\n",
       "<style scoped>\n",
       "    .dataframe tbody tr th:only-of-type {\n",
       "        vertical-align: middle;\n",
       "    }\n",
       "\n",
       "    .dataframe tbody tr th {\n",
       "        vertical-align: top;\n",
       "    }\n",
       "\n",
       "    .dataframe thead tr th {\n",
       "        text-align: left;\n",
       "    }\n",
       "\n",
       "    .dataframe thead tr:last-of-type th {\n",
       "        text-align: right;\n",
       "    }\n",
       "</style>\n",
       "<table border=\"1\" class=\"dataframe\">\n",
       "  <thead>\n",
       "    <tr>\n",
       "      <th></th>\n",
       "      <th colspan=\"2\" halign=\"left\">Return</th>\n",
       "      <th colspan=\"2\" halign=\"left\">Risk</th>\n",
       "    </tr>\n",
       "    <tr>\n",
       "      <th>Period</th>\n",
       "      <th>Q1</th>\n",
       "      <th>Q2</th>\n",
       "      <th>Q1</th>\n",
       "      <th>Q2</th>\n",
       "    </tr>\n",
       "    <tr>\n",
       "      <th>Asset</th>\n",
       "      <th></th>\n",
       "      <th></th>\n",
       "      <th></th>\n",
       "      <th></th>\n",
       "    </tr>\n",
       "  </thead>\n",
       "  <tbody>\n",
       "    <tr>\n",
       "      <th>Finance</th>\n",
       "      <td>0.07</td>\n",
       "      <td>0.04</td>\n",
       "      <td>5.0</td>\n",
       "      <td>2.0</td>\n",
       "    </tr>\n",
       "    <tr>\n",
       "      <th>Manufacturing</th>\n",
       "      <td>0.06</td>\n",
       "      <td>0.02</td>\n",
       "      <td>3.0</td>\n",
       "      <td>6.0</td>\n",
       "    </tr>\n",
       "    <tr>\n",
       "      <th>Technology</th>\n",
       "      <td>0.05</td>\n",
       "      <td>0.03</td>\n",
       "      <td>1.0</td>\n",
       "      <td>4.0</td>\n",
       "    </tr>\n",
       "  </tbody>\n",
       "</table>\n",
       "</div>"
      ],
      "text/plain": [
       "              Return       Risk     \n",
       "Period            Q1    Q2   Q1   Q2\n",
       "Asset                               \n",
       "Finance         0.07  0.04  5.0  2.0\n",
       "Manufacturing   0.06  0.02  3.0  6.0\n",
       "Technology      0.05  0.03  1.0  4.0"
      ]
     },
     "execution_count": 31,
     "metadata": {},
     "output_type": "execute_result"
    }
   ],
   "source": [
    "# Create multi-level pivot table\n",
    "investment_pivot_multi = investment_df.pivot(index='Asset', columns='Period', values=['Return', 'Risk'])\n",
    "investment_pivot_multi"
   ]
  },
  {
   "cell_type": "markdown",
   "metadata": {},
   "source": [
    "## Additional Information"
   ]
  },
  {
   "cell_type": "markdown",
   "metadata": {},
   "source": [
    "### Backtesting\n",
    "\n",
    "Backtesting is a way of analysing the potential performance of a trading strategy by applying it to sets of real-world, historical data. Backtesting relies on the idea that strategies which produced good results on past data will likely perform well in current and future market conditions. Therefore, by trying out trading plans on previous datasets that closely relate to current prices, regulations and market conditions, we can test how well they perform before making a trade."
   ]
  },
  {
   "cell_type": "code",
   "execution_count": 32,
   "metadata": {},
   "outputs": [
    {
     "name": "stderr",
     "output_type": "stream",
     "text": [
      "C:\\Users\\user\\AppData\\Local\\Temp\\ipykernel_4824\\2123019282.py:4: FutureWarning: YF.download() has changed argument auto_adjust default to True\n",
      "  df = yf.download(\"2330.tw\", # ^TWII\n"
     ]
    }
   ],
   "source": [
    "import pandas as pd\n",
    "import numpy as np\n",
    "import yfinance as yf\n",
    "df = yf.download(\"2330.tw\", # ^TWII\n",
    "                 start=\"2023-01-01\",\n",
    "                 end=\"2030-12-31\",\n",
    "                 progress=False)"
   ]
  },
  {
   "cell_type": "code",
   "execution_count": 33,
   "metadata": {},
   "outputs": [],
   "source": [
    "import seaborn as sns\n",
    "import matplotlib.pyplot as plt\n",
    "%matplotlib inline\n",
    "from matplotlib import cycler\n",
    "colors = cycler('color',\n",
    "                ['#669FEE', '#66EE91', '#9988DD',\n",
    "                 '#EECC55', '#88BB44', '#FFBBBB'])\n",
    "plt.rc('figure', facecolor='#313233')\n",
    "plt.rc('axes', facecolor=\"#313233\", edgecolor='none',\n",
    "       axisbelow=True, grid=True, prop_cycle=colors,\n",
    "       labelcolor='gray')\n",
    "plt.rc('grid', color='474A4A', linestyle='solid')\n",
    "plt.rc('xtick', color='gray')\n",
    "plt.rc('ytick', direction='out', color='gray')\n",
    "plt.rc('legend', facecolor=\"#313233\", edgecolor=\"#313233\")\n",
    "plt.rc(\"text\", color=\"#C9C9C9\")"
   ]
  },
  {
   "cell_type": "code",
   "execution_count": 34,
   "metadata": {},
   "outputs": [
    {
     "data": {
      "image/png": "[encoded data removed]",
      "text/plain": [
       "<Figure size 1400x700 with 1 Axes>"
      ]
     },
     "metadata": {},
     "output_type": "display_data"
    }
   ],
   "source": [
    "import matplotlib.pyplot as plt\n",
    "df['Close'].plot(figsize=(14,7))\n",
    "plt.title('ETF 00940 Stock Close Price')\n",
    "plt.ylabel('Price')\n",
    "plt.show()"
   ]
  },
  {
   "cell_type": "markdown",
   "metadata": {},
   "source": [
    "#### Moving Average trading Strategy\n",
    "最基本的均線(Moving Average)判斷，設定短日均線(20日)和長日均線(50日)\n",
    "\n",
    "\n",
    "1. 當短日均線往上走超過長日均線時，表示股票進入上漲的趨勢，這時就選擇買進。\n",
    "\n",
    "2. 而當短日均線又再度與長日均線交叉時，表示股票開始下跌"
   ]
  },
  {
   "cell_type": "code",
   "execution_count": 35,
   "metadata": {},
   "outputs": [
    {
     "data": {
      "text/plain": [
       "<matplotlib.legend.Legend at 0x1ce7ff5f0b0>"
      ]
     },
     "execution_count": 35,
     "metadata": {},
     "output_type": "execute_result"
    },
    {
     "data": {
      "image/png": "[encoded data removed]",
      "text/plain": [
       "<Figure size 1400x700 with 1 Axes>"
      ]
     },
     "metadata": {},
     "output_type": "display_data"
    }
   ],
   "source": [
    "# Define long and short window\n",
    "short_window = 20\n",
    "long_window = 50\n",
    "\n",
    "# Calculate moving averages\n",
    "df['short_mavg'] = df['Close'].rolling(short_window).mean()\n",
    "df['long_mavg'] = df['Close'].rolling(long_window).mean()\n",
    "\n",
    "# Plot close price and moving averages\n",
    "# plot_data = data[-500:]\n",
    "plt.figure(figsize=(14, 7))\n",
    "plt.title('Long and Short Moving Averages', fontsize=14)\n",
    "plt.xlabel('Date')\n",
    "plt.ylabel('Price')\n",
    "plt.plot(df['Close'], label='Close')\n",
    "plt.plot(df['short_mavg'], label='20-Day Moving Average')\n",
    "plt.plot(df['long_mavg'], label='50-Day Moving Average')\n",
    "plt.legend()"
   ]
  },
  {
   "cell_type": "code",
   "execution_count": 36,
   "metadata": {},
   "outputs": [
    {
     "data": {
      "image/png": "[encoded data removed]",
      "text/plain": [
       "<Figure size 1400x700 with 1 Axes>"
      ]
     },
     "metadata": {},
     "output_type": "display_data"
    }
   ],
   "source": [
    "# Take long positions\n",
    "df['Buy_Signal'] = np.where(df['short_mavg'] > df['long_mavg'], 1, 0)\n",
    "# Take short positions\n",
    "df['Sell_Signal'] = np.where(df['short_mavg'] < df['long_mavg'], -1, 0)\n",
    "# 這個厲害\n",
    "df['positions'] = df['Buy_Signal'] + df['Sell_Signal']\n",
    "\n",
    "# Plot close price and moving averages\n",
    "# plot_data = data[-3000:]\n",
    "plt.figure(figsize=(14, 7))\n",
    "plt.title('Long and Short Signal', fontsize=14)\n",
    "plt.xlabel('Date')\n",
    "plt.ylabel('Price')\n",
    "plt.plot(df['Close'], label='Close')\n",
    "plt.plot(df['short_mavg'], label='20-Day Moving Average')\n",
    "plt.plot(df['long_mavg'], label='50-day Moving Average')\n",
    "\n",
    "# 何時 買進, 原本平倉時\n",
    "# \n",
    "plt.plot(df[(df['Buy_Signal'] == 1) & (df['Buy_Signal'].shift(1) == 0)]['short_mavg'], \n",
    "         '^', ms=15, label='Buy Signal', color='green')\n",
    "# 何時 賣出, 原本平倉時\n",
    "# \n",
    "plt.plot(df[(df['Sell_Signal'] == -1) & (df['Sell_Signal'].shift(1) == 0)]['short_mavg'],\n",
    "         'v', ms=15, label='Sell Signal', color='red')\n",
    "\n",
    "plt.legend()\n",
    "plt.show()"
   ]
  },
  {
   "cell_type": "code",
   "execution_count": 37,
   "metadata": {},
   "outputs": [
    {
     "data": {
      "image/png": "[encoded data removed]",
      "text/plain": [
       "<Figure size 1400x700 with 1 Axes>"
      ]
     },
     "metadata": {},
     "output_type": "display_data"
    }
   ],
   "source": [
    "# Calculate daily returns\n",
    "df['returns'] = df['Close'].pct_change()\n",
    "\n",
    "# Calculate strategy returns\n",
    "df['strategy_returns'] = df['returns'] * df['positions'].shift(1)\n",
    "\n",
    "# Plot cumulative returns\n",
    "Buy_n_hold_returns = (df['returns'] + 1).cumprod()\n",
    "cumulative_returns = (df['strategy_returns'] + 1).cumprod()\n",
    "cumulative_returns.plot(figsize=(14, 7))\n",
    "Buy_n_hold_returns.plot()\n",
    "plt.title('Cumulative Strategy Returns')\n",
    "plt.legend()\n",
    "plt.show()"
   ]
  },
  {
   "cell_type": "markdown",
   "metadata": {},
   "source": [
    "#### Drawdown\n",
    "Max drawdown(簡稱MDD)的中文是最大回檔幅度，又稱最大交易回落、最大交易回撤，意思是指帳戶淨值從最高點到最低點的滑落程度，通常會以百分比顯示。\n",
    "知道MDD的意義在於：讓我們知道從任一時間點進場可能遇到的最糟狀況。\n",
    "\n",
    "**MDD的計算公式 = (最高時期價值 – 最低時期價值) ÷ 最高時期價值**\n",
    "\n",
    "舉例來說，假設你的投資組合最高時期價值是100萬，最低時期價值是50萬，那MDD就是 = (100萬 – 50萬) ÷ 100萬 = 50%. 也就是說，你的投資組合在最糟的狀況下，會損失50%的價值。"
   ]
  },
  {
   "cell_type": "code",
   "execution_count": 38,
   "metadata": {},
   "outputs": [
    {
     "name": "stdout",
     "output_type": "stream",
     "text": [
      "Annualised returns of strategy is 18.35%\n",
      "The annualised_volatility is 29.73384002558746\n",
      "The risk free rate is 3.968253968253968e-05\n",
      "The sharpe ratio is 0.6829192492643141\n",
      "The maximum drawdown is -24.53703448180701\n"
     ]
    }
   ],
   "source": [
    "# Total number of trading days\n",
    "days = len(cumulative_returns)\n",
    "\n",
    "# Calculate compounded annual growth rate\n",
    "# We will use 252 instead of 365, as the number of trading days in a year is 252\n",
    "\n",
    "annualised_returns = (cumulative_returns.iloc[-1]**(252/days)-1)*100\n",
    "\n",
    "# Calculate annualised volatility\n",
    "annualised_volatility = np.std(df.strategy_returns)*(252**0.5)*100\n",
    "\n",
    "#Assume an average annual risk-free rate is 1%\n",
    "risk_free_rate = 0.01/252\n",
    "sharpe_ratio = np.sqrt(252)*(np.mean(df.strategy_returns) -\n",
    "(risk_free_rate))/np.std(df.strategy_returns)\n",
    "\n",
    "# Calculate the running maximum\n",
    "running_max = np.maximum.accumulate(cumulative_returns.dropna())\n",
    "# Ensure the value never drops below 1\n",
    "running_max[running_max < 1] = 1\n",
    "\n",
    "# Calculate the percentage drawdown\n",
    "drawdown = (cumulative_returns)/running_max - 1\n",
    "max_dd = drawdown.min()*100\n",
    "print('Annualised returns of strategy is %.2f' % annualised_returns + '%')\n",
    "print('The annualised_volatility is', annualised_volatility)\n",
    "print('The risk free rate is', risk_free_rate)\n",
    "print('The sharpe ratio is', sharpe_ratio)\n",
    "print('The maximum drawdown is', max_dd)"
   ]
  }
 ],
 "metadata": {
  "kernelspec": {
   "display_name": "Python 3",
   "language": "python",
   "name": "python3"
  },
  "language_info": {
   "codemirror_mode": {
    "name": "ipython",
    "version": 3
   },
   "file_extension": ".py",
   "mimetype": "text/x-python",
   "name": "python",
   "nbconvert_exporter": "python",
   "pygments_lexer": "ipython3",
   "version": "3.12.7"
  }
 },
 "nbformat": 4,
 "nbformat_minor": 2
}
