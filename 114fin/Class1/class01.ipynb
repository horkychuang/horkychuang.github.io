{
 "cells": [
  {
   "cell_type": "markdown",
   "metadata": {},
   "source": [
    "### using the Python"
   ]
  },
  {
   "cell_type": "code",
   "execution_count": 1,
   "metadata": {},
   "outputs": [
    {
     "name": "stdout",
     "output_type": "stream",
     "text": [
      "Hello world\n"
     ]
    }
   ],
   "source": [
    "print('Hello world')"
   ]
  },
  {
   "cell_type": "markdown",
   "metadata": {},
   "source": [
    "### Variables\n",
    "In financial analysis, variables are commonly used to store information such as stock prices, returns, investment amounts, etc.\n",
    "- Investment amount (integer)"
   ]
  },
  {
   "cell_type": "code",
   "execution_count": 2,
   "metadata": {},
   "outputs": [
    {
     "name": "stdout",
     "output_type": "stream",
     "text": [
      "Initial Investment = 100000\n"
     ]
    }
   ],
   "source": [
    "initial_investment = 100000 # 100,000 TWD\n",
    "print('Initial Investment =', initial_investment)"
   ]
  },
  {
   "cell_type": "markdown",
   "metadata": {},
   "source": [
    "#### Numeric variables"
   ]
  },
  {
   "cell_type": "markdown",
   "metadata": {},
   "source": [
    "##### float (Floating-point numbers)\n",
    "- Floating-point numbers are commonly used to represent financial data with decimals, such as stock prices, exchange rates, interest rates, and returns."
   ]
  },
  {
   "cell_type": "code",
   "execution_count": 3,
   "metadata": {},
   "outputs": [
    {
     "data": {
      "text/plain": [
       "float"
      ]
     },
     "execution_count": 3,
     "metadata": {},
     "output_type": "execute_result"
    }
   ],
   "source": [
    "# TSMC stock price\n",
    "stock_price = 1234.5\n",
    "type(stock_price)"
   ]
  },
  {
   "cell_type": "code",
   "execution_count": 4,
   "metadata": {},
   "outputs": [
    {
     "name": "stdout",
     "output_type": "stream",
     "text": [
      "True\n"
     ]
    }
   ],
   "source": [
    "# Market risk factor (small value)\n",
    "risk_factor = 0.00008\n",
    "risk_factor_alt = 8e-5 # 8 x 10^(-5)\n",
    "\n",
    "print(risk_factor == risk_factor_alt) # Check if values are equal"
   ]
  },
  {
   "cell_type": "markdown",
   "metadata": {},
   "source": [
    "##### integer\n",
    "- Integers are typically used for counting, such as number of trades, shares held, or trading days."
   ]
  },
  {
   "cell_type": "code",
   "execution_count": 5,
   "metadata": {},
   "outputs": [
    {
     "data": {
      "text/plain": [
       "int"
      ]
     },
     "execution_count": 5,
     "metadata": {},
     "output_type": "execute_result"
    }
   ],
   "source": [
    "# Number of shares held\n",
    "shares_held = 57\n",
    "type(shares_held)"
   ]
  },
  {
   "cell_type": "markdown",
   "metadata": {},
   "source": [
    "##### Operations on numbers\n",
    "- Arithmetic Operations: to calculate investment returns, portfolio value, compound interest, etc."
   ]
  },
  {
   "cell_type": "code",
   "execution_count": 6,
   "metadata": {},
   "outputs": [
    {
     "name": "stdout",
     "output_type": "stream",
     "text": [
      "8\n",
      "-2\n",
      "15\n",
      "0.6\n",
      "243\n"
     ]
    }
   ],
   "source": [
    "# Investment-related values\n",
    "initial_capital = 3\n",
    "return_rate = 5\n",
    "\n",
    "# Calculate investment returns\n",
    "print(initial_capital + return_rate) # Total assets\n",
    "print(initial_capital - return_rate) # Profit and loss calculation\n",
    "print(initial_capital * return_rate) # Total investment\n",
    "print(initial_capital / return_rate) # Average cost\n",
    "print(initial_capital ** return_rate) # Compound growth\n"
   ]
  },
  {
   "cell_type": "markdown",
   "metadata": {},
   "source": [
    "#### Strings\n",
    "- for storing stock symbols, company names, or trading strategy names"
   ]
  },
  {
   "cell_type": "code",
   "execution_count": 7,
   "metadata": {},
   "outputs": [
    {
     "data": {
      "text/plain": [
       "str"
      ]
     },
     "execution_count": 7,
     "metadata": {},
     "output_type": "execute_result"
    }
   ],
   "source": [
    "# Investor's first name\n",
    "first_name = \"Harry\"\n",
    "type(first_name)"
   ]
  },
  {
   "cell_type": "code",
   "execution_count": 8,
   "metadata": {},
   "outputs": [
    {
     "data": {
      "text/plain": [
       "False"
      ]
     },
     "execution_count": 8,
     "metadata": {},
     "output_type": "execute_result"
    }
   ],
   "source": [
    "# Company name\n",
    "company_name = \"Taiwan Semiconductor\"\n",
    "\"semi\" in company_name # Check if keyword is present "
   ]
  },
  {
   "cell_type": "code",
   "execution_count": 9,
   "metadata": {},
   "outputs": [
    {
     "name": "stdout",
     "output_type": "stream",
     "text": [
      "STK001\n",
      "STKSTKSTK\n"
     ]
    }
   ],
   "source": [
    "# Combine financial instrument codes\n",
    "prefix = \"STK\"\n",
    "suffix = \"001\"\n",
    "\n",
    "print(prefix + suffix) # Concatenate strings, e.g., to form financial codes\n",
    "print(prefix * 3) # Repeat string, useful for labeling or identification"
   ]
  },
  {
   "cell_type": "markdown",
   "metadata": {},
   "source": [
    "### Boolean\n",
    "- evaluate conditions, such as whether a stop-loss is triggered or investment criteria are met."
   ]
  },
  {
   "cell_type": "code",
   "execution_count": 10,
   "metadata": {},
   "outputs": [
    {
     "data": {
      "text/plain": [
       "True"
      ]
     },
     "execution_count": 10,
     "metadata": {},
     "output_type": "execute_result"
    }
   ],
   "source": [
    "# Check if market return falls within a reasonable range\n",
    "market_return = 10\n",
    "(market_return >= 5) & (market_return <= 11)"
   ]
  },
  {
   "cell_type": "markdown",
   "metadata": {},
   "source": [
    "#### Dynamically typed\n",
    "- Python is a Dynamically Typed Language\n",
    "-- This is common in financial data processing, such as handling market data in different formats."
   ]
  },
  {
   "cell_type": "code",
   "execution_count": 1,
   "metadata": {},
   "outputs": [],
   "source": [
    "x = 14 # Integer: trading volume\n",
    "x = 23.6 # Float: stock price\n",
    "x = \"Financial Report Q1\" # String: report name\n",
    "x = True # Boolean: whether investment criteria are met"
   ]
  },
  {
   "cell_type": "markdown",
   "metadata": {},
   "source": [
    "## Data Structure"
   ]
  },
  {
   "cell_type": "markdown",
   "metadata": {},
   "source": [
    "### Lists\n",
    "- for storing time-series data such as stock prices, transaction records, or investment portfolios."
   ]
  },
  {
   "cell_type": "code",
   "execution_count": 2,
   "metadata": {},
   "outputs": [
    {
     "data": {
      "text/plain": [
       "['TSMC', 345.6, True, 'MediaTek', 980.5]"
      ]
     },
     "execution_count": 2,
     "metadata": {},
     "output_type": "execute_result"
    }
   ],
   "source": [
    "# Investment portfolio list\n",
    "portfolio = [\"TSMC\", 345.6, True, \"MediaTek\", 980.5]\n",
    "portfolio "
   ]
  },
  {
   "cell_type": "code",
   "execution_count": 3,
   "metadata": {},
   "outputs": [
    {
     "data": {
      "text/plain": [
       "5"
      ]
     },
     "execution_count": 3,
     "metadata": {},
     "output_type": "execute_result"
    }
   ],
   "source": [
    "# Check portfolio length\n",
    "len(portfolio) "
   ]
  },
  {
   "cell_type": "code",
   "execution_count": 4,
   "metadata": {},
   "outputs": [
    {
     "data": {
      "text/plain": [
       "[True, 'MediaTek', 980.5]"
      ]
     },
     "execution_count": 4,
     "metadata": {},
     "output_type": "execute_result"
    }
   ],
   "source": [
    "# Access specific assets\n",
    "portfolio[0] # First stock\n",
    "portfolio[2:5] # Third to fifth items\n",
    "portfolio[:3] # First three items\n",
    "portfolio[2:] # From third item onward"
   ]
  },
  {
   "cell_type": "code",
   "execution_count": 15,
   "metadata": {},
   "outputs": [
    {
     "data": {
      "text/plain": [
       "[True, 'MediaTek']"
      ]
     },
     "execution_count": 15,
     "metadata": {},
     "output_type": "execute_result"
    }
   ],
   "source": [
    "# Use negative indexing\n",
    "portfolio[-1] # Last item\n",
    "portfolio[:-1] # All except last\n",
    "portfolio[-3:] # From third-to-last onward\n",
    "portfolio[-3:-1] # Third-to-last to second-to-last"
   ]
  },
  {
   "cell_type": "code",
   "execution_count": 16,
   "metadata": {},
   "outputs": [
    {
     "data": {
      "text/plain": [
       "[['TSMC', 345.6], ['MediaTek', 980.5]]"
      ]
     },
     "execution_count": 16,
     "metadata": {},
     "output_type": "execute_result"
    }
   ],
   "source": [
    "# Nested portfolio (multi-dimensional)\n",
    "nested_portfolio = [[\"TSMC\", 345.6], [\"MediaTek\", 980.5]]\n",
    "nested_portfolio"
   ]
  },
  {
   "cell_type": "code",
   "execution_count": 17,
   "metadata": {},
   "outputs": [
    {
     "data": {
      "text/plain": [
       "True"
      ]
     },
     "execution_count": 17,
     "metadata": {},
     "output_type": "execute_result"
    }
   ],
   "source": [
    "# Check if a stock is in the portfolio\n",
    "\"MediaTek\" in portfolio"
   ]
  },
  {
   "cell_type": "markdown",
   "metadata": {},
   "source": [
    "### Tuples\n",
    "- for storing immutable financial data, such as historical prices or fixed investment strategies."
   ]
  },
  {
   "cell_type": "code",
   "execution_count": 18,
   "metadata": {},
   "outputs": [
    {
     "data": {
      "text/plain": [
       "('TSMC', 345.6, True)"
      ]
     },
     "execution_count": 18,
     "metadata": {},
     "output_type": "execute_result"
    }
   ],
   "source": [
    "# Fixed investment data\n",
    "historical_data = (\"TSMC\", 345.6, True, \"MediaTek\", 980.5)\n",
    "historical_data[:3]"
   ]
  },
  {
   "cell_type": "code",
   "execution_count": 19,
   "metadata": {},
   "outputs": [
    {
     "name": "stdout",
     "output_type": "stream",
     "text": [
      "Tuples cannot be modified, error occurred: 'tuple' object does not support item assignment\n"
     ]
    }
   ],
   "source": [
    "# Attempt to modify tuple (will raise an error)\n",
    "try:\n",
    "    historical_data[0] = \"Hon Hai\"\n",
    "except TypeError as e:\n",
    "    print(\"Tuples cannot be modified, error occurred:\", e)"
   ]
  },
  {
   "cell_type": "markdown",
   "metadata": {},
   "source": [
    "### Dictionaries\n",
    "- store structured information such as investor profiles, company financial statements, or transaction records."
   ]
  },
  {
   "cell_type": "code",
   "execution_count": 20,
   "metadata": {},
   "outputs": [],
   "source": [
    "# Investor profile\n",
    "investor_profile = {\n",
    "\"first_name\": \"Harry\",\n",
    "\"last_name\": \"Porter\",\n",
    "\"age\": 30,\n",
    "\"address\": \"124 Main St\",\n",
    "\"employed\": True,\n",
    "}"
   ]
  },
  {
   "cell_type": "code",
   "execution_count": 21,
   "metadata": {},
   "outputs": [
    {
     "data": {
      "text/plain": [
       "'Harry'"
      ]
     },
     "execution_count": 21,
     "metadata": {},
     "output_type": "execute_result"
    }
   ],
   "source": [
    "# Retrieve investor's first name\n",
    "investor_profile[\"first_name\"]"
   ]
  },
  {
   "cell_type": "code",
   "execution_count": 22,
   "metadata": {},
   "outputs": [
    {
     "data": {
      "text/plain": [
       "{'first_name': 'Harry',\n",
       " 'last_name': 'Porter',\n",
       " 'age': 30,\n",
       " 'address': '123 Main St',\n",
       " 'employed': False}"
      ]
     },
     "execution_count": 22,
     "metadata": {},
     "output_type": "execute_result"
    }
   ],
   "source": [
    "# Update investor information\n",
    "investor_profile[\"address\"] = \"123 Main St\"\n",
    "investor_profile[\"employed\"] = False\n",
    "investor_profile"
   ]
  },
  {
   "cell_type": "code",
   "execution_count": 23,
   "metadata": {},
   "outputs": [
    {
     "data": {
      "text/plain": [
       "dict_keys(['first_name', 'last_name', 'age', 'address', 'employed'])"
      ]
     },
     "execution_count": 23,
     "metadata": {},
     "output_type": "execute_result"
    }
   ],
   "source": [
    "# Get keys and values\n",
    "investor_profile.keys()"
   ]
  },
  {
   "cell_type": "code",
   "execution_count": 24,
   "metadata": {},
   "outputs": [
    {
     "data": {
      "text/plain": [
       "dict_values(['Harry', 'Porter', 30, '123 Main St', False])"
      ]
     },
     "execution_count": 24,
     "metadata": {},
     "output_type": "execute_result"
    }
   ],
   "source": [
    "investor_profile.values()"
   ]
  },
  {
   "cell_type": "code",
   "execution_count": 25,
   "metadata": {},
   "outputs": [
    {
     "data": {
      "text/plain": [
       "{'first_name': 'Harry', 'last_name': 'Porter', 'address': '124 Main St'}"
      ]
     },
     "execution_count": 25,
     "metadata": {},
     "output_type": "execute_result"
    }
   ],
   "source": [
    "# Create dictionary from list of key-value pairs\n",
    "key_value_pairs = [('first_name', 'Harry'), ('last_name', 'Porter'), ('address', '124 Main St')]\n",
    "dict(key_value_pairs)"
   ]
  },
  {
   "cell_type": "code",
   "execution_count": 26,
   "metadata": {},
   "outputs": [
    {
     "data": {
      "text/plain": [
       "{'first_name': 'Harry', 'last_name': 'Porter', 'address': '124 Main St'}"
      ]
     },
     "execution_count": 26,
     "metadata": {},
     "output_type": "execute_result"
    }
   ],
   "source": [
    "# Create dictionary from two lists\n",
    "keys = ['first_name', 'last_name', 'address']\n",
    "values = ['Harry', 'Porter', '124 Main St']\n",
    "dict(zip(keys, values))"
   ]
  },
  {
   "cell_type": "markdown",
   "metadata": {},
   "source": [
    "### Sets\n",
    "- handling unique trading instruments, investor IDs, or market sectors."
   ]
  },
  {
   "cell_type": "code",
   "execution_count": 27,
   "metadata": {},
   "outputs": [
    {
     "data": {
      "text/plain": [
       "{'Acer', 'Hon Hai', 'MediaTek', 'TSMC'}"
      ]
     },
     "execution_count": 27,
     "metadata": {},
     "output_type": "execute_result"
    }
   ],
   "source": [
    "# Unique trading instruments\n",
    "stocks = {\"TSMC\", \"Hon Hai\", \"MediaTek\"}\n",
    "stocks.add(\"Acer\")\n",
    "stocks"
   ]
  },
  {
   "cell_type": "code",
   "execution_count": 28,
   "metadata": {},
   "outputs": [
    {
     "data": {
      "text/plain": [
       "{'AAPL', 'BOND', 'GOLD', 'GOOGL', 'MSFT', 'TSLA'}"
      ]
     },
     "execution_count": 28,
     "metadata": {},
     "output_type": "execute_result"
    }
   ],
   "source": [
    "# Set of unique financial assets (e.g., stock tickers or asset types)\n",
    "financial_assets = {\"AAPL\", \"TSLA\", \"GOOGL\", \"BOND\", \"GOLD\", \"MSFT\"}\n",
    "financial_assets"
   ]
  },
  {
   "cell_type": "code",
   "execution_count": 29,
   "metadata": {},
   "outputs": [
    {
     "data": {
      "text/plain": [
       "{'Consumer Discretionary', 'Financials', 'Healthcare', 'Technology'}"
      ]
     },
     "execution_count": 29,
     "metadata": {},
     "output_type": "execute_result"
    }
   ],
   "source": [
    "# Set of current market sectors in portfolio\n",
    "portfolio_sectors = {\"Technology\", \"Consumer Discretionary\", \"Healthcare\"}\n",
    "portfolio_sectors.add(\"Financials\")  # Adding a new sector to diversify\n",
    "portfolio_sectors"
   ]
  },
  {
   "cell_type": "code",
   "execution_count": 30,
   "metadata": {},
   "outputs": [
    {
     "data": {
      "text/plain": [
       "{'Financials', 'Healthcare', 'Technology'}"
      ]
     },
     "execution_count": 30,
     "metadata": {},
     "output_type": "execute_result"
    }
   ],
   "source": [
    "# Remove a sector no longer aligned with investment strategy\n",
    "portfolio_sectors.discard(\"Consumer Discretionary\")\n",
    "portfolio_sectors"
   ]
  },
  {
   "cell_type": "code",
   "execution_count": 31,
   "metadata": {},
   "outputs": [],
   "source": [
    "# # Set operations\n",
    "market_sectors = {\"Technology\", \"Finance\", \"Manufacturing\"}\n",
    "favorite_sectors = {\"Technology\", \"Healthcare\"}"
   ]
  },
  {
   "cell_type": "markdown",
   "metadata": {},
   "source": [
    "### Additional Information\n",
    "#### Introduction\n",
    "One of the most popular sources of free financial data is <mark>Yahoo Finance</mark>. It contains not only historical and current stock prices in different frequencies (daily,weekly, and monthly), but also calculated metrics, such as the beta (a measure of the volatility of an individual asset in comparison to the volatility of the entire market), fundamentals, earnings information/calendars, and many more."
   ]
  },
  {
   "cell_type": "code",
   "execution_count": 11,
   "metadata": {},
   "outputs": [],
   "source": [
    "# Library\n",
    "# pip install yfinance\n",
    "# Import the libraries:\n",
    "\n",
    "import pandas as pd \n",
    "import yfinance as yf"
   ]
  },
  {
   "cell_type": "markdown",
   "metadata": {},
   "source": [
    "#### yf.download\n",
    "Two Approaches yf.download and yf.history"
   ]
  },
  {
   "cell_type": "code",
   "execution_count": null,
   "metadata": {},
   "outputs": [
    {
     "name": "stderr",
     "output_type": "stream",
     "text": [
      "C:\\Users\\user\\AppData\\Local\\Temp\\ipykernel_17552\\3388673670.py:2: FutureWarning: YF.download() has changed argument auto_adjust default to True\n",
      "  df = yf.download(\"AAPL\", start=\"2020-01-01\", end=\"2030-12-31\").tz_localize(None)\n",
      "[*********************100%***********************]  1 of 1 completed\n",
      "C:\\Users\\user\\AppData\\Local\\Temp\\ipykernel_17552\\3388673670.py:4: FutureWarning: YF.download() has changed argument auto_adjust default to True\n",
      "  df2 = yf.download(\"2303.tw\", # ^TWII\n"
     ]
    },
    {
     "name": "stdout",
     "output_type": "stream",
     "text": [
      "<class 'pandas.core.frame.DataFrame'>\n",
      "DatetimeIndex: 1421 entries, 2020-01-02 to 2025-08-27\n",
      "Data columns (total 5 columns):\n",
      " #   Column          Non-Null Count  Dtype  \n",
      "---  ------          --------------  -----  \n",
      " 0   (Close, AAPL)   1421 non-null   float64\n",
      " 1   (High, AAPL)    1421 non-null   float64\n",
      " 2   (Low, AAPL)     1421 non-null   float64\n",
      " 3   (Open, AAPL)    1421 non-null   float64\n",
      " 4   (Volume, AAPL)  1421 non-null   int64  \n",
      "dtypes: float64(4), int64(1)\n",
      "memory usage: 66.6 KB\n"
     ]
    },
    {
     "data": {
      "text/html": [
       "<div>\n",
       "<style scoped>\n",
       "    .dataframe tbody tr th:only-of-type {\n",
       "        vertical-align: middle;\n",
       "    }\n",
       "\n",
       "    .dataframe tbody tr th {\n",
       "        vertical-align: top;\n",
       "    }\n",
       "\n",
       "    .dataframe thead tr th {\n",
       "        text-align: left;\n",
       "    }\n",
       "\n",
       "    .dataframe thead tr:last-of-type th {\n",
       "        text-align: right;\n",
       "    }\n",
       "</style>\n",
       "<table border=\"1\" class=\"dataframe\">\n",
       "  <thead>\n",
       "    <tr>\n",
       "      <th>Price</th>\n",
       "      <th>Close</th>\n",
       "      <th>High</th>\n",
       "      <th>Low</th>\n",
       "      <th>Open</th>\n",
       "      <th>Volume</th>\n",
       "    </tr>\n",
       "    <tr>\n",
       "      <th>Ticker</th>\n",
       "      <th>2303.TW</th>\n",
       "      <th>2303.TW</th>\n",
       "      <th>2303.TW</th>\n",
       "      <th>2303.TW</th>\n",
       "      <th>2303.TW</th>\n",
       "    </tr>\n",
       "    <tr>\n",
       "      <th>Date</th>\n",
       "      <th></th>\n",
       "      <th></th>\n",
       "      <th></th>\n",
       "      <th></th>\n",
       "      <th></th>\n",
       "    </tr>\n",
       "  </thead>\n",
       "  <tbody>\n",
       "    <tr>\n",
       "      <th>2025-07-30</th>\n",
       "      <td>42.549999</td>\n",
       "      <td>42.900002</td>\n",
       "      <td>42.099998</td>\n",
       "      <td>42.799999</td>\n",
       "      <td>45900200</td>\n",
       "    </tr>\n",
       "    <tr>\n",
       "      <th>2025-07-31</th>\n",
       "      <td>41.549999</td>\n",
       "      <td>42.250000</td>\n",
       "      <td>41.549999</td>\n",
       "      <td>42.250000</td>\n",
       "      <td>42952609</td>\n",
       "    </tr>\n",
       "    <tr>\n",
       "      <th>2025-08-04</th>\n",
       "      <td>41.200001</td>\n",
       "      <td>41.549999</td>\n",
       "      <td>40.500000</td>\n",
       "      <td>40.900002</td>\n",
       "      <td>35962931</td>\n",
       "    </tr>\n",
       "    <tr>\n",
       "      <th>2025-08-05</th>\n",
       "      <td>41.400002</td>\n",
       "      <td>41.650002</td>\n",
       "      <td>41.299999</td>\n",
       "      <td>41.349998</td>\n",
       "      <td>27774547</td>\n",
       "    </tr>\n",
       "    <tr>\n",
       "      <th>2025-08-06</th>\n",
       "      <td>40.700001</td>\n",
       "      <td>41.000000</td>\n",
       "      <td>40.349998</td>\n",
       "      <td>40.950001</td>\n",
       "      <td>42323182</td>\n",
       "    </tr>\n",
       "    <tr>\n",
       "      <th>2025-08-07</th>\n",
       "      <td>40.400002</td>\n",
       "      <td>40.799999</td>\n",
       "      <td>40.400002</td>\n",
       "      <td>40.500000</td>\n",
       "      <td>52613355</td>\n",
       "    </tr>\n",
       "    <tr>\n",
       "      <th>2025-08-08</th>\n",
       "      <td>40.500000</td>\n",
       "      <td>40.599998</td>\n",
       "      <td>40.200001</td>\n",
       "      <td>40.400002</td>\n",
       "      <td>34741791</td>\n",
       "    </tr>\n",
       "    <tr>\n",
       "      <th>2025-08-11</th>\n",
       "      <td>40.400002</td>\n",
       "      <td>40.650002</td>\n",
       "      <td>40.299999</td>\n",
       "      <td>40.400002</td>\n",
       "      <td>24697504</td>\n",
       "    </tr>\n",
       "    <tr>\n",
       "      <th>2025-08-12</th>\n",
       "      <td>40.650002</td>\n",
       "      <td>40.849998</td>\n",
       "      <td>40.349998</td>\n",
       "      <td>40.599998</td>\n",
       "      <td>24073607</td>\n",
       "    </tr>\n",
       "    <tr>\n",
       "      <th>2025-08-13</th>\n",
       "      <td>40.750000</td>\n",
       "      <td>41.000000</td>\n",
       "      <td>40.400002</td>\n",
       "      <td>40.799999</td>\n",
       "      <td>29479379</td>\n",
       "    </tr>\n",
       "    <tr>\n",
       "      <th>2025-08-14</th>\n",
       "      <td>40.799999</td>\n",
       "      <td>41.000000</td>\n",
       "      <td>40.750000</td>\n",
       "      <td>40.849998</td>\n",
       "      <td>25526067</td>\n",
       "    </tr>\n",
       "    <tr>\n",
       "      <th>2025-08-15</th>\n",
       "      <td>41.200001</td>\n",
       "      <td>41.599998</td>\n",
       "      <td>41.000000</td>\n",
       "      <td>41.099998</td>\n",
       "      <td>33021625</td>\n",
       "    </tr>\n",
       "    <tr>\n",
       "      <th>2025-08-18</th>\n",
       "      <td>40.400002</td>\n",
       "      <td>40.900002</td>\n",
       "      <td>40.200001</td>\n",
       "      <td>40.900002</td>\n",
       "      <td>50417766</td>\n",
       "    </tr>\n",
       "    <tr>\n",
       "      <th>2025-08-19</th>\n",
       "      <td>41.049999</td>\n",
       "      <td>41.049999</td>\n",
       "      <td>40.099998</td>\n",
       "      <td>40.299999</td>\n",
       "      <td>32207923</td>\n",
       "    </tr>\n",
       "    <tr>\n",
       "      <th>2025-08-20</th>\n",
       "      <td>41.900002</td>\n",
       "      <td>42.500000</td>\n",
       "      <td>41.500000</td>\n",
       "      <td>41.500000</td>\n",
       "      <td>109360639</td>\n",
       "    </tr>\n",
       "    <tr>\n",
       "      <th>2025-08-21</th>\n",
       "      <td>41.400002</td>\n",
       "      <td>42.049999</td>\n",
       "      <td>41.400002</td>\n",
       "      <td>42.000000</td>\n",
       "      <td>46125182</td>\n",
       "    </tr>\n",
       "    <tr>\n",
       "      <th>2025-08-22</th>\n",
       "      <td>40.599998</td>\n",
       "      <td>41.200001</td>\n",
       "      <td>40.599998</td>\n",
       "      <td>41.150002</td>\n",
       "      <td>24604317</td>\n",
       "    </tr>\n",
       "    <tr>\n",
       "      <th>2025-08-25</th>\n",
       "      <td>40.549999</td>\n",
       "      <td>40.900002</td>\n",
       "      <td>40.549999</td>\n",
       "      <td>40.849998</td>\n",
       "      <td>21425973</td>\n",
       "    </tr>\n",
       "    <tr>\n",
       "      <th>2025-08-26</th>\n",
       "      <td>41.799999</td>\n",
       "      <td>41.799999</td>\n",
       "      <td>40.349998</td>\n",
       "      <td>40.500000</td>\n",
       "      <td>64111108</td>\n",
       "    </tr>\n",
       "    <tr>\n",
       "      <th>2025-08-27</th>\n",
       "      <td>40.950001</td>\n",
       "      <td>41.299999</td>\n",
       "      <td>40.900002</td>\n",
       "      <td>41.200001</td>\n",
       "      <td>30264987</td>\n",
       "    </tr>\n",
       "  </tbody>\n",
       "</table>\n",
       "</div>"
      ],
      "text/plain": [
       "Price           Close       High        Low       Open     Volume\n",
       "Ticker        2303.TW    2303.TW    2303.TW    2303.TW    2303.TW\n",
       "Date                                                             \n",
       "2025-07-30  42.549999  42.900002  42.099998  42.799999   45900200\n",
       "2025-07-31  41.549999  42.250000  41.549999  42.250000   42952609\n",
       "2025-08-04  41.200001  41.549999  40.500000  40.900002   35962931\n",
       "2025-08-05  41.400002  41.650002  41.299999  41.349998   27774547\n",
       "2025-08-06  40.700001  41.000000  40.349998  40.950001   42323182\n",
       "2025-08-07  40.400002  40.799999  40.400002  40.500000   52613355\n",
       "2025-08-08  40.500000  40.599998  40.200001  40.400002   34741791\n",
       "2025-08-11  40.400002  40.650002  40.299999  40.400002   24697504\n",
       "2025-08-12  40.650002  40.849998  40.349998  40.599998   24073607\n",
       "2025-08-13  40.750000  41.000000  40.400002  40.799999   29479379\n",
       "2025-08-14  40.799999  41.000000  40.750000  40.849998   25526067\n",
       "2025-08-15  41.200001  41.599998  41.000000  41.099998   33021625\n",
       "2025-08-18  40.400002  40.900002  40.200001  40.900002   50417766\n",
       "2025-08-19  41.049999  41.049999  40.099998  40.299999   32207923\n",
       "2025-08-20  41.900002  42.500000  41.500000  41.500000  109360639\n",
       "2025-08-21  41.400002  42.049999  41.400002  42.000000   46125182\n",
       "2025-08-22  40.599998  41.200001  40.599998  41.150002   24604317\n",
       "2025-08-25  40.549999  40.900002  40.549999  40.849998   21425973\n",
       "2025-08-26  41.799999  41.799999  40.349998  40.500000   64111108\n",
       "2025-08-27  40.950001  41.299999  40.900002  41.200001   30264987"
      ]
     },
     "execution_count": 14,
     "metadata": {},
     "output_type": "execute_result"
    }
   ],
   "source": [
    "# Download the data:\n",
    "df = yf.download(\"AAPL\", start=\"2020-01-01\", end=\"2030-12-31\")\n",
    "df.info()\n",
    "df2 = yf.download(\"2303.tw\", # ^TWII\n",
    "                 start=\"2020-01-01\",\n",
    "                 end=\"2030-12-31\",\n",
    "                 progress=False)\n",
    "df2.tail(20)"
   ]
  },
  {
   "cell_type": "code",
   "execution_count": 16,
   "metadata": {},
   "outputs": [
    {
     "name": "stdout",
     "output_type": "stream",
     "text": [
      "<class 'pandas.core.frame.DataFrame'>\n",
      "DatetimeIndex: 1421 entries, 2020-01-02 00:00:00-05:00 to 2025-08-27 00:00:00-04:00\n",
      "Data columns (total 7 columns):\n",
      " #   Column        Non-Null Count  Dtype  \n",
      "---  ------        --------------  -----  \n",
      " 0   Open          1421 non-null   float64\n",
      " 1   High          1421 non-null   float64\n",
      " 2   Low           1421 non-null   float64\n",
      " 3   Close         1421 non-null   float64\n",
      " 4   Volume        1421 non-null   int64  \n",
      " 5   Dividends     1421 non-null   float64\n",
      " 6   Stock Splits  1421 non-null   float64\n",
      "dtypes: float64(6), int64(1)\n",
      "memory usage: 88.8 KB\n"
     ]
    },
    {
     "data": {
      "text/html": [
       "<div>\n",
       "<style scoped>\n",
       "    .dataframe tbody tr th:only-of-type {\n",
       "        vertical-align: middle;\n",
       "    }\n",
       "\n",
       "    .dataframe tbody tr th {\n",
       "        vertical-align: top;\n",
       "    }\n",
       "\n",
       "    .dataframe thead th {\n",
       "        text-align: right;\n",
       "    }\n",
       "</style>\n",
       "<table border=\"1\" class=\"dataframe\">\n",
       "  <thead>\n",
       "    <tr style=\"text-align: right;\">\n",
       "      <th></th>\n",
       "      <th>Open</th>\n",
       "      <th>High</th>\n",
       "      <th>Low</th>\n",
       "      <th>Close</th>\n",
       "      <th>Volume</th>\n",
       "      <th>Dividends</th>\n",
       "      <th>Stock Splits</th>\n",
       "    </tr>\n",
       "    <tr>\n",
       "      <th>Date</th>\n",
       "      <th></th>\n",
       "      <th></th>\n",
       "      <th></th>\n",
       "      <th></th>\n",
       "      <th></th>\n",
       "      <th></th>\n",
       "      <th></th>\n",
       "    </tr>\n",
       "  </thead>\n",
       "  <tbody>\n",
       "    <tr>\n",
       "      <th>2025-07-31 00:00:00-04:00</th>\n",
       "      <td>208.253657</td>\n",
       "      <td>209.602117</td>\n",
       "      <td>206.925163</td>\n",
       "      <td>207.334702</td>\n",
       "      <td>80698400</td>\n",
       "      <td>0.00</td>\n",
       "      <td>0.0</td>\n",
       "    </tr>\n",
       "    <tr>\n",
       "      <th>2025-08-01 00:00:00-04:00</th>\n",
       "      <td>210.630955</td>\n",
       "      <td>213.337890</td>\n",
       "      <td>201.271582</td>\n",
       "      <td>202.150589</td>\n",
       "      <td>104434500</td>\n",
       "      <td>0.00</td>\n",
       "      <td>0.0</td>\n",
       "    </tr>\n",
       "    <tr>\n",
       "      <th>2025-08-04 00:00:00-04:00</th>\n",
       "      <td>204.278165</td>\n",
       "      <td>207.644355</td>\n",
       "      <td>201.451371</td>\n",
       "      <td>203.119492</td>\n",
       "      <td>75109300</td>\n",
       "      <td>0.00</td>\n",
       "      <td>0.0</td>\n",
       "    </tr>\n",
       "    <tr>\n",
       "      <th>2025-08-05 00:00:00-04:00</th>\n",
       "      <td>203.169408</td>\n",
       "      <td>205.107211</td>\n",
       "      <td>201.930824</td>\n",
       "      <td>202.689957</td>\n",
       "      <td>44155100</td>\n",
       "      <td>0.00</td>\n",
       "      <td>0.0</td>\n",
       "    </tr>\n",
       "    <tr>\n",
       "      <th>2025-08-06 00:00:00-04:00</th>\n",
       "      <td>205.396898</td>\n",
       "      <td>215.135845</td>\n",
       "      <td>205.356935</td>\n",
       "      <td>213.008255</td>\n",
       "      <td>108483100</td>\n",
       "      <td>0.00</td>\n",
       "      <td>0.0</td>\n",
       "    </tr>\n",
       "    <tr>\n",
       "      <th>2025-08-07 00:00:00-04:00</th>\n",
       "      <td>218.631873</td>\n",
       "      <td>220.599641</td>\n",
       "      <td>216.334477</td>\n",
       "      <td>219.780563</td>\n",
       "      <td>90224800</td>\n",
       "      <td>0.00</td>\n",
       "      <td>0.0</td>\n",
       "    </tr>\n",
       "    <tr>\n",
       "      <th>2025-08-08 00:00:00-04:00</th>\n",
       "      <td>220.579666</td>\n",
       "      <td>230.738135</td>\n",
       "      <td>219.001455</td>\n",
       "      <td>229.090012</td>\n",
       "      <td>113854000</td>\n",
       "      <td>0.00</td>\n",
       "      <td>0.0</td>\n",
       "    </tr>\n",
       "    <tr>\n",
       "      <th>2025-08-11 00:00:00-04:00</th>\n",
       "      <td>227.919998</td>\n",
       "      <td>229.559998</td>\n",
       "      <td>224.759995</td>\n",
       "      <td>227.179993</td>\n",
       "      <td>61806100</td>\n",
       "      <td>0.26</td>\n",
       "      <td>0.0</td>\n",
       "    </tr>\n",
       "    <tr>\n",
       "      <th>2025-08-12 00:00:00-04:00</th>\n",
       "      <td>228.009995</td>\n",
       "      <td>230.800003</td>\n",
       "      <td>227.070007</td>\n",
       "      <td>229.649994</td>\n",
       "      <td>55626200</td>\n",
       "      <td>0.00</td>\n",
       "      <td>0.0</td>\n",
       "    </tr>\n",
       "    <tr>\n",
       "      <th>2025-08-13 00:00:00-04:00</th>\n",
       "      <td>231.070007</td>\n",
       "      <td>235.000000</td>\n",
       "      <td>230.429993</td>\n",
       "      <td>233.330002</td>\n",
       "      <td>69878500</td>\n",
       "      <td>0.00</td>\n",
       "      <td>0.0</td>\n",
       "    </tr>\n",
       "    <tr>\n",
       "      <th>2025-08-14 00:00:00-04:00</th>\n",
       "      <td>234.059998</td>\n",
       "      <td>235.119995</td>\n",
       "      <td>230.850006</td>\n",
       "      <td>232.779999</td>\n",
       "      <td>51916300</td>\n",
       "      <td>0.00</td>\n",
       "      <td>0.0</td>\n",
       "    </tr>\n",
       "    <tr>\n",
       "      <th>2025-08-15 00:00:00-04:00</th>\n",
       "      <td>234.000000</td>\n",
       "      <td>234.279999</td>\n",
       "      <td>229.339996</td>\n",
       "      <td>231.589996</td>\n",
       "      <td>56038700</td>\n",
       "      <td>0.00</td>\n",
       "      <td>0.0</td>\n",
       "    </tr>\n",
       "    <tr>\n",
       "      <th>2025-08-18 00:00:00-04:00</th>\n",
       "      <td>231.699997</td>\n",
       "      <td>233.119995</td>\n",
       "      <td>230.110001</td>\n",
       "      <td>230.889999</td>\n",
       "      <td>37476200</td>\n",
       "      <td>0.00</td>\n",
       "      <td>0.0</td>\n",
       "    </tr>\n",
       "    <tr>\n",
       "      <th>2025-08-19 00:00:00-04:00</th>\n",
       "      <td>231.279999</td>\n",
       "      <td>232.869995</td>\n",
       "      <td>229.350006</td>\n",
       "      <td>230.559998</td>\n",
       "      <td>39402600</td>\n",
       "      <td>0.00</td>\n",
       "      <td>0.0</td>\n",
       "    </tr>\n",
       "    <tr>\n",
       "      <th>2025-08-20 00:00:00-04:00</th>\n",
       "      <td>229.979996</td>\n",
       "      <td>230.470001</td>\n",
       "      <td>225.770004</td>\n",
       "      <td>226.009995</td>\n",
       "      <td>42263900</td>\n",
       "      <td>0.00</td>\n",
       "      <td>0.0</td>\n",
       "    </tr>\n",
       "    <tr>\n",
       "      <th>2025-08-21 00:00:00-04:00</th>\n",
       "      <td>226.270004</td>\n",
       "      <td>226.520004</td>\n",
       "      <td>223.779999</td>\n",
       "      <td>224.899994</td>\n",
       "      <td>30621200</td>\n",
       "      <td>0.00</td>\n",
       "      <td>0.0</td>\n",
       "    </tr>\n",
       "    <tr>\n",
       "      <th>2025-08-22 00:00:00-04:00</th>\n",
       "      <td>226.169998</td>\n",
       "      <td>229.089996</td>\n",
       "      <td>225.410004</td>\n",
       "      <td>227.759995</td>\n",
       "      <td>42477800</td>\n",
       "      <td>0.00</td>\n",
       "      <td>0.0</td>\n",
       "    </tr>\n",
       "    <tr>\n",
       "      <th>2025-08-25 00:00:00-04:00</th>\n",
       "      <td>226.479996</td>\n",
       "      <td>229.300003</td>\n",
       "      <td>226.229996</td>\n",
       "      <td>227.160004</td>\n",
       "      <td>30983100</td>\n",
       "      <td>0.00</td>\n",
       "      <td>0.0</td>\n",
       "    </tr>\n",
       "    <tr>\n",
       "      <th>2025-08-26 00:00:00-04:00</th>\n",
       "      <td>226.869995</td>\n",
       "      <td>229.490005</td>\n",
       "      <td>224.690002</td>\n",
       "      <td>229.309998</td>\n",
       "      <td>54575100</td>\n",
       "      <td>0.00</td>\n",
       "      <td>0.0</td>\n",
       "    </tr>\n",
       "    <tr>\n",
       "      <th>2025-08-27 00:00:00-04:00</th>\n",
       "      <td>228.580002</td>\n",
       "      <td>230.899994</td>\n",
       "      <td>228.294998</td>\n",
       "      <td>230.490005</td>\n",
       "      <td>30134069</td>\n",
       "      <td>0.00</td>\n",
       "      <td>0.0</td>\n",
       "    </tr>\n",
       "  </tbody>\n",
       "</table>\n",
       "</div>"
      ],
      "text/plain": [
       "                                 Open        High         Low       Close  \\\n",
       "Date                                                                        \n",
       "2025-07-31 00:00:00-04:00  208.253657  209.602117  206.925163  207.334702   \n",
       "2025-08-01 00:00:00-04:00  210.630955  213.337890  201.271582  202.150589   \n",
       "2025-08-04 00:00:00-04:00  204.278165  207.644355  201.451371  203.119492   \n",
       "2025-08-05 00:00:00-04:00  203.169408  205.107211  201.930824  202.689957   \n",
       "2025-08-06 00:00:00-04:00  205.396898  215.135845  205.356935  213.008255   \n",
       "2025-08-07 00:00:00-04:00  218.631873  220.599641  216.334477  219.780563   \n",
       "2025-08-08 00:00:00-04:00  220.579666  230.738135  219.001455  229.090012   \n",
       "2025-08-11 00:00:00-04:00  227.919998  229.559998  224.759995  227.179993   \n",
       "2025-08-12 00:00:00-04:00  228.009995  230.800003  227.070007  229.649994   \n",
       "2025-08-13 00:00:00-04:00  231.070007  235.000000  230.429993  233.330002   \n",
       "2025-08-14 00:00:00-04:00  234.059998  235.119995  230.850006  232.779999   \n",
       "2025-08-15 00:00:00-04:00  234.000000  234.279999  229.339996  231.589996   \n",
       "2025-08-18 00:00:00-04:00  231.699997  233.119995  230.110001  230.889999   \n",
       "2025-08-19 00:00:00-04:00  231.279999  232.869995  229.350006  230.559998   \n",
       "2025-08-20 00:00:00-04:00  229.979996  230.470001  225.770004  226.009995   \n",
       "2025-08-21 00:00:00-04:00  226.270004  226.520004  223.779999  224.899994   \n",
       "2025-08-22 00:00:00-04:00  226.169998  229.089996  225.410004  227.759995   \n",
       "2025-08-25 00:00:00-04:00  226.479996  229.300003  226.229996  227.160004   \n",
       "2025-08-26 00:00:00-04:00  226.869995  229.490005  224.690002  229.309998   \n",
       "2025-08-27 00:00:00-04:00  228.580002  230.899994  228.294998  230.490005   \n",
       "\n",
       "                              Volume  Dividends  Stock Splits  \n",
       "Date                                                           \n",
       "2025-07-31 00:00:00-04:00   80698400       0.00           0.0  \n",
       "2025-08-01 00:00:00-04:00  104434500       0.00           0.0  \n",
       "2025-08-04 00:00:00-04:00   75109300       0.00           0.0  \n",
       "2025-08-05 00:00:00-04:00   44155100       0.00           0.0  \n",
       "2025-08-06 00:00:00-04:00  108483100       0.00           0.0  \n",
       "2025-08-07 00:00:00-04:00   90224800       0.00           0.0  \n",
       "2025-08-08 00:00:00-04:00  113854000       0.00           0.0  \n",
       "2025-08-11 00:00:00-04:00   61806100       0.26           0.0  \n",
       "2025-08-12 00:00:00-04:00   55626200       0.00           0.0  \n",
       "2025-08-13 00:00:00-04:00   69878500       0.00           0.0  \n",
       "2025-08-14 00:00:00-04:00   51916300       0.00           0.0  \n",
       "2025-08-15 00:00:00-04:00   56038700       0.00           0.0  \n",
       "2025-08-18 00:00:00-04:00   37476200       0.00           0.0  \n",
       "2025-08-19 00:00:00-04:00   39402600       0.00           0.0  \n",
       "2025-08-20 00:00:00-04:00   42263900       0.00           0.0  \n",
       "2025-08-21 00:00:00-04:00   30621200       0.00           0.0  \n",
       "2025-08-22 00:00:00-04:00   42477800       0.00           0.0  \n",
       "2025-08-25 00:00:00-04:00   30983100       0.00           0.0  \n",
       "2025-08-26 00:00:00-04:00   54575100       0.00           0.0  \n",
       "2025-08-27 00:00:00-04:00   30134069       0.00           0.0  "
      ]
     },
     "execution_count": 16,
     "metadata": {},
     "output_type": "execute_result"
    }
   ],
   "source": [
    "df = yf.Ticker('AAPL').history(start='2020-01-01', \n",
    "                               end='2030-12-31', interval='1d')\n",
    "df.info()\n",
    "\n",
    "# [1m, 2m, 5m, 15m, 30m, 60m, 90m, 1h, 4h, 1d, 5d, 1wk, 1mo, 3mo]\n",
    "# US stock the interval can be the 1m but Taiwan is 1d.\n",
    "df.tail(20)"
   ]
  },
  {
   "cell_type": "code",
   "execution_count": 17,
   "metadata": {},
   "outputs": [
    {
     "name": "stdout",
     "output_type": "stream",
     "text": [
      "<class 'pandas.core.frame.DataFrame'>\n",
      "DatetimeIndex: 667 entries, 2023-01-03 to 2025-08-27\n",
      "Data columns (total 5 columns):\n",
      " #   Column  Non-Null Count  Dtype  \n",
      "---  ------  --------------  -----  \n",
      " 0   Open    667 non-null    float64\n",
      " 1   High    667 non-null    float64\n",
      " 2   Low     667 non-null    float64\n",
      " 3   Close   667 non-null    float64\n",
      " 4   Volume  667 non-null    int64  \n",
      "dtypes: float64(4), int64(1)\n",
      "memory usage: 31.3 KB\n"
     ]
    },
    {
     "data": {
      "text/html": [
       "<div>\n",
       "<style scoped>\n",
       "    .dataframe tbody tr th:only-of-type {\n",
       "        vertical-align: middle;\n",
       "    }\n",
       "\n",
       "    .dataframe tbody tr th {\n",
       "        vertical-align: top;\n",
       "    }\n",
       "\n",
       "    .dataframe thead th {\n",
       "        text-align: right;\n",
       "    }\n",
       "</style>\n",
       "<table border=\"1\" class=\"dataframe\">\n",
       "  <thead>\n",
       "    <tr style=\"text-align: right;\">\n",
       "      <th></th>\n",
       "      <th>Open</th>\n",
       "      <th>High</th>\n",
       "      <th>Low</th>\n",
       "      <th>Close</th>\n",
       "      <th>Volume</th>\n",
       "    </tr>\n",
       "    <tr>\n",
       "      <th>Date</th>\n",
       "      <th></th>\n",
       "      <th></th>\n",
       "      <th></th>\n",
       "      <th></th>\n",
       "      <th></th>\n",
       "    </tr>\n",
       "  </thead>\n",
       "  <tbody>\n",
       "    <tr>\n",
       "      <th>2025-07-31</th>\n",
       "      <td>3272.899902</td>\n",
       "      <td>3312.000000</td>\n",
       "      <td>3272.899902</td>\n",
       "      <td>3293.199951</td>\n",
       "      <td>3704</td>\n",
       "    </tr>\n",
       "    <tr>\n",
       "      <th>2025-08-01</th>\n",
       "      <td>3286.199951</td>\n",
       "      <td>3360.600098</td>\n",
       "      <td>3281.000000</td>\n",
       "      <td>3347.699951</td>\n",
       "      <td>3420</td>\n",
       "    </tr>\n",
       "    <tr>\n",
       "      <th>2025-08-04</th>\n",
       "      <td>3367.600098</td>\n",
       "      <td>3386.500000</td>\n",
       "      <td>3347.399902</td>\n",
       "      <td>3374.399902</td>\n",
       "      <td>351</td>\n",
       "    </tr>\n",
       "    <tr>\n",
       "      <th>2025-08-05</th>\n",
       "      <td>3378.500000</td>\n",
       "      <td>3387.199951</td>\n",
       "      <td>3351.199951</td>\n",
       "      <td>3381.899902</td>\n",
       "      <td>915</td>\n",
       "    </tr>\n",
       "    <tr>\n",
       "      <th>2025-08-06</th>\n",
       "      <td>3380.699951</td>\n",
       "      <td>3383.300049</td>\n",
       "      <td>3361.300049</td>\n",
       "      <td>3380.000000</td>\n",
       "      <td>1492</td>\n",
       "    </tr>\n",
       "    <tr>\n",
       "      <th>2025-08-07</th>\n",
       "      <td>3384.899902</td>\n",
       "      <td>3422.899902</td>\n",
       "      <td>3384.899902</td>\n",
       "      <td>3400.300049</td>\n",
       "      <td>5464</td>\n",
       "    </tr>\n",
       "    <tr>\n",
       "      <th>2025-08-08</th>\n",
       "      <td>3438.800049</td>\n",
       "      <td>3477.000000</td>\n",
       "      <td>3402.500000</td>\n",
       "      <td>3439.100098</td>\n",
       "      <td>7657</td>\n",
       "    </tr>\n",
       "    <tr>\n",
       "      <th>2025-08-11</th>\n",
       "      <td>3383.899902</td>\n",
       "      <td>3383.899902</td>\n",
       "      <td>3349.199951</td>\n",
       "      <td>3353.100098</td>\n",
       "      <td>1488</td>\n",
       "    </tr>\n",
       "    <tr>\n",
       "      <th>2025-08-12</th>\n",
       "      <td>3356.199951</td>\n",
       "      <td>3356.199951</td>\n",
       "      <td>3330.100098</td>\n",
       "      <td>3348.899902</td>\n",
       "      <td>1611</td>\n",
       "    </tr>\n",
       "    <tr>\n",
       "      <th>2025-08-13</th>\n",
       "      <td>3358.800049</td>\n",
       "      <td>3363.399902</td>\n",
       "      <td>3358.699951</td>\n",
       "      <td>3358.699951</td>\n",
       "      <td>1011</td>\n",
       "    </tr>\n",
       "    <tr>\n",
       "      <th>2025-08-14</th>\n",
       "      <td>3346.800049</td>\n",
       "      <td>3356.000000</td>\n",
       "      <td>3328.899902</td>\n",
       "      <td>3335.199951</td>\n",
       "      <td>592</td>\n",
       "    </tr>\n",
       "    <tr>\n",
       "      <th>2025-08-15</th>\n",
       "      <td>3346.800049</td>\n",
       "      <td>3346.800049</td>\n",
       "      <td>3335.899902</td>\n",
       "      <td>3336.000000</td>\n",
       "      <td>1185</td>\n",
       "    </tr>\n",
       "    <tr>\n",
       "      <th>2025-08-18</th>\n",
       "      <td>3333.500000</td>\n",
       "      <td>3347.800049</td>\n",
       "      <td>3331.699951</td>\n",
       "      <td>3331.699951</td>\n",
       "      <td>646</td>\n",
       "    </tr>\n",
       "    <tr>\n",
       "      <th>2025-08-19</th>\n",
       "      <td>3330.199951</td>\n",
       "      <td>3343.500000</td>\n",
       "      <td>3313.399902</td>\n",
       "      <td>3313.399902</td>\n",
       "      <td>1655</td>\n",
       "    </tr>\n",
       "    <tr>\n",
       "      <th>2025-08-20</th>\n",
       "      <td>3310.600098</td>\n",
       "      <td>3343.500000</td>\n",
       "      <td>3310.100098</td>\n",
       "      <td>3343.399902</td>\n",
       "      <td>1213</td>\n",
       "    </tr>\n",
       "    <tr>\n",
       "      <th>2025-08-21</th>\n",
       "      <td>3349.399902</td>\n",
       "      <td>3349.399902</td>\n",
       "      <td>3326.500000</td>\n",
       "      <td>3336.899902</td>\n",
       "      <td>142</td>\n",
       "    </tr>\n",
       "    <tr>\n",
       "      <th>2025-08-22</th>\n",
       "      <td>3349.399902</td>\n",
       "      <td>3377.699951</td>\n",
       "      <td>3349.399902</td>\n",
       "      <td>3374.399902</td>\n",
       "      <td>1240</td>\n",
       "    </tr>\n",
       "    <tr>\n",
       "      <th>2025-08-25</th>\n",
       "      <td>3366.000000</td>\n",
       "      <td>3378.000000</td>\n",
       "      <td>3366.000000</td>\n",
       "      <td>3373.800049</td>\n",
       "      <td>1044</td>\n",
       "    </tr>\n",
       "    <tr>\n",
       "      <th>2025-08-26</th>\n",
       "      <td>3378.899902</td>\n",
       "      <td>3396.500000</td>\n",
       "      <td>3371.100098</td>\n",
       "      <td>3388.600098</td>\n",
       "      <td>1044</td>\n",
       "    </tr>\n",
       "    <tr>\n",
       "      <th>2025-08-27</th>\n",
       "      <td>3452.600098</td>\n",
       "      <td>3453.000000</td>\n",
       "      <td>3448.199951</td>\n",
       "      <td>3452.100098</td>\n",
       "      <td>2837</td>\n",
       "    </tr>\n",
       "  </tbody>\n",
       "</table>\n",
       "</div>"
      ],
      "text/plain": [
       "                   Open         High          Low        Close  Volume\n",
       "Date                                                                  \n",
       "2025-07-31  3272.899902  3312.000000  3272.899902  3293.199951    3704\n",
       "2025-08-01  3286.199951  3360.600098  3281.000000  3347.699951    3420\n",
       "2025-08-04  3367.600098  3386.500000  3347.399902  3374.399902     351\n",
       "2025-08-05  3378.500000  3387.199951  3351.199951  3381.899902     915\n",
       "2025-08-06  3380.699951  3383.300049  3361.300049  3380.000000    1492\n",
       "2025-08-07  3384.899902  3422.899902  3384.899902  3400.300049    5464\n",
       "2025-08-08  3438.800049  3477.000000  3402.500000  3439.100098    7657\n",
       "2025-08-11  3383.899902  3383.899902  3349.199951  3353.100098    1488\n",
       "2025-08-12  3356.199951  3356.199951  3330.100098  3348.899902    1611\n",
       "2025-08-13  3358.800049  3363.399902  3358.699951  3358.699951    1011\n",
       "2025-08-14  3346.800049  3356.000000  3328.899902  3335.199951     592\n",
       "2025-08-15  3346.800049  3346.800049  3335.899902  3336.000000    1185\n",
       "2025-08-18  3333.500000  3347.800049  3331.699951  3331.699951     646\n",
       "2025-08-19  3330.199951  3343.500000  3313.399902  3313.399902    1655\n",
       "2025-08-20  3310.600098  3343.500000  3310.100098  3343.399902    1213\n",
       "2025-08-21  3349.399902  3349.399902  3326.500000  3336.899902     142\n",
       "2025-08-22  3349.399902  3377.699951  3349.399902  3374.399902    1240\n",
       "2025-08-25  3366.000000  3378.000000  3366.000000  3373.800049    1044\n",
       "2025-08-26  3378.899902  3396.500000  3371.100098  3388.600098    1044\n",
       "2025-08-27  3452.600098  3453.000000  3448.199951  3452.100098    2837"
      ]
     },
     "execution_count": 17,
     "metadata": {},
     "output_type": "execute_result"
    }
   ],
   "source": [
    "data = yf.Ticker(\"GC=F\")\n",
    "df = data.history(start=\"2023-01-01\",end=\"2030-12-31\").tz_localize(None) # importance\n",
    "df = df.drop(['Dividends', 'Stock Splits'], axis=1)\n",
    "df.info()\n",
    "df.tail(20)"
   ]
  },
  {
   "cell_type": "code",
   "execution_count": 19,
   "metadata": {},
   "outputs": [
    {
     "name": "stderr",
     "output_type": "stream",
     "text": [
      "C:\\Users\\user\\AppData\\Local\\Temp\\ipykernel_17552\\334084365.py:3: FutureWarning: YF.download() has changed argument auto_adjust default to True\n",
      "  df2 = yf.download(stocks,\n"
     ]
    },
    {
     "name": "stdout",
     "output_type": "stream",
     "text": [
      "<class 'pandas.core.frame.DataFrame'>\n",
      "DatetimeIndex: 916 entries, 2022-01-03 to 2025-08-27\n",
      "Data columns (total 25 columns):\n",
      " #   Column          Non-Null Count  Dtype  \n",
      "---  ------          --------------  -----  \n",
      " 0   (Close, AMZN)   916 non-null    float64\n",
      " 1   (Close, GOOG)   916 non-null    float64\n",
      " 2   (Close, META)   916 non-null    float64\n",
      " 3   (Close, TSLA)   916 non-null    float64\n",
      " 4   (Close, WMT)    916 non-null    float64\n",
      " 5   (High, AMZN)    916 non-null    float64\n",
      " 6   (High, GOOG)    916 non-null    float64\n",
      " 7   (High, META)    916 non-null    float64\n",
      " 8   (High, TSLA)    916 non-null    float64\n",
      " 9   (High, WMT)     916 non-null    float64\n",
      " 10  (Low, AMZN)     916 non-null    float64\n",
      " 11  (Low, GOOG)     916 non-null    float64\n",
      " 12  (Low, META)     916 non-null    float64\n",
      " 13  (Low, TSLA)     916 non-null    float64\n",
      " 14  (Low, WMT)      916 non-null    float64\n",
      " 15  (Open, AMZN)    916 non-null    float64\n",
      " 16  (Open, GOOG)    916 non-null    float64\n",
      " 17  (Open, META)    916 non-null    float64\n",
      " 18  (Open, TSLA)    916 non-null    float64\n",
      " 19  (Open, WMT)     916 non-null    float64\n",
      " 20  (Volume, AMZN)  916 non-null    int64  \n",
      " 21  (Volume, GOOG)  916 non-null    int64  \n",
      " 22  (Volume, META)  916 non-null    int64  \n",
      " 23  (Volume, TSLA)  916 non-null    int64  \n",
      " 24  (Volume, WMT)   916 non-null    int64  \n",
      "dtypes: float64(20), int64(5)\n",
      "memory usage: 186.1 KB\n"
     ]
    },
    {
     "data": {
      "text/html": [
       "<div>\n",
       "<style scoped>\n",
       "    .dataframe tbody tr th:only-of-type {\n",
       "        vertical-align: middle;\n",
       "    }\n",
       "\n",
       "    .dataframe tbody tr th {\n",
       "        vertical-align: top;\n",
       "    }\n",
       "\n",
       "    .dataframe thead th {\n",
       "        text-align: right;\n",
       "    }\n",
       "</style>\n",
       "<table border=\"1\" class=\"dataframe\">\n",
       "  <thead>\n",
       "    <tr style=\"text-align: right;\">\n",
       "      <th>Ticker</th>\n",
       "      <th>AMZN</th>\n",
       "      <th>GOOG</th>\n",
       "      <th>META</th>\n",
       "      <th>TSLA</th>\n",
       "      <th>WMT</th>\n",
       "    </tr>\n",
       "    <tr>\n",
       "      <th>Date</th>\n",
       "      <th></th>\n",
       "      <th></th>\n",
       "      <th></th>\n",
       "      <th></th>\n",
       "      <th></th>\n",
       "    </tr>\n",
       "  </thead>\n",
       "  <tbody>\n",
       "    <tr>\n",
       "      <th>2022-01-03</th>\n",
       "      <td>170.404495</td>\n",
       "      <td>144.217239</td>\n",
       "      <td>336.692841</td>\n",
       "      <td>399.926666</td>\n",
       "      <td>45.858704</td>\n",
       "    </tr>\n",
       "    <tr>\n",
       "      <th>2022-01-04</th>\n",
       "      <td>167.522003</td>\n",
       "      <td>143.563141</td>\n",
       "      <td>334.693848</td>\n",
       "      <td>383.196655</td>\n",
       "      <td>45.018562</td>\n",
       "    </tr>\n",
       "    <tr>\n",
       "      <th>2022-01-05</th>\n",
       "      <td>164.356995</td>\n",
       "      <td>136.840103</td>\n",
       "      <td>322.401306</td>\n",
       "      <td>362.706665</td>\n",
       "      <td>45.627274</td>\n",
       "    </tr>\n",
       "    <tr>\n",
       "      <th>2022-01-06</th>\n",
       "      <td>163.253998</td>\n",
       "      <td>136.738205</td>\n",
       "      <td>330.646057</td>\n",
       "      <td>354.899994</td>\n",
       "      <td>45.500458</td>\n",
       "    </tr>\n",
       "    <tr>\n",
       "      <th>2022-01-07</th>\n",
       "      <td>162.554001</td>\n",
       "      <td>136.194931</td>\n",
       "      <td>329.979675</td>\n",
       "      <td>342.320007</td>\n",
       "      <td>45.934788</td>\n",
       "    </tr>\n",
       "    <tr>\n",
       "      <th>...</th>\n",
       "      <td>...</td>\n",
       "      <td>...</td>\n",
       "      <td>...</td>\n",
       "      <td>...</td>\n",
       "      <td>...</td>\n",
       "    </tr>\n",
       "    <tr>\n",
       "      <th>2025-08-21</th>\n",
       "      <td>221.949997</td>\n",
       "      <td>200.619995</td>\n",
       "      <td>739.099976</td>\n",
       "      <td>320.109985</td>\n",
       "      <td>97.959999</td>\n",
       "    </tr>\n",
       "    <tr>\n",
       "      <th>2025-08-22</th>\n",
       "      <td>228.839996</td>\n",
       "      <td>206.720001</td>\n",
       "      <td>754.789978</td>\n",
       "      <td>340.010010</td>\n",
       "      <td>96.830002</td>\n",
       "    </tr>\n",
       "    <tr>\n",
       "      <th>2025-08-25</th>\n",
       "      <td>227.940002</td>\n",
       "      <td>209.160004</td>\n",
       "      <td>753.299988</td>\n",
       "      <td>346.600006</td>\n",
       "      <td>96.070000</td>\n",
       "    </tr>\n",
       "    <tr>\n",
       "      <th>2025-08-26</th>\n",
       "      <td>228.710007</td>\n",
       "      <td>207.949997</td>\n",
       "      <td>754.099976</td>\n",
       "      <td>351.670013</td>\n",
       "      <td>96.050003</td>\n",
       "    </tr>\n",
       "    <tr>\n",
       "      <th>2025-08-27</th>\n",
       "      <td>229.119995</td>\n",
       "      <td>208.210007</td>\n",
       "      <td>747.380005</td>\n",
       "      <td>349.600006</td>\n",
       "      <td>96.080002</td>\n",
       "    </tr>\n",
       "  </tbody>\n",
       "</table>\n",
       "<p>916 rows × 5 columns</p>\n",
       "</div>"
      ],
      "text/plain": [
       "Ticker            AMZN        GOOG        META        TSLA        WMT\n",
       "Date                                                                 \n",
       "2022-01-03  170.404495  144.217239  336.692841  399.926666  45.858704\n",
       "2022-01-04  167.522003  143.563141  334.693848  383.196655  45.018562\n",
       "2022-01-05  164.356995  136.840103  322.401306  362.706665  45.627274\n",
       "2022-01-06  163.253998  136.738205  330.646057  354.899994  45.500458\n",
       "2022-01-07  162.554001  136.194931  329.979675  342.320007  45.934788\n",
       "...                ...         ...         ...         ...        ...\n",
       "2025-08-21  221.949997  200.619995  739.099976  320.109985  97.959999\n",
       "2025-08-22  228.839996  206.720001  754.789978  340.010010  96.830002\n",
       "2025-08-25  227.940002  209.160004  753.299988  346.600006  96.070000\n",
       "2025-08-26  228.710007  207.949997  754.099976  351.670013  96.050003\n",
       "2025-08-27  229.119995  208.210007  747.380005  349.600006  96.080002\n",
       "\n",
       "[916 rows x 5 columns]"
      ]
     },
     "execution_count": 19,
     "metadata": {},
     "output_type": "execute_result"
    }
   ],
   "source": [
    "# Multi Stocks\n",
    "stocks = ['AMZN','GOOG','WMT','TSLA','META']\n",
    "df2 = yf.download(stocks, \n",
    "          start=\"2022-01-01\",\n",
    "          end=\"2030-12-31\",\n",
    "          progress=False)\n",
    "df2.info()\n",
    "df2['Close']"
   ]
  },
  {
   "cell_type": "code",
   "execution_count": 20,
   "metadata": {},
   "outputs": [
    {
     "name": "stderr",
     "output_type": "stream",
     "text": [
      "[*********************100%***********************]  5 of 5 completed"
     ]
    },
    {
     "name": "stdout",
     "output_type": "stream",
     "text": [
      "<class 'pandas.core.frame.DataFrame'>\n",
      "DatetimeIndex: 916 entries, 2022-01-03 to 2025-08-27\n",
      "Data columns (total 35 columns):\n",
      " #   Column                Non-Null Count  Dtype  \n",
      "---  ------                --------------  -----  \n",
      " 0   (Close, AMZN)         916 non-null    float64\n",
      " 1   (Close, GOOG)         916 non-null    float64\n",
      " 2   (Close, META)         916 non-null    float64\n",
      " 3   (Close, TSLA)         916 non-null    float64\n",
      " 4   (Close, WMT)          916 non-null    float64\n",
      " 5   (Dividends, AMZN)     916 non-null    float64\n",
      " 6   (Dividends, GOOG)     916 non-null    float64\n",
      " 7   (Dividends, META)     916 non-null    float64\n",
      " 8   (Dividends, TSLA)     916 non-null    float64\n",
      " 9   (Dividends, WMT)      916 non-null    float64\n",
      " 10  (High, AMZN)          916 non-null    float64\n",
      " 11  (High, GOOG)          916 non-null    float64\n",
      " 12  (High, META)          916 non-null    float64\n",
      " 13  (High, TSLA)          916 non-null    float64\n",
      " 14  (High, WMT)           916 non-null    float64\n",
      " 15  (Low, AMZN)           916 non-null    float64\n",
      " 16  (Low, GOOG)           916 non-null    float64\n",
      " 17  (Low, META)           916 non-null    float64\n",
      " 18  (Low, TSLA)           916 non-null    float64\n",
      " 19  (Low, WMT)            916 non-null    float64\n",
      " 20  (Open, AMZN)          916 non-null    float64\n",
      " 21  (Open, GOOG)          916 non-null    float64\n",
      " 22  (Open, META)          916 non-null    float64\n",
      " 23  (Open, TSLA)          916 non-null    float64\n",
      " 24  (Open, WMT)           916 non-null    float64\n",
      " 25  (Stock Splits, AMZN)  916 non-null    float64\n",
      " 26  (Stock Splits, GOOG)  916 non-null    float64\n",
      " 27  (Stock Splits, META)  916 non-null    float64\n",
      " 28  (Stock Splits, TSLA)  916 non-null    float64\n",
      " 29  (Stock Splits, WMT)   916 non-null    float64\n",
      " 30  (Volume, AMZN)        916 non-null    int64  \n",
      " 31  (Volume, GOOG)        916 non-null    int64  \n",
      " 32  (Volume, META)        916 non-null    int64  \n",
      " 33  (Volume, TSLA)        916 non-null    int64  \n",
      " 34  (Volume, WMT)         916 non-null    int64  \n",
      "dtypes: float64(30), int64(5)\n",
      "memory usage: 257.6 KB\n"
     ]
    },
    {
     "name": "stderr",
     "output_type": "stream",
     "text": [
      "\n"
     ]
    },
    {
     "data": {
      "text/html": [
       "<div>\n",
       "<style scoped>\n",
       "    .dataframe tbody tr th:only-of-type {\n",
       "        vertical-align: middle;\n",
       "    }\n",
       "\n",
       "    .dataframe tbody tr th {\n",
       "        vertical-align: top;\n",
       "    }\n",
       "\n",
       "    .dataframe thead tr th {\n",
       "        text-align: left;\n",
       "    }\n",
       "\n",
       "    .dataframe thead tr:last-of-type th {\n",
       "        text-align: right;\n",
       "    }\n",
       "</style>\n",
       "<table border=\"1\" class=\"dataframe\">\n",
       "  <thead>\n",
       "    <tr>\n",
       "      <th>Price</th>\n",
       "      <th colspan=\"5\" halign=\"left\">Close</th>\n",
       "    </tr>\n",
       "    <tr>\n",
       "      <th>Ticker</th>\n",
       "      <th>AMZN</th>\n",
       "      <th>GOOG</th>\n",
       "      <th>META</th>\n",
       "      <th>TSLA</th>\n",
       "      <th>WMT</th>\n",
       "    </tr>\n",
       "    <tr>\n",
       "      <th>Date</th>\n",
       "      <th></th>\n",
       "      <th></th>\n",
       "      <th></th>\n",
       "      <th></th>\n",
       "      <th></th>\n",
       "    </tr>\n",
       "  </thead>\n",
       "  <tbody>\n",
       "    <tr>\n",
       "      <th>2025-07-31</th>\n",
       "      <td>234.110001</td>\n",
       "      <td>192.860001</td>\n",
       "      <td>773.440002</td>\n",
       "      <td>308.269989</td>\n",
       "      <td>97.751694</td>\n",
       "    </tr>\n",
       "    <tr>\n",
       "      <th>2025-08-01</th>\n",
       "      <td>214.750000</td>\n",
       "      <td>189.949997</td>\n",
       "      <td>750.010010</td>\n",
       "      <td>302.630005</td>\n",
       "      <td>98.260498</td>\n",
       "    </tr>\n",
       "    <tr>\n",
       "      <th>2025-08-04</th>\n",
       "      <td>211.649994</td>\n",
       "      <td>195.750000</td>\n",
       "      <td>776.369995</td>\n",
       "      <td>309.260010</td>\n",
       "      <td>99.357933</td>\n",
       "    </tr>\n",
       "    <tr>\n",
       "      <th>2025-08-05</th>\n",
       "      <td>213.750000</td>\n",
       "      <td>195.320007</td>\n",
       "      <td>763.460022</td>\n",
       "      <td>308.720001</td>\n",
       "      <td>99.078590</td>\n",
       "    </tr>\n",
       "    <tr>\n",
       "      <th>2025-08-06</th>\n",
       "      <td>222.309998</td>\n",
       "      <td>196.919998</td>\n",
       "      <td>771.989990</td>\n",
       "      <td>319.910004</td>\n",
       "      <td>103.119156</td>\n",
       "    </tr>\n",
       "    <tr>\n",
       "      <th>2025-08-07</th>\n",
       "      <td>223.130005</td>\n",
       "      <td>197.279999</td>\n",
       "      <td>761.830017</td>\n",
       "      <td>322.269989</td>\n",
       "      <td>102.879715</td>\n",
       "    </tr>\n",
       "    <tr>\n",
       "      <th>2025-08-08</th>\n",
       "      <td>222.690002</td>\n",
       "      <td>202.089996</td>\n",
       "      <td>769.299988</td>\n",
       "      <td>329.649994</td>\n",
       "      <td>103.488297</td>\n",
       "    </tr>\n",
       "    <tr>\n",
       "      <th>2025-08-11</th>\n",
       "      <td>221.300003</td>\n",
       "      <td>201.630005</td>\n",
       "      <td>765.869995</td>\n",
       "      <td>339.029999</td>\n",
       "      <td>103.687828</td>\n",
       "    </tr>\n",
       "    <tr>\n",
       "      <th>2025-08-12</th>\n",
       "      <td>221.470001</td>\n",
       "      <td>204.160004</td>\n",
       "      <td>790.000000</td>\n",
       "      <td>340.839996</td>\n",
       "      <td>103.378548</td>\n",
       "    </tr>\n",
       "    <tr>\n",
       "      <th>2025-08-13</th>\n",
       "      <td>224.559998</td>\n",
       "      <td>203.029999</td>\n",
       "      <td>780.080017</td>\n",
       "      <td>339.380005</td>\n",
       "      <td>100.754669</td>\n",
       "    </tr>\n",
       "    <tr>\n",
       "      <th>2025-08-14</th>\n",
       "      <td>230.979996</td>\n",
       "      <td>203.820007</td>\n",
       "      <td>782.130005</td>\n",
       "      <td>335.579987</td>\n",
       "      <td>100.614998</td>\n",
       "    </tr>\n",
       "    <tr>\n",
       "      <th>2025-08-15</th>\n",
       "      <td>231.029999</td>\n",
       "      <td>204.910004</td>\n",
       "      <td>785.229980</td>\n",
       "      <td>330.559998</td>\n",
       "      <td>100.000000</td>\n",
       "    </tr>\n",
       "    <tr>\n",
       "      <th>2025-08-18</th>\n",
       "      <td>231.490005</td>\n",
       "      <td>204.289993</td>\n",
       "      <td>767.369995</td>\n",
       "      <td>335.160004</td>\n",
       "      <td>100.699997</td>\n",
       "    </tr>\n",
       "    <tr>\n",
       "      <th>2025-08-19</th>\n",
       "      <td>228.009995</td>\n",
       "      <td>202.490005</td>\n",
       "      <td>751.479980</td>\n",
       "      <td>329.309998</td>\n",
       "      <td>101.290001</td>\n",
       "    </tr>\n",
       "    <tr>\n",
       "      <th>2025-08-20</th>\n",
       "      <td>223.809998</td>\n",
       "      <td>200.190002</td>\n",
       "      <td>747.719971</td>\n",
       "      <td>323.899994</td>\n",
       "      <td>102.570000</td>\n",
       "    </tr>\n",
       "    <tr>\n",
       "      <th>2025-08-21</th>\n",
       "      <td>221.949997</td>\n",
       "      <td>200.619995</td>\n",
       "      <td>739.099976</td>\n",
       "      <td>320.109985</td>\n",
       "      <td>97.959999</td>\n",
       "    </tr>\n",
       "    <tr>\n",
       "      <th>2025-08-22</th>\n",
       "      <td>228.839996</td>\n",
       "      <td>206.720001</td>\n",
       "      <td>754.789978</td>\n",
       "      <td>340.010010</td>\n",
       "      <td>96.830002</td>\n",
       "    </tr>\n",
       "    <tr>\n",
       "      <th>2025-08-25</th>\n",
       "      <td>227.940002</td>\n",
       "      <td>209.160004</td>\n",
       "      <td>753.299988</td>\n",
       "      <td>346.600006</td>\n",
       "      <td>96.070000</td>\n",
       "    </tr>\n",
       "    <tr>\n",
       "      <th>2025-08-26</th>\n",
       "      <td>228.710007</td>\n",
       "      <td>207.949997</td>\n",
       "      <td>754.099976</td>\n",
       "      <td>351.670013</td>\n",
       "      <td>96.050003</td>\n",
       "    </tr>\n",
       "    <tr>\n",
       "      <th>2025-08-27</th>\n",
       "      <td>229.119995</td>\n",
       "      <td>208.210007</td>\n",
       "      <td>747.380005</td>\n",
       "      <td>349.600006</td>\n",
       "      <td>96.080002</td>\n",
       "    </tr>\n",
       "  </tbody>\n",
       "</table>\n",
       "</div>"
      ],
      "text/plain": [
       "Price            Close                                                \n",
       "Ticker            AMZN        GOOG        META        TSLA         WMT\n",
       "Date                                                                  \n",
       "2025-07-31  234.110001  192.860001  773.440002  308.269989   97.751694\n",
       "2025-08-01  214.750000  189.949997  750.010010  302.630005   98.260498\n",
       "2025-08-04  211.649994  195.750000  776.369995  309.260010   99.357933\n",
       "2025-08-05  213.750000  195.320007  763.460022  308.720001   99.078590\n",
       "2025-08-06  222.309998  196.919998  771.989990  319.910004  103.119156\n",
       "2025-08-07  223.130005  197.279999  761.830017  322.269989  102.879715\n",
       "2025-08-08  222.690002  202.089996  769.299988  329.649994  103.488297\n",
       "2025-08-11  221.300003  201.630005  765.869995  339.029999  103.687828\n",
       "2025-08-12  221.470001  204.160004  790.000000  340.839996  103.378548\n",
       "2025-08-13  224.559998  203.029999  780.080017  339.380005  100.754669\n",
       "2025-08-14  230.979996  203.820007  782.130005  335.579987  100.614998\n",
       "2025-08-15  231.029999  204.910004  785.229980  330.559998  100.000000\n",
       "2025-08-18  231.490005  204.289993  767.369995  335.160004  100.699997\n",
       "2025-08-19  228.009995  202.490005  751.479980  329.309998  101.290001\n",
       "2025-08-20  223.809998  200.190002  747.719971  323.899994  102.570000\n",
       "2025-08-21  221.949997  200.619995  739.099976  320.109985   97.959999\n",
       "2025-08-22  228.839996  206.720001  754.789978  340.010010   96.830002\n",
       "2025-08-25  227.940002  209.160004  753.299988  346.600006   96.070000\n",
       "2025-08-26  228.710007  207.949997  754.099976  351.670013   96.050003\n",
       "2025-08-27  229.119995  208.210007  747.380005  349.600006   96.080002"
      ]
     },
     "execution_count": 20,
     "metadata": {},
     "output_type": "execute_result"
    }
   ],
   "source": [
    "stocks = ['AMZN','GOOG','WMT','TSLA','META']\n",
    "tickers = yf.Tickers(stocks)\n",
    "# [1m, 2m, 5m, 15m, 30m, 60m, 90m, 1h, 4h, 1d, 5d, 1wk, 1mo, 3mo]\n",
    "df = tickers.history(start='2022-01-01',\n",
    "                     end=\"2030-12-31\", interval='1d',).tz_localize(None)\n",
    "df.info()\n",
    "df = df.loc[:, [\"Close\"]] # only close price\n",
    "df.tail(20)"
   ]
  },
  {
   "cell_type": "code",
   "execution_count": null,
   "metadata": {},
   "outputs": [
    {
     "data": {
      "image/png": "[encoded data removed]",
      "text/plain": [
       "<Figure size 640x480 with 1 Axes>"
      ]
     },
     "metadata": {},
     "output_type": "display_data"
    },
    {
     "name": "stderr",
     "output_type": "stream",
     "text": [
      "C:\\Users\\user\\AppData\\Roaming\\Python\\Python312\\site-packages\\IPython\\core\\pylabtools.py:170: UserWarning: Glyph 21488 (\\N{CJK UNIFIED IDEOGRAPH-53F0}) missing from font(s) DejaVu Sans.\n",
      "  fig.canvas.print_figure(bytes_io, **kw)\n",
      "C:\\Users\\user\\AppData\\Roaming\\Python\\Python312\\site-packages\\IPython\\core\\pylabtools.py:170: UserWarning: Glyph 28771 (\\N{CJK UNIFIED IDEOGRAPH-7063}) missing from font(s) DejaVu Sans.\n",
      "  fig.canvas.print_figure(bytes_io, **kw)\n",
      "C:\\Users\\user\\AppData\\Roaming\\Python\\Python312\\site-packages\\IPython\\core\\pylabtools.py:170: UserWarning: Glyph 32929 (\\N{CJK UNIFIED IDEOGRAPH-80A1}) missing from font(s) DejaVu Sans.\n",
      "  fig.canvas.print_figure(bytes_io, **kw)\n",
      "C:\\Users\\user\\AppData\\Roaming\\Python\\Python312\\site-packages\\IPython\\core\\pylabtools.py:170: UserWarning: Glyph 31080 (\\N{CJK UNIFIED IDEOGRAPH-7968}) missing from font(s) DejaVu Sans.\n",
      "  fig.canvas.print_figure(bytes_io, **kw)\n",
      "C:\\Users\\user\\AppData\\Roaming\\Python\\Python312\\site-packages\\IPython\\core\\pylabtools.py:170: UserWarning: Glyph 32218 (\\N{CJK UNIFIED IDEOGRAPH-7DDA}) missing from font(s) DejaVu Sans.\n",
      "  fig.canvas.print_figure(bytes_io, **kw)\n",
      "C:\\Users\\user\\AppData\\Roaming\\Python\\Python312\\site-packages\\IPython\\core\\pylabtools.py:170: UserWarning: Glyph 22294 (\\N{CJK UNIFIED IDEOGRAPH-5716}) missing from font(s) DejaVu Sans.\n",
      "  fig.canvas.print_figure(bytes_io, **kw)\n"
     ]
    },
    {
     "data": {
      "image/png": "[encoded data removed]",
      "text/plain": [
       "<Figure size 800x575 with 4 Axes>"
      ]
     },
     "metadata": {},
     "output_type": "display_data"
    }
   ],
   "source": [
    "# Tawan' s Stock\n",
    "import matplotlib.pyplot as plt\n",
    "import mplfinance as mpf\n",
    "\n",
    "# Taiwan 2330 TSMC\n",
    "taiwan_2330 = yf.Ticker(\"2330.TW\")\n",
    "df = taiwan_2330.history(period=\"1mo\") # one month\n",
    "\n",
    "df[[\"Close\"]].plot(subplots=True,  sharex=True, title=\"2303 in 2025\")\n",
    "mpf.plot(df, type='candle', style='charles', \n",
    "         title='台灣 2330 股票 K 線圖', volume=True)"
   ]
  },
  {
   "cell_type": "code",
   "execution_count": 22,
   "metadata": {},
   "outputs": [
    {
     "data": {
      "text/html": [
       "<div>\n",
       "<style scoped>\n",
       "    .dataframe tbody tr th:only-of-type {\n",
       "        vertical-align: middle;\n",
       "    }\n",
       "\n",
       "    .dataframe tbody tr th {\n",
       "        vertical-align: top;\n",
       "    }\n",
       "\n",
       "    .dataframe thead th {\n",
       "        text-align: right;\n",
       "    }\n",
       "</style>\n",
       "<table border=\"1\" class=\"dataframe\">\n",
       "  <thead>\n",
       "    <tr style=\"text-align: right;\">\n",
       "      <th></th>\n",
       "      <th>Open</th>\n",
       "      <th>High</th>\n",
       "      <th>Low</th>\n",
       "      <th>Close</th>\n",
       "      <th>Volume</th>\n",
       "      <th>Dividends</th>\n",
       "      <th>Stock Splits</th>\n",
       "    </tr>\n",
       "    <tr>\n",
       "      <th>Date</th>\n",
       "      <th></th>\n",
       "      <th></th>\n",
       "      <th></th>\n",
       "      <th></th>\n",
       "      <th></th>\n",
       "      <th></th>\n",
       "      <th></th>\n",
       "    </tr>\n",
       "  </thead>\n",
       "  <tbody>\n",
       "    <tr>\n",
       "      <th>2025-08-03 00:00:00+08:00</th>\n",
       "      <td>1160.0</td>\n",
       "      <td>1165.0</td>\n",
       "      <td>1155.0</td>\n",
       "      <td>1160.0</td>\n",
       "      <td>33230751</td>\n",
       "      <td>0.0</td>\n",
       "      <td>0.0</td>\n",
       "    </tr>\n",
       "    <tr>\n",
       "      <th>2025-08-10 00:00:00+08:00</th>\n",
       "      <td>1180.0</td>\n",
       "      <td>1185.0</td>\n",
       "      <td>1170.0</td>\n",
       "      <td>1175.0</td>\n",
       "      <td>25958258</td>\n",
       "      <td>0.0</td>\n",
       "      <td>0.0</td>\n",
       "    </tr>\n",
       "    <tr>\n",
       "      <th>2025-08-17 00:00:00+08:00</th>\n",
       "      <td>1175.0</td>\n",
       "      <td>1185.0</td>\n",
       "      <td>1170.0</td>\n",
       "      <td>1180.0</td>\n",
       "      <td>22231552</td>\n",
       "      <td>0.0</td>\n",
       "      <td>0.0</td>\n",
       "    </tr>\n",
       "    <tr>\n",
       "      <th>2025-08-24 00:00:00+08:00</th>\n",
       "      <td>1155.0</td>\n",
       "      <td>1155.0</td>\n",
       "      <td>1135.0</td>\n",
       "      <td>1135.0</td>\n",
       "      <td>19205763</td>\n",
       "      <td>0.0</td>\n",
       "      <td>0.0</td>\n",
       "    </tr>\n",
       "    <tr>\n",
       "      <th>2025-08-31 00:00:00+08:00</th>\n",
       "      <td>1190.0</td>\n",
       "      <td>1190.0</td>\n",
       "      <td>1180.0</td>\n",
       "      <td>1190.0</td>\n",
       "      <td>21952558</td>\n",
       "      <td>0.0</td>\n",
       "      <td>0.0</td>\n",
       "    </tr>\n",
       "  </tbody>\n",
       "</table>\n",
       "</div>"
      ],
      "text/plain": [
       "                             Open    High     Low   Close    Volume  \\\n",
       "Date                                                                  \n",
       "2025-08-03 00:00:00+08:00  1160.0  1165.0  1155.0  1160.0  33230751   \n",
       "2025-08-10 00:00:00+08:00  1180.0  1185.0  1170.0  1175.0  25958258   \n",
       "2025-08-17 00:00:00+08:00  1175.0  1185.0  1170.0  1180.0  22231552   \n",
       "2025-08-24 00:00:00+08:00  1155.0  1155.0  1135.0  1135.0  19205763   \n",
       "2025-08-31 00:00:00+08:00  1190.0  1190.0  1180.0  1190.0  21952558   \n",
       "\n",
       "                           Dividends  Stock Splits  \n",
       "Date                                                \n",
       "2025-08-03 00:00:00+08:00        0.0           0.0  \n",
       "2025-08-10 00:00:00+08:00        0.0           0.0  \n",
       "2025-08-17 00:00:00+08:00        0.0           0.0  \n",
       "2025-08-24 00:00:00+08:00        0.0           0.0  \n",
       "2025-08-31 00:00:00+08:00        0.0           0.0  "
      ]
     },
     "execution_count": 22,
     "metadata": {},
     "output_type": "execute_result"
    }
   ],
   "source": [
    "# Adjust the frequency\n",
    "## Yearly, Monthly, Bimonthly, Weekly\n",
    "import matplotlib.pyplot as plt\n",
    "import mplfinance as mpf\n",
    "\n",
    "# 2330 TSMC\n",
    "taiwan_2330 = yf.Ticker(\"2330.TW\")\n",
    "df = taiwan_2330.history(period=\"1mo\") \n",
    "\n",
    "df_Y=df.resample('YE').last()\n",
    "df_Y.head()\n",
    "\n",
    "df_M=df.resample('ME').last()\n",
    "df_M.head()\n",
    "\n",
    "df_m=df.resample('BME').last()\n",
    "df_m.head()\n",
    "\n",
    "df_W=df.resample('W').last()\n",
    "df_W.head()"
   ]
  },
  {
   "cell_type": "code",
   "execution_count": 24,
   "metadata": {},
   "outputs": [
    {
     "name": "stdout",
     "output_type": "stream",
     "text": [
      "<class 'pandas.core.frame.DataFrame'>\n",
      "DatetimeIndex: 399 entries, 2024-01-02 to 2025-08-27\n",
      "Data columns (total 5 columns):\n",
      " #   Column             Non-Null Count  Dtype  \n",
      "---  ------             --------------  -----  \n",
      " 0   (Close, 2303.TW)   399 non-null    float64\n",
      " 1   (High, 2303.TW)    399 non-null    float64\n",
      " 2   (Low, 2303.TW)     399 non-null    float64\n",
      " 3   (Open, 2303.TW)    399 non-null    float64\n",
      " 4   (Volume, 2303.TW)  399 non-null    int64  \n",
      "dtypes: float64(4), int64(1)\n",
      "memory usage: 18.7 KB\n"
     ]
    },
    {
     "name": "stderr",
     "output_type": "stream",
     "text": [
      "C:\\Users\\user\\AppData\\Local\\Temp\\ipykernel_17552\\1485114525.py:5: FutureWarning: YF.download() has changed argument auto_adjust default to True\n",
      "  df = yf.download(\"2303.tw\", # ^TWII\n"
     ]
    }
   ],
   "source": [
    "import pandas as pd\n",
    "import numpy as np\n",
    "import yfinance as yf\n",
    "\n",
    "df = yf.download(\"2303.tw\", # ^TWII\n",
    "                 start=\"2024-01-01\",\n",
    "                 end=\"2030-12-31\",\n",
    "                 progress=False)\n",
    "df.info()\n",
    "df = df.loc[:, [\"Close\"]] # only close"
   ]
  },
  {
   "cell_type": "code",
   "execution_count": 25,
   "metadata": {},
   "outputs": [
    {
     "data": {
      "text/plain": [
       "array([<Axes: xlabel='Date'>], dtype=object)"
      ]
     },
     "execution_count": 25,
     "metadata": {},
     "output_type": "execute_result"
    },
    {
     "data": {
      "image/png": "[encoded data removed]",
      "text/plain": [
       "<Figure size 1400x700 with 1 Axes>"
      ]
     },
     "metadata": {},
     "output_type": "display_data"
    }
   ],
   "source": [
    "df[[\"Close\"]].plot(subplots=True,  sharex=True, figsize=(14,7), title=\"2303 in 2025\")"
   ]
  },
  {
   "cell_type": "code",
   "execution_count": 26,
   "metadata": {},
   "outputs": [],
   "source": [
    "# Generate random time-series data\n",
    "np.random.seed(1234)\n",
    "dates = pd.date_range(start='2024-01-01', periods=200, freq='D')\n",
    "Close = np.random.randn(200).cumsum()\n",
    "\n",
    "# Create a DataFrame from the generated data\n",
    "df2 = pd.DataFrame({'date': dates, 'Adj Close': Close})\n",
    "\n",
    "# Set the 'date' column as the index\n",
    "df2.set_index('date', inplace=True)"
   ]
  },
  {
   "cell_type": "code",
   "execution_count": null,
   "metadata": {},
   "outputs": [
    {
     "data": {
      "image/png": "[encoded data removed]",
      "text/plain": [
       "<Figure size 1400x1000 with 1 Axes>"
      ]
     },
     "metadata": {},
     "output_type": "display_data"
    }
   ],
   "source": [
    "import matplotlib.pyplot as plt\n",
    "# Plot the time-series data\n",
    "plt.figure(figsize=(14,10))\n",
    "plt.plot(df2.index, df2['Adj Close'])\n",
    "plt.xlabel('Time')\n",
    "plt.ylabel('Close')\n",
    "plt.xticks(rotation = 45)\n",
    "plt.title('Time Series Data')\n",
    "plt.show()"
   ]
  },
  {
   "cell_type": "markdown",
   "metadata": {},
   "source": [
    "## Big Problem\n",
    "Sometime, <mark>yf.download(\"GC=F\", ...)</mark> (used to download gold futures data) can sometimes return a DataFrame with a MultiIndex column structure (e.g., when downloading multiple tickers or due to yfinance quirks) or, less commonly, duplicate columns , which can cause errors in downstream operations.\n",
    "\n",
    "if yf.download returns data with a structure like [('Open', 'GC=F'), ('High', 'GC=F'), ('Close', 'GC=F'), ...], which can happen when downloading multiple tickers or due to specific yfinance behavior.\n",
    "\n",
    "The isinstance(df.columns, pd.MultiIndex) function checks if df.columns is an instance of pandas.MultiIndex. If true, it indicates a hierarchical column structure.\n",
    "\n",
    "\n",
    "`df.columns = df.columns.get_level_values(0)`: If the columns are a MultiIndex, this line flattens the MultiIndex by selecting the first level (level 0) of the column names. For example, if the columns are [('Open', 'GC=F'), ('High', 'GC=F'), ('Close', 'GC=F')], df.columns.get_level_values(0) extracts ['Open', 'High', 'Close'], creating a flat column structure."
   ]
  },
  {
   "cell_type": "code",
   "execution_count": 2,
   "metadata": {},
   "outputs": [
    {
     "name": "stderr",
     "output_type": "stream",
     "text": [
      "C:\\Users\\user\\AppData\\Local\\Temp\\ipykernel_6136\\3517528162.py:7: FutureWarning: YF.download() has changed argument auto_adjust default to True\n",
      "  df = yf.download(\"GC=F\",\n"
     ]
    },
    {
     "name": "stdout",
     "output_type": "stream",
     "text": [
      "<class 'pandas.core.frame.DataFrame'>\n",
      "DatetimeIndex: 667 entries, 2023-01-03 to 2025-08-27\n",
      "Data columns (total 5 columns):\n",
      " #   Column          Non-Null Count  Dtype  \n",
      "---  ------          --------------  -----  \n",
      " 0   (Close, GC=F)   667 non-null    float64\n",
      " 1   (High, GC=F)    667 non-null    float64\n",
      " 2   (Low, GC=F)     667 non-null    float64\n",
      " 3   (Open, GC=F)    667 non-null    float64\n",
      " 4   (Volume, GC=F)  667 non-null    int64  \n",
      "dtypes: float64(4), int64(1)\n",
      "memory usage: 31.3 KB\n"
     ]
    }
   ],
   "source": [
    "import pandas as pd\n",
    "import numpy as np\n",
    "import yfinance as yf\n",
    "import matplotlib.pyplot as plt\n",
    "\n",
    "# Download data for gold futures\n",
    "df = yf.download(\"GC=F\", \n",
    "                 start=\"2023-01-01\",\n",
    "                 end=\"2025-08-28\",  # Current date\n",
    "                 progress=False)\n",
    "df.info()"
   ]
  },
  {
   "cell_type": "code",
   "execution_count": 3,
   "metadata": {},
   "outputs": [
    {
     "name": "stdout",
     "output_type": "stream",
     "text": [
      "<class 'pandas.core.frame.DataFrame'>\n",
      "DatetimeIndex: 667 entries, 2023-01-03 to 2025-08-27\n",
      "Data columns (total 5 columns):\n",
      " #   Column  Non-Null Count  Dtype  \n",
      "---  ------  --------------  -----  \n",
      " 0   Close   667 non-null    float64\n",
      " 1   High    667 non-null    float64\n",
      " 2   Low     667 non-null    float64\n",
      " 3   Open    667 non-null    float64\n",
      " 4   Volume  667 non-null    int64  \n",
      "dtypes: float64(4), int64(1)\n",
      "memory usage: 31.3 KB\n"
     ]
    }
   ],
   "source": [
    "# Ensure df has a flat column structure\n",
    "if isinstance(df.columns, pd.MultiIndex):\n",
    "    df.columns = df.columns.get_level_values(0)  # Flatten MultiIndex if present\n",
    "elif not df.columns.is_unique:\n",
    "    raise ValueError(\"DataFrame has duplicate columns, which is unexpected.\")\n",
    "\n",
    "df.info()    "
   ]
  }
 ],
 "metadata": {
  "kernelspec": {
   "display_name": "Python 3",
   "language": "python",
   "name": "python3"
  },
  "language_info": {
   "codemirror_mode": {
    "name": "ipython",
    "version": 3
   },
   "file_extension": ".py",
   "mimetype": "text/x-python",
   "name": "python",
   "nbconvert_exporter": "python",
   "pygments_lexer": "ipython3",
   "version": "3.12.7"
  }
 },
 "nbformat": 4,
 "nbformat_minor": 2
}
