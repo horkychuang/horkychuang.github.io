{
 "cells": [
  {
   "cell_type": "markdown",
   "id": "a754c253",
   "metadata": {},
   "source": [
    "#### Check stationary"
   ]
  },
  {
   "cell_type": "code",
   "execution_count": null,
   "id": "a98f8387",
   "metadata": {},
   "outputs": [],
   "source": [
    "from statsmodels.graphics.tsaplots import plot_pacf\n",
    "from statsmodels.tsa.stattools import adfuller\n",
    "\n",
    "def check_stationarity(series):\n",
    "    result = adfuller(series.values)\n",
    "\n",
    "    print('ADF Statistic: %f' % result[0])\n",
    "    print('p-value: %f' % result[1])\n",
    "    print('Critical Values:')\n",
    "    for key, value in result[4].items():\n",
    "        print('\\t%s: %.3f' % (key, value))\n",
    "\n",
    "    if (result[1] <= 0.05) & (result[4]['5%'] > result[0]):\n",
    "        print(\"\\u001b[32mStationary\\u001b[0m\")\n",
    "    else:\n",
    "        print(\"\\x1b[31mNon-stationary\\x1b[0m\") \n",
    "        \n",
    "check_stationarity(df.Close)  \n",
    "check_stationarity(df.Close.diff(periods=1).dropna()) # diff's p value have to smaller than 10% at least\n",
    "\n",
    "# creating theis variable\n",
    "df[\"close_diff_1\"] = df.Close.diff(periods=1)\n",
    "\n",
    "df.index = df[\"Date\"]\n",
    "df.drop(\"Date\", axis=1, inplace=True)\n",
    "# df = date_features(df)"
   ]
  },
  {
   "cell_type": "markdown",
   "id": "7ceea857",
   "metadata": {},
   "source": [
    "#### Checking Partial Autocorrelation"
   ]
  },
  {
   "cell_type": "code",
   "execution_count": null,
   "id": "98741246",
   "metadata": {},
   "outputs": [],
   "source": [
    "plt.rc(\"figure\", figsize=(10,5))\n",
    "plot_pacf(df['Close'], method='ywm')\n",
    "plt.show()\n",
    "\n",
    "# if The data exhibits significant autocorrelation at lag 1. \n",
    "# Therefore, we will introduce a feature representing the price lagged by 1.\n",
    "df[\"close(-1)\"] = df['Close'].shift(1)"
   ]
  },
  {
   "cell_type": "markdown",
   "id": "aedf7e0f",
   "metadata": {},
   "source": [
    "from sklearn.model_selection import train_test_split\n",
    "# Split the data into training and testing sets\n",
    "X_train, X_test, Y_train, Y_test = train_test_split(X, Y, test_size=0.2, random_state=42)"
   ]
  },
  {
   "cell_type": "markdown",
   "id": "a51d73c7",
   "metadata": {},
   "source": [
    "#### Feature Engineering"
   ]
  },
  {
   "cell_type": "code",
   "execution_count": null,
   "id": "95e55b94",
   "metadata": {},
   "outputs": [],
   "source": [
    "# Lag Features\n",
    "import pandas as pd\n",
    "df['lag_1'] = df['close'].shift(1)\n",
    "df['lag_2'] = df['close'].shift(2)\n",
    " #Rolling Statistics\n",
    "df['rolling_mean'] = df['close'].rolling(window=3).mean()\n",
    "df['rolling_std'] = df['close'].rolling(window=3).std()\n",
    "\n",
    "# Seasonal Decomposition\n",
    "from statsmodels.tsa.seasonal import seasonal_decompose\n",
    "decomposition = seasonal_decompose(df['close'], model='additive')\n",
    "decomposition.plot()\n",
    "\n",
    "import statsmodels.api as sm\n",
    "# Sample seasonal time series data\n",
    "seasonal_data = sm.tsa.seasonal_decompose(df['closee'], model='additive', period=4)\n",
    "\n",
    "# Extract and display the seasonal component\n",
    "df['seasonal'] = seasonal_data.seasonal"
   ]
  },
  {
   "cell_type": "markdown",
   "id": "1cb1b3b0",
   "metadata": {},
   "source": [
    "#### Technical indicators"
   ]
  },
  {
   "cell_type": "code",
   "execution_count": null,
   "id": "f49ec858",
   "metadata": {},
   "outputs": [],
   "source": [
    "def SMA(data, window_size):\n",
    "    return data['Close'].rolling(window=window_size).mean()\n",
    "\n",
    "def EMA(data, window_size):\n",
    "    return data['Close'].ewm(span=window_size).mean()\n",
    "\n",
    "def MACD(data, short_window, long_window):\n",
    "    short_EMA = EMA(data, short_window)\n",
    "    long_EMA = EMA(data, long_window)\n",
    "    return short_EMA - long_EMA\n",
    "\n",
    "def RSI(data, window_size):\n",
    "    delta = data['Close'].diff()\n",
    "    delta = delta[1:] \n",
    "    up = delta.clip(lower=0)\n",
    "    down = -1*delta.clip(upper=0)\n",
    "    ema_up = up.ewm(com=window_size-1 , min_periods=window_size).mean()\n",
    "    ema_down = down.ewm(com=window_size-1 , min_periods=window_size).mean()\n",
    "    return ema_up/ema_down\n",
    "\n",
    "def Bollinger_Bands(data, window_size):\n",
    "    middle_band = SMA(data, window_size)\n",
    "    std_dev = data['Close'].rolling(window=window_size).std()\n",
    "    upper_band = middle_band + (std_dev*2)\n",
    "    lower_band = middle_band - (std_dev*2)\n",
    "    return upper_band, lower_band\n",
    "\n",
    "df['SMA'] = SMA(df, 13)\n",
    "df['EMA'] = EMA(df, 9) \n",
    "df['MACD'] = MACD(df, 24, 52)\n",
    "df['RSI'] = RSI(df, 14)\n",
    "df['Upper_Band'], df['Lower_Band'] = Bollinger_Bands(df, 10)"
   ]
  },
  {
   "cell_type": "code",
   "execution_count": null,
   "id": "037b008f",
   "metadata": {},
   "outputs": [],
   "source": [
    "# Creating new features\n",
    "df[\"H_L_diff\"] = df[\"High\"] - df[\"Low\"]\n",
    "df.drop(\"Adj Close\", axis=1, inplace=True)\n",
    "df.drop(\"High\", axis=1, inplace=True)\n",
    "df.drop(\"Low\", axis=1, inplace=True)\n",
    "\n",
    "df[\"Bands_diff\"] = df[\"Upper_Band\"] - df[\"Lower_Band\"]\n",
    "df.drop(\"Upper_Band\", axis=1, inplace=True)\n",
    "df.drop(\"Lower_Band\", axis=1, inplace=True)\n",
    "\n",
    "df[\"target\"] = df[\"Close\"].shift(-1) # -- regression problem"
   ]
  },
  {
   "cell_type": "markdown",
   "id": "5ee764f7",
   "metadata": {},
   "source": [
    "#### XGboot"
   ]
  },
  {
   "cell_type": "code",
   "execution_count": null,
   "id": "723228af",
   "metadata": {},
   "outputs": [],
   "source": [
    "# Feature Engineering\n",
    "def create_features(df):\n",
    "    # Calculate daily returns\n",
    "    df['returns'] = df['Close'].pct_change()\n",
    "    \n",
    "    # Lagged returns (past 1, 2, 3 days)\n",
    "    for lag in [1, 2, 3]:\n",
    "        df[f'returns_lag_{lag}'] = df['returns'].shift(lag)\n",
    "    \n",
    "    # Rolling volatility (standard deviation over 5 days)\n",
    "    df['volatility_5d'] = df['returns'].rolling(window=5).std()\n",
    "    \n",
    "    # Technical indicators: Simple Moving Average (SMA) and Relative Strength Index (RSI)\n",
    "    df['sma_10'] = df['Close'].rolling(window=10).mean()\n",
    "    df['sma_20'] = df['Close'].rolling(window=20).mean()\n",
    "    \n",
    "    # RSI calculation\n",
    "    delta = df['Close'].diff()\n",
    "    gain = delta.where(delta > 0, 0).rolling(window=14).mean()\n",
    "    loss = -delta.where(delta < 0, 0).rolling(window=14).mean()\n",
    "    rs = gain / loss\n",
    "    df['rsi_14'] = 100 - (100 / (1 + rs))\n",
    "    \n",
    "    # Time-based features\n",
    "    df['day_of_week'] = df.index.dayofweek\n",
    "    df['month'] = df.index.month\n",
    "    \n",
    "    # Drop rows with NaN values\n",
    "    df = df.dropna()\n",
    "    return df"
   ]
  },
  {
   "cell_type": "markdown",
   "id": "8e433f09",
   "metadata": {},
   "source": [
    "#### Train/Test Split"
   ]
  },
  {
   "cell_type": "code",
   "execution_count": null,
   "id": "8f20d584",
   "metadata": {},
   "outputs": [],
   "source": [
    "# Time-Aware Train/Test Split\n",
    "# Use 80% for training, 20% for testing\n",
    "train_size = int(0.8 * len(df))\n",
    "X_train = df[features][:train_size]\n",
    "y_train = df[target][:train_size]\n",
    "X_test = df[features][train_size:]\n",
    "y_test = df[target][train_size:]"
   ]
  },
  {
   "cell_type": "markdown",
   "id": "8fc92bbb",
   "metadata": {},
   "source": [
    "#### Model Training"
   ]
  },
  {
   "cell_type": "code",
   "execution_count": null,
   "id": "44824608",
   "metadata": {},
   "outputs": [],
   "source": [
    "# Model Training with Walk-Forward Validation\n",
    "tscv = TimeSeriesSplit(n_splits=5)\n",
    "model = xgb.XGBRegressor(objective='reg:squarederror', n_estimators=100, learning_rate=0.1, max_depth=5)"
   ]
  },
  {
   "cell_type": "markdown",
   "id": "5ee21cf7",
   "metadata": {},
   "source": [
    "#### Forecasting and Evaluation"
   ]
  },
  {
   "cell_type": "code",
   "execution_count": null,
   "id": "fee42623",
   "metadata": {},
   "outputs": [],
   "source": [
    "rmse_scores, mae_scores, r2_scores, directional_scores = [], [], [], []\n",
    "for train_idx, val_idx in tscv.split(X_train):\n",
    "    X_tr, X_val = X_train.iloc[train_idx], X_train.iloc[val_idx]\n",
    "    y_tr, y_val = y_train.iloc[train_idx], y_train.iloc[val_idx]\n",
    "    \n",
    "    # Train model\n",
    "    model.fit(X_tr, y_tr)\n",
    "    \n",
    "    # Predict\n",
    "    y_pred = model.predict(X_val)\n",
    "    \n",
    "    # Evaluate\n",
    "    rmse = np.sqrt(mean_squared_error(y_val, y_pred))\n",
    "    mae = mean_absolute_error(y_val, y_pred)\n",
    "    r2 = r2_score(y_val, y_pred)\n",
    "    \n",
    "    # Directional accuracy\n",
    "    direction_correct = np.mean(np.sign(y_val) == np.sign(y_pred))\n",
    "    \n",
    "    rmse_scores.append(rmse)\n",
    "    mae_scores.append(mae)\n",
    "    r2_scores.append(r2)\n",
    "    directional_scores.append(direction_correct)"
   ]
  },
  {
   "cell_type": "markdown",
   "id": "1e70d6ff",
   "metadata": {},
   "source": [
    "#### Residuals Analysis"
   ]
  },
  {
   "cell_type": "code",
   "execution_count": null,
   "id": "9665adc2",
   "metadata": {},
   "outputs": [],
   "source": [
    "residuals = y_test - y_pred_test\n",
    "plt.figure(figsize=(10, 6))\n",
    "plt.plot(residuals.index, residuals, label='Residuals')\n",
    "plt.axhline(0, color='red', linestyle='--')\n",
    "plt.title('Residuals Plot')\n",
    "plt.legend()\n",
    "plt.savefig('residuals_plot.png')\n",
    "plt.close()\n",
    "\n",
    "# ACF of residuals\n",
    "acf_values = acf(residuals, nlags=20, fft=True)\n",
    "plt.figure(figsize=(10, 6))\n",
    "plt.stem(range(len(acf_values)), acf_values)\n",
    "plt.title('ACF of Residuals')\n",
    "plt.savefig('acf_residuals.png')\n",
    "plt.close()\n",
    "\n",
    "# Ljung-Box test\n",
    "ljung_box = sm.stats.acorr_ljungbox(residuals, lags=[10], return_df=True)\n",
    "print(\"\\nLjung-Box Test for Residuals (lag=10):\")\n",
    "print(ljung_box)"
   ]
  },
  {
   "cell_type": "markdown",
   "id": "fa8b1897",
   "metadata": {},
   "source": [
    "#### Feature Importance"
   ]
  },
  {
   "cell_type": "code",
   "execution_count": null,
   "id": "c5fcf2a3",
   "metadata": {},
   "outputs": [],
   "source": [
    "feature_importance = pd.DataFrame({\n",
    "    'feature': features,\n",
    "    'importance': model.feature_importances_\n",
    "}).sort_values('importance', ascending=False)\n",
    "print(\"\\nFeature Importance:\")\n",
    "print(feature_importance) "
   ]
  },
  {
   "cell_type": "markdown",
   "id": "fe6ebfd9",
   "metadata": {},
   "source": [
    "#### Prediction"
   ]
  },
  {
   "cell_type": "code",
   "execution_count": null,
   "id": "ce6d85b4",
   "metadata": {},
   "outputs": [],
   "source": [
    "# Final Prediction\n",
    "# Example: Predict next day's return (assuming we have features for the next day)\n",
    "last_features = df[features].iloc[-1:].copy()\n",
    "next_return = model.predict(last_features)[0]\n",
    "print(f\"\\nPredicted Next Day Return: {next_return:.4f}\") "
   ]
  }
 ],
 "metadata": {
  "kernelspec": {
   "display_name": "Python 3",
   "language": "python",
   "name": "python3"
  },
  "language_info": {
   "name": "python",
   "version": "3.12.7"
  }
 },
 "nbformat": 4,
 "nbformat_minor": 5
}
