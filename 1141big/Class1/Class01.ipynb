{
 "cells": [
  {
   "cell_type": "markdown",
   "metadata": {},
   "source": [
    "### Variables and Data Types"
   ]
  },
  {
   "cell_type": "code",
   "execution_count": null,
   "metadata": {},
   "outputs": [],
   "source": [
    "# A string Variable\n",
    "traveler_first_name = \"Harry\"\n",
    "print(f\"traveler_first_name = {repr(traveler_first_name)} | Type: {type(traveler_first_name).__name__}\")\n",
    "\n",
    "# An Integer Variable\n",
    "traveler_age = 18\n",
    "print(f\"traveler_age = {repr(traveler_age)} | Type: {type(traveler_age).__name__}\")\n",
    "\n",
    "# A floating point variable\n",
    "traveler_weight_kg = 46.01\n",
    "print(f\"traveler_weight_kg = {repr(traveler_weight_kg)} | Type: {type(traveler_weight_kg).__name__}\")\n",
    "\n",
    "# A Boolean variable\n",
    "is_married = True\n",
    "print(f\"is_married = {repr(is_married)} | Type: {type(is_married).__name__}\")\n",
    "\n",
    "# LIST: Mutable list of Editable travel log\n",
    "visited_cities = [\"Taipei\", \"Tainan\", \"Puli\"]\n",
    "print(f\"visited_cities = {repr(visited_cities)} | Type: {type(visited_cities).__name__}\")\n",
    "\n",
    "# TUPLE: Fixed weekly schedule (immutable – app logic depends on order)\n",
    "weekly_schedule = (\"Sunday\", \"Monday\", \"Tuesday\", \"Wednesday\", \"Thursday\", \"Friday\", \"Saturday\")\n",
    "print(f\"weekly_schedule = {repr(weekly_schedule)} | Type: {type(weekly_schedule).__name__}\")\n",
    "\n",
    "# DICTIONARY: Day-number mapping for Calendar mapping\n",
    "day_to_name_map = {1: \"Sunday\", 2: \"Monday\", 3: \"Tuesday\", 4: \"Wednesday\", 5: \"Thursday\", 6: \"Friday\", 7: \"Saturday\"}\n",
    "print(f\"day_to_name_map = {repr(day_to_name_map)} | Type: {type(day_to_name_map).__name__}\")"
   ]
  },
  {
   "cell_type": "markdown",
   "metadata": {},
   "source": [
    "#### Variables: Clear & Meaningful Naming"
   ]
  },
  {
   "cell_type": "code",
   "execution_count": null,
   "metadata": {},
   "outputs": [],
   "source": [
    "customer_age = 25\n",
    "customer_name = \"John\"\n",
    "email_address = \"john@example.com\"\n",
    "total_sales_usd = 500.50\n",
    "sales_representative = \"Mary\"\n",
    "\n",
    "#  INVALID NAMES (for documentation only)\n",
    "# 2nd_quarter_sales = 80\n",
    "# first-name = \"John\"\n",
    "# total/sales = 500\n",
    "# email address = \"john@example.com\"\n",
    "# if = 10"
   ]
  },
  {
   "cell_type": "markdown",
   "metadata": {},
   "source": [
    "#### Sering Slicing "
   ]
  },
  {
   "cell_type": "code",
   "execution_count": null,
   "metadata": {},
   "outputs": [],
   "source": [
    "report_filename = \"Sales_Q3_Report_Final\"\n",
    "quarter_code = report_filename[0:10]  # Extract \"Sales_Q3_R\"\n",
    "print(f\"\\n Report Quarter Code: {quarter_code}\")"
   ]
  },
  {
   "cell_type": "markdown",
   "metadata": {},
   "source": [
    "#### Sering Concatenation "
   ]
  },
  {
   "cell_type": "code",
   "execution_count": null,
   "metadata": {},
   "outputs": [],
   "source": [
    "first_name = \"Emma\"\n",
    "last_name = \"Chen\"\n",
    "full_customer_name = f\"{first_name} {last_name}\"\n",
    "\n",
    "print(f\"\\n Full Customer Name: {full_customer_name}\")\n",
    "print(\"Built full name for customer communication\")"
   ]
  },
  {
   "cell_type": "markdown",
   "metadata": {},
   "source": [
    "#### Length "
   ]
  },
  {
   "cell_type": "code",
   "execution_count": null,
   "metadata": {},
   "outputs": [],
   "source": [
    "customer_id = 'CUST98765'\n",
    "id_length = len(customer_id)\n",
    "print(f\"\\n Customer ID '{customer_id}' has {id_length} characters\")\n",
    "print(\"Validated ID length for system compatibility\")"
   ]
  },
  {
   "cell_type": "markdown",
   "metadata": {},
   "source": [
    "#### Python Operators"
   ]
  },
  {
   "cell_type": "markdown",
   "metadata": {},
   "source": [
    "#### Arithmetic Operators"
   ]
  },
  {
   "cell_type": "code",
   "execution_count": null,
   "metadata": {},
   "outputs": [],
   "source": [
    "# Base values for cost estimation\n",
    "daily_budget_usd = 33 # USD per day\n",
    "cost_per_meal_usd = 22\n",
    "\n",
    "budget_metrics = {\n",
    "    \"total_daily_cost_usd\": daily_budget_usd + cost_per_meal_usd,\n",
    "    \"daily_savings_usd\": daily_budget_usd - cost_per_meal_usd,\n",
    "    \"weekly_budget_usd\": daily_budget_usd * 7,\n",
    "    \"meal_ratio\": daily_budget_usd / cost_per_meal_usd,\n",
    "    \"compound_potential_usd\": daily_budget_usd ** 2  # Monthly projection\n",
    "}\n",
    "\n",
    "print(\"\\n Travel Budget Summary (USD):\")\n",
    "for key, value in budget_metrics.items():\n",
    "    print(f\"  • {key.replace('_', ' ').title()}: ${value:.2f}\")"
   ]
  },
  {
   "cell_type": "code",
   "execution_count": null,
   "metadata": {},
   "outputs": [],
   "source": [
    "print(f\"\\n Financial & Operational Calculations:\")\n",
    "\n",
    "q1_revenue = 250_000\n",
    "q2_revenue = 75_000\n",
    "total_revenue = q1_revenue + q2_revenue\n",
    "print(f\"  • Total Revenue (Q1+Q2): ${total_revenue:,}\")\n",
    "\n",
    "cogs = 250_000 - 180_000\n",
    "print(f\"  • Gross Profit: ${cogs:,}\")\n",
    "\n",
    "units_sold = 1500\n",
    "price_per_unit = 45.99\n",
    "gross_margin = units_sold * price_per_unit\n",
    "print(f\"  • Gross Margin: ${gross_margin:,.2f}\")\n",
    "\n",
    "total_sales_usd = 45_000\n",
    "order_count = 1_200\n",
    "average_order_value = total_sales_usd / order_count\n",
    "print(f\"  • Avg Order Value: ${average_order_value:.2f}\")\n",
    "\n",
    "inventory_count = 1007\n",
    "bin_capacity = 50\n",
    "leftover_inventory = inventory_count % bin_capacity\n",
    "print(f\"  • Leftover Inventory: {leftover_inventory} units\")\n",
    "\n",
    "daily_sales_goal = 95_000 // 30 # Floor division: Daily sales goal \n",
    "print(f\"  • Daily Sales Goal: ${daily_sales_goal:,}\")\n",
    "\n",
    "growth_rate = 1.08 ** 5\n",
    "print(f\"  • 5-Year Growth Factor: {growth_rate:.2f}x\")\n",
    "\n",
    "print(\"Completed comprehensive financial calculations\")"
   ]
  },
  {
   "cell_type": "markdown",
   "metadata": {},
   "source": [
    "#### Relational Operations: Performence Bechmarking"
   ]
  },
  {
   "cell_type": "code",
   "execution_count": null,
   "metadata": {},
   "outputs": [],
   "source": [
    "actual_sales = 520_000\n",
    "target_sales = 500_000\n",
    "\n",
    "is_goal_met = actual_sales == target_sales\n",
    "is_growth_positive = 260_000 != 250_000\n",
    "high_margin = 0.18 > 0.15\n",
    "is_minor = customer_age < 18\n",
    "meets_volume = 105 >= 100\n",
    "fast_delivery = 2.3 <= 2.5\n",
    "\n",
    "print(f\"\\n Performance Checks:\")\n",
    "print(f\"  • Sales Goal Met? {is_goal_met}\")\n",
    "print(f\"  • YoY Growth? {is_growth_positive}\")\n",
    "print(f\"  • High Margin? {high_margin}\")\n",
    "print(f\"  • Is Minor? {is_minor}\")\n",
    "print(f\"  • Meets Volume? {meets_volume}\")\n",
    "print(f\"  • Fast Delivery? {fast_delivery}\")\n"
   ]
  },
  {
   "cell_type": "markdown",
   "metadata": {},
   "source": [
    "#### Logical Operators"
   ]
  },
  {
   "cell_type": "code",
   "execution_count": null,
   "metadata": {},
   "outputs": [],
   "source": [
    "customer_age = 65\n",
    "is_senior = customer_age >= 60\n",
    "is_active = True\n",
    "is_student = False\n",
    "\n",
    "target_for_loyalty = is_senior and is_active\n",
    "eligible_for_campaign = is_senior or is_student\n",
    "exclude_from_general = not (is_senior and is_active)\n",
    "\n",
    "print(f\"\\n Customer Targeting Logic:\")\n",
    "print(f\"  • Senior Loyalty? {target_for_loyalty}\")\n",
    "print(f\"  • Campaign Eligible? {eligible_for_campaign}\")\n",
    "print(f\"  • Exclude from General? {exclude_from_general}\")"
   ]
  },
  {
   "cell_type": "code",
   "execution_count": null,
   "metadata": {},
   "outputs": [],
   "source": [
    "min_age_requirement = 18\n",
    "current_traveler_age = 23\n",
    "\n",
    "is_eligible = current_traveler_age >= min_age_requirement\n",
    "is_minor = current_traveler_age < min_age_requirement\n",
    "age_gap_years = current_traveler_age - min_age_requirement\n",
    "\n",
    "print(f\"\\n Age Verification:\")\n",
    "print(f\"  • Is Eligible? {is_eligible}\")\n",
    "print(f\"  • Is Minor? {is_minor}\")\n",
    "print(f\"  • Age Difference: {age_gap_years} years\")"
   ]
  },
  {
   "cell_type": "markdown",
   "metadata": {},
   "source": [
    "#### Assignment Operators"
   ]
  },
  {
   "cell_type": "code",
   "execution_count": null,
   "metadata": {},
   "outputs": [],
   "source": [
    "quarterly_sales_kusd = 50_000\n",
    "quarterly_sales_kusd += 65_000  # Add Q2   X += Y # X = X + Y\n",
    "quarterly_sales_kusd -= 5_000   # Returns   X -= Y # X = X - Y\n",
    "quarterly_sales_kusd *= 1.1     # Forecast  X *= Y # X = X * Y\n",
    "quarterly_sales_kusd /= 12      # Monthly avg  X /= Y # X = X / Y\n",
    "quarterly_sales_kusd %= 1_000   # Remainder   X %= Y # X = X % Y\n",
    "quarterly_sales_kusd //= 100    # Floor\n",
    "quarterly_sales_kusd **= 2      # Projection  X **= Y # X = X ** Y\n",
    "\n",
    "print(f\"\\n Accumulated Quarterly Sales (final): ${quarterly_sales_kusd:,.2f}K\")\n",
    "print(\"Simulated dynamic metric updates for forecasting\")"
   ]
  },
  {
   "cell_type": "code",
   "execution_count": null,
   "metadata": {},
   "outputs": [],
   "source": [
    "current_budget_usd = 12.0\n",
    "daily_expense_usd = 37.0\n",
    "\n",
    "print(f\"\\n Dynamic Budget Simulation:\")\n",
    "current_budget_usd += daily_expense_usd # Add expense\n",
    "print(f\"• After += (add expense): ${current_budget_usd:.2f}\")\n",
    "\n",
    "current_budget_usd -= daily_expense_usd # Refund\n",
    "print(f\"• After -= (refund): ${current_budget_usd:.2f}\")\n",
    "\n",
    "current_budget_usd *= 2 # Double for trip extension\n",
    "print(f\"• After *= (trip extension): ${current_budget_usd:.2f}\")\n",
    "\n",
    "current_budget_usd /= 2 # Split with friend\n",
    "print(f\"• After /= (split with friend): ${current_budget_usd:.2f}\")\n",
    "\n",
    "current_budget_usd %= 10 # Leftover cash\n",
    "print(f\"• After %= (leftover cash): ${current_budget_usd:.2f}\")\n",
    "\n",
    "current_budget_usd **= 3 # \"What if I save this for 3 months?\"\n",
    "print(f\"• After **= (3-month savings): ${current_budget_usd:.2e}\")"
   ]
  },
  {
   "cell_type": "markdown",
   "metadata": {},
   "source": [
    "#### Membership Operators"
   ]
  },
  {
   "cell_type": "code",
   "execution_count": null,
   "metadata": {},
   "outputs": [],
   "source": [
    "region_code = \"R3\"\n",
    "valid_regions = (\"R1\", \"R2\", \"R3\")\n",
    "is_valid_region = region_code in valid_regions\n",
    "\n",
    "print(f\"\\n Region '{region_code}' is valid: {is_valid_region}\")\n",
    "print(\"Validated region code against approved list\")"
   ]
  },
  {
   "cell_type": "code",
   "execution_count": null,
   "metadata": {},
   "outputs": [],
   "source": [
    "valid_weekdays = (\"Sunday\", \"Monday\", \"Tuesday\", \"Wednesday\", \"Thursday\", \"Friday\", \"Saturday\")\n",
    "departure_day = \"Sunday\"\n",
    "invalid_day = \"Zunday\"\n",
    "\n",
    "is_valid_departure = departure_day in valid_weekdays\n",
    "is_invalid_day = invalid_day not in valid_weekdays\n",
    "\n",
    "print(f\"\\n Travel Validation:\")\n",
    "print(f\"  • '{departure_day}' is valid: {is_valid_departure}\")\n",
    "print(f\"  • '{invalid_day}' is invalid: {is_invalid_day}\")"
   ]
  },
  {
   "cell_type": "markdown",
   "metadata": {},
   "source": [
    "#### Type Conversion: DATA INTEROPERABILITY"
   ]
  },
  {
   "cell_type": "code",
   "execution_count": null,
   "metadata": {},
   "outputs": [],
   "source": [
    "# Simulated input\n",
    "user_input_age = \"32\"\n",
    "customer_age_int = int(user_input_age) # # input() returns a string\n",
    "print(f\"\\n Customer is {customer_age_int} years old.\") \n",
    "\n",
    "price_str = \"123.45\"\n",
    "price_float = float(price_str)\n",
    "print(f\" Parsed price: ${price_float}\")\n",
    "\n",
    "# Reverse: number to string for reporting\n",
    "units_sold_str = str(100)\n",
    "rating_str = str(4.7)\n",
    "print(f\" Units sold: {units_sold_str} |  Rating: {rating_str}\")\n",
    "\n",
    "print(\"Processed type conversions for data ingestion and reporting\")"
   ]
  },
  {
   "cell_type": "code",
   "execution_count": null,
   "metadata": {},
   "outputs": [],
   "source": [
    "# String to integer: Convert sales input from form\n",
    "sales_str = \"456\"\n",
    "sales_num = int(sales_str)\n",
    "print(\"Data type of sales_num:\", type(sales_num))  # <class 'int'>\n",
    "\n",
    "# String to float: Parse pricing data\n",
    "price_float = float(\"123.45\")\n",
    "print(price_float, type(price_float))\n",
    "\n",
    "# Integer/Float to string: For report generation\n",
    "units_sold = str(100)\n",
    "avg_rating = str(4.7)\n",
    "print(\"Units sold: \" + units_sold, type(units_sold))\n",
    "print(\"Average rating: \" + avg_rating, type(avg_rating))\n",
    "\n",
    "# Integer to float: For precise calculations\n",
    "int_to_float = float(100)\n",
    "print(int_to_float, type(int_to_float))  # 100.0 <class 'float'>\n",
    "# Float to integer: Round down for reporting (e.g., full units sold)\n",
    "float_to_int = int(123.45)\n",
    "print(float_to_int, type(float_to_int))  # 123 <class 'int'>"
   ]
  },
  {
   "cell_type": "markdown",
   "metadata": {},
   "source": [
    "## Data Collection"
   ]
  },
  {
   "cell_type": "markdown",
   "metadata": {},
   "source": [
    "### Lists： Sales & Inventory Management"
   ]
  },
  {
   "cell_type": "code",
   "execution_count": null,
   "metadata": {},
   "outputs": [],
   "source": [
    "# Sales data: List of quarterly revenues (in thousands)\n",
    "quarterly_revenue_kusd = [250, 300, 280, 320] # Q1, Q2, Q3, Q4 → all integers\n",
    "# Mixed-type list: Customer record (ID, name, region, contact)\n",
    "customer_record = [1001, \"Linda Chen\", \"Taiwan\", 935123456]\n",
    "# Empty list: Initialize for dynamic data collection (e.g., new leads)\n",
    "new_leads = []\n",
    "\n",
    "top_products = [\"laptop\", \"smartphone\", \"tablet\"]\n",
    "print(f\"\\n  Top Products: {top_products}\") # Outputs: ['laptop', 'smartphone', 'tablet']\n",
    "\n",
    "# Indexing\n",
    "second_product = top_products[1] # Access second product (index 1)\n",
    "last_product = top_products[-1] # Access last item using negative indexing\n",
    "print(f\"  • Second: {second_product}, Last: {last_product}\")\n",
    "\n",
    "# Update\n",
    "top_products[1] = \"wireless earbuds\" # Replace smartphone with trending item\n",
    "top_products.append(\"smartwatch\")    # Add new product to end of list\n",
    "top_products.remove(\"laptop\")        # # Remove discontinued item\n",
    "top_products.insert(1, \"fitness tracker\") # Insert new product at position 1\n",
    "top_products.sort() # Sort products alphabetically for reporting\n",
    "# products.sort(reverse=True)  # For descending order\n",
    "print(f\"  • Updated Catalog: {top_products}\")\n",
    "\n",
    "# Combine inventories\n",
    "online_products = top_products\n",
    "in_store_products = [\"charger\", \"case\", \"screen protector\"]\n",
    "full_inventory = online_products + in_store_products\n",
    "print(f\"  • Full Inventory Count: {len(full_inventory)} items\")"
   ]
  },
  {
   "cell_type": "code",
   "execution_count": null,
   "metadata": {},
   "outputs": [],
   "source": [
    "# Mixed data profile\n",
    "traveler_profile = [\"Puli\", 15, True, \"Harry\", 777123]\n",
    "print(f\"traveler_profile = {repr(traveler_profile)} | Type: {type(traveler_profile).__name__}\")\n",
    "print(f\"• Profile Length: {len(traveler_profile)}\")\n",
    "\n",
    "# Extract key fields\n",
    "home_town = traveler_profile[0]\n",
    "is_active_user = traveler_profile[2]\n",
    "username = traveler_profile[3]\n",
    "\n",
    "print(f\"\\n Traveler Profile Snapshot:\")\n",
    "print(f\"• Home Town: {home_town}\")\n",
    "print(f\"• Active Status: {is_active_user}\")\n",
    "print(f\"• Username: {username}\")\n",
    "\n",
    "# Slicing for data chunks\n",
    "recent_data = traveler_profile[2:5]\n",
    "first_three = traveler_profile[:3]  # Top 3 performers\n",
    "from_age = traveler_profile[2:]     # From 3rd onward\n",
    "last_item = traveler_profile[-1]\n",
    "all_except_last = traveler_profile[:-1]\n",
    "last_three = traveler_profile[-3:]  # Last 3 employees → potential at-risk performers\n",
    "middle_two = traveler_profile[-3:-1]\n",
    "\n",
    "print(f\"• Recent Data [2:5]: {recent_data}\")\n",
    "print(f\"• First 3 [:3]: {first_three}\")\n",
    "print(f\"• From Index 2 [2:]: {from_age}\")\n",
    "print(f\"• Last Item [-1]: {last_item}\")\n",
    "print(f\"• All Except Last [:-1]: {all_except_last}\")\n",
    "print(f\"• Last 3 [-3:]: {last_three}\")\n",
    "print(f\"• Middle Two [-3:-1]: {middle_two}\")"
   ]
  },
  {
   "cell_type": "code",
   "execution_count": null,
   "metadata": {},
   "outputs": [],
   "source": [
    "# Grid of coordinates and labels\n",
    "location_grid = [[1, \"a\", 2, \"b\"], [3, \"c\", 4, \"d\"]]\n",
    "print(f\"location_grid = {repr(location_grid)} | Type: {type(location_grid).__name__}\")"
   ]
  },
  {
   "cell_type": "code",
   "execution_count": null,
   "metadata": {},
   "outputs": [],
   "source": [
    "# where\n",
    "is_harry_in_profile = \"Harry\" in traveler_profile\n",
    "print(f\"\\n Is 'Harry' in profile? {is_harry_in_profile}\")\n",
    "print(\"Applied fast membership search\")"
   ]
  },
  {
   "cell_type": "markdown",
   "metadata": {},
   "source": [
    "### Tuples: Immutable Data Structures"
   ]
  },
  {
   "cell_type": "code",
   "execution_count": null,
   "metadata": {},
   "outputs": [],
   "source": [
    "store_dimensions_ft = (1200, 800)  # width, length\n",
    "print(f\"\\n Store Size: {store_dimensions_ft[0]}ft × {store_dimensions_ft[1]}ft\")\n",
    "\n",
    "print(store_dimensions_ft[0])  # Access width → 1200\n",
    "# store_size[0] = 1500  # ❌ Error! Tuples are immutable → protects critical data\n",
    "\n",
    "# Combine dimensions from multiple stores\n",
    "other_store = (900, 700)\n",
    "all_sizes = store_dimensions_ft + other_store\n",
    "print(f\"• All Store Sizes: {all_sizes}\")"
   ]
  },
  {
   "cell_type": "code",
   "execution_count": null,
   "metadata": {},
   "outputs": [],
   "source": [
    "# Safety via tuples\n",
    "profile_snapshot = tuple(traveler_profile)\n",
    "print(f\"profile_snapshot = {repr(profile_snapshot)} | Type: {type(profile_snapshot).__name__}\")\n",
    "\n",
    "# Safety check: Tuples prevent accidental mutation\n",
    "print(f\"• Snapshot (first 3): {profile_snapshot[:3]}\")\n",
    "print(\"Created immutable profile snapshot for audit\")"
   ]
  },
  {
   "cell_type": "markdown",
   "metadata": {},
   "source": [
    "### Dictionaries: : Customer Profiles"
   ]
  },
  {
   "cell_type": "code",
   "execution_count": null,
   "metadata": {},
   "outputs": [],
   "source": [
    "customer_profile = {\n",
    "    \"name\": \"Alice Wu\",\n",
    "    \"age\": 25,\n",
    "    \"city\": \"Tainan\"\n",
    "}\n",
    "\n",
    "print(f\"\\n Customer Profile: {customer_profile}\")\n",
    "\n",
    "# Accessing Dictionary Elements\n",
    "print(f\" • Name: {customer_profile['name']}\")\n",
    "\n",
    "# customer info\n",
    "customer_profile[\"age\"] = 30\n",
    "customer_profile[\"profession\"] = \"Marketing Manager\"\n",
    "del customer_profile[\"city\"] # # Remove outdated field\n",
    "print(f\"• Updated Profile: {customer_profile}\")\n",
    "\n",
    "# Dictionary Methods\n",
    "print(f\"• Keys: {list(customer_profile.keys())}\")\n",
    "print(f\"• Values: {list(customer_profile.values())}\")\n",
    "\n",
    "# # Loop through customer survey respondents\n",
    "survey_responses = {\n",
    "    'jen': 'python',\n",
    "    'sarah': 'c',\n",
    "    'edward': 'rust',\n",
    "    'phil': 'python',\n",
    "}\n",
    "\n",
    "for respondent in survey_responses.keys():\n",
    "    print(f\"• Survey Respondent: {respondent.title()}\")"
   ]
  },
  {
   "cell_type": "code",
   "execution_count": null,
   "metadata": {},
   "outputs": [],
   "source": [
    "user_contact = {\n",
    "    \"first_name\": \"Harry\",\n",
    "    \"last_name\": \"Porter\",\n",
    "    \"Age\": 30,\n",
    "    \"address\": \"124 Main St\",\n",
    "    \"Employed\": True,\n",
    "}\n",
    "\n",
    "# Simulate user updates\n",
    "user_contact[\"address\"] = \"123 Main St\"\n",
    "user_contact[\"Employed\"] = False\n",
    "\n",
    "print(f\"\\n Updated Contact Info: {user_contact}\")\n",
    "print(f\"• Fields: {list(user_contact.keys())}\")\n",
    "print(f\"• Values: {list(user_contact.values())}\")"
   ]
  },
  {
   "cell_type": "code",
   "execution_count": null,
   "metadata": {},
   "outputs": [],
   "source": [
    "# BUILD DICTIONARIES\n",
    "# Method 1: From key-value pairs\n",
    "raw_data = [(\"first_name\", \"Harry\"), (\"last_name\", \"Porter\"), (\"address\", \"124 Main St\")]\n",
    "user_dict_v1 = dict(raw_data)\n",
    "print(f\"\\n Dictionary from raw data: {user_dict_v1}\")\n",
    "\n",
    "# Method 2: From parallel lists\n",
    "field_names = [\"first_name\", \"last_name\", \"address\"]\n",
    "field_values = [\"Harry\", \"Porter\", \"123 Main St\"]\n",
    "user_dict_v2 = dict(zip(field_names, field_values))\n",
    "print(f\" Dictionary from zip: {user_dict_v2}\")"
   ]
  },
  {
   "cell_type": "markdown",
   "metadata": {},
   "source": [
    "#### Sets: Deduplication & Category Management"
   ]
  },
  {
   "cell_type": "code",
   "execution_count": null,
   "metadata": {},
   "outputs": [],
   "source": [
    "# Set: Unique categories (no duplicates) – e.g., customer feedback tags\n",
    "feedback_tags_raw = {\"refund\", \"delivery\", \"quality\", \"refund\", \"support\", \"delivery\"}\n",
    "unique_feedback_tags = feedback_tags_raw \n",
    "print(f\"\\n  Unique Feedback Tags: {unique_feedback_tags}\") # Outputs unique tags only\n",
    "\n",
    "# where?\n",
    "if \"delivery\" in unique_feedback_tags:\n",
    "    print(\" Delivery issue detected — escalating to logistics team\")\n",
    "    print(\"Delivery complaint identified in feedback\")\n",
    "\n",
    "# Add new category\n",
    "unique_feedback_tags.add(\"pricing\")\n",
    "unique_feedback_tags.discard(\"support\") # Remove resolved category\n",
    "\n",
    "print(f\"• After update: {unique_feedback_tags}\")"
   ]
  },
  {
   "cell_type": "code",
   "execution_count": null,
   "metadata": {},
   "outputs": [],
   "source": [
    "# Remove duplicates from user tags\n",
    "raw_tags = {3, 3, 2, 2, 1}\n",
    "clean_tags = raw_tags\n",
    "print(f\"\\n Clean Tags (no duplicates): {clean_tags}\")\n",
    "\n",
    "# Mixed preference set\n",
    "user_preferences = {1, \"a\", 2, \"b\", \"cat\"}\n",
    "print(f\"• User Preferences: {user_preferences}\")\n",
    "\n",
    "# Theme customization\n",
    "theme_colors = {\"Red\", \"Green\", \"Blue\"}\n",
    "theme_colors.add(\"Pink\")\n",
    "print(f\"• After adding Pink: {theme_colors}\")\n",
    "\n",
    "theme_colors.discard(\"Green\")  # Safer than remove()\n",
    "print(f\"• After removing Green: {theme_colors}\")"
   ]
  },
  {
   "cell_type": "code",
   "execution_count": null,
   "metadata": {},
   "outputs": [],
   "source": [
    "# Set Operation\n",
    "rainbow_interests = {\"Red\", \"Orange\", \"Yellow\", \"Green\", \"Blue\", \"Violet\"}\n",
    "user_favorites = {\"Blue\", \"Pink\", \"Black\"}\n",
    "\n",
    "# Union: All possible interests\n",
    "all_interests = rainbow_interests | user_favorites\n",
    "\n",
    "# Intersection: Shared passions\n",
    "common_interests = rainbow_interests & user_favorites\n",
    "\n",
    "print(f\"• All Interests (Union): {all_interests}\")\n",
    "print(f\"• Common Interests (Intersection): {common_interests}\")"
   ]
  },
  {
   "cell_type": "markdown",
   "metadata": {},
   "source": [
    "#### Explicit Conversion"
   ]
  },
  {
   "cell_type": "code",
   "execution_count": null,
   "metadata": {},
   "outputs": [],
   "source": [
    "# Converting to Lists: From tuple (e.g., database row)\n",
    "quarter_data = (250, 300, 280)\n",
    "quarter_list = list(quarter_data)\n",
    "\n",
    "# Converting to Tuples: Immutable backup of list\n",
    "product_list = [\"laptop\", \"tablet\", \"smartphone\"]\n",
    "product_tuple = tuple(product_list)\n",
    "\n",
    "# Converting to Sets: Remove duplicates from survey responses\n",
    "responses = [\"Yes\", \"No\", \"Yes\", \"Maybe\", \"No\", \"Yes\"]\n",
    "unique_responses = set(responses)\n",
    "\n",
    "print(f\"\\n Type Conversion Results:\")\n",
    "print(f\"• List from Tuple: {quarter_list}\")\n",
    "print(f\"• Tuple from List: {product_tuple}\")\n",
    "print(f\"• Set from List: {unique_responses}\") # {'Yes', 'No', 'Maybe'}"
   ]
  }
 ],
 "metadata": {
  "kernelspec": {
   "display_name": "Python 3",
   "language": "python",
   "name": "python3"
  },
  "language_info": {
   "codemirror_mode": {
    "name": "ipython",
    "version": 3
   },
   "file_extension": ".py",
   "mimetype": "text/x-python",
   "name": "python",
   "nbconvert_exporter": "python",
   "pygments_lexer": "ipython3",
   "version": "3.12.7"
  }
 },
 "nbformat": 4,
 "nbformat_minor": 2
}
