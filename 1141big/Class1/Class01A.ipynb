{
 "cells": [
  {
   "cell_type": "markdown",
   "id": "b4628804",
   "metadata": {},
   "source": [
    "# -----------------------------------------------------------------------------\n",
    "# 10. TIME SERIES LOOPS: DAY, MONTH, QUARTER\n",
    "# Scheduling and review logic\n",
    "# -----------------------------------------------------------------------------"
   ]
  },
  {
   "cell_type": "code",
   "execution_count": null,
   "id": "45cabc96",
   "metadata": {},
   "outputs": [],
   "source": [
    "print(\" Daily Tracking:\")\n",
    "for day in range(10):\n",
    "    print(f\"  Day {day}\", end=' ')\n",
    "print(\"\\n\")\n",
    "\n",
    "print(\" Analysis Window (Days 2–9):\")\n",
    "for day in range(2, 10):\n",
    "    print(f\"  Analysis for Day {day}\", end=' ')\n",
    "print(\"\\n\")\n",
    "\n",
    "print(\" Quarterly Review Points:\")\n",
    "for month in range(3, 31, 3):\n",
    "    print(f\"  Review Month {month}\", end=' ')\n",
    "print(\"\\n\")\n",
    "\n",
    "print(\" Countdown to Quarter End:\")\n",
    "for day in range(5, 0, -1):\n",
    "    print(f\"  Closing in {day} days...\")\n",
    "print(\" Quarter closed!\\n\")"
   ]
  },
  {
   "cell_type": "markdown",
   "id": "89fcbf2c",
   "metadata": {},
   "source": [
    "# -----------------------------------------------------------------------------\n",
    "# 12. SALES PATTERN GENERATION\n",
    "# Weekly reporting template\n",
    "# -----------------------------------------------------------------------------"
   ]
  },
  {
   "cell_type": "code",
   "execution_count": null,
   "id": "42241bec",
   "metadata": {},
   "outputs": [],
   "source": [
    "print(\"\\n Weekly Sales Pattern:\")\n",
    "for week in range(1, 4):\n",
    "    for day in range(1, 5):\n",
    "        print(f\"  Day{day}\", end=' ')\n",
    "    print(f\" (Week {week})\")"
   ]
  },
  {
   "cell_type": "markdown",
   "id": "98e9ab7e",
   "metadata": {},
   "source": [
    "# -----------------------------------------------------------------------------\n",
    "# 13. ROI FORECAST GENERATION\n",
    "# Investment planning\n",
    "# -----------------------------------------------------------------------------"
   ]
  },
  {
   "cell_type": "code",
   "execution_count": null,
   "id": "8581b270",
   "metadata": {},
   "outputs": [],
   "source": [
    "roi_forecast = []\n",
    "for year in range(2, 11):\n",
    "    roi_forecast.append(f\"Year-{year}: 12% ROI\")\n",
    "print(f\"\\n ROI Forecast List: {roi_forecast}\")\n",
    "print(\"Generated 9-year ROI projection\")"
   ]
  },
  {
   "cell_type": "markdown",
   "id": "753bae3e",
   "metadata": {},
   "source": [
    "# -----------------------------------------------------------------------------\n",
    "# 7. MOTIVATIONAL LOOP: TEAM ENGAGEMENT\n",
    "# For internal tools or training apps\n",
    "# -----------------------------------------------------------------------------"
   ]
  },
  {
   "cell_type": "code",
   "execution_count": null,
   "id": "630ae8f3",
   "metadata": {},
   "outputs": [],
   "source": [
    "print(\"\\n Team Motivation:\")\n",
    "i = 1\n",
    "while i <= 5:\n",
    "    print(f\" I love analyzing business data! (Message {i}/5)\")\n",
    "    i += 1\n",
    "print(\"Motivational loop completed\")"
   ]
  },
  {
   "cell_type": "markdown",
   "id": "597a0d47",
   "metadata": {},
   "source": [
    "# -----------------------------------------------------------------------------\n",
    "# 8. PRODUCT CODE ITERATION: VALIDATION & LOGGING\n",
    "# -----------------------------------------------------------------------------"
   ]
  },
  {
   "cell_type": "code",
   "execution_count": null,
   "id": "848edf0b",
   "metadata": {},
   "outputs": [],
   "source": [
    "product_code = 'PRD789'\n",
    "print(f\"\\n Character Breakdown of Product Code '{product_code}':\")\n",
    "for char in product_code:\n",
    "    print(f\"  • {char}\")\n",
    "print(\"Performed character-level inspection for barcode validation\")"
   ]
  },
  {
   "cell_type": "markdown",
   "id": "6d95d9fc",
   "metadata": {},
   "source": [
    "# -----------------------------------------------------------------------------\n",
    "# 17. INTERACTIVE DATA COLLECTION\n",
    "# Field research input loop\n",
    "# -----------------------------------------------------------------------------"
   ]
  },
  {
   "cell_type": "code",
   "execution_count": null,
   "id": "5db2a86c",
   "metadata": {},
   "outputs": [],
   "source": [
    "# Simulated interactive loop\n",
    "print(\"\\nEnter city name (type 'quit' to exit): Taipei\")\n",
    "print(\"Enter city name (type 'quit' to exit): Tainan\")\n",
    "print(\"\\nEnter city name (type 'quit' to exit): quit\")  # Simulate quit\n",
    "cities = [\"Taipei\", \"Tainan\"]\n",
    "for city in cities:\n",
    "    print(f\" Collecting data from {city.title()}...\")\n",
    "print(f\"Collected data from {len(cities)} cities\")"
   ]
  },
  {
   "cell_type": "markdown",
   "id": "f97ee400",
   "metadata": {},
   "source": [
    "# -----------------------------------------------------------------------------\n",
    "# 11. MARKETING LEAD PROCESSING\n",
    "# Campaign automation\n",
    "# -----------------------------------------------------------------------------"
   ]
  },
  {
   "cell_type": "code",
   "execution_count": null,
   "id": "1ad3ad43",
   "metadata": {},
   "outputs": [],
   "source": [
    "leads = [\"Alice Lin\", \"Bob Chen\", \"Marketing Team\", \"David Wang\"]\n",
    "print(\" Marketing Campaign:\")\n",
    "for lead in leads:\n",
    "    print(f\" Email sent to: {lead}\")\n",
    "print(\"Marketing emails dispatched\")"
   ]
  },
  {
   "cell_type": "markdown",
   "id": "cbb5768c",
   "metadata": {},
   "source": [
    "# -----------------------------------------------------------------------------\n",
    "# 2. FINANCIAL METRICS: PERFORMANCE TRACKING\n",
    "# -----------------------------------------------------------------------------"
   ]
  },
  {
   "cell_type": "code",
   "execution_count": null,
   "id": "fbead2f2",
   "metadata": {},
   "outputs": [],
   "source": [
    "# Simulated monthly returns (3% avg)\n",
    "monthly_returns = [0.02, 0.03, 0.04, -0.01, 0.03, 0.05, 0.02, 0.04, 0.03, 0.02, 0.01, 0.03]\n",
    "cumulative = 1.0\n",
    "for r in monthly_returns:\n",
    "    cumulative *= (1 + r)\n",
    "annual_return_pct = (cumulative - 1) * 100\n",
    "\n",
    "print(f\"\\n Financial Performance:\")\n",
    "print(f\"  • Expected Return: 8.5%\")  # Placeholder from model\n",
    "print(f\"  • Annual Return: {annual_return_pct:.2f}%\")\n",
    "print(f\"Computed annual return: {annual_return_pct:.2f}%\")\n"
   ]
  },
  {
   "cell_type": "markdown",
   "id": "0b540e1a",
   "metadata": {},
   "source": [
    "# -----------------------------------------------------------------------------\n",
    "# 14. CLIENT PROCESSING WITH BREAK\n",
    "# Stop at VIP for manual review\n",
    "# -----------------------------------------------------------------------------"
   ]
  },
  {
   "cell_type": "code",
   "execution_count": null,
   "id": "427492b3",
   "metadata": {},
   "outputs": [],
   "source": [
    "clients = [\"Alice Lin\", \"Bob Chen\", \"VIP Client\", \"David Wang\"]\n",
    "print(\"\\n Client Processing (Stops at VIP):\")\n",
    "for client in clients:\n",
    "    if client == \"VIP Client\":\n",
    "        print(f\" VIP Client detected: {client} — Handled manually.\")\n",
    "        break\n",
    "    print(f\" Processing: {client}\")\n",
    "print(\"Client loop exited at VIP\")"
   ]
  },
  {
   "cell_type": "markdown",
   "id": "a78238a1",
   "metadata": {},
   "source": [
    "# -----------------------------------------------------------------------------\n",
    "# 15. TRANSACTION FILTERING WITH CONTINUE\n",
    "# Skip invalid or flagged IDs\n",
    "# -----------------------------------------------------------------------------"
   ]
  },
  {
   "cell_type": "code",
   "execution_count": null,
   "id": "7031c297",
   "metadata": {},
   "outputs": [],
   "source": [
    "print(\"\\n Transaction Processing (Skip ID=12):\")\n",
    "for trans_id in range(1, 20):\n",
    "    if trans_id == 12:\n",
    "        print(f\" Skipping Transaction {trans_id} (flagged)\")\n",
    "        continue\n",
    "    print(f\" Processing Transaction {trans_id}\")\n",
    "print(\"Transaction filtering complete\")"
   ]
  },
  {
   "cell_type": "markdown",
   "id": "05da6d0c",
   "metadata": {},
   "source": []
  },
  {
   "cell_type": "markdown",
   "id": "3157366a",
   "metadata": {},
   "source": []
  },
  {
   "cell_type": "markdown",
   "id": "6231441d",
   "metadata": {},
   "source": [
    "# -----------------------------------------------------------------------------\n",
    "# 8. CUSTOMER PROCESSING: INDEX-BASED LOOP\n",
    "# Batch processing simulation\n",
    "# -----------------------------------------------------------------------------"
   ]
  },
  {
   "cell_type": "code",
   "execution_count": null,
   "id": "dae131d8",
   "metadata": {},
   "outputs": [],
   "source": [
    "index = 0\n",
    "customer_list = [\"Alice Lin\", \"Bob Chen\", \"Charlie Wu\", \"Diana Liu\"]\n",
    "while index < len(customer_list):\n",
    "    print(f\" Processing customer: {customer_list[index]}\")\n",
    "    index += 1\n",
    "print(f\"Processed {len(customer_list)} customers by index\")\n",
    "print()"
   ]
  },
  {
   "cell_type": "markdown",
   "id": "f12e8e3b",
   "metadata": {},
   "source": [
    "# -----------------------------------------------------------------------------\n",
    "# 9. ORDER FULFILLMENT: STACK-BASED PROCESSING\n",
    "# Simulate warehouse dispatch\n",
    "# -----------------------------------------------------------------------------"
   ]
  },
  {
   "cell_type": "code",
   "execution_count": null,
   "id": "c01f6976",
   "metadata": {},
   "outputs": [],
   "source": [
    "backlog = [\"Order-1001\", \"Order-1002\", \"Order-1003\"].copy()\n",
    "while backlog:\n",
    "    order = backlog.pop()\n",
    "    print(f\" Shipped: {order}\")\n",
    "print(\" All orders processed.\")\n",
    "print(\"Order fulfillment complete\")\n",
    "print()"
   ]
  },
  {
   "cell_type": "markdown",
   "id": "0d169441",
   "metadata": {},
   "source": [
    "# -----------------------------------------------------------------------------\n",
    "# 16. ODD-WEEK REPORTING\n",
    "# Conditional reporting schedule\n",
    "# -----------------------------------------------------------------------------"
   ]
  },
  {
   "cell_type": "code",
   "execution_count": null,
   "id": "39de06a2",
   "metadata": {},
   "outputs": [],
   "source": [
    "print(\"\\n Generate Reports for Odd Weeks:\")\n",
    "week = 0\n",
    "while week < 10:\n",
    "    week += 1\n",
    "    if week % 2 == 0:\n",
    "        continue\n",
    "    print(f\" Generate report for Week {week}\")\n",
    "print(\"Odd-week reporting logic applied\")"
   ]
  },
  {
   "cell_type": "markdown",
   "id": "8c7c5e6e",
   "metadata": {},
   "source": []
  },
  {
   "cell_type": "markdown",
   "id": "28c85da0",
   "metadata": {},
   "source": [
    "# -----------------------------------------------------------------------------\n",
    "# 5. BASIC FINANCIAL CALCULATION: PROFIT ANALYSIS\n",
    "# -----------------------------------------------------------------------------"
   ]
  },
  {
   "cell_type": "code",
   "execution_count": null,
   "id": "8ac5140d",
   "metadata": {},
   "outputs": [],
   "source": [
    "revenue_usd = 10_000\n",
    "cost_usd = 15_000\n",
    "net_profit_usd = revenue_usd - cost_usd\n",
    "\n",
    "print(f\"\\n Operational Result: Net loss = ${net_profit_usd:,}\")\n",
    "if net_profit_usd < 0:\n",
    "    print(f\" Operating at a loss of ${abs(net_profit_usd):,}\")"
   ]
  },
  {
   "cell_type": "markdown",
   "id": "35d9b690",
   "metadata": {},
   "source": [
    "# -----------------------------------------------------------------------------\n",
    "# 1. REVENUE VALIDATION: USER INPUT & ERROR HANDLING\n",
    "# Interactive financial data entry with abs conversion\n",
    "# -----------------------------------------------------------------------------"
   ]
  },
  {
   "cell_type": "code",
   "execution_count": null,
   "id": "9c638f72",
   "metadata": {},
   "outputs": [],
   "source": [
    "# Simulated input for non-interactive execution\n",
    "print(\"Enter monthly revenue (can be negative): 1234.56\")  # Simulate input\n",
    "raw_input = \"1234.56\"  # Hardcoded for demo\n",
    "revenue = float(raw_input)\n",
    "\n",
    "if revenue < 0:\n",
    "    print(f\"Negative revenue entered: ${revenue:,.2f}. Converting to positive for reporting.\")\n",
    "    revenue = abs(revenue)\n",
    "print(f\"Validated revenue: ${revenue:,.2f}\")\n",
    "revenue_usd = revenue\n",
    "print(f\" The absolute value of revenue is ${revenue_usd:,.2f} USD\\n\")\n"
   ]
  },
  {
   "cell_type": "markdown",
   "id": "17c1f52b",
   "metadata": {},
   "source": [
    "# -----------------------------------------------------------------------------\n",
    "# 4. STRUCTURED DECISION LOGIC: INDENTATION & FLOW\n",
    "# -----------------------------------------------------------------------------"
   ]
  },
  {
   "cell_type": "code",
   "execution_count": null,
   "id": "cdaedb48",
   "metadata": {},
   "outputs": [],
   "source": [
    "total_sales_usd = 520_000\n",
    "sales_target_usd = 500_000\n",
    "\n",
    "if total_sales_usd > sales_target_usd:\n",
    "    print(\" Sales target achieved.\")\n",
    "    print(\"Sales goal met — eligible for incentive payout\")\n",
    "else:\n",
    "    print(\" Sales target not met.\")\n",
    "    print(\"Underperformance detected — trigger review\")"
   ]
  },
  {
   "cell_type": "markdown",
   "id": "e25793dd",
   "metadata": {},
   "source": [
    "# -----------------------------------------------------------------------------\n",
    "# 2. INVENTORY CATEGORIZATION: PRODUCT ID LOGIC\n",
    "# Auto-classify based on ID parity\n",
    "# -----------------------------------------------------------------------------"
   ]
  },
  {
   "cell_type": "code",
   "execution_count": null,
   "id": "577abdf5",
   "metadata": {},
   "outputs": [],
   "source": [
    "# Simulate input\n",
    "print(\"Enter product ID: 789\")  # Simulate input\n",
    "pid_input = \"789\"  # Hardcoded for demo\n",
    "product_id = int(pid_input)\n",
    "\n",
    "category = \"Electronics\" if product_id % 2 == 0 else \"Apparel\"\n",
    "\n",
    "print(f\"Product ID {product_id} → Category: {category}\")\n",
    "print(f\" Product ID {product_id} is {'even' if product_id % 2 == 0 else 'odd'} → Category: {category}\\n\")"
   ]
  },
  {
   "cell_type": "markdown",
   "id": "2eba3946",
   "metadata": {},
   "source": [
    "# -----------------------------------------------------------------------------\n",
    "# 3. SALES COMPARISON: Q1 vs Q2 PERFORMANCE\n",
    "# Strategic decision triggers\n",
    "# -----------------------------------------------------------------------------"
   ]
  },
  {
   "cell_type": "code",
   "execution_count": null,
   "id": "92daaf8f",
   "metadata": {},
   "outputs": [],
   "source": [
    "# Simulate inputs\n",
    "print(\"Enter Q1 sales (in USD): 45000\")  \n",
    "print(\"Enter Q2 sales (in USD): 52000\")  \n",
    "q1_sales_usd = 45000\n",
    "q2_sales_usd = 52000\n",
    "\n",
    "if q1_sales_usd < q2_sales_usd:\n",
    "    result = f\" Q1 sales (${q1_sales_usd:,.0f}) are lower than Q2 (${q2_sales_usd:,.0f}).\"\n",
    "    action = \"Consider promotional campaign.\"\n",
    "elif q1_sales_usd > q2_sales_usd:\n",
    "    result = f\" Q1 sales (${q1_sales_usd:,.0f}) are higher than Q2 (${q2_sales_usd:,.0f}).\"\n",
    "    action = \"Review successful strategies.\"\n",
    "else:\n",
    "    result = f\" Q1 and Q2 sales are equal at ${q1_sales_usd:,.0f}.\"\n",
    "    action = \"No change needed.\"\n",
    "\n",
    "print(result)\n",
    "print(f\" Action: {action}\")\n",
    "print(f\"Sales comparison: {result} | {action}\")\n",
    "print()"
   ]
  },
  {
   "cell_type": "markdown",
   "id": "96bf9e1e",
   "metadata": {},
   "source": []
  },
  {
   "cell_type": "markdown",
   "id": "ad7ff721",
   "metadata": {},
   "source": []
  },
  {
   "cell_type": "markdown",
   "id": "7be5b723",
   "metadata": {},
   "source": [
    "# -----------------------------------------------------------------------------\n",
    "# 4. LOAN ELIGIBILITY: CUSTOMER QUALIFICATION\n",
    "# Risk assessment engine\n",
    "# -----------------------------------------------------------------------------"
   ]
  },
  {
   "cell_type": "code",
   "execution_count": null,
   "id": "f4884ecb",
   "metadata": {},
   "outputs": [],
   "source": [
    "customer_age = 25\n",
    "annual_income_usd = 50_000\n",
    "\n",
    "if customer_age >= 18 and annual_income_usd >= 30_000:\n",
    "    print(\" Customer is eligible for a loan.\")\n",
    "    print(\"Loan eligibility: Approved\")\n",
    "else:\n",
    "    print(\" Customer does not meet eligibility criteria.\")\n",
    "    print(\"Loan eligibility: Denied\")"
   ]
  },
  {
   "cell_type": "markdown",
   "id": "7e50d3a3",
   "metadata": {},
   "source": [
    "# -----------------------------------------------------------------------------\n",
    "# 5. KPI PASS CHECK: PERFORMANCE REVIEW\n",
    "# Pass/fail logic for employee or customer metrics\n",
    "# -----------------------------------------------------------------------------"
   ]
  },
  {
   "cell_type": "code",
   "execution_count": null,
   "id": "b39e7b20",
   "metadata": {},
   "outputs": [],
   "source": [
    "kpi_q1_score = 70\n",
    "kpi_q2_score = 55\n",
    "\n",
    "if kpi_q1_score >= 50 or kpi_q2_score >= 50:\n",
    "    print(\" Customer passed at least one quarter.\")\n",
    "    print(\"KPI: At least one target met\")\n",
    "else:\n",
    "    print(\" Customer failed both quarters.\")\n",
    "    print(\"KPI: Dual failure detected\")"
   ]
  },
  {
   "cell_type": "markdown",
   "id": "37bff181",
   "metadata": {},
   "source": [
    "# -----------------------------------------------------------------------------\n",
    "# 6. BUDGET VALIDATION: DATA INTEGRITY CHECK\n",
    "# Ensure forecasting accuracy\n",
    "# -----------------------------------------------------------------------------"
   ]
  },
  {
   "cell_type": "code",
   "execution_count": null,
   "id": "72969b68",
   "metadata": {},
   "outputs": [],
   "source": [
    "expected_budget_usd = 42_000\n",
    "actual_budget_usd = 17_000\n",
    "\n",
    "if actual_budget_usd != expected_budget_usd:\n",
    "    mismatch_amount = abs(expected_budget_usd - actual_budget_usd)\n",
    "    print(f\" Budget mismatch! Difference: ${mismatch_amount:,.0f}. Please verify the data.\")\n",
    "    print(f\"Budget variance detected: ${mismatch_amount:,.0f}\")\n"
   ]
  },
  {
   "cell_type": "markdown",
   "id": "da97237f",
   "metadata": {},
   "source": []
  },
  {
   "cell_type": "markdown",
   "id": "e2ddd61e",
   "metadata": {},
   "source": []
  },
  {
   "cell_type": "markdown",
   "id": "0dce1415",
   "metadata": {},
   "source": [
    "# -----------------------------------------------------------------------------\n",
    "# 18. FUNCTION: USER GREETING\n",
    "# Dashboard welcome message\n",
    "# -----------------------------------------------------------------------------"
   ]
  },
  {
   "cell_type": "code",
   "execution_count": null,
   "id": "44598d00",
   "metadata": {},
   "outputs": [],
   "source": [
    "# 18. FUNCTION: USER GREETING\n",
    "def greet_user(name=None):\n",
    "    if name:\n",
    "        msg = f\"Hello, {name.title()}! Here is your daily report.\"\n",
    "    else:\n",
    "        msg = \"Hello! Welcome to the Sales Analytics Dashboard.\"\n",
    "    print(f\"\\n {msg}\")\n",
    "    print(f\"User welcomed: {name or 'Guest'}\")\n",
    "\n",
    "greet_user()          # Guest\n",
    "greet_user('chen')    # Hello, Chen!"
   ]
  },
  {
   "cell_type": "markdown",
   "id": "d220ca96",
   "metadata": {},
   "source": [
    "# -----------------------------------------------------------------------------\n",
    "# 19. FUNCTION: SALES REPORTING\n",
    "# Positional & keyword arguments\n",
    "# -----------------------------------------------------------------------------"
   ]
  },
  {
   "cell_type": "code",
   "execution_count": null,
   "id": "57fd7f0e",
   "metadata": {},
   "outputs": [],
   "source": [
    "def sales_report(region, top_product):\n",
    "    print(f\"\\n Sales data for {region.upper()} region.\")\n",
    "    print(f\"   Top product: {top_product.title()}.\")\n",
    "\n",
    "# Positional call\n",
    "sales_report('taipei', 'laptop')\n",
    "\n",
    "# Keyword call\n",
    "sales_report(top_product='wireless earbuds', region='kaohsiung')"
   ]
  },
  {
   "cell_type": "markdown",
   "id": "8ce49752",
   "metadata": {},
   "source": [
    "# -----------------------------------------------------------------------------\n",
    "# 20. FUNCTION: REVENUE CALCULATION\n",
    "# Financial modeling\n",
    "# -----------------------------------------------------------------------------"
   ]
  },
  {
   "cell_type": "code",
   "execution_count": null,
   "id": "2446a6ee",
   "metadata": {},
   "outputs": [],
   "source": [
    "def calculate_revenue(price, quantity):\n",
    "    return price * quantity\n",
    "\n",
    "revenue = calculate_revenue(299.99, 150)\n",
    "print(f\"Total Revenue: ${revenue:,.2f}\")"
   ]
  },
  {
   "cell_type": "markdown",
   "id": "090da32e",
   "metadata": {},
   "source": [
    "# -----------------------------------------------------------------------------\n",
    "# 21. FUNCTION: DEFAULT PARAMETERS\n",
    "# Flexible reporting\n",
    "# -----------------------------------------------------------------------------"
   ]
  },
  {
   "cell_type": "code",
   "execution_count": null,
   "id": "4296b2d6",
   "metadata": {},
   "outputs": [],
   "source": [
    "def report_item(item, category=\"electronics\"):\n",
    "    print(f\"Reporting on {item.title()}, classified under {category}.\")\n",
    "\n",
    "report_item(\"smartwatch\")  # uses default\n",
    "report_item(\"shirt\", \"apparel\")"
   ]
  },
  {
   "cell_type": "markdown",
   "id": "7a94322a",
   "metadata": {},
   "source": [
    "# -----------------------------------------------------------------------------\n",
    "# 22. FUNCTION: PROCESS LISTS\n",
    "# Bulk operations\n",
    "# -----------------------------------------------------------------------------"
   ]
  },
  {
   "cell_type": "code",
   "execution_count": null,
   "id": "663743fc",
   "metadata": {},
   "outputs": [],
   "source": [
    "def send_monthly_reports(clients):\n",
    "    for client in clients:\n",
    "        print(f\"Monthly report has been sent to {client.title()}.\")\n",
    "    print(f\"Sent reports to {len(clients)} customers\")\n",
    "\n",
    "send_monthly_reports(['alice lin', 'bob chen', 'diana wu'])"
   ]
  },
  {
   "cell_type": "markdown",
   "id": "886293c9",
   "metadata": {},
   "source": [
    "# -----------------------------------------------------------------------------\n",
    "# 23. FUNCTION: RETURN MULTIPLE VALUES\n",
    "# Financial KPIs\n",
    "# -----------------------------------------------------------------------------"
   ]
  },
  {
   "cell_type": "code",
   "execution_count": null,
   "id": "7105038b",
   "metadata": {},
   "outputs": [],
   "source": [
    "def calculate_kpis(revenue, cost):\n",
    "    profit = revenue - cost\n",
    "    margin = (profit / revenue) * 100\n",
    "    return profit, margin  # returns tuple\n",
    "\n",
    "profit, margin = calculate_kpis(100_000, 70_000)\n",
    "print(f\"Profit: ${profit:,}, Margin: {margin:.1f}%\")"
   ]
  },
  {
   "cell_type": "markdown",
   "id": "e12dada1",
   "metadata": {},
   "source": [
    "# -----------------------------------------------------------------------------\n",
    "# 24. FUNCTION: BUILD CUSTOMER PROFILE\n",
    "# CRM integration\n",
    "# -----------------------------------------------------------------------------"
   ]
  },
  {
   "cell_type": "code",
   "execution_count": null,
   "id": "73e76f3d",
   "metadata": {},
   "outputs": [],
   "source": [
    "def build_customer_profile(first, last, age=None, segment=None):\n",
    "    profile = {'first': first, 'last': last}\n",
    "    if age:\n",
    "        profile['age'] = age\n",
    "    if segment:\n",
    "        profile['segment'] = segment\n",
    "    return profile\n",
    "\n",
    "top_client = build_customer_profile('linda', 'huang', age=34, segment='premium')\n",
    "print(\"Top Client Profile:\", top_client)"
   ]
  },
  {
   "cell_type": "markdown",
   "id": "c9189d44",
   "metadata": {},
   "source": [
    "# -----------------------------------------------------------------------------\n",
    "# 25. FUNCTION: VARIABLE-LENGTH ARGUMENTS\n",
    "# Dynamic inputs\n",
    "# -----------------------------------------------------------------------------"
   ]
  },
  {
   "cell_type": "code",
   "execution_count": null,
   "id": "a936c0b6",
   "metadata": {},
   "outputs": [],
   "source": [
    "def total_sales(*daily_sales):\n",
    "    return sum(daily_sales)\n",
    "\n",
    "daily_total = total_sales(12000, 15000, 9800, 13200)\n",
    "print(f\"Total Sales: ${daily_total:,}\")"
   ]
  },
  {
   "cell_type": "markdown",
   "id": "4a3e4ba3",
   "metadata": {},
   "source": [
    "# -----------------------------------------------------------------------------\n",
    "# 26. LAMBDA & FUNCTIONAL PROGRAMMING\n",
    "# Inline calculations\n",
    "# -----------------------------------------------------------------------------"
   ]
  },
  {
   "cell_type": "code",
   "execution_count": null,
   "id": "20b5945c",
   "metadata": {},
   "outputs": [],
   "source": [
    "# 1. Lambda for tax calculation\n",
    "add_tax = lambda price, rate: price * (1 + rate)\n",
    "print(f\"\\n Price with 8% tax: ${add_tax(299.99, 0.08):.2f}\")\n",
    "\n",
    "# 2. Convert NTD sales to USD using map + lambda\n",
    "sales_ntd = [25_000, 30_000, 28_000, 32_000]\n",
    "exchange_rate = 0.032\n",
    "sales_usd = list(map(lambda x: x * exchange_rate, sales_ntd))\n",
    "print(\"Sales in USD:\", [f\"${s:.0f}\" for s in sales_usd])\n",
    "\n",
    "# 3. Filter high sales days using filter + lambda\n",
    "daily_sales = [850, 920, 700, 950, 880, 1000]\n",
    "high_sales_days = list(filter(lambda x: x > 900, daily_sales))\n",
    "print(\"High Sales Days (>$900):\", high_sales_days)\n",
    "\n",
    "# 4. Square values using map + lambda\n",
    "squares = list(map(lambda num: num ** 2, range(11)))\n",
    "print(\"Square values 0–10:\", squares)\n",
    "\n",
    "# 5. Risk assessment using lambda\n",
    "assess_risk = lambda value: \"High Risk\" if value < 50 else \"Low Risk\"\n",
    "print(\"Risk Level:\", assess_risk(42))"
   ]
  }
 ],
 "metadata": {
  "kernelspec": {
   "display_name": "Python 3",
   "language": "python",
   "name": "python3"
  },
  "language_info": {
   "codemirror_mode": {
    "name": "ipython",
    "version": 3
   },
   "file_extension": ".py",
   "mimetype": "text/x-python",
   "name": "python",
   "nbconvert_exporter": "python",
   "pygments_lexer": "ipython3",
   "version": "3.12.7"
  }
 },
 "nbformat": 4,
 "nbformat_minor": 5
}
